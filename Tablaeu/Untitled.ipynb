{
 "cells": [
  {
   "cell_type": "code",
   "execution_count": 23,
   "metadata": {},
   "outputs": [],
   "source": [
    "import pandas as pd\n",
    "data1 = pd.read_csv('profitability.csv')"
   ]
  },
  {
   "cell_type": "code",
   "execution_count": 24,
   "metadata": {},
   "outputs": [
    {
     "data": {
      "text/html": [
       "<div>\n",
       "<style scoped>\n",
       "    .dataframe tbody tr th:only-of-type {\n",
       "        vertical-align: middle;\n",
       "    }\n",
       "\n",
       "    .dataframe tbody tr th {\n",
       "        vertical-align: top;\n",
       "    }\n",
       "\n",
       "    .dataframe thead th {\n",
       "        text-align: right;\n",
       "    }\n",
       "</style>\n",
       "<table border=\"1\" class=\"dataframe\">\n",
       "  <thead>\n",
       "    <tr style=\"text-align: right;\">\n",
       "      <th></th>\n",
       "      <th>Company</th>\n",
       "      <th>Industry</th>\n",
       "      <th>2016 Net Income</th>\n",
       "      <th>Fortune 500 Rank Company</th>\n",
       "      <th>Profit/Second</th>\n",
       "      <th>Unnamed: 5</th>\n",
       "    </tr>\n",
       "  </thead>\n",
       "  <tbody>\n",
       "    <tr>\n",
       "      <th>0</th>\n",
       "      <td>Apple</td>\n",
       "      <td>Technology/Internet</td>\n",
       "      <td>45700000000</td>\n",
       "      <td>3</td>\n",
       "      <td>$1,444.76</td>\n",
       "      <td>#VALUE!</td>\n",
       "    </tr>\n",
       "    <tr>\n",
       "      <th>1</th>\n",
       "      <td>JP Morgan Chase</td>\n",
       "      <td>Banking/Finance</td>\n",
       "      <td>24700000000</td>\n",
       "      <td>21</td>\n",
       "      <td>$782.14</td>\n",
       "      <td>#VALUE!</td>\n",
       "    </tr>\n",
       "    <tr>\n",
       "      <th>2</th>\n",
       "      <td>Berkshire Hathaway</td>\n",
       "      <td>Banking/Finance</td>\n",
       "      <td>24100000000</td>\n",
       "      <td>2</td>\n",
       "      <td>$761.30</td>\n",
       "      <td>#VALUE!</td>\n",
       "    </tr>\n",
       "    <tr>\n",
       "      <th>3</th>\n",
       "      <td>Wells Fargo</td>\n",
       "      <td>Banking/Finance</td>\n",
       "      <td>21900000000</td>\n",
       "      <td>25</td>\n",
       "      <td>$693.75</td>\n",
       "      <td>#VALUE!</td>\n",
       "    </tr>\n",
       "    <tr>\n",
       "      <th>4</th>\n",
       "      <td>Alphabet</td>\n",
       "      <td>Technology/Internet</td>\n",
       "      <td>19500000000</td>\n",
       "      <td>27</td>\n",
       "      <td>$615.96</td>\n",
       "      <td>#VALUE!</td>\n",
       "    </tr>\n",
       "  </tbody>\n",
       "</table>\n",
       "</div>"
      ],
      "text/plain": [
       "              Company             Industry  2016 Net Income  \\\n",
       "0               Apple  Technology/Internet      45700000000   \n",
       "1     JP Morgan Chase      Banking/Finance      24700000000   \n",
       "2  Berkshire Hathaway      Banking/Finance      24100000000   \n",
       "3         Wells Fargo      Banking/Finance      21900000000   \n",
       "4            Alphabet  Technology/Internet      19500000000   \n",
       "\n",
       "   Fortune 500 Rank Company Profit/Second Unnamed: 5  \n",
       "0                         3     $1,444.76    #VALUE!  \n",
       "1                        21       $782.14    #VALUE!  \n",
       "2                         2       $761.30    #VALUE!  \n",
       "3                        25       $693.75    #VALUE!  \n",
       "4                        27       $615.96    #VALUE!  "
      ]
     },
     "execution_count": 24,
     "metadata": {},
     "output_type": "execute_result"
    }
   ],
   "source": [
    "data1.head()\n"
   ]
  },
  {
   "cell_type": "code",
   "execution_count": 25,
   "metadata": {},
   "outputs": [
    {
     "data": {
      "text/plain": [
       "(25, 6)"
      ]
     },
     "execution_count": 25,
     "metadata": {},
     "output_type": "execute_result"
    }
   ],
   "source": [
    "data1.shape"
   ]
  },
  {
   "cell_type": "code",
   "execution_count": 26,
   "metadata": {},
   "outputs": [],
   "source": [
    "col=data1.columns"
   ]
  },
  {
   "cell_type": "code",
   "execution_count": 27,
   "metadata": {},
   "outputs": [],
   "source": [
    "data=pd.DataFrame(columns=col)"
   ]
  },
  {
   "cell_type": "code",
   "execution_count": 28,
   "metadata": {},
   "outputs": [
    {
     "data": {
      "text/html": [
       "<div>\n",
       "<style scoped>\n",
       "    .dataframe tbody tr th:only-of-type {\n",
       "        vertical-align: middle;\n",
       "    }\n",
       "\n",
       "    .dataframe tbody tr th {\n",
       "        vertical-align: top;\n",
       "    }\n",
       "\n",
       "    .dataframe thead th {\n",
       "        text-align: right;\n",
       "    }\n",
       "</style>\n",
       "<table border=\"1\" class=\"dataframe\">\n",
       "  <thead>\n",
       "    <tr style=\"text-align: right;\">\n",
       "      <th></th>\n",
       "      <th>Company</th>\n",
       "      <th>Industry</th>\n",
       "      <th>2016 Net Income</th>\n",
       "      <th>Fortune 500 Rank Company</th>\n",
       "      <th>Profit/Second</th>\n",
       "      <th>Unnamed: 5</th>\n",
       "    </tr>\n",
       "  </thead>\n",
       "  <tbody>\n",
       "  </tbody>\n",
       "</table>\n",
       "</div>"
      ],
      "text/plain": [
       "Empty DataFrame\n",
       "Columns: [Company, Industry, 2016 Net Income, Fortune 500 Rank Company, Profit/Second, Unnamed: 5]\n",
       "Index: []"
      ]
     },
     "execution_count": 28,
     "metadata": {},
     "output_type": "execute_result"
    }
   ],
   "source": [
    "data.head()"
   ]
  },
  {
   "cell_type": "code",
   "execution_count": 30,
   "metadata": {},
   "outputs": [],
   "source": [
    "data=pd.concat([data,data1],axis=0)"
   ]
  },
  {
   "cell_type": "code",
   "execution_count": 31,
   "metadata": {},
   "outputs": [
    {
     "data": {
      "text/plain": [
       "<bound method NDFrame.head of                Company                       Industry 2016 Net Income  \\\n",
       "0                Apple            Technology/Internet     45700000000   \n",
       "1      JP Morgan Chase                Banking/Finance     24700000000   \n",
       "2   Berkshire Hathaway                Banking/Finance     24100000000   \n",
       "3          Wells Fargo                Banking/Finance     21900000000   \n",
       "4             Alphabet            Technology/Internet     19500000000   \n",
       "5      Bank of America                Banking/Finance     17900000000   \n",
       "6            Microsoft            Technology/Internet     16800000000   \n",
       "7    Johnson & Johnson         Medical/Pharmaceutical     16500000000   \n",
       "8            Citigroup                Banking/Finance     14900000000   \n",
       "9         Altria Group                        Tobacco     14200000000   \n",
       "10             Walmart          Retail/Consumer Goods     13600000000   \n",
       "11     Gilead Sciences         Medical/Pharmaceutical     13500000000   \n",
       "12             Verizon  Telecommunications/Mass Media     13100000000   \n",
       "13                AT&T  Telecommunications/Mass Media     13000000000   \n",
       "14          Fannie Mae                Banking/Finance     12300000000   \n",
       "15                 IBM            Technology/Internet     11900000000   \n",
       "16       Cisco Systems            Technology/Internet     10700000000   \n",
       "17    Procter & Gamble          Retail/Consumer Goods     10500000000   \n",
       "18               Intel            Technology/Internet     10300000000   \n",
       "19            Facebook            Technology/Internet     10200000000   \n",
       "20      General Motors                   Oil/Gas/Cars      9400000000   \n",
       "21              Disney  Telecommunications/Mass Media      9400000000   \n",
       "22              Oracle            Technology/Internet      8900000000   \n",
       "23    General Electric            Technology/Internet      8800000000   \n",
       "24             Comcast  Telecommunications/Mass Media      8700000000   \n",
       "\n",
       "   Fortune 500 Rank Company Profit/Second Unnamed: 5  \n",
       "0                         3     $1,444.76    #VALUE!  \n",
       "1                        21       $782.14    #VALUE!  \n",
       "2                         2       $761.30    #VALUE!  \n",
       "3                        25       $693.75    #VALUE!  \n",
       "4                        27       $615.96    #VALUE!  \n",
       "5                        26       $566.24        NaN  \n",
       "6                        28       $531.21        NaN  \n",
       "7                        35       $523.05        NaN  \n",
       "8                        30       $471.56        NaN  \n",
       "9                       148       $450.28        NaN  \n",
       "10                        1       $431.43        NaN  \n",
       "11                       92       $426.94        NaN  \n",
       "12                       14       $415.12        NaN  \n",
       "13                        9       $410.34        NaN  \n",
       "14                       20       $389.38        NaN  \n",
       "15                       32       $375.43        NaN  \n",
       "16                       60       $339.60        NaN  \n",
       "17                       36       $332.30        NaN  \n",
       "18                       47       $326.22        NaN  \n",
       "19                       98       $323.09        NaN  \n",
       "20                        8       $298.11        NaN  \n",
       "21                       52       $296.97        NaN  \n",
       "22                       81       $282.43        NaN  \n",
       "23                       13       $279.26        NaN  \n",
       "24                       31       $274.96        NaN  >"
      ]
     },
     "execution_count": 31,
     "metadata": {},
     "output_type": "execute_result"
    }
   ],
   "source": [
    "data.head"
   ]
  },
  {
   "cell_type": "code",
   "execution_count": 35,
   "metadata": {},
   "outputs": [
    {
     "ename": "SyntaxError",
     "evalue": "invalid syntax (<ipython-input-35-8c6758f2c3ef>, line 1)",
     "output_type": "error",
     "traceback": [
      "\u001b[1;36m  File \u001b[1;32m\"<ipython-input-35-8c6758f2c3ef>\"\u001b[1;36m, line \u001b[1;32m1\u001b[0m\n\u001b[1;33m    int(i) for i in data[Profit/Second]\u001b[0m\n\u001b[1;37m           ^\u001b[0m\n\u001b[1;31mSyntaxError\u001b[0m\u001b[1;31m:\u001b[0m invalid syntax\n"
     ]
    }
   ],
   "source": [
    "int(i) for i in data[Profit/Second]"
   ]
  },
  {
   "cell_type": "code",
   "execution_count": null,
   "metadata": {},
   "outputs": [],
   "source": []
  }
 ],
 "metadata": {
  "kernelspec": {
   "display_name": "Python 3",
   "language": "python",
   "name": "python3"
  },
  "language_info": {
   "codemirror_mode": {
    "name": "ipython",
    "version": 3
   },
   "file_extension": ".py",
   "mimetype": "text/x-python",
   "name": "python",
   "nbconvert_exporter": "python",
   "pygments_lexer": "ipython3",
   "version": "3.8.5"
  }
 },
 "nbformat": 4,
 "nbformat_minor": 4
}
