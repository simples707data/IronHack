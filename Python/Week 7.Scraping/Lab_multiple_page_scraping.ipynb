{
 "cells": [
  {
   "cell_type": "code",
   "execution_count": 1,
   "metadata": {},
   "outputs": [],
   "source": [
    "#start with demo search in imdb, adv title - https://www.imdb.com/search/title/\n",
    "\n",
    "#https://www.imdb.com/search/title/?title_type=feature&release_date=1990-01-01,1992-12-31&user_rating=7.5,"
   ]
  },
  {
   "cell_type": "markdown",
   "metadata": {},
   "source": [
    "lesson content \n",
    "- how to assemble urls to send multiple requests \n",
    "- use sleep() to be respectful when scraping, dont get banned "
   ]
  },
  {
   "cell_type": "code",
   "execution_count": 2,
   "metadata": {},
   "outputs": [],
   "source": [
    "url = \"https://www.listchallenges.com/the-top-1000-billboard-hot-100-songs-of-all-time\""
   ]
  },
  {
   "cell_type": "code",
   "execution_count": 3,
   "metadata": {},
   "outputs": [],
   "source": [
    "from bs4 import BeautifulSoup\n",
    "import requests"
   ]
  },
  {
   "cell_type": "code",
   "execution_count": 4,
   "metadata": {},
   "outputs": [
    {
     "data": {
      "text/plain": [
       "200"
      ]
     },
     "execution_count": 4,
     "metadata": {},
     "output_type": "execute_result"
    }
   ],
   "source": [
    "response = requests.get(url)\n",
    "response.status_code"
   ]
  },
  {
   "cell_type": "code",
   "execution_count": 5,
   "metadata": {},
   "outputs": [
    {
     "data": {
      "text/plain": [
       "b'\\r\\n\\r\\n<!DOCTYPE html>\\r\\n\\r\\n<html id=\"html\">\\r\\n\\r\\n<head><meta charset=\"utf-8\" /><title>\\r\\n\\tThe Top 1,000 Billboard Hot 100 Songs of All Time\\r\\n</title>\\r\\n\\r\\n\\t\\t<link href=\"https://fonts.googleapis.com/css?family=Poppins:300,400|Roboto\" rel=\"stylesheet\">\\r\\n\\t\\t\\r\\n\\r\\n\\t\\t<link href=\"/bundles/app-styles?v=7jk2ECM8wcLTNAcINCzmdoDbsAs4lkEQbgo7NNkWMdI1\" rel=\"stylesheet\"/>\\r\\n<link href=\"/favicon.png\" rel=\"icon\" type=\"image/png\" /><meta name=\"viewport\" content=\"width=device-width, initial-scale=1.0, maximum-scale=1.0, user-scalable=no\" />\\r\\n\\t\\r\\n\\r\\n\\t<script type=\\'text/javascript\\' src=\\'//platform-api.sharethis.com/js/sharethis.js#property=5c9aaa2bfb6af900122ece55&product=inline-share-buttons\\' async=\\'async\\'></script>\\r\\n<meta property=\"og:title\" content=\"The Top 1,000 Billboard Hot 100 Songs of All Time\" />\\r\\n<link rel=\"canonical\" href=\"https://www.listchallenges.com/the-top-1000-billboard-hot-100-songs-of-all-time\" />\\r\\n<meta property=\"og:url\" content=\"https://www.listchallenges.com/the-top-1000-billboard-hot-100-songs-of-all-time\" />\\r\\n<link rel=\"image_src\" href=\"https://www.listchallenges.com/f/lists/03d144ec-c274-46b3-9d7d-fb174d3b54ea.jpg\" />\\r\\n<meta property=\"og:image\" content=\"https://www.listchallenges.com/f/lists/03d144ec-c274-46b3-9d7d-fb174d3b54ea.jpg\" />\\r\\n<meta property=\"og:image:width\" content=\"600\" />\\r\\n<meta property=\"og:image:height\" content=\"315\" />\\r\\n<meta property=\"og:type\" content=\"article\" />\\r\\n<meta name=\"description\" content=\"This is a ranking by popularity, not quality. Calculated by @tanooki72 on twitter. https://twitter.com/tanooki72/status/1281758466189582336\" />\\r\\n<meta property=\"og:description\" content=\"This is a ranking by popularity, not quality. Calculated by @tanooki72 on twitter. https://twitter.com/tanooki72/status/1281758466189582336\" />\\r\\n<link rel=\"apple-touch-icon\" href=\"/i/logo-big.png\" />\\r\\n<meta property=\"fb:app_id\" content=\"253841154742565\" />\\r\\n<meta property=\"og:site_name\" content=\"List Challenges\" />\\r\\n</head>\\r\\n\\r\\n<body id=\"body\">\\r\\n\\r\\n\\t\\r\\n\\t\\r\\n\\t\\t<script>\\r\\n\\t\\t\\t(function(i,s,o,g,r,a,m){i[\\'GoogleAnalyticsObject\\']=r;i[r]=i[r]||function(){\\r\\n\\t\\t\\t\\t(i[r].q=i[r].q||[]).push(arguments)},i[r].l=1*new Date();a=s.createElement(o),\\r\\n\\t\\t\\t\\tm=s.getElementsByTagName(o)[0];a.async=1;a.src=g;m.parentNode.insertBefore(a,m)\\r\\n\\t\\t\\t})(window,document,\\'script\\',\\'//www.google-analytics.com/analytics.js\\',\\'ga\\');\\r\\n\\r\\n\\t\\t\\t\\r\\n\\t\\t\\tga(\\'create\\', \\'UA-27080120-2\\', \\'listchallenges.com\\');\\r\\n\\t\\t\\tga(\\'require\\', \\'displayfeatures\\');\\r\\n\\t\\t\\tga(\\'send\\', \\'pageview\\');\\r\\n\\t\\t</script>\\r\\n\\t\\r\\n\\t\\r\\n\\t\\r\\n\\r\\n\\t<div class=\"backdrop\" onclick=\"app.backdropClick();\" style=\"visibility:hidden\"></div>\\r\\n\\t<div class=\"toast\"></div>\\r\\n\\t\\r\\n\\r\\n<header class=\"header shadow-4\">\\r\\n\\t<div class=\"header-content\">\\r\\n\\t\\t<div class=\"header-button header-buttonMenu\" onclick=\"header.menuButtonClick()\">\\r\\n\\t\\t\\t<span class=\"visible-IE glyphicon glyphicon-menu-hamburger\"></span>\\r\\n\\t\\t\\t<span class=\"hidden-IE\">\\r\\n\\t\\t\\t\\t<i class=\"svgIcon \"><svg><use xlink:href=\"/i/icons.svg#icon-list\"></use></svg></i>\\r\\n\\t\\t\\t</span>\\r\\n\\t\\t</div>\\r\\n\\t\\t<div class=\"header-titleWrapper\">\\r\\n\\t\\t\\t<a class=\"header-button header-title\" href=\"/\">\\r\\n\\t\\t\\t\\t<img src=\"/i/logo-title.png\" alt=\"List Challenges\" />\\r\\n\\t\\t\\t</a>\\r\\n\\t\\t</div>\\r\\n\\t\\t<div class=\"flex-grow1 hidden-xs hidden-sm\"></div>\\r\\n\\t\\t<a class=\"header-button header-buttonCategory\"\\r\\n\\t\\t\\thref=\"/travel\"\\r\\n\\t\\t\\tdata-category=\"travel\">\\r\\n\\t\\t\\t<span class=\"button-text\">Travel</span>\\r\\n\\t\\t\\t<span class=\"caret\"></span>\\r\\n\\t\\t</a>\\r\\n\\t\\t<a class=\"header-button header-buttonCategory\"\\r\\n\\t\\t\\thref=\"/movies\"\\r\\n\\t\\t\\tdata-category=\"movies\">\\r\\n\\t\\t\\t<span class=\"button-text\">Movies</span>\\r\\n\\t\\t\\t<span class=\"caret\"></span>\\r\\n\\t\\t</a>\\r\\n\\t\\t<a class=\"header-button header-buttonCategory\"\\r\\n\\t\\t\\thref=\"/books\"\\r\\n\\t\\t\\tdata-category=\"books\">\\r\\n\\t\\t\\t<span class=\"button-text\">Books</span>\\r\\n\\t\\t\\t<span class=\"caret\"></span>\\r\\n\\t\\t</a>\\r\\n\\t\\t<a class=\"header-button header-buttonCategory\"\\r\\n\\t\\t\\thref=\"/food\"\\r\\n\\t\\t\\tdata-category=\"food\">\\r\\n\\t\\t\\t<span class=\"button-text\">Food</span>\\r\\n\\t\\t\\t<span class=\"caret\"></span>\\r\\n\\t\\t</a>\\r\\n\\t\\t<a data-category=\"other\" class=\"header-button header-buttonCategory\"\\r\\n\\t\\t\\thref=\"/other\">\\r\\n\\t\\t\\t<span class=\"button-text\">Other</span>\\r\\n\\t\\t\\t<span class=\"caret\"></span>\\r\\n\\t\\t</a>\\r\\n\\t\\t<div class=\"flex-grow1\"></div>\\r\\n\\t\\t\\t\\r\\n\\t\\t\\r\\n\\t\\t<form id=\"formSearch\" action=\"/lists/search\" method=\"get\" class=\"header-search\">\\r\\n\\t\\t\\t<input autocomplete=\"off\" type=\"search\" maxlength=\"100\" placeholder=\"search lists\" name=\"s\" />\\r\\n\\t\\t\\t<i class=\"svgIcon header-clearSearch\"><svg><use xlink:href=\"/i/icons.svg#icon-x-button\"></use></svg></i>\\r\\n\\t\\t\\t<i class=\"svgIcon header-openSearch\"><svg><use xlink:href=\"/i/icons.svg#icon-search\"></use></svg></i>\\r\\n\\t\\t</form>\\r\\n\\r\\n\\t\\t<div class=\"flex-grow1 hidden-xs\"></div>\\r\\n\\t\\r\\n\\t\\t<a class=\"header-button\" href=\"/sign-in\">\\r\\n\\t\\t\\t\\tSign In\\r\\n\\t\\t</a>\\r\\n\\t\\r\\n\\t</div>\\r\\n\\r\\n\\t<div class=\"header-listsDropDown flexRow\">\\r\\n\\t\\t<div>\\r\\n\\t\\t\\t<div class=\"header-buttonSort selected\"\\r\\n\\t\\t\\t\\tonclick=\"header.redirectToCurrentHeaderSelection();\"\\r\\n\\t\\t\\t\\tdata-sort=\"trending\">\\r\\n\\t\\t\\t\\t<span class=\"glyphicon glyphicon-arrow-up \"></span> Trending\\r\\n\\t\\t\\t</div>\\r\\n\\t\\t\\t<div class=\"header-buttonSort\"\\r\\n\\t\\t\\t\\t onclick=\"header.redirectToCurrentHeaderSelection();\"\\r\\n\\t\\t\\t\\t data-sort=\"new\">\\r\\n\\t\\t\\t\\t<span class=\"glyphicon glyphicon-time \"></span> New\\r\\n\\t\\t\\t</div>\\r\\n\\t\\t\\t<div class=\"header-buttonSort\"\\r\\n\\t\\t\\t\\tonclick=\"header.redirectToCurrentHeaderSelection();\"\\r\\n\\t\\t\\t\\tdata-sort=\"popular\">\\r\\n\\t\\t\\t\\t<span class=\"glyphicon glyphicon-user \"></span> Popular\\r\\n\\t\\t\\t</div>\\r\\n\\t\\t</div>\\r\\n\\t\\t<div class=\"header-listsByCategory header-lists flex-grow1\"></div>\\r\\n\\t</div>\\r\\n\\r\\n\\t<div class=\"header-lists header-searchResults\">\\r\\n\\t\\t<div class=\"message\">type to search</div>\\r\\n\\t</div>\\r\\n\\r\\n</header>\\r\\n\\r\\n<div class=\"menu shadow-8\">\\r\\n\\t\\r\\n\\t\\r\\n\\t\\t<a class=\"menu-link menu-linkFeature menu-linkSignIn\" href=\"/sign-in\">\\r\\n\\t\\t\\t<img src=\"/f/users/default.png\" />\\r\\n\\t\\t\\t<div>Sign In</div>\\r\\n\\t\\t</a>\\r\\n\\t\\r\\n\\t<a class=\"menu-link\" href=\"/create-list\"><i class=\"svgIcon \"><svg><use xlink:href=\"/i/icons.svg#icon-add\"></use></svg></i> Make a List</a>\\r\\n\\t<a class=\"menu-link\" href=\"/lists/all/trending\"><i class=\"svgIcon \"><svg><use xlink:href=\"/i/icons.svg#icon-todo-list\"></use></svg></i> Browse Lists</a>\\r\\n\\t<a class=\"menu-link\" href=\"/lists/search\"><i class=\"svgIcon \"><svg><use xlink:href=\"/i/icons.svg#icon-search\"></use></svg></i> Search Lists</a>\\r\\n\\t<a class=\"menu-link\" href=\"/leaders\"><i class=\"svgIcon \"><svg><use xlink:href=\"/i/icons.svg#icon-trophy\"></use></svg></i> Leaders</a>\\r\\n\\t<a class=\"menu-link\" href=\"/help\"><i class=\"svgIcon \"><svg><use xlink:href=\"/i/icons.svg#icon-help\"></use></svg></i> Help / Contact</a>\\r\\n\\t\\r\\n\\t\\r\\n\\t\\r\\n\\t<a class=\"menu-link\" href=\"/subscribe\"><i class=\"svgIcon \"><svg><use xlink:href=\"/i/icons.svg#icon-new\"></use></svg></i> Newsletter</a>\\r\\n\\t\\r\\n</div>\\r\\n\\r\\n\\t<form method=\"post\" action=\"./the-top-1000-billboard-hot-100-songs-of-all-time\" id=\"form\" novalidate=\"\" onsubmit=\"return false;\">\\r\\n<input type=\"hidden\" name=\"__VIEWSTATE\" id=\"__VIEWSTATE\" value=\"soy1/EHyxAtjbrCv+qG9T7cvoJT4DX7rfZW8zVMyfTJ7iYRuNqz0X4ZNTL/5pFtOx5LlqtagWAboVrbVjZUXFnLzEXl+Vy2xMmI5nssKqjQ=\" />\\r\\n\\r\\n<input type=\"hidden\" name=\"__VIEWSTATEGENERATOR\" id=\"__VIEWSTATEGENERATOR\" value=\"B876C835\" />\\r\\n\\r\\n\\t\\t\\r\\n\\r\\n        <div id=\"panelContainer_Master\" class=\"container\">\\r\\n\\t\\r\\n\\r\\n\\t\\t\\t\\r\\n\\r\\n\\t\\t\\t\\r\\n\\t\\r\\n\\r\\n\\t<div id=\"MainContent_divListMaster\" class=\"listMaster\">\\r\\n\\t\\t\\r\\n\\t\\t\\r\\n\\t\\t<div class=\"listMaster-listImage\" style=\"background-image:url(\\'/f/lists/03d144ec-c274-46b3-9d7d-fb174d3b54ea.jpg\\')\"></div>\\r\\n\\r\\n\\r\\n\\t\\t<div class=\"checklist-scorePlaceholder\"></div>\\r\\n\\r\\n\\r\\n\\t\\t\\r\\n\\r\\n\\r\\n\\t\\t<div class=\"listMaster-listImagePlaceholder\"></div>\\r\\n\\r\\n\\r\\n\\t\\t<div class=\"listMaster-belowImage\">\\r\\n\\r\\n\\r\\n\\t\\t\\t\\r\\n\\r\\n\\r\\n\\r\\n\\t\\r\\n\\t\\t\\t<div class=\"content listMaster-top\">\\r\\n\\r\\n\\t\\t\\t\\t<h1 class=\"listMaster-topName\">\\r\\n\\t\\t\\t\\t\\tThe Top 1,000 Billboard Hot 100 Songs of All Time\\r\\n\\t\\t\\t\\t\\t\\r\\n\\t\\t\\t\\t</h1>\\r\\n\\r\\n\\t\\t\\t\\t<div class=\"listMaster-showInfo\">\\r\\n\\t\\t\\t\\t\\t<button type=\"button\" class=\"btn btn-default btn-xs\">show list info</button>\\r\\n\\t\\t\\t\\t</div>\\r\\n\\r\\n\\t\\t\\t\\t<div id=\"MainContent_divDescription\" class=\"listMaster-topDescription\">\\r\\n\\t\\t\\t\\t\\tThis is a ranking by popularity, not quality. Calculated by @tanooki72 on twitter. https://twitter.com/tanooki72/status/1281758466189582336\\r\\n\\t\\t\\t\\t</div>\\r\\n\\r\\n\\t\\t\\t\\t<div class=\"listMaster-topInfo flexResponsive\">\\r\\n\\t\\t\\t\\t\\t<div class=\"flexResponsive-lg\">\\r\\n\\t\\t\\t\\t\\t\\t<div>\\r\\n\\t\\t\\t\\t\\t\\t\\t<span class=\"glyphicon glyphicon-user\"></span>\\r\\n\\t\\t\\t\\t\\t\\t\\t149 users\\r\\n\\t\\t\\t\\t\\t\\t\\t&middot;\\r\\n\\t\\t\\t\\t\\t\\t\\t2,690 views\\r\\n\\t\\t\\t\\t\\t\\t</div>\\r\\n\\t\\t\\t\\t\\t\\t<div class=\"flexRow\">\\r\\n\\t\\t\\t\\t\\t\\t\\t<div>\\r\\n\\t\\t\\t\\t\\t\\t\\t\\t<span class=\"glyphicon glyphicon-plus-sign\"></span>&nbsp;\\r\\n\\t\\t\\t\\t\\t\\t\\t</div>\\r\\n\\t\\t\\t\\t\\t\\t\\t<div>\\r\\n\\t\\t\\t\\t\\t\\t\\t\\tfrom <a href=\"https://pastebin.com/QK6FtDd4\" class=\"link\" target=\"_blank\" rel=\"noopener\">pastebin.com</a> &middot; <span class=\"no-wrap\">made by <a href=\"/profile/347452\" class=\"link\" rel=\"nofollow\">Gibus Wearing Brony</a></span>\\r\\n\\t\\t\\t\\t\\t\\t\\t</div>\\r\\n\\t\\t\\t\\t\\t\\t</div>\\r\\n\\t\\t\\t\\t\\t</div>\\r\\n\\t\\t\\t\\t\\t<div class=\"flexResponsive-lg\">\\r\\n\\t\\t\\t\\t\\t\\t<div>\\r\\n\\t\\t\\t\\t\\t\\t\\t<span class=\"glyphicon glyphicon-stats \"></span> avg. score: 371 of 1000 (37%)\\r\\n\\t\\t\\t\\t\\t\\t</div>\\r\\n\\t\\t\\t\\t\\t\\t<div>\\r\\n\\t\\t\\t\\t\\t\\t\\t<span class=\"glyphicon glyphicon-star \"></span> required scores: 1, 118, 279, 433, 617&nbsp;\\r\\n\\t\\t\\t\\t\\t\\t\\t<a href=\"/help#StarRequirements\" class=\"link-999\"><span class=\"glyphicon glyphicon-question-sign\"></span></a>\\r\\n\\t\\t\\t\\t\\t\\t</div>\\r\\n\\t\\t\\t\\t\\t</div>\\r\\n\\t\\t\\t\\t</div>\\r\\n\\r\\n\\t\\t\\t\\t<div class=\"listMaster-shareList\">\\r\\n\\t\\t\\t\\t\\t<div class=\"sharethis-inline-share-buttons\" data-url=\"https://www.listchallenges.com/the-top-1000-billboard-hot-100-songs-of-all-time\"></div>\\r\\n\\t\\t\\t\\t</div>\\r\\n\\r\\n\\t\\t\\t</div>\\r\\n\\r\\n\\t\\t\\t\\t\\r\\n\\t\\t\\t<div id=\"MainContent_navsListPages\" class=\"tabs listMaster-tabs\">\\r\\n\\t\\t\\t\\t<a href=\"/the-top-1000-billboard-hot-100-songs-of-all-time\" class=\" active\"  rel=\"nofollow\">list</a>\\r\\n\\t\\t\\t\\t<a href=\"/the-top-1000-billboard-hot-100-songs-of-all-time/stats\"   rel=\"nofollow\">stats</a>\\r\\n\\t\\t\\t\\t<a href=\"/the-top-1000-billboard-hot-100-songs-of-all-time/leaders\"   rel=\"nofollow\">leaders</a>\\r\\n\\t\\t\\t\\t<a href=\"/the-top-1000-billboard-hot-100-songs-of-all-time/vote\"   rel=\"nofollow\"><span class=\"hidden-xs\">vote</span><span class=\"visible-xs\">Vote</span></a>\\r\\n\\t\\t\\t\\t<a href=\"/print-list/282076\"   target=\"_blank\" rel=\"nofollow\">print</a>\\r\\n\\t\\t\\t\\t<a href=\"/the-top-1000-billboard-hot-100-songs-of-all-time/comments\"   rel=\"nofollow\">comments</a>\\r\\n\\t\\t\\t</div>\\r\\n\\r\\n\\t\\t\\t<div id=\"listMasterContentWrapper\" class=\"clearfix\">\\r\\n\\t\\t\\t\\t\\r\\n\\r\\n\\t<div class=\"checklist-starAnimated\">\\r\\n\\t\\t<span class=\"glyphicon glyphicon-star \"></span> \\r\\n\\t</div>\\r\\n\\r\\n\\t<div class=\"checklist\">\\r\\n\\r\\n\\t\\t<div class=\"checklist-content content clearfix\">\\r\\n\\t\\t\\t\\t\\r\\n\\t\\t\\t<div class=\"checklist-search\">\\r\\n\\t\\t\\t\\t<input class=\"checklist-input\" autocomplete=\"off\" type=\"search\" maxlength=\"100\" placeholder=\"search list items\" />\\r\\n\\t\\t\\t\\t<i class=\"svgIcon checklist-clearSearch\"><svg><use xlink:href=\"/i/icons.svg#icon-x-button\"></use></svg></i>\\r\\n\\t\\t\\t\\t<i class=\"svgIcon checklist-openSearch\"><svg><use xlink:href=\"/i/icons.svg#icon-search\"></use></svg></i>\\r\\n\\t\\t\\t\\t<div class=\"checklist-searchResults shadow-3\"><div class=\"message\">type to search</div></div>\\r\\n\\t\\t\\t</div>\\r\\n\\r\\n\\t\\t\\t<h3 class=\"checklist-question\">\\r\\n\\t\\t\\t\\tHow many have you heard?\\r\\n\\t\\t\\t</h3>\\r\\n\\r\\n\\t\\t\\t<div class=\"checklist-paging clearfix\">\\r\\n\\r\\n\\t\\t\\t\\t<div class=\"checklist-pageTop\">\\r\\n\\t\\t\\t\\t\\tPage 1 of 25\\r\\n\\t\\t\\t\\t</div>\\r\\n\\r\\n\\t\\t\\t\\t<div id=\"MainContent_MainContent_pager\" class=\"pager pager-narrowMargins\"><a href=\"/the-top-1000-billboard-hot-100-songs-of-all-time\" class=\"active\">1</a><a href=\"/the-top-1000-billboard-hot-100-songs-of-all-time/list/2\" >2</a><a href=\"/the-top-1000-billboard-hot-100-songs-of-all-time/list/3\" >3</a><a href=\"/the-top-1000-billboard-hot-100-songs-of-all-time/list/4\" >4</a><a href=\"/the-top-1000-billboard-hot-100-songs-of-all-time/list/5\" >5</a><a href=\"/the-top-1000-billboard-hot-100-songs-of-all-time/list/6\" >6</a><a href=\"/the-top-1000-billboard-hot-100-songs-of-all-time/list/7\" >7</a><a href=\"/the-top-1000-billboard-hot-100-songs-of-all-time/list/8\" >8</a><a href=\"/the-top-1000-billboard-hot-100-songs-of-all-time/list/9\" >9</a><a href=\"/the-top-1000-billboard-hot-100-songs-of-all-time/list/10\" >10</a><a href=\"/the-top-1000-billboard-hot-100-songs-of-all-time/list/11\" >11</a><a href=\"/the-top-1000-billboard-hot-100-songs-of-all-time/list/12\" >12</a><a href=\"/the-top-1000-billboard-hot-100-songs-of-all-time/list/13\" >13</a><a href=\"/the-top-1000-billboard-hot-100-songs-of-all-time/list/14\" >14</a><a href=\"/the-top-1000-billboard-hot-100-songs-of-all-time/list/15\" >15</a><a href=\"/the-top-1000-billboard-hot-100-songs-of-all-time/list/16\" >16</a><a href=\"/the-top-1000-billboard-hot-100-songs-of-all-time/list/17\" >17</a><a href=\"/the-top-1000-billboard-hot-100-songs-of-all-time/list/18\" >18</a><a href=\"/the-top-1000-billboard-hot-100-songs-of-all-time/list/19\" >19</a><a href=\"/the-top-1000-billboard-hot-100-songs-of-all-time/list/20\" >20</a><a href=\"/the-top-1000-billboard-hot-100-songs-of-all-time/list/21\" >21</a><a href=\"/the-top-1000-billboard-hot-100-songs-of-all-time/list/22\" >22</a><a href=\"/the-top-1000-billboard-hot-100-songs-of-all-time/list/23\" >23</a><a href=\"/the-top-1000-billboard-hot-100-songs-of-all-time/list/24\" >24</a><a href=\"/the-top-1000-billboard-hot-100-songs-of-all-time/list/25\" >25</a></div>\\r\\n\\r\\n\\t\\t\\t</div>\\r\\n\\r\\n\\r\\n\\r\\n\\t\\t\\t<div class=\"checklist-itemsSection\">\\r\\n\\r\\n\\t\\t\\t\\t<div class=\"checklist-itemsSectionLeft small-square\">\\r\\n\\t\\t\\t\\r\\n\\t\\t\\t\\t\\t<div id=\"repeaterListItems\" class=\"checklist-listItems clearfix\" >\\r\\n\\t\\t\\t\\t\\t\\t\\t<div class=\"list-item view-small-image \"\\r\\n\\t\\t\\t\\t\\t\\t\\t\\tdata-item-id=\"1964358\">\\r\\n\\t\\t\\t\\t\\t\\t\\t\\t<div class=\"item-click-area\">\\r\\n\\t\\t\\t\\t\\t\\t\\t\\t\\t<div class=\"item-top\">\\r\\n\\t\\t\\t\\t\\t\\t\\t\\t\\t\\t<div class=\"item-rank\">1</div>\\r\\n\\t\\t\\t\\t\\t\\t\\t\\t\\t\\t<span onclick=\"app.openItemInfo(this,event);\" class=\"item-button item-button-info glyphicon glyphicon-info-sign\"></span>\\r\\n\\t\\t\\t\\t\\t\\t\\t\\t\\t\\t<span onclick=\"app.toggleItemToDo(this,event);\" class=\"item-button item-button-todo glyphicon glyphicon-pushpin\"></span>\\r\\n\\t\\t\\t\\t\\t\\t\\t\\t\\t\\t<span onclick=\"app.toggleFavoriteItem(this,event);\" class=\"item-button item-button-favorite glyphicon glyphicon-heart\"></span>\\r\\n\\t\\t\\t\\t\\t\\t\\t\\t\\t</div>\\r\\n\\t\\t\\t\\t\\t\\t\\t\\t\\t<div class=\"item-image-wrapper\">\\r\\n\\t\\t\\t\\t\\t\\t\\t\\t\\t\\t<img onerror=\"ImageLoadError(this)\" src=\"/f/items/0bb71902-c048-4637-a15f-d615bdb07e07.jpg\" alt=\"The Twist - Chubby Checker\" />\\r\\n\\t\\t\\t\\t\\t\\t\\t\\t\\t</div>\\r\\n\\t\\t\\t\\t\\t\\t\\t\\t\\t<div class=\"item-name\">\\r\\n\\t\\t\\t\\t\\t\\t\\t\\t\\t\\tThe Twist - Chubby Checker\\r\\n\\t\\t\\t\\t\\t\\t\\t\\t\\t</div>\\r\\n\\t\\t\\t\\t\\t\\t\\t\\t\\t<div class=\"item-checkbox\"></div>\\r\\n\\t\\t\\t\\t\\t\\t\\t\\t\\t\\r\\n\\t\\t\\t\\t\\t\\t\\t\\t</div>\\r\\n\\t\\t\\t\\t\\t\\t\\t</div>\\r\\n\\t\\t\\t\\t\\t\\t\\t\\r\\n\\t\\t\\t\\t\\t\\t\\r\\n\\t\\t\\t\\t\\t\\t\\t<div class=\"list-item view-small-image \"\\r\\n\\t\\t\\t\\t\\t\\t\\t\\tdata-item-id=\"2366502\">\\r\\n\\t\\t\\t\\t\\t\\t\\t\\t<div class=\"item-click-area\">\\r\\n\\t\\t\\t\\t\\t\\t\\t\\t\\t<div class=\"item-top\">\\r\\n\\t\\t\\t\\t\\t\\t\\t\\t\\t\\t<div class=\"item-rank\">2</div>\\r\\n\\t\\t\\t\\t\\t\\t\\t\\t\\t\\t<span onclick=\"app.openItemInfo(this,event);\" class=\"item-button item-button-info glyphicon glyphicon-info-sign\"></span>\\r\\n\\t\\t\\t\\t\\t\\t\\t\\t\\t\\t<span onclick=\"app.toggleItemToDo(this,event);\" class=\"item-button item-button-todo glyphicon glyphicon-pushpin\"></span>\\r\\n\\t\\t\\t\\t\\t\\t\\t\\t\\t\\t<span onclick=\"app.toggleFavoriteItem(this,event);\" class=\"item-button item-button-favorite glyphicon glyphicon-heart\"></span>\\r\\n\\t\\t\\t\\t\\t\\t\\t\\t\\t</div>\\r\\n\\t\\t\\t\\t\\t\\t\\t\\t\\t<div class=\"item-image-wrapper\">\\r\\n\\t\\t\\t\\t\\t\\t\\t\\t\\t\\t<img onerror=\"ImageLoadError(this)\" src=\"/f/items/b4fcce79-6050-4dfa-b995-74e18310812a.jpg\" alt=\"Smooth - Santana\" />\\r\\n\\t\\t\\t\\t\\t\\t\\t\\t\\t</div>\\r\\n\\t\\t\\t\\t\\t\\t\\t\\t\\t<div class=\"item-name\">\\r\\n\\t\\t\\t\\t\\t\\t\\t\\t\\t\\tSmooth - Santana\\r\\n\\t\\t\\t\\t\\t\\t\\t\\t\\t</div>\\r\\n\\t\\t\\t\\t\\t\\t\\t\\t\\t<div class=\"item-checkbox\"></div>\\r\\n\\t\\t\\t\\t\\t\\t\\t\\t\\t\\r\\n\\t\\t\\t\\t\\t\\t\\t\\t</div>\\r\\n\\t\\t\\t\\t\\t\\t\\t</div>\\r\\n\\t\\t\\t\\t\\t\\t\\t\\r\\n\\t\\t\\t\\t\\t\\t\\r\\n\\t\\t\\t\\t\\t\\t\\t<div class=\"list-item view-small-image \"\\r\\n\\t\\t\\t\\t\\t\\t\\t\\tdata-item-id=\"1963909\">\\r\\n\\t\\t\\t\\t\\t\\t\\t\\t<div class=\"item-click-area\">\\r\\n\\t\\t\\t\\t\\t\\t\\t\\t\\t<div class=\"item-top\">\\r\\n\\t\\t\\t\\t\\t\\t\\t\\t\\t\\t<div class=\"item-rank\">3</div>\\r\\n\\t\\t\\t\\t\\t\\t\\t\\t\\t\\t<span onclick=\"app.openItemInfo(this,event);\" class=\"item-button item-button-info glyphicon glyphicon-info-sign\"></span>\\r\\n\\t\\t\\t\\t\\t\\t\\t\\t\\t\\t<span onclick=\"app.toggleItemToDo(this,event);\" class=\"item-button item-button-todo glyphicon glyphicon-pushpin\"></span>\\r\\n\\t\\t\\t\\t\\t\\t\\t\\t\\t\\t<span onclick=\"app.toggleFavoriteItem(this,event);\" class=\"item-button item-button-favorite glyphicon glyphicon-heart\"></span>\\r\\n\\t\\t\\t\\t\\t\\t\\t\\t\\t</div>\\r\\n\\t\\t\\t\\t\\t\\t\\t\\t\\t<div class=\"item-image-wrapper\">\\r\\n\\t\\t\\t\\t\\t\\t\\t\\t\\t\\t<img onerror=\"ImageLoadError(this)\" src=\"/f/items/9a7fc74a-b09c-4b28-9aef-88d802677101.jpg\" alt=\"Mack the Knife - Bobby Darin\" />\\r\\n\\t\\t\\t\\t\\t\\t\\t\\t\\t</div>\\r\\n\\t\\t\\t\\t\\t\\t\\t\\t\\t<div class=\"item-name\">\\r\\n\\t\\t\\t\\t\\t\\t\\t\\t\\t\\tMack the Knife - Bobby Darin\\r\\n\\t\\t\\t\\t\\t\\t\\t\\t\\t</div>\\r\\n\\t\\t\\t\\t\\t\\t\\t\\t\\t<div class=\"item-checkbox\"></div>\\r\\n\\t\\t\\t\\t\\t\\t\\t\\t\\t\\r\\n\\t\\t\\t\\t\\t\\t\\t\\t</div>\\r\\n\\t\\t\\t\\t\\t\\t\\t</div>\\r\\n\\t\\t\\t\\t\\t\\t\\t\\r\\n\\t\\t\\t\\t\\t\\t\\r\\n\\t\\t\\t\\t\\t\\t\\t<div class=\"list-item view-small-image \"\\r\\n\\t\\t\\t\\t\\t\\t\\t\\tdata-item-id=\"2288632\">\\r\\n\\t\\t\\t\\t\\t\\t\\t\\t<div class=\"item-click-area\">\\r\\n\\t\\t\\t\\t\\t\\t\\t\\t\\t<div class=\"item-top\">\\r\\n\\t\\t\\t\\t\\t\\t\\t\\t\\t\\t<div class=\"item-rank\">4</div>\\r\\n\\t\\t\\t\\t\\t\\t\\t\\t\\t\\t<span onclick=\"app.openItemInfo(this,event);\" class=\"item-button item-button-info glyphicon glyphicon-info-sign\"></span>\\r\\n\\t\\t\\t\\t\\t\\t\\t\\t\\t\\t<span onclick=\"app.toggleItemToDo(this,event);\" class=\"item-button item-button-todo glyphicon glyphicon-pushpin\"></span>\\r\\n\\t\\t\\t\\t\\t\\t\\t\\t\\t\\t<span onclick=\"app.toggleFavoriteItem(this,event);\" class=\"item-button item-button-favorite glyphicon glyphicon-heart\"></span>\\r\\n\\t\\t\\t\\t\\t\\t\\t\\t\\t</div>\\r\\n\\t\\t\\t\\t\\t\\t\\t\\t\\t<div class=\"item-image-wrapper\">\\r\\n\\t\\t\\t\\t\\t\\t\\t\\t\\t\\t<img onerror=\"ImageLoadError(this)\" src=\"/f/items/0542a753-6f32-4221-ad5d-c08c0cf342d1.jpg\" alt=\"Mark Ronson, &amp;quot;Uptown Funk&amp;quot; (Feat. Bruno Mars)\" />\\r\\n\\t\\t\\t\\t\\t\\t\\t\\t\\t</div>\\r\\n\\t\\t\\t\\t\\t\\t\\t\\t\\t<div class=\"item-name\">\\r\\n\\t\\t\\t\\t\\t\\t\\t\\t\\t\\tMark Ronson, &quot;Uptown Funk&quot; (Feat. Bruno Mars)\\r\\n\\t\\t\\t\\t\\t\\t\\t\\t\\t</div>\\r\\n\\t\\t\\t\\t\\t\\t\\t\\t\\t<div class=\"item-checkbox\"></div>\\r\\n\\t\\t\\t\\t\\t\\t\\t\\t\\t\\r\\n\\t\\t\\t\\t\\t\\t\\t\\t</div>\\r\\n\\t\\t\\t\\t\\t\\t\\t</div>\\r\\n\\t\\t\\t\\t\\t\\t\\t\\r\\n\\t\\t\\t\\t\\t\\t\\r\\n\\t\\t\\t\\t\\t\\t\\t<div class=\"list-item view-small-image \"\\r\\n\\t\\t\\t\\t\\t\\t\\t\\tdata-item-id=\"2087120\">\\r\\n\\t\\t\\t\\t\\t\\t\\t\\t<div class=\"item-click-area\">\\r\\n\\t\\t\\t\\t\\t\\t\\t\\t\\t<div class=\"item-top\">\\r\\n\\t\\t\\t\\t\\t\\t\\t\\t\\t\\t<div class=\"item-rank\">5</div>\\r\\n\\t\\t\\t\\t\\t\\t\\t\\t\\t\\t<span onclick=\"app.openItemInfo(this,event);\" class=\"item-button item-button-info glyphicon glyphicon-info-sign\"></span>\\r\\n\\t\\t\\t\\t\\t\\t\\t\\t\\t\\t<span onclick=\"app.toggleItemToDo(this,event);\" class=\"item-button item-button-todo glyphicon glyphicon-pushpin\"></span>\\r\\n\\t\\t\\t\\t\\t\\t\\t\\t\\t\\t<span onclick=\"app.toggleFavoriteItem(this,event);\" class=\"item-button item-button-favorite glyphicon glyphicon-heart\"></span>\\r\\n\\t\\t\\t\\t\\t\\t\\t\\t\\t</div>\\r\\n\\t\\t\\t\\t\\t\\t\\t\\t\\t<div class=\"item-image-wrapper\">\\r\\n\\t\\t\\t\\t\\t\\t\\t\\t\\t\\t<img onerror=\"ImageLoadError(this)\" src=\"/f/items/571422e1-9cb5-4038-ac78-274e022374cb.jpg\" alt=\"Leann Rimes - How Do I Live\" />\\r\\n\\t\\t\\t\\t\\t\\t\\t\\t\\t</div>\\r\\n\\t\\t\\t\\t\\t\\t\\t\\t\\t<div class=\"item-name\">\\r\\n\\t\\t\\t\\t\\t\\t\\t\\t\\t\\tLeann Rimes - How Do I Live\\r\\n\\t\\t\\t\\t\\t\\t\\t\\t\\t</div>\\r\\n\\t\\t\\t\\t\\t\\t\\t\\t\\t<div class=\"item-checkbox\"></div>\\r\\n\\t\\t\\t\\t\\t\\t\\t\\t\\t\\r\\n\\t\\t\\t\\t\\t\\t\\t\\t</div>\\r\\n\\t\\t\\t\\t\\t\\t\\t</div>\\r\\n\\t\\t\\t\\t\\t\\t\\t\\r\\n\\t\\t\\t\\t\\t\\t\\r\\n\\t\\t\\t\\t\\t\\t\\t<div class=\"list-item view-small-image \"\\r\\n\\t\\t\\t\\t\\t\\t\\t\\tdata-item-id=\"2034375\">\\r\\n\\t\\t\\t\\t\\t\\t\\t\\t<div class=\"item-click-area\">\\r\\n\\t\\t\\t\\t\\t\\t\\t\\t\\t<div class=\"item-top\">\\r\\n\\t\\t\\t\\t\\t\\t\\t\\t\\t\\t<div class=\"item-rank\">6</div>\\r\\n\\t\\t\\t\\t\\t\\t\\t\\t\\t\\t<span onclick=\"app.openItemInfo(this,event);\" class=\"item-button item-button-info glyphicon glyphicon-info-sign\"></span>\\r\\n\\t\\t\\t\\t\\t\\t\\t\\t\\t\\t<span onclick=\"app.toggleItemToDo(this,event);\" class=\"item-button item-button-todo glyphicon glyphicon-pushpin\"></span>\\r\\n\\t\\t\\t\\t\\t\\t\\t\\t\\t\\t<span onclick=\"app.toggleFavoriteItem(this,event);\" class=\"item-button item-button-favorite glyphicon glyphicon-heart\"></span>\\r\\n\\t\\t\\t\\t\\t\\t\\t\\t\\t</div>\\r\\n\\t\\t\\t\\t\\t\\t\\t\\t\\t<div class=\"item-image-wrapper\">\\r\\n\\t\\t\\t\\t\\t\\t\\t\\t\\t\\t<img onerror=\"ImageLoadError(this)\" src=\"/f/items/37f1d360-4672-46a1-9508-3212044876f3.jpg\" alt=\"Party Rock Anthem - LMFAO\" />\\r\\n\\t\\t\\t\\t\\t\\t\\t\\t\\t</div>\\r\\n\\t\\t\\t\\t\\t\\t\\t\\t\\t<div class=\"item-name\">\\r\\n\\t\\t\\t\\t\\t\\t\\t\\t\\t\\tParty Rock Anthem - LMFAO\\r\\n\\t\\t\\t\\t\\t\\t\\t\\t\\t</div>\\r\\n\\t\\t\\t\\t\\t\\t\\t\\t\\t<div class=\"item-checkbox\"></div>\\r\\n\\t\\t\\t\\t\\t\\t\\t\\t\\t\\r\\n\\t\\t\\t\\t\\t\\t\\t\\t</div>\\r\\n\\t\\t\\t\\t\\t\\t\\t</div>\\r\\n\\t\\t\\t\\t\\t\\t\\t\\r\\n\\t\\t\\t\\t\\t\\t\\r\\n\\t\\t\\t\\t\\t\\t\\t<div class=\"list-item view-small-image \"\\r\\n\\t\\t\\t\\t\\t\\t\\t\\tdata-item-id=\"742919\">\\r\\n\\t\\t\\t\\t\\t\\t\\t\\t<div class=\"item-click-area\">\\r\\n\\t\\t\\t\\t\\t\\t\\t\\t\\t<div class=\"item-top\">\\r\\n\\t\\t\\t\\t\\t\\t\\t\\t\\t\\t<div class=\"item-rank\">7</div>\\r\\n\\t\\t\\t\\t\\t\\t\\t\\t\\t\\t<span onclick=\"app.openItemInfo(this,event);\" class=\"item-button item-button-info glyphicon glyphicon-info-sign\"></span>\\r\\n\\t\\t\\t\\t\\t\\t\\t\\t\\t\\t<span onclick=\"app.toggleItemToDo(this,event);\" class=\"item-button item-button-todo glyphicon glyphicon-pushpin\"></span>\\r\\n\\t\\t\\t\\t\\t\\t\\t\\t\\t\\t<span onclick=\"app.toggleFavoriteItem(this,event);\" class=\"item-button item-button-favorite glyphicon glyphicon-heart\"></span>\\r\\n\\t\\t\\t\\t\\t\\t\\t\\t\\t</div>\\r\\n\\t\\t\\t\\t\\t\\t\\t\\t\\t<div class=\"item-image-wrapper\">\\r\\n\\t\\t\\t\\t\\t\\t\\t\\t\\t\\t<img onerror=\"ImageLoadError(this)\" src=\"/f/items-dl/abcfa338-af2a-4624-b77f-365250055e70.jpg\" alt=\"Black Eyed Peas - I Gotta Feeling\" />\\r\\n\\t\\t\\t\\t\\t\\t\\t\\t\\t</div>\\r\\n\\t\\t\\t\\t\\t\\t\\t\\t\\t<div class=\"item-name\">\\r\\n\\t\\t\\t\\t\\t\\t\\t\\t\\t\\tBlack Eyed Peas - I Gotta Feeling\\r\\n\\t\\t\\t\\t\\t\\t\\t\\t\\t</div>\\r\\n\\t\\t\\t\\t\\t\\t\\t\\t\\t<div class=\"item-checkbox\"></div>\\r\\n\\t\\t\\t\\t\\t\\t\\t\\t\\t\\r\\n\\t\\t\\t\\t\\t\\t\\t\\t</div>\\r\\n\\t\\t\\t\\t\\t\\t\\t</div>\\r\\n\\t\\t\\t\\t\\t\\t\\t\\r\\n\\t\\t\\t\\t\\t\\t\\r\\n\\t\\t\\t\\t\\t\\t\\t<div class=\"list-item view-small-image \"\\r\\n\\t\\t\\t\\t\\t\\t\\t\\tdata-item-id=\"2991894\">\\r\\n\\t\\t\\t\\t\\t\\t\\t\\t<div class=\"item-click-area\">\\r\\n\\t\\t\\t\\t\\t\\t\\t\\t\\t<div class=\"item-top\">\\r\\n\\t\\t\\t\\t\\t\\t\\t\\t\\t\\t<div class=\"item-rank\">8</div>\\r\\n\\t\\t\\t\\t\\t\\t\\t\\t\\t\\t<span onclick=\"app.openItemInfo(this,event);\" class=\"item-button item-button-info glyphicon glyphicon-info-sign\"></span>\\r\\n\\t\\t\\t\\t\\t\\t\\t\\t\\t\\t<span onclick=\"app.toggleItemToDo(this,event);\" class=\"item-button item-button-todo glyphicon glyphicon-pushpin\"></span>\\r\\n\\t\\t\\t\\t\\t\\t\\t\\t\\t\\t<span onclick=\"app.toggleFavoriteItem(this,event);\" class=\"item-button item-button-favorite glyphicon glyphicon-heart\"></span>\\r\\n\\t\\t\\t\\t\\t\\t\\t\\t\\t</div>\\r\\n\\t\\t\\t\\t\\t\\t\\t\\t\\t<div class=\"item-image-wrapper\">\\r\\n\\t\\t\\t\\t\\t\\t\\t\\t\\t\\t<img onerror=\"ImageLoadError(this)\" src=\"/f/items/185080dd-192d-4b54-a710-97fcc243d197.jpg\" alt=\"Macarena (Bayside Boys Mix) - Los Del Rio\" />\\r\\n\\t\\t\\t\\t\\t\\t\\t\\t\\t</div>\\r\\n\\t\\t\\t\\t\\t\\t\\t\\t\\t<div class=\"item-name\">\\r\\n\\t\\t\\t\\t\\t\\t\\t\\t\\t\\tMacarena (Bayside Boys Mix) - Los Del Rio\\r\\n\\t\\t\\t\\t\\t\\t\\t\\t\\t</div>\\r\\n\\t\\t\\t\\t\\t\\t\\t\\t\\t<div class=\"item-checkbox\"></div>\\r\\n\\t\\t\\t\\t\\t\\t\\t\\t\\t\\r\\n\\t\\t\\t\\t\\t\\t\\t\\t</div>\\r\\n\\t\\t\\t\\t\\t\\t\\t</div>\\r\\n\\t\\t\\t\\t\\t\\t\\t<span class=\"ad-wrapper\"><div class=\"ad-identifier\">ADVERTISEMENT</div><ins class=\"adsbygoogle \"\\r\\n\\tstyle=\"display:block\"\\r\\n\\tdata-ad-client=\"ca-pub-9310224305865624\"\\r\\n\\tdata-ad-slot=\"4324557280\"\\r\\n\\tdata-ad-format=\"horizontal\"\\r\\n\\tdata-full-width-responsive=\"true\"></ins><script>(adsbygoogle = window.adsbygoogle || []).push({});</script></span>\\r\\n\\t\\t\\t\\t\\t\\t\\r\\n\\t\\t\\t\\t\\t\\t\\t<div class=\"list-item view-small-image \"\\r\\n\\t\\t\\t\\t\\t\\t\\t\\tdata-item-id=\"2674432\">\\r\\n\\t\\t\\t\\t\\t\\t\\t\\t<div class=\"item-click-area\">\\r\\n\\t\\t\\t\\t\\t\\t\\t\\t\\t<div class=\"item-top\">\\r\\n\\t\\t\\t\\t\\t\\t\\t\\t\\t\\t<div class=\"item-rank\">9</div>\\r\\n\\t\\t\\t\\t\\t\\t\\t\\t\\t\\t<span onclick=\"app.openItemInfo(this,event);\" class=\"item-button item-button-info glyphicon glyphicon-info-sign\"></span>\\r\\n\\t\\t\\t\\t\\t\\t\\t\\t\\t\\t<span onclick=\"app.toggleItemToDo(this,event);\" class=\"item-button item-button-todo glyphicon glyphicon-pushpin\"></span>\\r\\n\\t\\t\\t\\t\\t\\t\\t\\t\\t\\t<span onclick=\"app.toggleFavoriteItem(this,event);\" class=\"item-button item-button-favorite glyphicon glyphicon-heart\"></span>\\r\\n\\t\\t\\t\\t\\t\\t\\t\\t\\t</div>\\r\\n\\t\\t\\t\\t\\t\\t\\t\\t\\t<div class=\"item-image-wrapper\">\\r\\n\\t\\t\\t\\t\\t\\t\\t\\t\\t\\t<img onerror=\"ImageLoadError(this)\" src=\"/f/items/08715ca3-31c2-49b9-944a-b19d94e51864.jpg\" alt=\"Shape of You - Ed Sheeran\" />\\r\\n\\t\\t\\t\\t\\t\\t\\t\\t\\t</div>\\r\\n\\t\\t\\t\\t\\t\\t\\t\\t\\t<div class=\"item-name\">\\r\\n\\t\\t\\t\\t\\t\\t\\t\\t\\t\\tShape of You - Ed Sheeran\\r\\n\\t\\t\\t\\t\\t\\t\\t\\t\\t</div>\\r\\n\\t\\t\\t\\t\\t\\t\\t\\t\\t<div class=\"item-checkbox\"></div>\\r\\n\\t\\t\\t\\t\\t\\t\\t\\t\\t\\r\\n\\t\\t\\t\\t\\t\\t\\t\\t</div>\\r\\n\\t\\t\\t\\t\\t\\t\\t</div>\\r\\n\\t\\t\\t\\t\\t\\t\\t\\r\\n\\t\\t\\t\\t\\t\\t\\r\\n\\t\\t\\t\\t\\t\\t\\t<div class=\"list-item view-small-image \"\\r\\n\\t\\t\\t\\t\\t\\t\\t\\tdata-item-id=\"2436164\">\\r\\n\\t\\t\\t\\t\\t\\t\\t\\t<div class=\"item-click-area\">\\r\\n\\t\\t\\t\\t\\t\\t\\t\\t\\t<div class=\"item-top\">\\r\\n\\t\\t\\t\\t\\t\\t\\t\\t\\t\\t<div class=\"item-rank\">10</div>\\r\\n\\t\\t\\t\\t\\t\\t\\t\\t\\t\\t<span onclick=\"app.openItemInfo(this,event);\" class=\"item-button item-button-info glyphicon glyphicon-info-sign\"></span>\\r\\n\\t\\t\\t\\t\\t\\t\\t\\t\\t\\t<span onclick=\"app.toggleItemToDo(this,event);\" class=\"item-button item-button-todo glyphicon glyphicon-pushpin\"></span>\\r\\n\\t\\t\\t\\t\\t\\t\\t\\t\\t\\t<span onclick=\"app.toggleFavoriteItem(this,event);\" class=\"item-button item-button-favorite glyphicon glyphicon-heart\"></span>\\r\\n\\t\\t\\t\\t\\t\\t\\t\\t\\t</div>\\r\\n\\t\\t\\t\\t\\t\\t\\t\\t\\t<div class=\"item-image-wrapper\">\\r\\n\\t\\t\\t\\t\\t\\t\\t\\t\\t\\t<img onerror=\"ImageLoadError(this)\" src=\"/f/items/d8b9a80e-6013-40cf-9ac8-b957ed61d254.jpg\" alt=\"Physical (Olivia Newton John)\" />\\r\\n\\t\\t\\t\\t\\t\\t\\t\\t\\t</div>\\r\\n\\t\\t\\t\\t\\t\\t\\t\\t\\t<div class=\"item-name\">\\r\\n\\t\\t\\t\\t\\t\\t\\t\\t\\t\\tPhysical (Olivia Newton John)\\r\\n\\t\\t\\t\\t\\t\\t\\t\\t\\t</div>\\r\\n\\t\\t\\t\\t\\t\\t\\t\\t\\t<div class=\"item-checkbox\"></div>\\r\\n\\t\\t\\t\\t\\t\\t\\t\\t\\t\\r\\n\\t\\t\\t\\t\\t\\t\\t\\t</div>\\r\\n\\t\\t\\t\\t\\t\\t\\t</div>\\r\\n\\t\\t\\t\\t\\t\\t\\t\\r\\n\\t\\t\\t\\t\\t\\t\\r\\n\\t\\t\\t\\t\\t\\t\\t<div class=\"list-item view-small-image \"\\r\\n\\t\\t\\t\\t\\t\\t\\t\\tdata-item-id=\"2131819\">\\r\\n\\t\\t\\t\\t\\t\\t\\t\\t<div class=\"item-click-area\">\\r\\n\\t\\t\\t\\t\\t\\t\\t\\t\\t<div class=\"item-top\">\\r\\n\\t\\t\\t\\t\\t\\t\\t\\t\\t\\t<div class=\"item-rank\">11</div>\\r\\n\\t\\t\\t\\t\\t\\t\\t\\t\\t\\t<span onclick=\"app.openItemInfo(this,event);\" class=\"item-button item-button-info glyphicon glyphicon-info-sign\"></span>\\r\\n\\t\\t\\t\\t\\t\\t\\t\\t\\t\\t<span onclick=\"app.toggleItemToDo(this,event);\" class=\"item-button item-button-todo glyphicon glyphicon-pushpin\"></span>\\r\\n\\t\\t\\t\\t\\t\\t\\t\\t\\t\\t<span onclick=\"app.toggleFavoriteItem(this,event);\" class=\"item-button item-button-favorite glyphicon glyphicon-heart\"></span>\\r\\n\\t\\t\\t\\t\\t\\t\\t\\t\\t</div>\\r\\n\\t\\t\\t\\t\\t\\t\\t\\t\\t<div class=\"item-image-wrapper\">\\r\\n\\t\\t\\t\\t\\t\\t\\t\\t\\t\\t<img onerror=\"ImageLoadError(this)\" src=\"/f/items/a07c1e59-93ba-47cb-9a6e-3651458e2343.jpg\" alt=\"Debby Boone - You Light Up My Life\" />\\r\\n\\t\\t\\t\\t\\t\\t\\t\\t\\t</div>\\r\\n\\t\\t\\t\\t\\t\\t\\t\\t\\t<div class=\"item-name\">\\r\\n\\t\\t\\t\\t\\t\\t\\t\\t\\t\\tDebby Boone - You Light Up My Life\\r\\n\\t\\t\\t\\t\\t\\t\\t\\t\\t</div>\\r\\n\\t\\t\\t\\t\\t\\t\\t\\t\\t<div class=\"item-checkbox\"></div>\\r\\n\\t\\t\\t\\t\\t\\t\\t\\t\\t\\r\\n\\t\\t\\t\\t\\t\\t\\t\\t</div>\\r\\n\\t\\t\\t\\t\\t\\t\\t</div>\\r\\n\\t\\t\\t\\t\\t\\t\\t\\r\\n\\t\\t\\t\\t\\t\\t\\r\\n\\t\\t\\t\\t\\t\\t\\t<div class=\"list-item view-small-image \"\\r\\n\\t\\t\\t\\t\\t\\t\\t\\tdata-item-id=\"1963339\">\\r\\n\\t\\t\\t\\t\\t\\t\\t\\t<div class=\"item-click-area\">\\r\\n\\t\\t\\t\\t\\t\\t\\t\\t\\t<div class=\"item-top\">\\r\\n\\t\\t\\t\\t\\t\\t\\t\\t\\t\\t<div class=\"item-rank\">12</div>\\r\\n\\t\\t\\t\\t\\t\\t\\t\\t\\t\\t<span onclick=\"app.openItemInfo(this,event);\" class=\"item-button item-button-info glyphicon glyphicon-info-sign\"></span>\\r\\n\\t\\t\\t\\t\\t\\t\\t\\t\\t\\t<span onclick=\"app.toggleItemToDo(this,event);\" class=\"item-button item-button-todo glyphicon glyphicon-pushpin\"></span>\\r\\n\\t\\t\\t\\t\\t\\t\\t\\t\\t\\t<span onclick=\"app.toggleFavoriteItem(this,event);\" class=\"item-button item-button-favorite glyphicon glyphicon-heart\"></span>\\r\\n\\t\\t\\t\\t\\t\\t\\t\\t\\t</div>\\r\\n\\t\\t\\t\\t\\t\\t\\t\\t\\t<div class=\"item-image-wrapper\">\\r\\n\\t\\t\\t\\t\\t\\t\\t\\t\\t\\t<img onerror=\"ImageLoadError(this)\" src=\"/f/items/9f493d60-4c82-45d7-afa2-affc1d5e82bf.jpg\" alt=\"Hey Jude - The Beatles\" />\\r\\n\\t\\t\\t\\t\\t\\t\\t\\t\\t</div>\\r\\n\\t\\t\\t\\t\\t\\t\\t\\t\\t<div class=\"item-name\">\\r\\n\\t\\t\\t\\t\\t\\t\\t\\t\\t\\tHey Jude - The Beatles\\r\\n\\t\\t\\t\\t\\t\\t\\t\\t\\t</div>\\r\\n\\t\\t\\t\\t\\t\\t\\t\\t\\t<div class=\"item-checkbox\"></div>\\r\\n\\t\\t\\t\\t\\t\\t\\t\\t\\t\\r\\n\\t\\t\\t\\t\\t\\t\\t\\t</div>\\r\\n\\t\\t\\t\\t\\t\\t\\t</div>\\r\\n\\t\\t\\t\\t\\t\\t\\t\\r\\n\\t\\t\\t\\t\\t\\t\\r\\n\\t\\t\\t\\t\\t\\t\\t<div class=\"list-item view-small-image  listItem-firstLazyLoad\"\\r\\n\\t\\t\\t\\t\\t\\t\\t\\tdata-item-id=\"2588526\">\\r\\n\\t\\t\\t\\t\\t\\t\\t\\t<div class=\"item-click-area\">\\r\\n\\t\\t\\t\\t\\t\\t\\t\\t\\t<div class=\"item-top\">\\r\\n\\t\\t\\t\\t\\t\\t\\t\\t\\t\\t<div class=\"item-rank\">13</div>\\r\\n\\t\\t\\t\\t\\t\\t\\t\\t\\t\\t<span onclick=\"app.openItemInfo(this,event);\" class=\"item-button item-button-info glyphicon glyphicon-info-sign\"></span>\\r\\n\\t\\t\\t\\t\\t\\t\\t\\t\\t\\t<span onclick=\"app.toggleItemToDo(this,event);\" class=\"item-button item-button-todo glyphicon glyphicon-pushpin\"></span>\\r\\n\\t\\t\\t\\t\\t\\t\\t\\t\\t\\t<span onclick=\"app.toggleFavoriteItem(this,event);\" class=\"item-button item-button-favorite glyphicon glyphicon-heart\"></span>\\r\\n\\t\\t\\t\\t\\t\\t\\t\\t\\t</div>\\r\\n\\t\\t\\t\\t\\t\\t\\t\\t\\t<div class=\"item-image-wrapper\">\\r\\n\\t\\t\\t\\t\\t\\t\\t\\t\\t\\t<img class=\"lazy-load\" onerror=\"ImageLoadError(this)\" data-src=\"/f/items/3f2869c5-203a-40c9-b172-5f5af132e417.jpg\" src=\"/i/loading.png\" alt=\"Closer - The Chainsmokers Ft. Hasley\" />\\r\\n\\t\\t\\t\\t\\t\\t\\t\\t\\t</div>\\r\\n\\t\\t\\t\\t\\t\\t\\t\\t\\t<div class=\"item-name\">\\r\\n\\t\\t\\t\\t\\t\\t\\t\\t\\t\\tCloser - The Chainsmokers Ft. Hasley\\r\\n\\t\\t\\t\\t\\t\\t\\t\\t\\t</div>\\r\\n\\t\\t\\t\\t\\t\\t\\t\\t\\t<div class=\"item-checkbox\"></div>\\r\\n\\t\\t\\t\\t\\t\\t\\t\\t\\t\\r\\n\\t\\t\\t\\t\\t\\t\\t\\t</div>\\r\\n\\t\\t\\t\\t\\t\\t\\t</div>\\r\\n\\t\\t\\t\\t\\t\\t\\t\\r\\n\\t\\t\\t\\t\\t\\t\\r\\n\\t\\t\\t\\t\\t\\t\\t<div class=\"list-item view-small-image \"\\r\\n\\t\\t\\t\\t\\t\\t\\t\\tdata-item-id=\"2436182\">\\r\\n\\t\\t\\t\\t\\t\\t\\t\\t<div class=\"item-click-area\">\\r\\n\\t\\t\\t\\t\\t\\t\\t\\t\\t<div class=\"item-top\">\\r\\n\\t\\t\\t\\t\\t\\t\\t\\t\\t\\t<div class=\"item-rank\">14</div>\\r\\n\\t\\t\\t\\t\\t\\t\\t\\t\\t\\t<span onclick=\"app.openItemInfo(this,event);\" class=\"item-button item-button-info glyphicon glyphicon-info-sign\"></span>\\r\\n\\t\\t\\t\\t\\t\\t\\t\\t\\t\\t<span onclick=\"app.toggleItemToDo(this,event);\" class=\"item-button item-button-todo glyphicon glyphicon-pushpin\"></span>\\r\\n\\t\\t\\t\\t\\t\\t\\t\\t\\t\\t<span onclick=\"app.toggleFavoriteItem(this,event);\" class=\"item-button item-button-favorite glyphicon glyphicon-heart\"></span>\\r\\n\\t\\t\\t\\t\\t\\t\\t\\t\\t</div>\\r\\n\\t\\t\\t\\t\\t\\t\\t\\t\\t<div class=\"item-image-wrapper\">\\r\\n\\t\\t\\t\\t\\t\\t\\t\\t\\t\\t<img class=\"lazy-load\" onerror=\"ImageLoadError(this)\" data-src=\"/f/items/cde899cf-3029-4cc9-847c-3db2ded1acd2.jpg\" src=\"/i/loading.png\" alt=\"We Belong Together - Mariah Carey\" />\\r\\n\\t\\t\\t\\t\\t\\t\\t\\t\\t</div>\\r\\n\\t\\t\\t\\t\\t\\t\\t\\t\\t<div class=\"item-name\">\\r\\n\\t\\t\\t\\t\\t\\t\\t\\t\\t\\tWe Belong Together - Mariah Carey\\r\\n\\t\\t\\t\\t\\t\\t\\t\\t\\t</div>\\r\\n\\t\\t\\t\\t\\t\\t\\t\\t\\t<div class=\"item-checkbox\"></div>\\r\\n\\t\\t\\t\\t\\t\\t\\t\\t\\t\\r\\n\\t\\t\\t\\t\\t\\t\\t\\t</div>\\r\\n\\t\\t\\t\\t\\t\\t\\t</div>\\r\\n\\t\\t\\t\\t\\t\\t\\t\\r\\n\\t\\t\\t\\t\\t\\t\\r\\n\\t\\t\\t\\t\\t\\t\\t<div class=\"list-item view-small-image \"\\r\\n\\t\\t\\t\\t\\t\\t\\t\\tdata-item-id=\"3160517\">\\r\\n\\t\\t\\t\\t\\t\\t\\t\\t<div class=\"item-click-area\">\\r\\n\\t\\t\\t\\t\\t\\t\\t\\t\\t<div class=\"item-top\">\\r\\n\\t\\t\\t\\t\\t\\t\\t\\t\\t\\t<div class=\"item-rank\">15</div>\\r\\n\\t\\t\\t\\t\\t\\t\\t\\t\\t\\t<span onclick=\"app.openItemInfo(this,event);\" class=\"item-button item-button-info glyphicon glyphicon-info-sign\"></span>\\r\\n\\t\\t\\t\\t\\t\\t\\t\\t\\t\\t<span onclick=\"app.toggleItemToDo(this,event);\" class=\"item-button item-button-todo glyphicon glyphicon-pushpin\"></span>\\r\\n\\t\\t\\t\\t\\t\\t\\t\\t\\t\\t<span onclick=\"app.toggleFavoriteItem(this,event);\" class=\"item-button item-button-favorite glyphicon glyphicon-heart\"></span>\\r\\n\\t\\t\\t\\t\\t\\t\\t\\t\\t</div>\\r\\n\\t\\t\\t\\t\\t\\t\\t\\t\\t<div class=\"item-image-wrapper\">\\r\\n\\t\\t\\t\\t\\t\\t\\t\\t\\t\\t<img class=\"lazy-load\" onerror=\"ImageLoadError(this)\" data-src=\"/f/items/144550d1-e763-4d37-81af-43b544cbac39.jpg\" src=\"/i/loading.png\" alt=\"Old Town Road (Remix) - Lil Nas X Ft. Billy Ray Cyrus\" />\\r\\n\\t\\t\\t\\t\\t\\t\\t\\t\\t</div>\\r\\n\\t\\t\\t\\t\\t\\t\\t\\t\\t<div class=\"item-name\">\\r\\n\\t\\t\\t\\t\\t\\t\\t\\t\\t\\tOld Town Road (Remix) - Lil Nas X Ft. Billy Ray Cyrus\\r\\n\\t\\t\\t\\t\\t\\t\\t\\t\\t</div>\\r\\n\\t\\t\\t\\t\\t\\t\\t\\t\\t<div class=\"item-checkbox\"></div>\\r\\n\\t\\t\\t\\t\\t\\t\\t\\t\\t\\r\\n\\t\\t\\t\\t\\t\\t\\t\\t</div>\\r\\n\\t\\t\\t\\t\\t\\t\\t</div>\\r\\n\\t\\t\\t\\t\\t\\t\\t\\r\\n\\t\\t\\t\\t\\t\\t\\r\\n\\t\\t\\t\\t\\t\\t\\t<div class=\"list-item view-small-image \"\\r\\n\\t\\t\\t\\t\\t\\t\\t\\tdata-item-id=\"2087109\">\\r\\n\\t\\t\\t\\t\\t\\t\\t\\t<div class=\"item-click-area\">\\r\\n\\t\\t\\t\\t\\t\\t\\t\\t\\t<div class=\"item-top\">\\r\\n\\t\\t\\t\\t\\t\\t\\t\\t\\t\\t<div class=\"item-rank\">16</div>\\r\\n\\t\\t\\t\\t\\t\\t\\t\\t\\t\\t<span onclick=\"app.openItemInfo(this,event);\" class=\"item-button item-button-info glyphicon glyphicon-info-sign\"></span>\\r\\n\\t\\t\\t\\t\\t\\t\\t\\t\\t\\t<span onclick=\"app.toggleItemToDo(this,event);\" class=\"item-button item-button-todo glyphicon glyphicon-pushpin\"></span>\\r\\n\\t\\t\\t\\t\\t\\t\\t\\t\\t\\t<span onclick=\"app.toggleFavoriteItem(this,event);\" class=\"item-button item-button-favorite glyphicon glyphicon-heart\"></span>\\r\\n\\t\\t\\t\\t\\t\\t\\t\\t\\t</div>\\r\\n\\t\\t\\t\\t\\t\\t\\t\\t\\t<div class=\"item-image-wrapper\">\\r\\n\\t\\t\\t\\t\\t\\t\\t\\t\\t\\t<img class=\"lazy-load\" onerror=\"ImageLoadError(this)\" data-src=\"/f/items/f8d97ee6-129d-4ab0-be81-511695d4f4a2.jpg\" src=\"/i/loading.png\" alt=\"Toni Braxton - Un-Break My Heart\" />\\r\\n\\t\\t\\t\\t\\t\\t\\t\\t\\t</div>\\r\\n\\t\\t\\t\\t\\t\\t\\t\\t\\t<div class=\"item-name\">\\r\\n\\t\\t\\t\\t\\t\\t\\t\\t\\t\\tToni Braxton - Un-Break My Heart\\r\\n\\t\\t\\t\\t\\t\\t\\t\\t\\t</div>\\r\\n\\t\\t\\t\\t\\t\\t\\t\\t\\t<div class=\"item-checkbox\"></div>\\r\\n\\t\\t\\t\\t\\t\\t\\t\\t\\t\\r\\n\\t\\t\\t\\t\\t\\t\\t\\t</div>\\r\\n\\t\\t\\t\\t\\t\\t\\t</div>\\r\\n\\t\\t\\t\\t\\t\\t\\t\\r\\n\\t\\t\\t\\t\\t\\t\\r\\n\\t\\t\\t\\t\\t\\t\\t<div class=\"list-item view-small-image \"\\r\\n\\t\\t\\t\\t\\t\\t\\t\\tdata-item-id=\"2410275\">\\r\\n\\t\\t\\t\\t\\t\\t\\t\\t<div class=\"item-click-area\">\\r\\n\\t\\t\\t\\t\\t\\t\\t\\t\\t<div class=\"item-top\">\\r\\n\\t\\t\\t\\t\\t\\t\\t\\t\\t\\t<div class=\"item-rank\">17</div>\\r\\n\\t\\t\\t\\t\\t\\t\\t\\t\\t\\t<span onclick=\"app.openItemInfo(this,event);\" class=\"item-button item-button-info glyphicon glyphicon-info-sign\"></span>\\r\\n\\t\\t\\t\\t\\t\\t\\t\\t\\t\\t<span onclick=\"app.toggleItemToDo(this,event);\" class=\"item-button item-button-todo glyphicon glyphicon-pushpin\"></span>\\r\\n\\t\\t\\t\\t\\t\\t\\t\\t\\t\\t<span onclick=\"app.toggleFavoriteItem(this,event);\" class=\"item-button item-button-favorite glyphicon glyphicon-heart\"></span>\\r\\n\\t\\t\\t\\t\\t\\t\\t\\t\\t</div>\\r\\n\\t\\t\\t\\t\\t\\t\\t\\t\\t<div class=\"item-image-wrapper\">\\r\\n\\t\\t\\t\\t\\t\\t\\t\\t\\t\\t<img class=\"lazy-load\" onerror=\"ImageLoadError(this)\" data-src=\"/f/items/8b41dd58-1261-49f0-8ec4-62cad151cb14.jpg\" src=\"/i/loading.png\" alt=\"Usher - Yeah! (Featuring Lil Jon and Ludacris)\" />\\r\\n\\t\\t\\t\\t\\t\\t\\t\\t\\t</div>\\r\\n\\t\\t\\t\\t\\t\\t\\t\\t\\t<div class=\"item-name\">\\r\\n\\t\\t\\t\\t\\t\\t\\t\\t\\t\\tUsher - Yeah! (Featuring Lil Jon and Ludacris)\\r\\n\\t\\t\\t\\t\\t\\t\\t\\t\\t</div>\\r\\n\\t\\t\\t\\t\\t\\t\\t\\t\\t<div class=\"item-checkbox\"></div>\\r\\n\\t\\t\\t\\t\\t\\t\\t\\t\\t\\r\\n\\t\\t\\t\\t\\t\\t\\t\\t</div>\\r\\n\\t\\t\\t\\t\\t\\t\\t</div>\\r\\n\\t\\t\\t\\t\\t\\t\\t\\r\\n\\t\\t\\t\\t\\t\\t\\r\\n\\t\\t\\t\\t\\t\\t\\t<div class=\"list-item view-small-image \"\\r\\n\\t\\t\\t\\t\\t\\t\\t\\tdata-item-id=\"2525074\">\\r\\n\\t\\t\\t\\t\\t\\t\\t\\t<div class=\"item-click-area\">\\r\\n\\t\\t\\t\\t\\t\\t\\t\\t\\t<div class=\"item-top\">\\r\\n\\t\\t\\t\\t\\t\\t\\t\\t\\t\\t<div class=\"item-rank\">18</div>\\r\\n\\t\\t\\t\\t\\t\\t\\t\\t\\t\\t<span onclick=\"app.openItemInfo(this,event);\" class=\"item-button item-button-info glyphicon glyphicon-info-sign\"></span>\\r\\n\\t\\t\\t\\t\\t\\t\\t\\t\\t\\t<span onclick=\"app.toggleItemToDo(this,event);\" class=\"item-button item-button-todo glyphicon glyphicon-pushpin\"></span>\\r\\n\\t\\t\\t\\t\\t\\t\\t\\t\\t\\t<span onclick=\"app.toggleFavoriteItem(this,event);\" class=\"item-button item-button-favorite glyphicon glyphicon-heart\"></span>\\r\\n\\t\\t\\t\\t\\t\\t\\t\\t\\t</div>\\r\\n\\t\\t\\t\\t\\t\\t\\t\\t\\t<div class=\"item-image-wrapper\">\\r\\n\\t\\t\\t\\t\\t\\t\\t\\t\\t\\t<img class=\"lazy-load\" onerror=\"ImageLoadError(this)\" data-src=\"/f/items/b996e678-01ec-4544-badd-46b577ef672e.jpg\" src=\"/i/loading.png\" alt=\"Bette Davis Eyes - Kim Carnes\" />\\r\\n\\t\\t\\t\\t\\t\\t\\t\\t\\t</div>\\r\\n\\t\\t\\t\\t\\t\\t\\t\\t\\t<div class=\"item-name\">\\r\\n\\t\\t\\t\\t\\t\\t\\t\\t\\t\\tBette Davis Eyes - Kim Carnes\\r\\n\\t\\t\\t\\t\\t\\t\\t\\t\\t</div>\\r\\n\\t\\t\\t\\t\\t\\t\\t\\t\\t<div class=\"item-checkbox\"></div>\\r\\n\\t\\t\\t\\t\\t\\t\\t\\t\\t\\r\\n\\t\\t\\t\\t\\t\\t\\t\\t</div>\\r\\n\\t\\t\\t\\t\\t\\t\\t</div>\\r\\n\\t\\t\\t\\t\\t\\t\\t\\r\\n\\t\\t\\t\\t\\t\\t\\r\\n\\t\\t\\t\\t\\t\\t\\t<div class=\"list-item view-small-image \"\\r\\n\\t\\t\\t\\t\\t\\t\\t\\tdata-item-id=\"3057805\">\\r\\n\\t\\t\\t\\t\\t\\t\\t\\t<div class=\"item-click-area\">\\r\\n\\t\\t\\t\\t\\t\\t\\t\\t\\t<div class=\"item-top\">\\r\\n\\t\\t\\t\\t\\t\\t\\t\\t\\t\\t<div class=\"item-rank\">19</div>\\r\\n\\t\\t\\t\\t\\t\\t\\t\\t\\t\\t<span onclick=\"app.openItemInfo(this,event);\" class=\"item-button item-button-info glyphicon glyphicon-info-sign\"></span>\\r\\n\\t\\t\\t\\t\\t\\t\\t\\t\\t\\t<span onclick=\"app.toggleItemToDo(this,event);\" class=\"item-button item-button-todo glyphicon glyphicon-pushpin\"></span>\\r\\n\\t\\t\\t\\t\\t\\t\\t\\t\\t\\t<span onclick=\"app.toggleFavoriteItem(this,event);\" class=\"item-button item-button-favorite glyphicon glyphicon-heart\"></span>\\r\\n\\t\\t\\t\\t\\t\\t\\t\\t\\t</div>\\r\\n\\t\\t\\t\\t\\t\\t\\t\\t\\t<div class=\"item-image-wrapper\">\\r\\n\\t\\t\\t\\t\\t\\t\\t\\t\\t\\t<img class=\"lazy-load\" onerror=\"ImageLoadError(this)\" data-src=\"/f/items/16b2160d-3ae5-4397-8a66-c7ab3a32605a.jpg\" src=\"/i/loading.png\" alt=\"Girls Like You - Maroon 5, Cardi B\" />\\r\\n\\t\\t\\t\\t\\t\\t\\t\\t\\t</div>\\r\\n\\t\\t\\t\\t\\t\\t\\t\\t\\t<div class=\"item-name\">\\r\\n\\t\\t\\t\\t\\t\\t\\t\\t\\t\\tGirls Like You - Maroon 5, Cardi B\\r\\n\\t\\t\\t\\t\\t\\t\\t\\t\\t</div>\\r\\n\\t\\t\\t\\t\\t\\t\\t\\t\\t<div class=\"item-checkbox\"></div>\\r\\n\\t\\t\\t\\t\\t\\t\\t\\t\\t\\r\\n\\t\\t\\t\\t\\t\\t\\t\\t</div>\\r\\n\\t\\t\\t\\t\\t\\t\\t</div>\\r\\n\\t\\t\\t\\t\\t\\t\\t\\r\\n\\t\\t\\t\\t\\t\\t\\r\\n\\t\\t\\t\\t\\t\\t\\t<div class=\"list-item view-small-image \"\\r\\n\\t\\t\\t\\t\\t\\t\\t\\tdata-item-id=\"2525077\">\\r\\n\\t\\t\\t\\t\\t\\t\\t\\t<div class=\"item-click-area\">\\r\\n\\t\\t\\t\\t\\t\\t\\t\\t\\t<div class=\"item-top\">\\r\\n\\t\\t\\t\\t\\t\\t\\t\\t\\t\\t<div class=\"item-rank\">20</div>\\r\\n\\t\\t\\t\\t\\t\\t\\t\\t\\t\\t<span onclick=\"app.openItemInfo(this,event);\" class=\"item-button item-button-info glyphicon glyphicon-info-sign\"></span>\\r\\n\\t\\t\\t\\t\\t\\t\\t\\t\\t\\t<span onclick=\"app.toggleItemToDo(this,event);\" class=\"item-button item-button-todo glyphicon glyphicon-pushpin\"></span>\\r\\n\\t\\t\\t\\t\\t\\t\\t\\t\\t\\t<span onclick=\"app.toggleFavoriteItem(this,event);\" class=\"item-button item-button-favorite glyphicon glyphicon-heart\"></span>\\r\\n\\t\\t\\t\\t\\t\\t\\t\\t\\t</div>\\r\\n\\t\\t\\t\\t\\t\\t\\t\\t\\t<div class=\"item-image-wrapper\">\\r\\n\\t\\t\\t\\t\\t\\t\\t\\t\\t\\t<img class=\"lazy-load\" onerror=\"ImageLoadError(this)\" data-src=\"/f/items/2f86970e-e705-4ae1-b6a4-dd365d04e86c.jpg\" src=\"/i/loading.png\" alt=\"Endless Love - Diana Ross and Lionel Richie\" />\\r\\n\\t\\t\\t\\t\\t\\t\\t\\t\\t</div>\\r\\n\\t\\t\\t\\t\\t\\t\\t\\t\\t<div class=\"item-name\">\\r\\n\\t\\t\\t\\t\\t\\t\\t\\t\\t\\tEndless Love - Diana Ross and Lionel Richie\\r\\n\\t\\t\\t\\t\\t\\t\\t\\t\\t</div>\\r\\n\\t\\t\\t\\t\\t\\t\\t\\t\\t<div class=\"item-checkbox\"></div>\\r\\n\\t\\t\\t\\t\\t\\t\\t\\t\\t\\r\\n\\t\\t\\t\\t\\t\\t\\t\\t</div>\\r\\n\\t\\t\\t\\t\\t\\t\\t</div>\\r\\n\\t\\t\\t\\t\\t\\t\\t<span class=\"ad-wrapper\"><div class=\"ad-identifier\">ADVERTISEMENT</div><ins class=\"adsbygoogle \"\\r\\n\\tstyle=\"display:block\"\\r\\n\\tdata-ad-client=\"ca-pub-9310224305865624\"\\r\\n\\tdata-ad-slot=\"5801290483\"\\r\\n\\tdata-ad-format=\"horizontal\"\\r\\n\\tdata-full-width-responsive=\"true\"></ins><script>(adsbygoogle = window.adsbygoogle || []).push({});</script></span>\\r\\n\\t\\t\\t\\t\\t\\t\\r\\n\\t\\t\\t\\t\\t\\t\\t<div class=\"list-item view-small-image \"\\r\\n\\t\\t\\t\\t\\t\\t\\t\\tdata-item-id=\"2100305\">\\r\\n\\t\\t\\t\\t\\t\\t\\t\\t<div class=\"item-click-area\">\\r\\n\\t\\t\\t\\t\\t\\t\\t\\t\\t<div class=\"item-top\">\\r\\n\\t\\t\\t\\t\\t\\t\\t\\t\\t\\t<div class=\"item-rank\">21</div>\\r\\n\\t\\t\\t\\t\\t\\t\\t\\t\\t\\t<span onclick=\"app.openItemInfo(this,event);\" class=\"item-button item-button-info glyphicon glyphicon-info-sign\"></span>\\r\\n\\t\\t\\t\\t\\t\\t\\t\\t\\t\\t<span onclick=\"app.toggleItemToDo(this,event);\" class=\"item-button item-button-todo glyphicon glyphicon-pushpin\"></span>\\r\\n\\t\\t\\t\\t\\t\\t\\t\\t\\t\\t<span onclick=\"app.toggleFavoriteItem(this,event);\" class=\"item-button item-button-favorite glyphicon glyphicon-heart\"></span>\\r\\n\\t\\t\\t\\t\\t\\t\\t\\t\\t</div>\\r\\n\\t\\t\\t\\t\\t\\t\\t\\t\\t<div class=\"item-image-wrapper\">\\r\\n\\t\\t\\t\\t\\t\\t\\t\\t\\t\\t<img class=\"lazy-load\" onerror=\"ImageLoadError(this)\" data-src=\"/f/items/1d4079c1-c716-4a18-be91-c71f74403de5.jpg\" src=\"/i/loading.png\" alt=\"Rod Stewart - Tonight&amp;#39;s the Night\" />\\r\\n\\t\\t\\t\\t\\t\\t\\t\\t\\t</div>\\r\\n\\t\\t\\t\\t\\t\\t\\t\\t\\t<div class=\"item-name\">\\r\\n\\t\\t\\t\\t\\t\\t\\t\\t\\t\\tRod Stewart - Tonight&#39;s the Night\\r\\n\\t\\t\\t\\t\\t\\t\\t\\t\\t</div>\\r\\n\\t\\t\\t\\t\\t\\t\\t\\t\\t<div class=\"item-checkbox\"></div>\\r\\n\\t\\t\\t\\t\\t\\t\\t\\t\\t\\r\\n\\t\\t\\t\\t\\t\\t\\t\\t</div>\\r\\n\\t\\t\\t\\t\\t\\t\\t</div>\\r\\n\\t\\t\\t\\t\\t\\t\\t\\r\\n\\t\\t\\t\\t\\t\\t\\r\\n\\t\\t\\t\\t\\t\\t\\t<div class=\"list-item view-small-image \"\\r\\n\\t\\t\\t\\t\\t\\t\\t\\tdata-item-id=\"2437749\">\\r\\n\\t\\t\\t\\t\\t\\t\\t\\t<div class=\"item-click-area\">\\r\\n\\t\\t\\t\\t\\t\\t\\t\\t\\t<div class=\"item-top\">\\r\\n\\t\\t\\t\\t\\t\\t\\t\\t\\t\\t<div class=\"item-rank\">22</div>\\r\\n\\t\\t\\t\\t\\t\\t\\t\\t\\t\\t<span onclick=\"app.openItemInfo(this,event);\" class=\"item-button item-button-info glyphicon glyphicon-info-sign\"></span>\\r\\n\\t\\t\\t\\t\\t\\t\\t\\t\\t\\t<span onclick=\"app.toggleItemToDo(this,event);\" class=\"item-button item-button-todo glyphicon glyphicon-pushpin\"></span>\\r\\n\\t\\t\\t\\t\\t\\t\\t\\t\\t\\t<span onclick=\"app.toggleFavoriteItem(this,event);\" class=\"item-button item-button-favorite glyphicon glyphicon-heart\"></span>\\r\\n\\t\\t\\t\\t\\t\\t\\t\\t\\t</div>\\r\\n\\t\\t\\t\\t\\t\\t\\t\\t\\t<div class=\"item-image-wrapper\">\\r\\n\\t\\t\\t\\t\\t\\t\\t\\t\\t\\t<img class=\"lazy-load\" onerror=\"ImageLoadError(this)\" data-src=\"/f/items/a25133d0-6350-444d-b4d8-fe9759d7caed.jpg\" src=\"/i/loading.png\" alt=\"Foolish Games - Jewel\" />\\r\\n\\t\\t\\t\\t\\t\\t\\t\\t\\t</div>\\r\\n\\t\\t\\t\\t\\t\\t\\t\\t\\t<div class=\"item-name\">\\r\\n\\t\\t\\t\\t\\t\\t\\t\\t\\t\\tFoolish Games - Jewel\\r\\n\\t\\t\\t\\t\\t\\t\\t\\t\\t</div>\\r\\n\\t\\t\\t\\t\\t\\t\\t\\t\\t<div class=\"item-checkbox\"></div>\\r\\n\\t\\t\\t\\t\\t\\t\\t\\t\\t\\r\\n\\t\\t\\t\\t\\t\\t\\t\\t</div>\\r\\n\\t\\t\\t\\t\\t\\t\\t</div>\\r\\n\\t\\t\\t\\t\\t\\t\\t\\r\\n\\t\\t\\t\\t\\t\\t\\r\\n\\t\\t\\t\\t\\t\\t\\t<div class=\"list-item view-small-image \"\\r\\n\\t\\t\\t\\t\\t\\t\\t\\tdata-item-id=\"3311208\">\\r\\n\\t\\t\\t\\t\\t\\t\\t\\t<div class=\"item-click-area\">\\r\\n\\t\\t\\t\\t\\t\\t\\t\\t\\t<div class=\"item-top\">\\r\\n\\t\\t\\t\\t\\t\\t\\t\\t\\t\\t<div class=\"item-rank\">23</div>\\r\\n\\t\\t\\t\\t\\t\\t\\t\\t\\t\\t<span onclick=\"app.openItemInfo(this,event);\" class=\"item-button item-button-info glyphicon glyphicon-info-sign\"></span>\\r\\n\\t\\t\\t\\t\\t\\t\\t\\t\\t\\t<span onclick=\"app.toggleItemToDo(this,event);\" class=\"item-button item-button-todo glyphicon glyphicon-pushpin\"></span>\\r\\n\\t\\t\\t\\t\\t\\t\\t\\t\\t\\t<span onclick=\"app.toggleFavoriteItem(this,event);\" class=\"item-button item-button-favorite glyphicon glyphicon-heart\"></span>\\r\\n\\t\\t\\t\\t\\t\\t\\t\\t\\t</div>\\r\\n\\t\\t\\t\\t\\t\\t\\t\\t\\t<div class=\"item-image-wrapper\">\\r\\n\\t\\t\\t\\t\\t\\t\\t\\t\\t\\t<img class=\"lazy-load\" onerror=\"ImageLoadError(this)\" data-src=\"/f/items/fc28bea8-8358-41b4-a903-ef0e97f313a9.jpg\" src=\"/i/loading.png\" alt=\"Circles - Post Malone\" />\\r\\n\\t\\t\\t\\t\\t\\t\\t\\t\\t</div>\\r\\n\\t\\t\\t\\t\\t\\t\\t\\t\\t<div class=\"item-name\">\\r\\n\\t\\t\\t\\t\\t\\t\\t\\t\\t\\tCircles - Post Malone\\r\\n\\t\\t\\t\\t\\t\\t\\t\\t\\t</div>\\r\\n\\t\\t\\t\\t\\t\\t\\t\\t\\t<div class=\"item-checkbox\"></div>\\r\\n\\t\\t\\t\\t\\t\\t\\t\\t\\t\\r\\n\\t\\t\\t\\t\\t\\t\\t\\t</div>\\r\\n\\t\\t\\t\\t\\t\\t\\t</div>\\r\\n\\t\\t\\t\\t\\t\\t\\t\\r\\n\\t\\t\\t\\t\\t\\t\\r\\n\\t\\t\\t\\t\\t\\t\\t<div class=\"list-item view-small-image \"\\r\\n\\t\\t\\t\\t\\t\\t\\t\\tdata-item-id=\"2032963\">\\r\\n\\t\\t\\t\\t\\t\\t\\t\\t<div class=\"item-click-area\">\\r\\n\\t\\t\\t\\t\\t\\t\\t\\t\\t<div class=\"item-top\">\\r\\n\\t\\t\\t\\t\\t\\t\\t\\t\\t\\t<div class=\"item-rank\">24</div>\\r\\n\\t\\t\\t\\t\\t\\t\\t\\t\\t\\t<span onclick=\"app.openItemInfo(this,event);\" class=\"item-button item-button-info glyphicon glyphicon-info-sign\"></span>\\r\\n\\t\\t\\t\\t\\t\\t\\t\\t\\t\\t<span onclick=\"app.toggleItemToDo(this,event);\" class=\"item-button item-button-todo glyphicon glyphicon-pushpin\"></span>\\r\\n\\t\\t\\t\\t\\t\\t\\t\\t\\t\\t<span onclick=\"app.toggleFavoriteItem(this,event);\" class=\"item-button item-button-favorite glyphicon glyphicon-heart\"></span>\\r\\n\\t\\t\\t\\t\\t\\t\\t\\t\\t</div>\\r\\n\\t\\t\\t\\t\\t\\t\\t\\t\\t<div class=\"item-image-wrapper\">\\r\\n\\t\\t\\t\\t\\t\\t\\t\\t\\t\\t<img class=\"lazy-load\" onerror=\"ImageLoadError(this)\" data-src=\"/f/items/4792301c-e934-485d-b11a-584087972cbd.jpg\" src=\"/i/loading.png\" alt=\"(Everything I Do) I Do It for You - Bryan Adams\" />\\r\\n\\t\\t\\t\\t\\t\\t\\t\\t\\t</div>\\r\\n\\t\\t\\t\\t\\t\\t\\t\\t\\t<div class=\"item-name\">\\r\\n\\t\\t\\t\\t\\t\\t\\t\\t\\t\\t(Everything I Do) I Do It for You - Bryan Adams\\r\\n\\t\\t\\t\\t\\t\\t\\t\\t\\t</div>\\r\\n\\t\\t\\t\\t\\t\\t\\t\\t\\t<div class=\"item-checkbox\"></div>\\r\\n\\t\\t\\t\\t\\t\\t\\t\\t\\t\\r\\n\\t\\t\\t\\t\\t\\t\\t\\t</div>\\r\\n\\t\\t\\t\\t\\t\\t\\t</div>\\r\\n\\t\\t\\t\\t\\t\\t\\t\\r\\n\\t\\t\\t\\t\\t\\t\\r\\n\\t\\t\\t\\t\\t\\t\\t<div class=\"list-item view-small-image \"\\r\\n\\t\\t\\t\\t\\t\\t\\t\\tdata-item-id=\"2276959\">\\r\\n\\t\\t\\t\\t\\t\\t\\t\\t<div class=\"item-click-area\">\\r\\n\\t\\t\\t\\t\\t\\t\\t\\t\\t<div class=\"item-top\">\\r\\n\\t\\t\\t\\t\\t\\t\\t\\t\\t\\t<div class=\"item-rank\">25</div>\\r\\n\\t\\t\\t\\t\\t\\t\\t\\t\\t\\t<span onclick=\"app.openItemInfo(this,event);\" class=\"item-button item-button-info glyphicon glyphicon-info-sign\"></span>\\r\\n\\t\\t\\t\\t\\t\\t\\t\\t\\t\\t<span onclick=\"app.toggleItemToDo(this,event);\" class=\"item-button item-button-todo glyphicon glyphicon-pushpin\"></span>\\r\\n\\t\\t\\t\\t\\t\\t\\t\\t\\t\\t<span onclick=\"app.toggleFavoriteItem(this,event);\" class=\"item-button item-button-favorite glyphicon glyphicon-heart\"></span>\\r\\n\\t\\t\\t\\t\\t\\t\\t\\t\\t</div>\\r\\n\\t\\t\\t\\t\\t\\t\\t\\t\\t<div class=\"item-image-wrapper\">\\r\\n\\t\\t\\t\\t\\t\\t\\t\\t\\t\\t<img class=\"lazy-load\" onerror=\"ImageLoadError(this)\" data-src=\"/f/items/522cb3ab-85a4-45b9-a005-a6e6263c1bf1.jpg\" src=\"/i/loading.png\" alt=\"I&amp;#39;ll Make Love to You - Boyz II Men\" />\\r\\n\\t\\t\\t\\t\\t\\t\\t\\t\\t</div>\\r\\n\\t\\t\\t\\t\\t\\t\\t\\t\\t<div class=\"item-name\">\\r\\n\\t\\t\\t\\t\\t\\t\\t\\t\\t\\tI&#39;ll Make Love to You - Boyz II Men\\r\\n\\t\\t\\t\\t\\t\\t\\t\\t\\t</div>\\r\\n\\t\\t\\t\\t\\t\\t\\t\\t\\t<div class=\"item-checkbox\"></div>\\r\\n\\t\\t\\t\\t\\t\\t\\t\\t\\t\\r\\n\\t\\t\\t\\t\\t\\t\\t\\t</div>\\r\\n\\t\\t\\t\\t\\t\\t\\t</div>\\r\\n\\t\\t\\t\\t\\t\\t\\t\\r\\n\\t\\t\\t\\t\\t\\t\\r\\n\\t\\t\\t\\t\\t\\t\\t<div class=\"list-item view-small-image \"\\r\\n\\t\\t\\t\\t\\t\\t\\t\\tdata-item-id=\"2100289\">\\r\\n\\t\\t\\t\\t\\t\\t\\t\\t<div class=\"item-click-area\">\\r\\n\\t\\t\\t\\t\\t\\t\\t\\t\\t<div class=\"item-top\">\\r\\n\\t\\t\\t\\t\\t\\t\\t\\t\\t\\t<div class=\"item-rank\">26</div>\\r\\n\\t\\t\\t\\t\\t\\t\\t\\t\\t\\t<span onclick=\"app.openItemInfo(this,event);\" class=\"item-button item-button-info glyphicon glyphicon-info-sign\"></span>\\r\\n\\t\\t\\t\\t\\t\\t\\t\\t\\t\\t<span onclick=\"app.toggleItemToDo(this,event);\" class=\"item-button item-button-todo glyphicon glyphicon-pushpin\"></span>\\r\\n\\t\\t\\t\\t\\t\\t\\t\\t\\t\\t<span onclick=\"app.toggleFavoriteItem(this,event);\" class=\"item-button item-button-favorite glyphicon glyphicon-heart\"></span>\\r\\n\\t\\t\\t\\t\\t\\t\\t\\t\\t</div>\\r\\n\\t\\t\\t\\t\\t\\t\\t\\t\\t<div class=\"item-image-wrapper\">\\r\\n\\t\\t\\t\\t\\t\\t\\t\\t\\t\\t<img class=\"lazy-load\" onerror=\"ImageLoadError(this)\" data-src=\"/f/items/f534111f-cec0-470e-b182-d7ab27cfd7f5.jpg\" src=\"/i/loading.png\" alt=\"Percy Faith - Theme From &amp;quot;A Summer Place&amp;quot;\" />\\r\\n\\t\\t\\t\\t\\t\\t\\t\\t\\t</div>\\r\\n\\t\\t\\t\\t\\t\\t\\t\\t\\t<div class=\"item-name\">\\r\\n\\t\\t\\t\\t\\t\\t\\t\\t\\t\\tPercy Faith - Theme From &quot;A Summer Place&quot;\\r\\n\\t\\t\\t\\t\\t\\t\\t\\t\\t</div>\\r\\n\\t\\t\\t\\t\\t\\t\\t\\t\\t<div class=\"item-checkbox\"></div>\\r\\n\\t\\t\\t\\t\\t\\t\\t\\t\\t\\r\\n\\t\\t\\t\\t\\t\\t\\t\\t</div>\\r\\n\\t\\t\\t\\t\\t\\t\\t</div>\\r\\n\\t\\t\\t\\t\\t\\t\\t\\r\\n\\t\\t\\t\\t\\t\\t\\r\\n\\t\\t\\t\\t\\t\\t\\t<div class=\"list-item view-small-image \"\\r\\n\\t\\t\\t\\t\\t\\t\\t\\tdata-item-id=\"2124527\">\\r\\n\\t\\t\\t\\t\\t\\t\\t\\t<div class=\"item-click-area\">\\r\\n\\t\\t\\t\\t\\t\\t\\t\\t\\t<div class=\"item-top\">\\r\\n\\t\\t\\t\\t\\t\\t\\t\\t\\t\\t<div class=\"item-rank\">27</div>\\r\\n\\t\\t\\t\\t\\t\\t\\t\\t\\t\\t<span onclick=\"app.openItemInfo(this,event);\" class=\"item-button item-button-info glyphicon glyphicon-info-sign\"></span>\\r\\n\\t\\t\\t\\t\\t\\t\\t\\t\\t\\t<span onclick=\"app.toggleItemToDo(this,event);\" class=\"item-button item-button-todo glyphicon glyphicon-pushpin\"></span>\\r\\n\\t\\t\\t\\t\\t\\t\\t\\t\\t\\t<span onclick=\"app.toggleFavoriteItem(this,event);\" class=\"item-button item-button-favorite glyphicon glyphicon-heart\"></span>\\r\\n\\t\\t\\t\\t\\t\\t\\t\\t\\t</div>\\r\\n\\t\\t\\t\\t\\t\\t\\t\\t\\t<div class=\"item-image-wrapper\">\\r\\n\\t\\t\\t\\t\\t\\t\\t\\t\\t\\t<img class=\"lazy-load\" onerror=\"ImageLoadError(this)\" data-src=\"/f/items/e5ccf3ed-e683-4c33-92d0-c74de5befcae.jpg\" src=\"/i/loading.png\" alt=\"&amp;quot;Le Freak&amp;quot; - Chic\" />\\r\\n\\t\\t\\t\\t\\t\\t\\t\\t\\t</div>\\r\\n\\t\\t\\t\\t\\t\\t\\t\\t\\t<div class=\"item-name\">\\r\\n\\t\\t\\t\\t\\t\\t\\t\\t\\t\\t&quot;Le Freak&quot; - Chic\\r\\n\\t\\t\\t\\t\\t\\t\\t\\t\\t</div>\\r\\n\\t\\t\\t\\t\\t\\t\\t\\t\\t<div class=\"item-checkbox\"></div>\\r\\n\\t\\t\\t\\t\\t\\t\\t\\t\\t\\r\\n\\t\\t\\t\\t\\t\\t\\t\\t</div>\\r\\n\\t\\t\\t\\t\\t\\t\\t</div>\\r\\n\\t\\t\\t\\t\\t\\t\\t\\r\\n\\t\\t\\t\\t\\t\\t\\r\\n\\t\\t\\t\\t\\t\\t\\t<div class=\"list-item view-small-image \"\\r\\n\\t\\t\\t\\t\\t\\t\\t\\tdata-item-id=\"1964120\">\\r\\n\\t\\t\\t\\t\\t\\t\\t\\t<div class=\"item-click-area\">\\r\\n\\t\\t\\t\\t\\t\\t\\t\\t\\t<div class=\"item-top\">\\r\\n\\t\\t\\t\\t\\t\\t\\t\\t\\t\\t<div class=\"item-rank\">28</div>\\r\\n\\t\\t\\t\\t\\t\\t\\t\\t\\t\\t<span onclick=\"app.openItemInfo(this,event);\" class=\"item-button item-button-info glyphicon glyphicon-info-sign\"></span>\\r\\n\\t\\t\\t\\t\\t\\t\\t\\t\\t\\t<span onclick=\"app.toggleItemToDo(this,event);\" class=\"item-button item-button-todo glyphicon glyphicon-pushpin\"></span>\\r\\n\\t\\t\\t\\t\\t\\t\\t\\t\\t\\t<span onclick=\"app.toggleFavoriteItem(this,event);\" class=\"item-button item-button-favorite glyphicon glyphicon-heart\"></span>\\r\\n\\t\\t\\t\\t\\t\\t\\t\\t\\t</div>\\r\\n\\t\\t\\t\\t\\t\\t\\t\\t\\t<div class=\"item-image-wrapper\">\\r\\n\\t\\t\\t\\t\\t\\t\\t\\t\\t\\t<img class=\"lazy-load\" onerror=\"ImageLoadError(this)\" data-src=\"/f/items/015b9827-e0f5-4f19-a90d-287b883f33d5.jpg\" src=\"/i/loading.png\" alt=\"How Deep Is Your Love - Bee Gees\" />\\r\\n\\t\\t\\t\\t\\t\\t\\t\\t\\t</div>\\r\\n\\t\\t\\t\\t\\t\\t\\t\\t\\t<div class=\"item-name\">\\r\\n\\t\\t\\t\\t\\t\\t\\t\\t\\t\\tHow Deep Is Your Love - Bee Gees\\r\\n\\t\\t\\t\\t\\t\\t\\t\\t\\t</div>\\r\\n\\t\\t\\t\\t\\t\\t\\t\\t\\t<div class=\"item-checkbox\"></div>\\r\\n\\t\\t\\t\\t\\t\\t\\t\\t\\t\\r\\n\\t\\t\\t\\t\\t\\t\\t\\t</div>\\r\\n\\t\\t\\t\\t\\t\\t\\t</div>\\r\\n\\t\\t\\t\\t\\t\\t\\t\\r\\n\\t\\t\\t\\t\\t\\t\\r\\n\\t\\t\\t\\t\\t\\t\\t<div class=\"list-item view-small-image \"\\r\\n\\t\\t\\t\\t\\t\\t\\t\\tdata-item-id=\"2032946\">\\r\\n\\t\\t\\t\\t\\t\\t\\t\\t<div class=\"item-click-area\">\\r\\n\\t\\t\\t\\t\\t\\t\\t\\t\\t<div class=\"item-top\">\\r\\n\\t\\t\\t\\t\\t\\t\\t\\t\\t\\t<div class=\"item-rank\">29</div>\\r\\n\\t\\t\\t\\t\\t\\t\\t\\t\\t\\t<span onclick=\"app.openItemInfo(this,event);\" class=\"item-button item-button-info glyphicon glyphicon-info-sign\"></span>\\r\\n\\t\\t\\t\\t\\t\\t\\t\\t\\t\\t<span onclick=\"app.toggleItemToDo(this,event);\" class=\"item-button item-button-todo glyphicon glyphicon-pushpin\"></span>\\r\\n\\t\\t\\t\\t\\t\\t\\t\\t\\t\\t<span onclick=\"app.toggleFavoriteItem(this,event);\" class=\"item-button item-button-favorite glyphicon glyphicon-heart\"></span>\\r\\n\\t\\t\\t\\t\\t\\t\\t\\t\\t</div>\\r\\n\\t\\t\\t\\t\\t\\t\\t\\t\\t<div class=\"item-image-wrapper\">\\r\\n\\t\\t\\t\\t\\t\\t\\t\\t\\t\\t<img class=\"lazy-load\" onerror=\"ImageLoadError(this)\" data-src=\"/f/items/6cfaf002-89fb-46b2-b53b-530aca47c10c.jpg\" src=\"/i/loading.png\" alt=\"Eye of the Tiger - Survivor\" />\\r\\n\\t\\t\\t\\t\\t\\t\\t\\t\\t</div>\\r\\n\\t\\t\\t\\t\\t\\t\\t\\t\\t<div class=\"item-name\">\\r\\n\\t\\t\\t\\t\\t\\t\\t\\t\\t\\tEye of the Tiger - Survivor\\r\\n\\t\\t\\t\\t\\t\\t\\t\\t\\t</div>\\r\\n\\t\\t\\t\\t\\t\\t\\t\\t\\t<div class=\"item-checkbox\"></div>\\r\\n\\t\\t\\t\\t\\t\\t\\t\\t\\t\\r\\n\\t\\t\\t\\t\\t\\t\\t\\t</div>\\r\\n\\t\\t\\t\\t\\t\\t\\t</div>\\r\\n\\t\\t\\t\\t\\t\\t\\t\\r\\n\\t\\t\\t\\t\\t\\t\\r\\n\\t\\t\\t\\t\\t\\t\\t<div class=\"list-item view-small-image \"\\r\\n\\t\\t\\t\\t\\t\\t\\t\\tdata-item-id=\"2034361\">\\r\\n\\t\\t\\t\\t\\t\\t\\t\\t<div class=\"item-click-area\">\\r\\n\\t\\t\\t\\t\\t\\t\\t\\t\\t<div class=\"item-top\">\\r\\n\\t\\t\\t\\t\\t\\t\\t\\t\\t\\t<div class=\"item-rank\">30</div>\\r\\n\\t\\t\\t\\t\\t\\t\\t\\t\\t\\t<span onclick=\"app.openItemInfo(this,event);\" class=\"item-button item-button-info glyphicon glyphicon-info-sign\"></span>\\r\\n\\t\\t\\t\\t\\t\\t\\t\\t\\t\\t<span onclick=\"app.toggleItemToDo(this,event);\" class=\"item-button item-button-todo glyphicon glyphicon-pushpin\"></span>\\r\\n\\t\\t\\t\\t\\t\\t\\t\\t\\t\\t<span onclick=\"app.toggleFavoriteItem(this,event);\" class=\"item-button item-button-favorite glyphicon glyphicon-heart\"></span>\\r\\n\\t\\t\\t\\t\\t\\t\\t\\t\\t</div>\\r\\n\\t\\t\\t\\t\\t\\t\\t\\t\\t<div class=\"item-image-wrapper\">\\r\\n\\t\\t\\t\\t\\t\\t\\t\\t\\t\\t<img class=\"lazy-load\" onerror=\"ImageLoadError(this)\" data-src=\"/f/items/4db7d1d7-3f71-4da5-9814-9692b9f803d1.jpg\" src=\"/i/loading.png\" alt=\"We Found Love - Rihanna Ft Calvin Harris\" />\\r\\n\\t\\t\\t\\t\\t\\t\\t\\t\\t</div>\\r\\n\\t\\t\\t\\t\\t\\t\\t\\t\\t<div class=\"item-name\">\\r\\n\\t\\t\\t\\t\\t\\t\\t\\t\\t\\tWe Found Love - Rihanna Ft Calvin Harris\\r\\n\\t\\t\\t\\t\\t\\t\\t\\t\\t</div>\\r\\n\\t\\t\\t\\t\\t\\t\\t\\t\\t<div class=\"item-checkbox\"></div>\\r\\n\\t\\t\\t\\t\\t\\t\\t\\t\\t\\r\\n\\t\\t\\t\\t\\t\\t\\t\\t</div>\\r\\n\\t\\t\\t\\t\\t\\t\\t</div>\\r\\n\\t\\t\\t\\t\\t\\t\\t\\r\\n\\t\\t\\t\\t\\t\\t\\r\\n\\t\\t\\t\\t\\t\\t\\t<div class=\"list-item view-small-image \"\\r\\n\\t\\t\\t\\t\\t\\t\\t\\tdata-item-id=\"2100338\">\\r\\n\\t\\t\\t\\t\\t\\t\\t\\t<div class=\"item-click-area\">\\r\\n\\t\\t\\t\\t\\t\\t\\t\\t\\t<div class=\"item-top\">\\r\\n\\t\\t\\t\\t\\t\\t\\t\\t\\t\\t<div class=\"item-rank\">31</div>\\r\\n\\t\\t\\t\\t\\t\\t\\t\\t\\t\\t<span onclick=\"app.openItemInfo(this,event);\" class=\"item-button item-button-info glyphicon glyphicon-info-sign\"></span>\\r\\n\\t\\t\\t\\t\\t\\t\\t\\t\\t\\t<span onclick=\"app.toggleItemToDo(this,event);\" class=\"item-button item-button-todo glyphicon glyphicon-pushpin\"></span>\\r\\n\\t\\t\\t\\t\\t\\t\\t\\t\\t\\t<span onclick=\"app.toggleFavoriteItem(this,event);\" class=\"item-button item-button-favorite glyphicon glyphicon-heart\"></span>\\r\\n\\t\\t\\t\\t\\t\\t\\t\\t\\t</div>\\r\\n\\t\\t\\t\\t\\t\\t\\t\\t\\t<div class=\"item-image-wrapper\">\\r\\n\\t\\t\\t\\t\\t\\t\\t\\t\\t\\t<img class=\"lazy-load\" onerror=\"ImageLoadError(this)\" data-src=\"/f/items/4e93bb97-7e5b-4584-a2ba-0b9089e4a451.jpg\" src=\"/i/loading.png\" alt=\"Flo Rida Ft. T-Pain - Low\" />\\r\\n\\t\\t\\t\\t\\t\\t\\t\\t\\t</div>\\r\\n\\t\\t\\t\\t\\t\\t\\t\\t\\t<div class=\"item-name\">\\r\\n\\t\\t\\t\\t\\t\\t\\t\\t\\t\\tFlo Rida Ft. T-Pain - Low\\r\\n\\t\\t\\t\\t\\t\\t\\t\\t\\t</div>\\r\\n\\t\\t\\t\\t\\t\\t\\t\\t\\t<div class=\"item-checkbox\"></div>\\r\\n\\t\\t\\t\\t\\t\\t\\t\\t\\t\\r\\n\\t\\t\\t\\t\\t\\t\\t\\t</div>\\r\\n\\t\\t\\t\\t\\t\\t\\t</div>\\r\\n\\t\\t\\t\\t\\t\\t\\t\\r\\n\\t\\t\\t\\t\\t\\t\\r\\n\\t\\t\\t\\t\\t\\t\\t<div class=\"list-item view-small-image \"\\r\\n\\t\\t\\t\\t\\t\\t\\t\\tdata-item-id=\"2369494\">\\r\\n\\t\\t\\t\\t\\t\\t\\t\\t<div class=\"item-click-area\">\\r\\n\\t\\t\\t\\t\\t\\t\\t\\t\\t<div class=\"item-top\">\\r\\n\\t\\t\\t\\t\\t\\t\\t\\t\\t\\t<div class=\"item-rank\">32</div>\\r\\n\\t\\t\\t\\t\\t\\t\\t\\t\\t\\t<span onclick=\"app.openItemInfo(this,event);\" class=\"item-button item-button-info glyphicon glyphicon-info-sign\"></span>\\r\\n\\t\\t\\t\\t\\t\\t\\t\\t\\t\\t<span onclick=\"app.toggleItemToDo(this,event);\" class=\"item-button item-button-todo glyphicon glyphicon-pushpin\"></span>\\r\\n\\t\\t\\t\\t\\t\\t\\t\\t\\t\\t<span onclick=\"app.toggleFavoriteItem(this,event);\" class=\"item-button item-button-favorite glyphicon glyphicon-heart\"></span>\\r\\n\\t\\t\\t\\t\\t\\t\\t\\t\\t</div>\\r\\n\\t\\t\\t\\t\\t\\t\\t\\t\\t<div class=\"item-image-wrapper\">\\r\\n\\t\\t\\t\\t\\t\\t\\t\\t\\t\\t<img class=\"lazy-load\" onerror=\"ImageLoadError(this)\" data-src=\"/f/items/7d576ba3-2213-4a83-9100-983291753bff.jpg\" src=\"/i/loading.png\" alt=\"I Just Want to Be Your Everything - Andy Gibb\" />\\r\\n\\t\\t\\t\\t\\t\\t\\t\\t\\t</div>\\r\\n\\t\\t\\t\\t\\t\\t\\t\\t\\t<div class=\"item-name\">\\r\\n\\t\\t\\t\\t\\t\\t\\t\\t\\t\\tI Just Want to Be Your Everything - Andy Gibb\\r\\n\\t\\t\\t\\t\\t\\t\\t\\t\\t</div>\\r\\n\\t\\t\\t\\t\\t\\t\\t\\t\\t<div class=\"item-checkbox\"></div>\\r\\n\\t\\t\\t\\t\\t\\t\\t\\t\\t\\r\\n\\t\\t\\t\\t\\t\\t\\t\\t</div>\\r\\n\\t\\t\\t\\t\\t\\t\\t</div>\\r\\n\\t\\t\\t\\t\\t\\t\\t<span class=\"ad-wrapper\"><div class=\"ad-identifier\">ADVERTISEMENT</div><ins class=\"adsbygoogle \"\\r\\n\\tstyle=\"display:block\"\\r\\n\\tdata-ad-client=\"ca-pub-9310224305865624\"\\r\\n\\tdata-ad-slot=\"7278023680\"\\r\\n\\tdata-ad-format=\"horizontal\"\\r\\n\\tdata-full-width-responsive=\"true\"></ins><script>(adsbygoogle = window.adsbygoogle || []).push({});</script></span>\\r\\n\\t\\t\\t\\t\\t\\t\\r\\n\\t\\t\\t\\t\\t\\t\\t<div class=\"list-item view-small-image \"\\r\\n\\t\\t\\t\\t\\t\\t\\t\\tdata-item-id=\"2436177\">\\r\\n\\t\\t\\t\\t\\t\\t\\t\\t<div class=\"item-click-area\">\\r\\n\\t\\t\\t\\t\\t\\t\\t\\t\\t<div class=\"item-top\">\\r\\n\\t\\t\\t\\t\\t\\t\\t\\t\\t\\t<div class=\"item-rank\">33</div>\\r\\n\\t\\t\\t\\t\\t\\t\\t\\t\\t\\t<span onclick=\"app.openItemInfo(this,event);\" class=\"item-button item-button-info glyphicon glyphicon-info-sign\"></span>\\r\\n\\t\\t\\t\\t\\t\\t\\t\\t\\t\\t<span onclick=\"app.toggleItemToDo(this,event);\" class=\"item-button item-button-todo glyphicon glyphicon-pushpin\"></span>\\r\\n\\t\\t\\t\\t\\t\\t\\t\\t\\t\\t<span onclick=\"app.toggleFavoriteItem(this,event);\" class=\"item-button item-button-favorite glyphicon glyphicon-heart\"></span>\\r\\n\\t\\t\\t\\t\\t\\t\\t\\t\\t</div>\\r\\n\\t\\t\\t\\t\\t\\t\\t\\t\\t<div class=\"item-image-wrapper\">\\r\\n\\t\\t\\t\\t\\t\\t\\t\\t\\t\\t<img class=\"lazy-load\" onerror=\"ImageLoadError(this)\" data-src=\"/f/items/f79c9c71-24bd-4ec2-b652-fb29a3b4fc2b.jpg\" src=\"/i/loading.png\" alt=\"Too Close (Next)\" />\\r\\n\\t\\t\\t\\t\\t\\t\\t\\t\\t</div>\\r\\n\\t\\t\\t\\t\\t\\t\\t\\t\\t<div class=\"item-name\">\\r\\n\\t\\t\\t\\t\\t\\t\\t\\t\\t\\tToo Close (Next)\\r\\n\\t\\t\\t\\t\\t\\t\\t\\t\\t</div>\\r\\n\\t\\t\\t\\t\\t\\t\\t\\t\\t<div class=\"item-checkbox\"></div>\\r\\n\\t\\t\\t\\t\\t\\t\\t\\t\\t\\r\\n\\t\\t\\t\\t\\t\\t\\t\\t</div>\\r\\n\\t\\t\\t\\t\\t\\t\\t</div>\\r\\n\\t\\t\\t\\t\\t\\t\\t\\r\\n\\t\\t\\t\\t\\t\\t\\r\\n\\t\\t\\t\\t\\t\\t\\t<div class=\"list-item view-small-image \"\\r\\n\\t\\t\\t\\t\\t\\t\\t\\tdata-item-id=\"3072159\">\\r\\n\\t\\t\\t\\t\\t\\t\\t\\t<div class=\"item-click-area\">\\r\\n\\t\\t\\t\\t\\t\\t\\t\\t\\t<div class=\"item-top\">\\r\\n\\t\\t\\t\\t\\t\\t\\t\\t\\t\\t<div class=\"item-rank\">34</div>\\r\\n\\t\\t\\t\\t\\t\\t\\t\\t\\t\\t<span onclick=\"app.openItemInfo(this,event);\" class=\"item-button item-button-info glyphicon glyphicon-info-sign\"></span>\\r\\n\\t\\t\\t\\t\\t\\t\\t\\t\\t\\t<span onclick=\"app.toggleItemToDo(this,event);\" class=\"item-button item-button-todo glyphicon glyphicon-pushpin\"></span>\\r\\n\\t\\t\\t\\t\\t\\t\\t\\t\\t\\t<span onclick=\"app.toggleFavoriteItem(this,event);\" class=\"item-button item-button-favorite glyphicon glyphicon-heart\"></span>\\r\\n\\t\\t\\t\\t\\t\\t\\t\\t\\t</div>\\r\\n\\t\\t\\t\\t\\t\\t\\t\\t\\t<div class=\"item-image-wrapper\">\\r\\n\\t\\t\\t\\t\\t\\t\\t\\t\\t\\t<img class=\"lazy-load\" onerror=\"ImageLoadError(this)\" data-src=\"/f/items/9734a8ae-302f-4663-a192-46d7274836ba.jpg\" src=\"/i/loading.png\" alt=\"Sunflower (Spider-Man: Into the Spider-Verse) - Post Malone &amp;amp; Swae Lee\" />\\r\\n\\t\\t\\t\\t\\t\\t\\t\\t\\t</div>\\r\\n\\t\\t\\t\\t\\t\\t\\t\\t\\t<div class=\"item-name\">\\r\\n\\t\\t\\t\\t\\t\\t\\t\\t\\t\\tSunflower (Spider-Man: Into the Spider-Verse) - Post Malone &amp; Swae Lee\\r\\n\\t\\t\\t\\t\\t\\t\\t\\t\\t</div>\\r\\n\\t\\t\\t\\t\\t\\t\\t\\t\\t<div class=\"item-checkbox\"></div>\\r\\n\\t\\t\\t\\t\\t\\t\\t\\t\\t\\r\\n\\t\\t\\t\\t\\t\\t\\t\\t</div>\\r\\n\\t\\t\\t\\t\\t\\t\\t</div>\\r\\n\\t\\t\\t\\t\\t\\t\\t\\r\\n\\t\\t\\t\\t\\t\\t\\r\\n\\t\\t\\t\\t\\t\\t\\t<div class=\"list-item view-small-image \"\\r\\n\\t\\t\\t\\t\\t\\t\\t\\tdata-item-id=\"1963596\">\\r\\n\\t\\t\\t\\t\\t\\t\\t\\t<div class=\"item-click-area\">\\r\\n\\t\\t\\t\\t\\t\\t\\t\\t\\t<div class=\"item-top\">\\r\\n\\t\\t\\t\\t\\t\\t\\t\\t\\t\\t<div class=\"item-rank\">35</div>\\r\\n\\t\\t\\t\\t\\t\\t\\t\\t\\t\\t<span onclick=\"app.openItemInfo(this,event);\" class=\"item-button item-button-info glyphicon glyphicon-info-sign\"></span>\\r\\n\\t\\t\\t\\t\\t\\t\\t\\t\\t\\t<span onclick=\"app.toggleItemToDo(this,event);\" class=\"item-button item-button-todo glyphicon glyphicon-pushpin\"></span>\\r\\n\\t\\t\\t\\t\\t\\t\\t\\t\\t\\t<span onclick=\"app.toggleFavoriteItem(this,event);\" class=\"item-button item-button-favorite glyphicon glyphicon-heart\"></span>\\r\\n\\t\\t\\t\\t\\t\\t\\t\\t\\t</div>\\r\\n\\t\\t\\t\\t\\t\\t\\t\\t\\t<div class=\"item-image-wrapper\">\\r\\n\\t\\t\\t\\t\\t\\t\\t\\t\\t\\t<img class=\"lazy-load\" onerror=\"ImageLoadError(this)\" data-src=\"/f/items/63ce7b93-8e54-4250-b8d4-9a487049717f.jpg\" src=\"/i/loading.png\" alt=\"Every Breath You Take - The Police\" />\\r\\n\\t\\t\\t\\t\\t\\t\\t\\t\\t</div>\\r\\n\\t\\t\\t\\t\\t\\t\\t\\t\\t<div class=\"item-name\">\\r\\n\\t\\t\\t\\t\\t\\t\\t\\t\\t\\tEvery Breath You Take - The Police\\r\\n\\t\\t\\t\\t\\t\\t\\t\\t\\t</div>\\r\\n\\t\\t\\t\\t\\t\\t\\t\\t\\t<div class=\"item-checkbox\"></div>\\r\\n\\t\\t\\t\\t\\t\\t\\t\\t\\t\\r\\n\\t\\t\\t\\t\\t\\t\\t\\t</div>\\r\\n\\t\\t\\t\\t\\t\\t\\t</div>\\r\\n\\t\\t\\t\\t\\t\\t\\t\\r\\n\\t\\t\\t\\t\\t\\t\\r\\n\\t\\t\\t\\t\\t\\t\\t<div class=\"list-item view-small-image \"\\r\\n\\t\\t\\t\\t\\t\\t\\t\\tdata-item-id=\"817774\">\\r\\n\\t\\t\\t\\t\\t\\t\\t\\t<div class=\"item-click-area\">\\r\\n\\t\\t\\t\\t\\t\\t\\t\\t\\t<div class=\"item-top\">\\r\\n\\t\\t\\t\\t\\t\\t\\t\\t\\t\\t<div class=\"item-rank\">36</div>\\r\\n\\t\\t\\t\\t\\t\\t\\t\\t\\t\\t<span onclick=\"app.openItemInfo(this,event);\" class=\"item-button item-button-info glyphicon glyphicon-info-sign\"></span>\\r\\n\\t\\t\\t\\t\\t\\t\\t\\t\\t\\t<span onclick=\"app.toggleItemToDo(this,event);\" class=\"item-button item-button-todo glyphicon glyphicon-pushpin\"></span>\\r\\n\\t\\t\\t\\t\\t\\t\\t\\t\\t\\t<span onclick=\"app.toggleFavoriteItem(this,event);\" class=\"item-button item-button-favorite glyphicon glyphicon-heart\"></span>\\r\\n\\t\\t\\t\\t\\t\\t\\t\\t\\t</div>\\r\\n\\t\\t\\t\\t\\t\\t\\t\\t\\t<div class=\"item-image-wrapper\">\\r\\n\\t\\t\\t\\t\\t\\t\\t\\t\\t\\t<img class=\"lazy-load\" onerror=\"ImageLoadError(this)\" data-src=\"/f/items-dl/fcc7f953-1aa6-43c0-850a-3fc253d2716c.jpg\" src=\"/i/loading.png\" alt=\"Somebody That I Used to Know - Gotye Ft Kimbra\" />\\r\\n\\t\\t\\t\\t\\t\\t\\t\\t\\t</div>\\r\\n\\t\\t\\t\\t\\t\\t\\t\\t\\t<div class=\"item-name\">\\r\\n\\t\\t\\t\\t\\t\\t\\t\\t\\t\\tSomebody That I Used to Know - Gotye Ft Kimbra\\r\\n\\t\\t\\t\\t\\t\\t\\t\\t\\t</div>\\r\\n\\t\\t\\t\\t\\t\\t\\t\\t\\t<div class=\"item-checkbox\"></div>\\r\\n\\t\\t\\t\\t\\t\\t\\t\\t\\t\\r\\n\\t\\t\\t\\t\\t\\t\\t\\t</div>\\r\\n\\t\\t\\t\\t\\t\\t\\t</div>\\r\\n\\t\\t\\t\\t\\t\\t\\t\\r\\n\\t\\t\\t\\t\\t\\t\\r\\n\\t\\t\\t\\t\\t\\t\\t<div class=\"list-item view-small-image \"\\r\\n\\t\\t\\t\\t\\t\\t\\t\\tdata-item-id=\"2939585\">\\r\\n\\t\\t\\t\\t\\t\\t\\t\\t<div class=\"item-click-area\">\\r\\n\\t\\t\\t\\t\\t\\t\\t\\t\\t<div class=\"item-top\">\\r\\n\\t\\t\\t\\t\\t\\t\\t\\t\\t\\t<div class=\"item-rank\">37</div>\\r\\n\\t\\t\\t\\t\\t\\t\\t\\t\\t\\t<span onclick=\"app.openItemInfo(this,event);\" class=\"item-button item-button-info glyphicon glyphicon-info-sign\"></span>\\r\\n\\t\\t\\t\\t\\t\\t\\t\\t\\t\\t<span onclick=\"app.toggleItemToDo(this,event);\" class=\"item-button item-button-todo glyphicon glyphicon-pushpin\"></span>\\r\\n\\t\\t\\t\\t\\t\\t\\t\\t\\t\\t<span onclick=\"app.toggleFavoriteItem(this,event);\" class=\"item-button item-button-favorite glyphicon glyphicon-heart\"></span>\\r\\n\\t\\t\\t\\t\\t\\t\\t\\t\\t</div>\\r\\n\\t\\t\\t\\t\\t\\t\\t\\t\\t<div class=\"item-image-wrapper\">\\r\\n\\t\\t\\t\\t\\t\\t\\t\\t\\t\\t<img class=\"lazy-load\" onerror=\"ImageLoadError(this)\" data-src=\"/f/items/8d634639-b4c6-4584-9a1a-8a636a940066.jpg\" src=\"/i/loading.png\" alt=\"Luis Fonsi Ft. Daddy Yankee and Justin Bieber - Despacito (Remix)\" />\\r\\n\\t\\t\\t\\t\\t\\t\\t\\t\\t</div>\\r\\n\\t\\t\\t\\t\\t\\t\\t\\t\\t<div class=\"item-name\">\\r\\n\\t\\t\\t\\t\\t\\t\\t\\t\\t\\tLuis Fonsi Ft. Daddy Yankee and Justin Bieber - Despacito (Remix)\\r\\n\\t\\t\\t\\t\\t\\t\\t\\t\\t</div>\\r\\n\\t\\t\\t\\t\\t\\t\\t\\t\\t<div class=\"item-checkbox\"></div>\\r\\n\\t\\t\\t\\t\\t\\t\\t\\t\\t\\r\\n\\t\\t\\t\\t\\t\\t\\t\\t</div>\\r\\n\\t\\t\\t\\t\\t\\t\\t</div>\\r\\n\\t\\t\\t\\t\\t\\t\\t\\r\\n\\t\\t\\t\\t\\t\\t\\r\\n\\t\\t\\t\\t\\t\\t\\t<div class=\"list-item view-small-image \"\\r\\n\\t\\t\\t\\t\\t\\t\\t\\tdata-item-id=\"2369178\">\\r\\n\\t\\t\\t\\t\\t\\t\\t\\t<div class=\"item-click-area\">\\r\\n\\t\\t\\t\\t\\t\\t\\t\\t\\t<div class=\"item-top\">\\r\\n\\t\\t\\t\\t\\t\\t\\t\\t\\t\\t<div class=\"item-rank\">38</div>\\r\\n\\t\\t\\t\\t\\t\\t\\t\\t\\t\\t<span onclick=\"app.openItemInfo(this,event);\" class=\"item-button item-button-info glyphicon glyphicon-info-sign\"></span>\\r\\n\\t\\t\\t\\t\\t\\t\\t\\t\\t\\t<span onclick=\"app.toggleItemToDo(this,event);\" class=\"item-button item-button-todo glyphicon glyphicon-pushpin\"></span>\\r\\n\\t\\t\\t\\t\\t\\t\\t\\t\\t\\t<span onclick=\"app.toggleFavoriteItem(this,event);\" class=\"item-button item-button-favorite glyphicon glyphicon-heart\"></span>\\r\\n\\t\\t\\t\\t\\t\\t\\t\\t\\t</div>\\r\\n\\t\\t\\t\\t\\t\\t\\t\\t\\t<div class=\"item-image-wrapper\">\\r\\n\\t\\t\\t\\t\\t\\t\\t\\t\\t\\t<img class=\"lazy-load\" onerror=\"ImageLoadError(this)\" data-src=\"/f/items/1f183d0a-34a4-4c72-a427-a49cd250e365.jpg\" src=\"/i/loading.png\" alt=\"Flashdance...What a Feeling - Irene Cara\" />\\r\\n\\t\\t\\t\\t\\t\\t\\t\\t\\t</div>\\r\\n\\t\\t\\t\\t\\t\\t\\t\\t\\t<div class=\"item-name\">\\r\\n\\t\\t\\t\\t\\t\\t\\t\\t\\t\\tFlashdance...What a Feeling - Irene Cara\\r\\n\\t\\t\\t\\t\\t\\t\\t\\t\\t</div>\\r\\n\\t\\t\\t\\t\\t\\t\\t\\t\\t<div class=\"item-checkbox\"></div>\\r\\n\\t\\t\\t\\t\\t\\t\\t\\t\\t\\r\\n\\t\\t\\t\\t\\t\\t\\t\\t</div>\\r\\n\\t\\t\\t\\t\\t\\t\\t</div>\\r\\n\\t\\t\\t\\t\\t\\t\\t\\r\\n\\t\\t\\t\\t\\t\\t\\r\\n\\t\\t\\t\\t\\t\\t\\t<div class=\"list-item view-small-image \"\\r\\n\\t\\t\\t\\t\\t\\t\\t\\tdata-item-id=\"2375970\">\\r\\n\\t\\t\\t\\t\\t\\t\\t\\t<div class=\"item-click-area\">\\r\\n\\t\\t\\t\\t\\t\\t\\t\\t\\t<div class=\"item-top\">\\r\\n\\t\\t\\t\\t\\t\\t\\t\\t\\t\\t<div class=\"item-rank\">39</div>\\r\\n\\t\\t\\t\\t\\t\\t\\t\\t\\t\\t<span onclick=\"app.openItemInfo(this,event);\" class=\"item-button item-button-info glyphicon glyphicon-info-sign\"></span>\\r\\n\\t\\t\\t\\t\\t\\t\\t\\t\\t\\t<span onclick=\"app.toggleItemToDo(this,event);\" class=\"item-button item-button-todo glyphicon glyphicon-pushpin\"></span>\\r\\n\\t\\t\\t\\t\\t\\t\\t\\t\\t\\t<span onclick=\"app.toggleFavoriteItem(this,event);\" class=\"item-button item-button-favorite glyphicon glyphicon-heart\"></span>\\r\\n\\t\\t\\t\\t\\t\\t\\t\\t\\t</div>\\r\\n\\t\\t\\t\\t\\t\\t\\t\\t\\t<div class=\"item-image-wrapper\">\\r\\n\\t\\t\\t\\t\\t\\t\\t\\t\\t\\t<img class=\"lazy-load\" onerror=\"ImageLoadError(this)\" data-src=\"/f/items/5a30c637-e8b9-40b0-9717-a3e2ce124e58.jpg\" src=\"/i/loading.png\" alt=\"Rolling in the Deep - Adele\" />\\r\\n\\t\\t\\t\\t\\t\\t\\t\\t\\t</div>\\r\\n\\t\\t\\t\\t\\t\\t\\t\\t\\t<div class=\"item-name\">\\r\\n\\t\\t\\t\\t\\t\\t\\t\\t\\t\\tRolling in the Deep - Adele\\r\\n\\t\\t\\t\\t\\t\\t\\t\\t\\t</div>\\r\\n\\t\\t\\t\\t\\t\\t\\t\\t\\t<div class=\"item-checkbox\"></div>\\r\\n\\t\\t\\t\\t\\t\\t\\t\\t\\t\\r\\n\\t\\t\\t\\t\\t\\t\\t\\t</div>\\r\\n\\t\\t\\t\\t\\t\\t\\t</div>\\r\\n\\t\\t\\t\\t\\t\\t\\t\\r\\n\\t\\t\\t\\t\\t\\t\\r\\n\\t\\t\\t\\t\\t\\t\\t<div class=\"list-item view-small-image \"\\r\\n\\t\\t\\t\\t\\t\\t\\t\\tdata-item-id=\"2100291\">\\r\\n\\t\\t\\t\\t\\t\\t\\t\\t<div class=\"item-click-area\">\\r\\n\\t\\t\\t\\t\\t\\t\\t\\t\\t<div class=\"item-top\">\\r\\n\\t\\t\\t\\t\\t\\t\\t\\t\\t\\t<div class=\"item-rank\">40</div>\\r\\n\\t\\t\\t\\t\\t\\t\\t\\t\\t\\t<span onclick=\"app.openItemInfo(this,event);\" class=\"item-button item-button-info glyphicon glyphicon-info-sign\"></span>\\r\\n\\t\\t\\t\\t\\t\\t\\t\\t\\t\\t<span onclick=\"app.toggleItemToDo(this,event);\" class=\"item-button item-button-todo glyphicon glyphicon-pushpin\"></span>\\r\\n\\t\\t\\t\\t\\t\\t\\t\\t\\t\\t<span onclick=\"app.toggleFavoriteItem(this,event);\" class=\"item-button item-button-favorite glyphicon glyphicon-heart\"></span>\\r\\n\\t\\t\\t\\t\\t\\t\\t\\t\\t</div>\\r\\n\\t\\t\\t\\t\\t\\t\\t\\t\\t<div class=\"item-image-wrapper\">\\r\\n\\t\\t\\t\\t\\t\\t\\t\\t\\t\\t<img class=\"lazy-load\" onerror=\"ImageLoadError(this)\" data-src=\"/f/items/b96f7073-ac85-46d8-ac52-f550c38ca024.jpg\" src=\"/i/loading.png\" alt=\"Bobby Lewis - Tossin&amp;#39; and Turnin&amp;#39;\" />\\r\\n\\t\\t\\t\\t\\t\\t\\t\\t\\t</div>\\r\\n\\t\\t\\t\\t\\t\\t\\t\\t\\t<div class=\"item-name\">\\r\\n\\t\\t\\t\\t\\t\\t\\t\\t\\t\\tBobby Lewis - Tossin&#39; and Turnin&#39;\\r\\n\\t\\t\\t\\t\\t\\t\\t\\t\\t</div>\\r\\n\\t\\t\\t\\t\\t\\t\\t\\t\\t<div class=\"item-checkbox\"></div>\\r\\n\\t\\t\\t\\t\\t\\t\\t\\t\\t\\r\\n\\t\\t\\t\\t\\t\\t\\t\\t</div>\\r\\n\\t\\t\\t\\t\\t\\t\\t</div>\\r\\n\\t\\t\\t\\t\\t\\t\\t\\r\\n\\t\\t\\t\\t\\t\\t</div>\\r\\n\\r\\n\\t\\t\\t\\t\\r\\n\\t\\t\\t\\t\\t<div class=\"pageButtons  pageButtons-showNext\">\\r\\n\\t\\t\\t\\t\\t\\t<div class=\"pageButtons-page\">\\r\\n\\t\\t\\t\\t\\t\\t\\tPage 1 of 25\\r\\n\\t\\t\\t\\t\\t\\t</div>\\r\\n\\t\\t\\t\\t\\t\\t<button type=\"button\" class=\"btn btn-default btn-lg pageButtons-previous\"><span class=\"glyphicon glyphicon-arrow-left\"></span> Previous</button>\\r\\n\\t\\t\\t\\t\\t\\t<button type=\"button\" class=\"btn btn-primary btn-lg pageButtons-next\">Next Page <span class=\"glyphicon glyphicon-arrow-right\"></span></button>\\r\\n\\t\\t\\t\\t\\t</div>\\r\\n\\r\\n\\t\\t\\t\\t\\t\\r\\n\\r\\n\\t\\t\\t\\t</div>\\r\\n\\r\\n\\t\\t\\t\\t\\r\\n\\t\\t\\t\\t<div class=\"checklist-itemsSectionRight\">\\r\\n\\t\\t\\t\\t\\t<span class=\"ad-wrapper\"><ins class=\"adsbygoogle ad-skyscraper visible-md visible-lg\"\\r\\n\\tstyle=\"display:block\"\\r\\n\\tdata-ad-client=\"ca-pub-9310224305865624\"\\r\\n\\tdata-ad-slot=\"9245481280\"\\r\\n\\tdata-ad-format=\"auto\"\\r\\n\\tdata-full-width-responsive=\"false\"></ins><script>(adsbygoogle = window.adsbygoogle || []).push({});</script></span>\\r\\n\\t\\t\\t\\t\\t\\r\\n\\t\\t\\t\\t</div>\\r\\n\\t\\t\\t\\t\\r\\n\\r\\n\\r\\n\\t\\t\\t</div>\\r\\n\\r\\n\\t\\t\\t<div class=\"cb\" id=\"divEndListItems\"></div>\\r\\n\\t\\t\\r\\n\\t\\t</div>\\r\\n\\r\\n\\t\\t\\r\\n\\r\\n\\t\\t\\r\\n\\r\\n\\t\\t<div class=\"checklistScore\">\\r\\n\\t\\t\\t<div class=\"checklistScore-content shadow-4\">\\r\\n\\t\\t\\t\\t<div class=\"checklistScore-top\">\\r\\n\\t\\t\\t\\t\\t<span class=\"checklistScore-score\"></span>\\r\\n\\t\\t\\t\\t\\t<button type=\"button\" class=\"btn btn-xs btn-primary checklistScore-viewDetails\" onclick=\"checklist.viewScoreDetailsClick();\">\\r\\n\\t\\t\\t\\t\\t\\tshow results\\r\\n\\t\\t\\t\\t\\t</button>\\r\\n\\t\\t\\t\\t\\t<button type=\"button\" class=\"btn btn-xs btn-primary checklistScore-save\" onclick=\"checklist.saveClick();\">\\r\\n\\t\\t\\t\\t\\t\\tsave\\r\\n\\t\\t\\t\\t\\t</button>\\r\\n\\t\\t\\t\\t</div>\\r\\n\\t\\t\\t\\t<div class=\"checklistScore-progress\">\\r\\n\\t\\t\\t\\t\\t<div class=\"checklistScore-progressBlue\"></div>\\r\\n\\t\\t\\t\\t\\t<span class=\"checklistScore-message\">\\r\\n\\t\\t\\t\\t\\t\\tClick things you\\'ve done\\r\\n\\t\\t\\t\\t\\t</span>\\r\\n\\t\\t\\t\\t\\t<span class=\"glyphicon glyphicon-trash checklistScore-delete\" onclick=\"app.openModal(\\'modalDeleteScore\\');\"></span>\\r\\n\\t\\t\\t\\t</div>\\r\\n\\t\\t\\t</div>\\r\\n\\t\\t</div>\\r\\n\\r\\n\\t</div>\\r\\n\\r\\n\\r\\n\\r\\n\\t\\r\\n\\t\\r\\n\\r\\n\\t<div class=\"modal\" id=\"modalDeleteScore\" role=\"dialog\" aria-hidden=\"true\" onclick=\"app.closeModal(event);\">\\r\\n\\t\\t<div class=\"modal-content modal-sm\" style=\"\">\\r\\n\\t\\t\\t<div class=\"modal-header\">\\r\\n\\t\\t\\t\\t<span class=\"close\" onclick=\"app.closeModal();\"></span>\\r\\n\\t\\t\\t\\t<h3>Confirm Delete Score</h3>\\r\\n\\t\\t\\t</div>\\r\\n\\t\\t\\t<div class=\"modal-body\">\\r\\n\\t\\t\\t\\t<div class=\"mmm\">\\r\\n\\t\\t\\t\\t\\tAre you sure you want to delete your score and checked items on this list? This cannot be undone.\\r\\n\\t\\t\\t\\t</div>\\r\\n\\t\\t\\t\\t<button type=\"button\" class=\"btn btn-default\" onclick=\"app.closeModal();\">cancel</button>\\r\\n\\t\\t\\t\\t<button type=\"button\" class=\"btn btn-danger l\" onclick=\"checklist.deleteClick();\">delete my score</button>\\r\\n\\t\\t\\t</div>\\r\\n\\t\\t</div>\\r\\n\\t</div>\\r\\n\\r\\n\\r\\n\\t\\t\\t</div>\\r\\n\\t\\r\\n\\t\\t\\t\\r\\n\\r\\n<div class=\"content listsMini\" data-category=\"16\">\\r\\n\\t<div class=\"h2 m\">\\r\\n\\t\\tTrending Other Lists\\r\\n\\t</div>\\r\\n\\t<div id=\"MainContent_listsMini_listRepeater_repeater\" class=\"list-repeater clearfix\" >\\r\\n\\t\\t<div class=\"list-repeater-list \" data-list-id=\"16697\">\\r\\n\\t\\t\\t<a class=\"listCard\" href=\"/50-things-ive-done\" >\\r\\n\\t\\t\\t\\t<div class=\"list-image-wrapper\"><img class=\"lazy-load\" alt=\"50 Things I&amp;#39;ve Done\" onerror=\"ImageLoadError(this)\" data-src=\"/f/lists-330/ce467872-3616-44f1-bad6-ae524b9f4eab.jpg\" src=\"/i/b.png\" /></div>\\r\\n\\t\\t\\t\\t<div class=\"list-name\">50 Things I&#39;ve Done</div>\\r\\n\\t\\t\\t\\t<div class=\"list-repeater-info\">\\r\\n\\t\\t\\t\\t\\t<div class=\"list-repeater-info-left\">\\r\\n\\t\\t\\t\\t\\t\\t<span class=\"glyphicon glyphicon-user\"></span> 164,545\\r\\n\\t\\t\\t\\t\\t</div>\\r\\n\\t\\t\\t\\t\\t<div class=\"list-repeater-info-middle\">\\r\\n\\t\\t\\t\\t\\t\\t\\r\\n\\t\\t\\t\\t\\t</div>\\r\\n\\t\\t\\t\\t\\t<div class=\"list-repeater-info-right\">\\r\\n\\t\\t\\t\\t\\t\\t<span class=\"glyphicon glyphicon-th-large \"></span> 50\\r\\n\\t\\t\\t\\t\\t</div>\\r\\n\\t\\t\\t\\t</div>\\r\\n\\t\\t\\t\\t\\r\\n\\t\\t\\t</a>\\r\\n\\t\\t</div>\\r\\n\\t\\t\\r\\n\\t\\r\\n\\t\\t<div class=\"list-repeater-list \" data-list-id=\"347242\">\\r\\n\\t\\t\\t<a class=\"listCard\" href=\"/50-most-famous-cartoon-characters\" >\\r\\n\\t\\t\\t\\t<div class=\"list-image-wrapper\"><img class=\"lazy-load\" alt=\"50 Most Famous Cartoon Characters\" onerror=\"ImageLoadError(this)\" data-src=\"/f/lists-330/406bd1a6-1237-4fa1-a661-96973edc69d4.jpg\" src=\"/i/b.png\" /></div>\\r\\n\\t\\t\\t\\t<div class=\"list-name\">50 Most Famous Cartoon Characters</div>\\r\\n\\t\\t\\t\\t<div class=\"list-repeater-info\">\\r\\n\\t\\t\\t\\t\\t<div class=\"list-repeater-info-left\">\\r\\n\\t\\t\\t\\t\\t\\t<span class=\"glyphicon glyphicon-user\"></span> 786\\r\\n\\t\\t\\t\\t\\t</div>\\r\\n\\t\\t\\t\\t\\t<div class=\"list-repeater-info-middle\">\\r\\n\\t\\t\\t\\t\\t\\t\\r\\n\\t\\t\\t\\t\\t</div>\\r\\n\\t\\t\\t\\t\\t<div class=\"list-repeater-info-right\">\\r\\n\\t\\t\\t\\t\\t\\t<span class=\"glyphicon glyphicon-th-large \"></span> 50\\r\\n\\t\\t\\t\\t\\t</div>\\r\\n\\t\\t\\t\\t</div>\\r\\n\\t\\t\\t\\t\\r\\n\\t\\t\\t</a>\\r\\n\\t\\t</div>\\r\\n\\t\\t\\r\\n\\t\\r\\n\\t\\t<div class=\"list-repeater-list \" data-list-id=\"210198\">\\r\\n\\t\\t\\t<a class=\"listCard\" href=\"/if-youve-been-to-1752-of-these-stores-then-you\" >\\r\\n\\t\\t\\t\\t<div class=\"list-image-wrapper\"><img class=\"lazy-load\" alt=\"If You&amp;#39;ve Been to 15/49 of These Stores Then You Are Definitely Over 25\" onerror=\"ImageLoadError(this)\" data-src=\"/f/lists-330/97299aa7-1b80-47a1-b8c3-c3b979086f98.jpg\" src=\"/i/b.png\" /></div>\\r\\n\\t\\t\\t\\t<div class=\"list-name\">If You&#39;ve Been to 15/49 of These Stores Then You Are Definitely Over 25</div>\\r\\n\\t\\t\\t\\t<div class=\"list-repeater-info\">\\r\\n\\t\\t\\t\\t\\t<div class=\"list-repeater-info-left\">\\r\\n\\t\\t\\t\\t\\t\\t<span class=\"glyphicon glyphicon-user\"></span> 17,981\\r\\n\\t\\t\\t\\t\\t</div>\\r\\n\\t\\t\\t\\t\\t<div class=\"list-repeater-info-middle\">\\r\\n\\t\\t\\t\\t\\t\\t\\r\\n\\t\\t\\t\\t\\t</div>\\r\\n\\t\\t\\t\\t\\t<div class=\"list-repeater-info-right\">\\r\\n\\t\\t\\t\\t\\t\\t<span class=\"glyphicon glyphicon-th-large \"></span> 49\\r\\n\\t\\t\\t\\t\\t</div>\\r\\n\\t\\t\\t\\t</div>\\r\\n\\t\\t\\t\\t\\r\\n\\t\\t\\t</a>\\r\\n\\t\\t</div>\\r\\n\\t\\t\\r\\n\\t\\r\\n\\t\\t<div class=\"list-repeater-list \" data-list-id=\"146266\">\\r\\n\\t\\t\\t<a class=\"listCard\" href=\"/200-most-famous-people-of-all-time\" >\\r\\n\\t\\t\\t\\t<div class=\"list-image-wrapper\"><img class=\"lazy-load\" alt=\"200 Most Famous People of All Time\" onerror=\"ImageLoadError(this)\" data-src=\"/f/lists-330/e519d7f7-5271-4808-a296-f6ceeca9d1b6.jpg\" src=\"/i/b.png\" /></div>\\r\\n\\t\\t\\t\\t<div class=\"list-name\">200 Most Famous People of All Time</div>\\r\\n\\t\\t\\t\\t<div class=\"list-repeater-info\">\\r\\n\\t\\t\\t\\t\\t<div class=\"list-repeater-info-left\">\\r\\n\\t\\t\\t\\t\\t\\t<span class=\"glyphicon glyphicon-user\"></span> 73,561\\r\\n\\t\\t\\t\\t\\t</div>\\r\\n\\t\\t\\t\\t\\t<div class=\"list-repeater-info-middle\">\\r\\n\\t\\t\\t\\t\\t\\t\\r\\n\\t\\t\\t\\t\\t</div>\\r\\n\\t\\t\\t\\t\\t<div class=\"list-repeater-info-right\">\\r\\n\\t\\t\\t\\t\\t\\t<span class=\"glyphicon glyphicon-th-large \"></span> 200\\r\\n\\t\\t\\t\\t\\t</div>\\r\\n\\t\\t\\t\\t</div>\\r\\n\\t\\t\\t\\t\\r\\n\\t\\t\\t</a>\\r\\n\\t\\t</div>\\r\\n\\t\\t\\r\\n\\t\\r\\n\\t\\t<div class=\"list-repeater-list \" data-list-id=\"237723\">\\r\\n\\t\\t\\t<a class=\"listCard\" href=\"/ultimate-list-of-isekai-anime\" >\\r\\n\\t\\t\\t\\t<div class=\"list-image-wrapper\"><img class=\"lazy-load\" alt=\"Ultimate List of Isekai Anime\" onerror=\"ImageLoadError(this)\" data-src=\"/f/lists-330/889fb659-ff87-4047-a8e8-6b21408cc840.jpg\" src=\"/i/b.png\" /></div>\\r\\n\\t\\t\\t\\t<div class=\"list-name\">Ultimate List of Isekai Anime</div>\\r\\n\\t\\t\\t\\t<div class=\"list-repeater-info\">\\r\\n\\t\\t\\t\\t\\t<div class=\"list-repeater-info-left\">\\r\\n\\t\\t\\t\\t\\t\\t<span class=\"glyphicon glyphicon-user\"></span> 68,836\\r\\n\\t\\t\\t\\t\\t</div>\\r\\n\\t\\t\\t\\t\\t<div class=\"list-repeater-info-middle\">\\r\\n\\t\\t\\t\\t\\t\\t\\r\\n\\t\\t\\t\\t\\t</div>\\r\\n\\t\\t\\t\\t\\t<div class=\"list-repeater-info-right\">\\r\\n\\t\\t\\t\\t\\t\\t<span class=\"glyphicon glyphicon-th-large \"></span> 43\\r\\n\\t\\t\\t\\t\\t</div>\\r\\n\\t\\t\\t\\t</div>\\r\\n\\t\\t\\t\\t\\r\\n\\t\\t\\t</a>\\r\\n\\t\\t</div>\\r\\n\\t\\t\\r\\n\\t\\r\\n\\t\\t<div class=\"list-repeater-list \" data-list-id=\"76089\">\\r\\n\\t\\t\\t<a class=\"listCard\" href=\"/things-you-should-do-before-you-die\" >\\r\\n\\t\\t\\t\\t<div class=\"list-image-wrapper\"><img class=\"lazy-load\" alt=\"Things You Should Do Before You Die\" onerror=\"ImageLoadError(this)\" data-src=\"/f/lists-330/22786de8-ed2d-47e4-bf7e-af393c2a32c4.jpg\" src=\"/i/b.png\" /></div>\\r\\n\\t\\t\\t\\t<div class=\"list-name\">Things You Should Do Before You Die</div>\\r\\n\\t\\t\\t\\t<div class=\"list-repeater-info\">\\r\\n\\t\\t\\t\\t\\t<div class=\"list-repeater-info-left\">\\r\\n\\t\\t\\t\\t\\t\\t<span class=\"glyphicon glyphicon-user\"></span> 29,267\\r\\n\\t\\t\\t\\t\\t</div>\\r\\n\\t\\t\\t\\t\\t<div class=\"list-repeater-info-middle\">\\r\\n\\t\\t\\t\\t\\t\\t\\r\\n\\t\\t\\t\\t\\t</div>\\r\\n\\t\\t\\t\\t\\t<div class=\"list-repeater-info-right\">\\r\\n\\t\\t\\t\\t\\t\\t<span class=\"glyphicon glyphicon-th-large \"></span> 355\\r\\n\\t\\t\\t\\t\\t</div>\\r\\n\\t\\t\\t\\t</div>\\r\\n\\t\\t\\t\\t\\r\\n\\t\\t\\t</a>\\r\\n\\t\\t</div>\\r\\n\\t\\t\\r\\n\\t</div>\\r\\n\\t<button type=\"button\" class=\"btn btn-primary btn-lg listsMini-button\" onclick=\"listMaster.loadMoreLists(this);\"><span class=\"glyphicon glyphicon-refresh\"></span> Load More Other Lists</button>\\r\\n</div>\\r\\n\\r\\n\\t\\t\\t<img src=\"/i/cb-bg-checked.png\" class=\"hidden\" />\\r\\n\\t\\r\\n\\t\\t</div>\\r\\n\\r\\n\\t</div>\\r\\n\\r\\n\\r\\n\\r\\n\\t\\t\\t<div class=\"hhhh cb\"></div>\\r\\n\\r\\n\\t\\t\\t\\r\\n\\t\\t\\t<footer>\\r\\n\\t\\t\\t\\t<div class=\"content-wrapper\">\\r\\n\\t\\t\\t\\t\\t<div class=\"social\">\\r\\n\\t\\t\\t\\t\\t\\t<a href=\"https://www.facebook.com/listchallenges\"><i class=\"svgIcon \"><svg><use xlink:href=\"/i/icons.svg#icon-facebook-circled\"></use></svg></i></a>\\r\\n\\t\\t\\t\\t\\t\\t<a href=\"https://www.pinterest.com/listchallenges\"><i class=\"svgIcon \"><svg><use xlink:href=\"/i/icons.svg#icon-pinterest-logo\"></use></svg></i></a>\\r\\n\\t\\t\\t\\t\\t\\t\\r\\n\\t\\t\\t\\t\\t\\t<a href=\"https://www.youtube.com/channel/UC2nCmL5P2aH3KDYiNmJGljw\"><i class=\"svgIcon \"><svg><use xlink:href=\"/i/icons.svg#icon-youtube-play-button-logo\"></use></svg></i></a>\\r\\n\\t\\t\\t\\t\\t</div>\\r\\n\\t\\t\\t\\t\\t<div class=\"text\">\\r\\n\\t\\t\\t\\t\\t\\t<a href=\"/subscribe\">Newsletter</a> &middot;\\r\\n\\t\\t\\t\\t\\t\\t<a href=\"/help\">Help/Contact</a> &middot;\\r\\n\\t\\t\\t\\t\\t\\t<a href=\"/privacy\">Privacy</a> &middot;\\r\\n\\t\\t\\t\\t\\t\\t<a href=\"/contact/copyright\">Copyright&nbsp;Claim</a>&nbsp;&nbsp;\\r\\n\\t\\t\\t\\t\\t\\t<div class=\"hidden-lg\"></div>\\r\\n\\t\\t\\t\\t\\t\\t&copy;&nbsp;2021 App Spring, Inc.\\r\\n\\t\\t\\t\\t\\t\\t&middot;\\r\\n\\t\\t\\t\\t\\t\\tThis product uses the <a href=\"https://www.themoviedb.org\" target=\"_blank\">TMDb&nbsp;API</a> but is not endorsed or certified by TMDb.\\r\\n\\t\\t\\t\\t\\t</div>\\r\\n\\t\\t\\t\\t</div>\\r\\n\\t\\t\\t</footer>\\r\\n\\r\\n\\t\\t\\r\\n</div>\\r\\n\\r\\n\\r\\n\\t\\t\\r\\n\\r\\n\\r\\n\\t\\t\\r\\n\\r\\n\\t\\t\\r\\n\\r\\n\\r\\n\\t\\t\\r\\n\\r\\n\\t\\t<div class=\"modal\" id=\"modalItemInfo\" role=\"dialog\" aria-hidden=\"true\" onclick=\"app.closeModal(event);\">\\r\\n\\t\\t\\t<div class=\"modal-content modal-lg\" style=\"\">\\r\\n\\t\\t\\t\\t<div class=\"modal-header\">\\r\\n\\t\\t\\t\\t\\t<span class=\"close\" onclick=\"app.closeModal();\"></span>\\r\\n\\t\\t\\t\\t\\t<h3>Item Info</h3>\\r\\n\\t\\t\\t\\t</div>\\r\\n\\t\\t\\t\\t<div class=\"modal-body\">\\r\\n\\t\\t\\t\\t</div>\\r\\n\\t\\t\\t</div>\\r\\n\\t\\t</div>\\r\\n\\r\\n\\r\\n\\t\\t\\r\\n\\r\\n\\t\\t<div id=\"cookieBanner\" class=\"master_cookieBanner shadow-24 transitionQuick\">\\r\\n\\t\\t\\t<div class=\"flex-grow1\"></div>\\r\\n\\t\\t\\t<div>\\r\\n\\t\\t\\t\\tThis site uses third party cookies for analytics and advertising.\\r\\n\\t\\t\\t\\t<a class=\"link\" href=\"/privacy\">View Cookie Policy</a>\\r\\n\\t\\t\\t</div>\\r\\n\\t\\t\\t<div>\\r\\n\\t\\t\\t\\t<button type=\"button\" class=\"btn btn-primary btn-sm\" onclick=\"app.cookiePolicyResponse(true, false);\">\\r\\n\\t\\t\\t\\t\\taccept\\r\\n\\t\\t\\t\\t</button>\\r\\n\\t\\t\\t\\t<button type=\"button\" class=\"btn btn-default btn-sm\" onclick=\"app.cookiePolicyResponse(false, false);\">\\r\\n\\t\\t\\t\\t\\treject\\r\\n\\t\\t\\t\\t</button>\\r\\n\\t\\t\\t</div>\\r\\n\\t\\t\\t<div class=\"flex-grow1\"></div>\\r\\n\\t\\t</div>\\r\\n\\r\\n\\r\\n\\t\\t\\r\\n        \\t\\t\\r\\n\\t\\t<script>\\nSERVER_APP = {\\r\\n  \"Version\": \"1.0\",\\r\\n  \"RequiredComponents\": [\\r\\n    \"checklist\",\\r\\n    \"listMaster\",\\r\\n    \"header\"\\r\\n  ],\\r\\n  \"DisplayDebug\": false,\\r\\n  \"IsSoundOn\": false,\\r\\n  \"UserLoggedIn\": false,\\r\\n  \"UserIsAdmin\": false,\\r\\n  \"FirstTimeVisitor\": true\\r\\n};\\nSERVER_PAGE = {\\r\\n  \"HintText\": \"Click things you\\'ve done\",\\r\\n  \"DisableLazyLoad\": true,\\r\\n  \"PageCount\": 25,\\r\\n  \"ThisPageItemCount\": 40,\\r\\n  \"CurrentPage\": 1,\\r\\n  \"IsLastPage\": false,\\r\\n  \"ListPath\": \"/the-top-1000-billboard-hot-100-songs-of-all-time\",\\r\\n  \"ListImageUrl\": \"https://www.listchallenges.com/f/lists/03d144ec-c274-46b3-9d7d-fb174d3b54ea.jpg\",\\r\\n  \"ListItemCount\": 1000,\\r\\n  \"UserCount\": 149,\\r\\n  \"RequiredScores\": [\\r\\n    1,\\r\\n    118,\\r\\n    279,\\r\\n    433,\\r\\n    617\\r\\n  ],\\r\\n  \"AvgScore\": 371,\\r\\n  \"HasListScore\": false,\\r\\n  \"UserListScore\": 0,\\r\\n  \"UserListRankTopPercent\": 0.0,\\r\\n  \"UserListCompleted\": false,\\r\\n  \"ListUrl\": \"https://www.listchallenges.com/the-top-1000-billboard-hot-100-songs-of-all-time\",\\r\\n  \"ListId\": 282076\\r\\n};\\nDomain=\\'www.listchallenges.com\\';Device=\\'desktop\\';LoggedIn=false;\\n</script>\\r\\n\\r\\n\\t\\t<script src=\"https://ajax.googleapis.com/ajax/libs/jquery/3.4.1/jquery.min.js\"></script>\\r\\n\\t\\t\\r\\n\\r\\n\\t\\t<script src=\"/bundles/app-scripts?v=3nsJNY72RS_Gl6WRFAotbvwp8a2GJESYy_mawymveIc1\"></script>\\r\\n\\r\\n\\r\\n\\t\\t\\r\\n\\r\\n\\t\\t<script>\\r\\n\\t\\t\\t// global document ready\\r\\n\\t\\t\\t$(function () {\\r\\n\\t\\t\\t\\tapp.$onInit();\\r\\n\\t\\t\\t\\t//app.$onInitAlways();\\r\\n\\t\\t\\t});\\r\\n\\t\\t</script>\\r\\n\\r\\n\\t\\t\\r\\n\\r\\n\\t\\r\\n\\r\\n\\r\\n\\r\\n\\r\\n\\t\\t\\r\\n\\t\\t\\r\\n\\t\\t\\t<script async src=\"//pagead2.googlesyndication.com/pagead/js/adsbygoogle.js\"></script>\\r\\n\\t\\t\\r\\n\\r\\n\\t\\t\\r\\n\\r\\n\\t</form>\\r\\n\\r\\n</body>\\r\\n</html>'"
      ]
     },
     "execution_count": 5,
     "metadata": {},
     "output_type": "execute_result"
    }
   ],
   "source": [
    "response.content # ugly without beautiful soup"
   ]
  },
  {
   "cell_type": "code",
   "execution_count": 6,
   "metadata": {},
   "outputs": [],
   "source": [
    "soup=BeautifulSoup(response.content, \"html.parser\")"
   ]
  },
  {
   "cell_type": "code",
   "execution_count": 7,
   "metadata": {},
   "outputs": [],
   "source": [
    "# how to scrape multiple pages ? \n",
    "#define a start variable that goes into the url \n",
    "#having looked at what the next page url looks like\n",
    "\n",
    "iterations = range(1,10)"
   ]
  },
  {
   "cell_type": "code",
   "execution_count": 8,
   "metadata": {},
   "outputs": [
    {
     "name": "stdout",
     "output_type": "stream",
     "text": [
      "1\n",
      "2\n",
      "3\n",
      "4\n",
      "5\n",
      "6\n",
      "7\n",
      "8\n",
      "9\n"
     ]
    }
   ],
   "source": [
    "#check the iteration / range works \n",
    "for i in iterations:\n",
    "    print(i)"
   ]
  },
  {
   "cell_type": "code",
   "execution_count": 9,
   "metadata": {},
   "outputs": [],
   "source": [
    "#create the full url string based on the page search \n",
    "#(and test the urls with the iteration)\n",
    "f_url=f\"https://www.listchallenges.com/the-top-1000-billboard-hot-100-songs-of-all-time/list/{i}\""
   ]
  },
  {
   "cell_type": "code",
   "execution_count": 10,
   "metadata": {},
   "outputs": [
    {
     "data": {
      "text/plain": [
       "[1, 2, 3, 4, 5, 6, 7, 8, 9]"
      ]
     },
     "execution_count": 10,
     "metadata": {},
     "output_type": "execute_result"
    }
   ],
   "source": [
    "[i for i in iterations]"
   ]
  },
  {
   "cell_type": "code",
   "execution_count": 11,
   "metadata": {},
   "outputs": [],
   "source": [
    "url_lst=[f\"https://www.listchallenges.com/the-top-1000-billboard-hot-100-songs-of-all-time/list/{i}\" for i in iterations]"
   ]
  },
  {
   "cell_type": "code",
   "execution_count": 12,
   "metadata": {},
   "outputs": [
    {
     "data": {
      "text/plain": [
       "['https://www.listchallenges.com/the-top-1000-billboard-hot-100-songs-of-all-time/list/1',\n",
       " 'https://www.listchallenges.com/the-top-1000-billboard-hot-100-songs-of-all-time/list/2',\n",
       " 'https://www.listchallenges.com/the-top-1000-billboard-hot-100-songs-of-all-time/list/3',\n",
       " 'https://www.listchallenges.com/the-top-1000-billboard-hot-100-songs-of-all-time/list/4',\n",
       " 'https://www.listchallenges.com/the-top-1000-billboard-hot-100-songs-of-all-time/list/5',\n",
       " 'https://www.listchallenges.com/the-top-1000-billboard-hot-100-songs-of-all-time/list/6',\n",
       " 'https://www.listchallenges.com/the-top-1000-billboard-hot-100-songs-of-all-time/list/7',\n",
       " 'https://www.listchallenges.com/the-top-1000-billboard-hot-100-songs-of-all-time/list/8',\n",
       " 'https://www.listchallenges.com/the-top-1000-billboard-hot-100-songs-of-all-time/list/9']"
      ]
     },
     "execution_count": 12,
     "metadata": {},
     "output_type": "execute_result"
    }
   ],
   "source": [
    "#test these to confirm method\n",
    "url_lst"
   ]
  },
  {
   "cell_type": "markdown",
   "metadata": {},
   "source": [
    "### respectful scraping "
   ]
  },
  {
   "cell_type": "code",
   "execution_count": 13,
   "metadata": {},
   "outputs": [],
   "source": [
    "from time import sleep"
   ]
  },
  {
   "cell_type": "code",
   "execution_count": 14,
   "metadata": {},
   "outputs": [
    {
     "name": "stdout",
     "output_type": "stream",
     "text": [
      "0\n",
      "1\n",
      "2\n",
      "3\n",
      "4\n"
     ]
    }
   ],
   "source": [
    "#simple example \n",
    "for i in range(5):\n",
    "    print(i)\n",
    "    sleep(3)"
   ]
  },
  {
   "cell_type": "code",
   "execution_count": 15,
   "metadata": {},
   "outputs": [
    {
     "name": "stdout",
     "output_type": "stream",
     "text": [
      "0\n",
      "i will sleep for 3seconds\n",
      "1\n",
      "i will sleep for 2seconds\n",
      "2\n",
      "i will sleep for 3seconds\n",
      "3\n",
      "i will sleep for 3seconds\n",
      "4\n",
      "i will sleep for 1seconds\n"
     ]
    }
   ],
   "source": [
    "#enhance with random integers \n",
    "from random import randint\n",
    "for i in range(5):\n",
    "    print(i)\n",
    "    wait_time=randint(1,4)\n",
    "    print(\"i will sleep for \"+ str(wait_time) +\"seconds\")\n",
    "    sleep(wait_time)"
   ]
  },
  {
   "cell_type": "markdown",
   "metadata": {},
   "source": [
    "### putting everything together "
   ]
  },
  {
   "cell_type": "code",
   "execution_count": 16,
   "metadata": {},
   "outputs": [
    {
     "name": "stdout",
     "output_type": "stream",
     "text": [
      "Status code: 200\n",
      "Status code: 200\n",
      "Status code: 200\n",
      "Status code: 200\n",
      "Status code: 200\n",
      "Status code: 200\n",
      "Status code: 200\n",
      "Status code: 200\n",
      "Status code: 200\n"
     ]
    }
   ],
   "source": [
    "#we are building everything from scratch here \n",
    "\n",
    "pages= []\n",
    "\n",
    "for i in iterations: \n",
    "    #takes the iteration, turns it into a string (not needed)\n",
    "    start_at = str(i)\n",
    "    #define the url\n",
    "    url= f\"https://www.listchallenges.com/the-top-1000-billboard-hot-100-songs-of-all-time/list/{start_at}\"\n",
    "    # download the url content \n",
    "    response = requests.get(url)\n",
    "    #print status code \n",
    "    print(\"Status code: \"+ str(response.status_code))\n",
    "    #to capture the data and fill in the list\n",
    "    pages.append(response)\n",
    "    #add a respectful nap \n",
    "    wait_time=randint(1,4)\n",
    "    sleep(wait_time)"
   ]
  },
  {
   "cell_type": "code",
   "execution_count": 17,
   "metadata": {},
   "outputs": [],
   "source": [
    "soup=BeautifulSoup(pages[0].content, \"html.parser\")"
   ]
  },
  {
   "cell_type": "markdown",
   "metadata": {},
   "source": [
    "### next steps - tidying up \n",
    "next thing to think about is can we reduce how much useless html we have scraped - maybe its not necessary to store it all in the list ? \n",
    "\n",
    "what we want eventually is title, synopsis, index position in a df"
   ]
  },
  {
   "cell_type": "markdown",
   "metadata": {},
   "source": [
    "- by inspecting the webpage- identify from the html how to get the information we want for the soup\n",
    "\n",
    "- paste selector from a chosen child\n",
    "\n",
    "main > div > div.lister.list.detail.sub-list > div > div:nth-child(1) > div.lister-item-content > h3 > a"
   ]
  },
  {
   "cell_type": "code",
   "execution_count": 18,
   "metadata": {
    "scrolled": true
   },
   "outputs": [
    {
     "data": {
      "text/plain": [
       "[<img alt=\"The Twist - Chubby Checker\" onerror=\"ImageLoadError(this)\" src=\"/f/items/0bb71902-c048-4637-a15f-d615bdb07e07.jpg\"/>,\n",
       " <img alt=\"Smooth - Santana\" onerror=\"ImageLoadError(this)\" src=\"/f/items/b4fcce79-6050-4dfa-b995-74e18310812a.jpg\"/>,\n",
       " <img alt=\"Mack the Knife - Bobby Darin\" onerror=\"ImageLoadError(this)\" src=\"/f/items/9a7fc74a-b09c-4b28-9aef-88d802677101.jpg\"/>,\n",
       " <img alt=\"Mark Ronson, &amp;quot;Uptown Funk&amp;quot; (Feat. Bruno Mars)\" onerror=\"ImageLoadError(this)\" src=\"/f/items/0542a753-6f32-4221-ad5d-c08c0cf342d1.jpg\"/>,\n",
       " <img alt=\"Leann Rimes - How Do I Live\" onerror=\"ImageLoadError(this)\" src=\"/f/items/571422e1-9cb5-4038-ac78-274e022374cb.jpg\"/>,\n",
       " <img alt=\"Party Rock Anthem - LMFAO\" onerror=\"ImageLoadError(this)\" src=\"/f/items/37f1d360-4672-46a1-9508-3212044876f3.jpg\"/>,\n",
       " <img alt=\"Black Eyed Peas - I Gotta Feeling\" onerror=\"ImageLoadError(this)\" src=\"/f/items-dl/abcfa338-af2a-4624-b77f-365250055e70.jpg\"/>,\n",
       " <img alt=\"Macarena (Bayside Boys Mix) - Los Del Rio\" onerror=\"ImageLoadError(this)\" src=\"/f/items/185080dd-192d-4b54-a710-97fcc243d197.jpg\"/>,\n",
       " <img alt=\"Shape of You - Ed Sheeran\" onerror=\"ImageLoadError(this)\" src=\"/f/items/08715ca3-31c2-49b9-944a-b19d94e51864.jpg\"/>,\n",
       " <img alt=\"Physical (Olivia Newton John)\" onerror=\"ImageLoadError(this)\" src=\"/f/items/d8b9a80e-6013-40cf-9ac8-b957ed61d254.jpg\"/>,\n",
       " <img alt=\"Debby Boone - You Light Up My Life\" onerror=\"ImageLoadError(this)\" src=\"/f/items/a07c1e59-93ba-47cb-9a6e-3651458e2343.jpg\"/>,\n",
       " <img alt=\"Hey Jude - The Beatles\" onerror=\"ImageLoadError(this)\" src=\"/f/items/9f493d60-4c82-45d7-afa2-affc1d5e82bf.jpg\"/>,\n",
       " <img alt=\"Closer - The Chainsmokers Ft. Hasley\" class=\"lazy-load\" data-src=\"/f/items/3f2869c5-203a-40c9-b172-5f5af132e417.jpg\" onerror=\"ImageLoadError(this)\" src=\"/i/loading.png\"/>,\n",
       " <img alt=\"We Belong Together - Mariah Carey\" class=\"lazy-load\" data-src=\"/f/items/cde899cf-3029-4cc9-847c-3db2ded1acd2.jpg\" onerror=\"ImageLoadError(this)\" src=\"/i/loading.png\"/>,\n",
       " <img alt=\"Old Town Road (Remix) - Lil Nas X Ft. Billy Ray Cyrus\" class=\"lazy-load\" data-src=\"/f/items/144550d1-e763-4d37-81af-43b544cbac39.jpg\" onerror=\"ImageLoadError(this)\" src=\"/i/loading.png\"/>,\n",
       " <img alt=\"Toni Braxton - Un-Break My Heart\" class=\"lazy-load\" data-src=\"/f/items/f8d97ee6-129d-4ab0-be81-511695d4f4a2.jpg\" onerror=\"ImageLoadError(this)\" src=\"/i/loading.png\"/>,\n",
       " <img alt=\"Usher - Yeah! (Featuring Lil Jon and Ludacris)\" class=\"lazy-load\" data-src=\"/f/items/8b41dd58-1261-49f0-8ec4-62cad151cb14.jpg\" onerror=\"ImageLoadError(this)\" src=\"/i/loading.png\"/>,\n",
       " <img alt=\"Bette Davis Eyes - Kim Carnes\" class=\"lazy-load\" data-src=\"/f/items/b996e678-01ec-4544-badd-46b577ef672e.jpg\" onerror=\"ImageLoadError(this)\" src=\"/i/loading.png\"/>,\n",
       " <img alt=\"Girls Like You - Maroon 5, Cardi B\" class=\"lazy-load\" data-src=\"/f/items/16b2160d-3ae5-4397-8a66-c7ab3a32605a.jpg\" onerror=\"ImageLoadError(this)\" src=\"/i/loading.png\"/>,\n",
       " <img alt=\"Endless Love - Diana Ross and Lionel Richie\" class=\"lazy-load\" data-src=\"/f/items/2f86970e-e705-4ae1-b6a4-dd365d04e86c.jpg\" onerror=\"ImageLoadError(this)\" src=\"/i/loading.png\"/>,\n",
       " <img alt=\"Rod Stewart - Tonight&amp;#39;s the Night\" class=\"lazy-load\" data-src=\"/f/items/1d4079c1-c716-4a18-be91-c71f74403de5.jpg\" onerror=\"ImageLoadError(this)\" src=\"/i/loading.png\"/>,\n",
       " <img alt=\"Foolish Games - Jewel\" class=\"lazy-load\" data-src=\"/f/items/a25133d0-6350-444d-b4d8-fe9759d7caed.jpg\" onerror=\"ImageLoadError(this)\" src=\"/i/loading.png\"/>,\n",
       " <img alt=\"Circles - Post Malone\" class=\"lazy-load\" data-src=\"/f/items/fc28bea8-8358-41b4-a903-ef0e97f313a9.jpg\" onerror=\"ImageLoadError(this)\" src=\"/i/loading.png\"/>,\n",
       " <img alt=\"(Everything I Do) I Do It for You - Bryan Adams\" class=\"lazy-load\" data-src=\"/f/items/4792301c-e934-485d-b11a-584087972cbd.jpg\" onerror=\"ImageLoadError(this)\" src=\"/i/loading.png\"/>,\n",
       " <img alt=\"I&amp;#39;ll Make Love to You - Boyz II Men\" class=\"lazy-load\" data-src=\"/f/items/522cb3ab-85a4-45b9-a005-a6e6263c1bf1.jpg\" onerror=\"ImageLoadError(this)\" src=\"/i/loading.png\"/>,\n",
       " <img alt=\"Percy Faith - Theme From &amp;quot;A Summer Place&amp;quot;\" class=\"lazy-load\" data-src=\"/f/items/f534111f-cec0-470e-b182-d7ab27cfd7f5.jpg\" onerror=\"ImageLoadError(this)\" src=\"/i/loading.png\"/>,\n",
       " <img alt=\"&amp;quot;Le Freak&amp;quot; - Chic\" class=\"lazy-load\" data-src=\"/f/items/e5ccf3ed-e683-4c33-92d0-c74de5befcae.jpg\" onerror=\"ImageLoadError(this)\" src=\"/i/loading.png\"/>,\n",
       " <img alt=\"How Deep Is Your Love - Bee Gees\" class=\"lazy-load\" data-src=\"/f/items/015b9827-e0f5-4f19-a90d-287b883f33d5.jpg\" onerror=\"ImageLoadError(this)\" src=\"/i/loading.png\"/>,\n",
       " <img alt=\"Eye of the Tiger - Survivor\" class=\"lazy-load\" data-src=\"/f/items/6cfaf002-89fb-46b2-b53b-530aca47c10c.jpg\" onerror=\"ImageLoadError(this)\" src=\"/i/loading.png\"/>,\n",
       " <img alt=\"We Found Love - Rihanna Ft Calvin Harris\" class=\"lazy-load\" data-src=\"/f/items/4db7d1d7-3f71-4da5-9814-9692b9f803d1.jpg\" onerror=\"ImageLoadError(this)\" src=\"/i/loading.png\"/>,\n",
       " <img alt=\"Flo Rida Ft. T-Pain - Low\" class=\"lazy-load\" data-src=\"/f/items/4e93bb97-7e5b-4584-a2ba-0b9089e4a451.jpg\" onerror=\"ImageLoadError(this)\" src=\"/i/loading.png\"/>,\n",
       " <img alt=\"I Just Want to Be Your Everything - Andy Gibb\" class=\"lazy-load\" data-src=\"/f/items/7d576ba3-2213-4a83-9100-983291753bff.jpg\" onerror=\"ImageLoadError(this)\" src=\"/i/loading.png\"/>,\n",
       " <img alt=\"Too Close (Next)\" class=\"lazy-load\" data-src=\"/f/items/f79c9c71-24bd-4ec2-b652-fb29a3b4fc2b.jpg\" onerror=\"ImageLoadError(this)\" src=\"/i/loading.png\"/>,\n",
       " <img alt=\"Sunflower (Spider-Man: Into the Spider-Verse) - Post Malone &amp;amp; Swae Lee\" class=\"lazy-load\" data-src=\"/f/items/9734a8ae-302f-4663-a192-46d7274836ba.jpg\" onerror=\"ImageLoadError(this)\" src=\"/i/loading.png\"/>,\n",
       " <img alt=\"Every Breath You Take - The Police\" class=\"lazy-load\" data-src=\"/f/items/63ce7b93-8e54-4250-b8d4-9a487049717f.jpg\" onerror=\"ImageLoadError(this)\" src=\"/i/loading.png\"/>,\n",
       " <img alt=\"Somebody That I Used to Know - Gotye Ft Kimbra\" class=\"lazy-load\" data-src=\"/f/items-dl/fcc7f953-1aa6-43c0-850a-3fc253d2716c.jpg\" onerror=\"ImageLoadError(this)\" src=\"/i/loading.png\"/>,\n",
       " <img alt=\"Luis Fonsi Ft. Daddy Yankee and Justin Bieber - Despacito (Remix)\" class=\"lazy-load\" data-src=\"/f/items/8d634639-b4c6-4584-9a1a-8a636a940066.jpg\" onerror=\"ImageLoadError(this)\" src=\"/i/loading.png\"/>,\n",
       " <img alt=\"Flashdance...What a Feeling - Irene Cara\" class=\"lazy-load\" data-src=\"/f/items/1f183d0a-34a4-4c72-a427-a49cd250e365.jpg\" onerror=\"ImageLoadError(this)\" src=\"/i/loading.png\"/>,\n",
       " <img alt=\"Rolling in the Deep - Adele\" class=\"lazy-load\" data-src=\"/f/items/5a30c637-e8b9-40b0-9717-a3e2ce124e58.jpg\" onerror=\"ImageLoadError(this)\" src=\"/i/loading.png\"/>,\n",
       " <img alt=\"Bobby Lewis - Tossin&amp;#39; and Turnin&amp;#39;\" class=\"lazy-load\" data-src=\"/f/items/b96f7073-ac85-46d8-ac52-f550c38ca024.jpg\" onerror=\"ImageLoadError(this)\" src=\"/i/loading.png\"/>]"
      ]
     },
     "execution_count": 18,
     "metadata": {},
     "output_type": "execute_result"
    }
   ],
   "source": [
    "#you can try changing the nth child number to run down the list 1-50\n",
    "soup.select(\"div:nth-child(2) > img:nth-child(1)\")"
   ]
  },
  {
   "cell_type": "markdown",
   "metadata": {},
   "source": [
    "### putting it all together \n",
    "this is what we need \n",
    "\n",
    "- soup.select(\"div.lister-item-content > h3 > a\")\n",
    "- soup.select(\"div.lister-item-content > p:nth-child(4)\")\n",
    "- soup=BeautifulSoup(pages[0].content, \"html.parser\")"
   ]
  },
  {
   "cell_type": "code",
   "execution_count": 19,
   "metadata": {},
   "outputs": [
    {
     "data": {
      "text/plain": [
       "[<Response [200]>,\n",
       " <Response [200]>,\n",
       " <Response [200]>,\n",
       " <Response [200]>,\n",
       " <Response [200]>,\n",
       " <Response [200]>,\n",
       " <Response [200]>,\n",
       " <Response [200]>,\n",
       " <Response [200]>]"
      ]
     },
     "execution_count": 19,
     "metadata": {},
     "output_type": "execute_result"
    }
   ],
   "source": [
    "# plus ...\n",
    "pages\n",
    "# for every page make a soup\n",
    "# apply select functions\n",
    "# from results extract movies\n",
    "# append to the list titles and synopsis"
   ]
  },
  {
   "cell_type": "code",
   "execution_count": 20,
   "metadata": {},
   "outputs": [
    {
     "data": {
      "text/plain": [
       "[<img alt=\"The Twist - Chubby Checker\" onerror=\"ImageLoadError(this)\" src=\"/f/items/0bb71902-c048-4637-a15f-d615bdb07e07.jpg\"/>,\n",
       " <img alt=\"Smooth - Santana\" onerror=\"ImageLoadError(this)\" src=\"/f/items/b4fcce79-6050-4dfa-b995-74e18310812a.jpg\"/>,\n",
       " <img alt=\"Mack the Knife - Bobby Darin\" onerror=\"ImageLoadError(this)\" src=\"/f/items/9a7fc74a-b09c-4b28-9aef-88d802677101.jpg\"/>,\n",
       " <img alt=\"Mark Ronson, &amp;quot;Uptown Funk&amp;quot; (Feat. Bruno Mars)\" onerror=\"ImageLoadError(this)\" src=\"/f/items/0542a753-6f32-4221-ad5d-c08c0cf342d1.jpg\"/>,\n",
       " <img alt=\"Leann Rimes - How Do I Live\" onerror=\"ImageLoadError(this)\" src=\"/f/items/571422e1-9cb5-4038-ac78-274e022374cb.jpg\"/>,\n",
       " <img alt=\"Party Rock Anthem - LMFAO\" onerror=\"ImageLoadError(this)\" src=\"/f/items/37f1d360-4672-46a1-9508-3212044876f3.jpg\"/>,\n",
       " <img alt=\"Black Eyed Peas - I Gotta Feeling\" onerror=\"ImageLoadError(this)\" src=\"/f/items-dl/abcfa338-af2a-4624-b77f-365250055e70.jpg\"/>,\n",
       " <img alt=\"Macarena (Bayside Boys Mix) - Los Del Rio\" onerror=\"ImageLoadError(this)\" src=\"/f/items/185080dd-192d-4b54-a710-97fcc243d197.jpg\"/>,\n",
       " <img alt=\"Shape of You - Ed Sheeran\" onerror=\"ImageLoadError(this)\" src=\"/f/items/08715ca3-31c2-49b9-944a-b19d94e51864.jpg\"/>,\n",
       " <img alt=\"Physical (Olivia Newton John)\" onerror=\"ImageLoadError(this)\" src=\"/f/items/d8b9a80e-6013-40cf-9ac8-b957ed61d254.jpg\"/>,\n",
       " <img alt=\"Debby Boone - You Light Up My Life\" onerror=\"ImageLoadError(this)\" src=\"/f/items/a07c1e59-93ba-47cb-9a6e-3651458e2343.jpg\"/>,\n",
       " <img alt=\"Hey Jude - The Beatles\" onerror=\"ImageLoadError(this)\" src=\"/f/items/9f493d60-4c82-45d7-afa2-affc1d5e82bf.jpg\"/>,\n",
       " <img alt=\"Closer - The Chainsmokers Ft. Hasley\" class=\"lazy-load\" data-src=\"/f/items/3f2869c5-203a-40c9-b172-5f5af132e417.jpg\" onerror=\"ImageLoadError(this)\" src=\"/i/loading.png\"/>,\n",
       " <img alt=\"We Belong Together - Mariah Carey\" class=\"lazy-load\" data-src=\"/f/items/cde899cf-3029-4cc9-847c-3db2ded1acd2.jpg\" onerror=\"ImageLoadError(this)\" src=\"/i/loading.png\"/>,\n",
       " <img alt=\"Old Town Road (Remix) - Lil Nas X Ft. Billy Ray Cyrus\" class=\"lazy-load\" data-src=\"/f/items/144550d1-e763-4d37-81af-43b544cbac39.jpg\" onerror=\"ImageLoadError(this)\" src=\"/i/loading.png\"/>,\n",
       " <img alt=\"Toni Braxton - Un-Break My Heart\" class=\"lazy-load\" data-src=\"/f/items/f8d97ee6-129d-4ab0-be81-511695d4f4a2.jpg\" onerror=\"ImageLoadError(this)\" src=\"/i/loading.png\"/>,\n",
       " <img alt=\"Usher - Yeah! (Featuring Lil Jon and Ludacris)\" class=\"lazy-load\" data-src=\"/f/items/8b41dd58-1261-49f0-8ec4-62cad151cb14.jpg\" onerror=\"ImageLoadError(this)\" src=\"/i/loading.png\"/>,\n",
       " <img alt=\"Bette Davis Eyes - Kim Carnes\" class=\"lazy-load\" data-src=\"/f/items/b996e678-01ec-4544-badd-46b577ef672e.jpg\" onerror=\"ImageLoadError(this)\" src=\"/i/loading.png\"/>,\n",
       " <img alt=\"Girls Like You - Maroon 5, Cardi B\" class=\"lazy-load\" data-src=\"/f/items/16b2160d-3ae5-4397-8a66-c7ab3a32605a.jpg\" onerror=\"ImageLoadError(this)\" src=\"/i/loading.png\"/>,\n",
       " <img alt=\"Endless Love - Diana Ross and Lionel Richie\" class=\"lazy-load\" data-src=\"/f/items/2f86970e-e705-4ae1-b6a4-dd365d04e86c.jpg\" onerror=\"ImageLoadError(this)\" src=\"/i/loading.png\"/>,\n",
       " <img alt=\"Rod Stewart - Tonight&amp;#39;s the Night\" class=\"lazy-load\" data-src=\"/f/items/1d4079c1-c716-4a18-be91-c71f74403de5.jpg\" onerror=\"ImageLoadError(this)\" src=\"/i/loading.png\"/>,\n",
       " <img alt=\"Foolish Games - Jewel\" class=\"lazy-load\" data-src=\"/f/items/a25133d0-6350-444d-b4d8-fe9759d7caed.jpg\" onerror=\"ImageLoadError(this)\" src=\"/i/loading.png\"/>,\n",
       " <img alt=\"Circles - Post Malone\" class=\"lazy-load\" data-src=\"/f/items/fc28bea8-8358-41b4-a903-ef0e97f313a9.jpg\" onerror=\"ImageLoadError(this)\" src=\"/i/loading.png\"/>,\n",
       " <img alt=\"(Everything I Do) I Do It for You - Bryan Adams\" class=\"lazy-load\" data-src=\"/f/items/4792301c-e934-485d-b11a-584087972cbd.jpg\" onerror=\"ImageLoadError(this)\" src=\"/i/loading.png\"/>,\n",
       " <img alt=\"I&amp;#39;ll Make Love to You - Boyz II Men\" class=\"lazy-load\" data-src=\"/f/items/522cb3ab-85a4-45b9-a005-a6e6263c1bf1.jpg\" onerror=\"ImageLoadError(this)\" src=\"/i/loading.png\"/>,\n",
       " <img alt=\"Percy Faith - Theme From &amp;quot;A Summer Place&amp;quot;\" class=\"lazy-load\" data-src=\"/f/items/f534111f-cec0-470e-b182-d7ab27cfd7f5.jpg\" onerror=\"ImageLoadError(this)\" src=\"/i/loading.png\"/>,\n",
       " <img alt=\"&amp;quot;Le Freak&amp;quot; - Chic\" class=\"lazy-load\" data-src=\"/f/items/e5ccf3ed-e683-4c33-92d0-c74de5befcae.jpg\" onerror=\"ImageLoadError(this)\" src=\"/i/loading.png\"/>,\n",
       " <img alt=\"How Deep Is Your Love - Bee Gees\" class=\"lazy-load\" data-src=\"/f/items/015b9827-e0f5-4f19-a90d-287b883f33d5.jpg\" onerror=\"ImageLoadError(this)\" src=\"/i/loading.png\"/>,\n",
       " <img alt=\"Eye of the Tiger - Survivor\" class=\"lazy-load\" data-src=\"/f/items/6cfaf002-89fb-46b2-b53b-530aca47c10c.jpg\" onerror=\"ImageLoadError(this)\" src=\"/i/loading.png\"/>,\n",
       " <img alt=\"We Found Love - Rihanna Ft Calvin Harris\" class=\"lazy-load\" data-src=\"/f/items/4db7d1d7-3f71-4da5-9814-9692b9f803d1.jpg\" onerror=\"ImageLoadError(this)\" src=\"/i/loading.png\"/>,\n",
       " <img alt=\"Flo Rida Ft. T-Pain - Low\" class=\"lazy-load\" data-src=\"/f/items/4e93bb97-7e5b-4584-a2ba-0b9089e4a451.jpg\" onerror=\"ImageLoadError(this)\" src=\"/i/loading.png\"/>,\n",
       " <img alt=\"I Just Want to Be Your Everything - Andy Gibb\" class=\"lazy-load\" data-src=\"/f/items/7d576ba3-2213-4a83-9100-983291753bff.jpg\" onerror=\"ImageLoadError(this)\" src=\"/i/loading.png\"/>,\n",
       " <img alt=\"Too Close (Next)\" class=\"lazy-load\" data-src=\"/f/items/f79c9c71-24bd-4ec2-b652-fb29a3b4fc2b.jpg\" onerror=\"ImageLoadError(this)\" src=\"/i/loading.png\"/>,\n",
       " <img alt=\"Sunflower (Spider-Man: Into the Spider-Verse) - Post Malone &amp;amp; Swae Lee\" class=\"lazy-load\" data-src=\"/f/items/9734a8ae-302f-4663-a192-46d7274836ba.jpg\" onerror=\"ImageLoadError(this)\" src=\"/i/loading.png\"/>,\n",
       " <img alt=\"Every Breath You Take - The Police\" class=\"lazy-load\" data-src=\"/f/items/63ce7b93-8e54-4250-b8d4-9a487049717f.jpg\" onerror=\"ImageLoadError(this)\" src=\"/i/loading.png\"/>,\n",
       " <img alt=\"Somebody That I Used to Know - Gotye Ft Kimbra\" class=\"lazy-load\" data-src=\"/f/items-dl/fcc7f953-1aa6-43c0-850a-3fc253d2716c.jpg\" onerror=\"ImageLoadError(this)\" src=\"/i/loading.png\"/>,\n",
       " <img alt=\"Luis Fonsi Ft. Daddy Yankee and Justin Bieber - Despacito (Remix)\" class=\"lazy-load\" data-src=\"/f/items/8d634639-b4c6-4584-9a1a-8a636a940066.jpg\" onerror=\"ImageLoadError(this)\" src=\"/i/loading.png\"/>,\n",
       " <img alt=\"Flashdance...What a Feeling - Irene Cara\" class=\"lazy-load\" data-src=\"/f/items/1f183d0a-34a4-4c72-a427-a49cd250e365.jpg\" onerror=\"ImageLoadError(this)\" src=\"/i/loading.png\"/>,\n",
       " <img alt=\"Rolling in the Deep - Adele\" class=\"lazy-load\" data-src=\"/f/items/5a30c637-e8b9-40b0-9717-a3e2ce124e58.jpg\" onerror=\"ImageLoadError(this)\" src=\"/i/loading.png\"/>,\n",
       " <img alt=\"Bobby Lewis - Tossin&amp;#39; and Turnin&amp;#39;\" class=\"lazy-load\" data-src=\"/f/items/b96f7073-ac85-46d8-ac52-f550c38ca024.jpg\" onerror=\"ImageLoadError(this)\" src=\"/i/loading.png\"/>,\n",
       " <img alt=\"Johnny Horton - The Battle of New Orleans\" onerror=\"ImageLoadError(this)\" src=\"/f/items/1e86f74c-030d-44b7-b5d7-5aaa0f99023c.jpg\"/>,\n",
       " <img alt=\"One Sweet Day - Boys II Men and Mariah Carey\" onerror=\"ImageLoadError(this)\" src=\"/f/items/919c512f-4177-4715-b55b-0ae4a201a29c.jpg\"/>,\n",
       " <img alt=\"Truly Madly Deeply - Savage Garden\" onerror=\"ImageLoadError(this)\" src=\"/f/items/1577c043-309e-4b92-a4b0-e53713d91965.jpg\"/>,\n",
       " <img alt=\"Wings - Silly Love Songs\" onerror=\"ImageLoadError(this)\" src=\"/f/items/81caf400-afaf-4b1f-8db7-a200474f8bb0.jpg\"/>,\n",
       " <img alt=\"Let&amp;#39;s Get It on - Marvin Gaye\" onerror=\"ImageLoadError(this)\" src=\"/f/items/e61c0c43-cb74-482e-8fa6-9742ff9f5b38.jpg\"/>,\n",
       " <img alt=\"Night Fever - Bee Gees\" onerror=\"ImageLoadError(this)\" src=\"/f/items/c866a5a0-a87f-4a4e-9c6c-0613d1fbedd1.jpg\"/>,\n",
       " <img alt=\"Another One Bites the Dust - Queen\" onerror=\"ImageLoadError(this)\" src=\"/f/items/825ee3f0-272e-492b-b0be-c444141dbc35.jpg\"/>,\n",
       " <img alt=\"Say, Say, Say - Paul McCartney &amp;amp; Michael Jackson\" onerror=\"ImageLoadError(this)\" src=\"/f/items/0c8e7a67-3789-46b8-8f0e-9432de591b4d.jpg\"/>,\n",
       " <img alt=\"How You Remind Me - Nickleback\" onerror=\"ImageLoadError(this)\" src=\"/f/items/8aa84d60-1de3-4157-9e72-216f3c9c36d6.jpg\"/>,\n",
       " <img alt=\"Without Me - Halsey\" onerror=\"ImageLoadError(this)\" src=\"/f/items/d4acdb9a-25b4-42a1-a57c-a14bc17a140d.jpg\"/>,\n",
       " <img alt=\"Tie a Yellow Ribbon Round the Ole Oak Tree - Dawn\" onerror=\"ImageLoadError(this)\" src=\"/f/items/bba0b270-66e8-483c-b5b3-b3c24592fe15.jpg\"/>,\n",
       " <img alt=\"It&amp;#39;s All in the Game -Tommy Edwards\" onerror=\"ImageLoadError(this)\" src=\"/f/items/a50b066f-5c14-4773-abd9-f6bc18be1d40.jpg\"/>,\n",
       " <img alt=\"I Want to Hold Your Hand - The Beatles\" class=\"lazy-load\" data-src=\"/f/items/13d2d025-cf5a-41fe-b226-db5ea1dded8e.jpg\" onerror=\"ImageLoadError(this)\" src=\"/i/loading.png\"/>,\n",
       " <img alt=\"&amp;quot;Shadow Dancing&amp;quot; - Andy Gibb\" class=\"lazy-load\" data-src=\"/f/items/65923e64-7d87-423c-9123-98f059cd4602.jpg\" onerror=\"ImageLoadError(this)\" src=\"/i/loading.png\"/>,\n",
       " <img alt=\"Call Me Maybe - Carly Rae Jepsen\" class=\"lazy-load\" data-src=\"/f/items/d4570351-c1a5-437f-a602-7ad7b8a97314.jpg\" onerror=\"ImageLoadError(this)\" src=\"/i/loading.png\"/>,\n",
       " <img alt=\"Robin Thicke - Blurred Lines\" class=\"lazy-load\" data-src=\"/f/items/b412fbb6-90d0-4f46-a031-6bba5fca0fe7.jpg\" onerror=\"ImageLoadError(this)\" src=\"/i/loading.png\"/>,\n",
       " <img alt=\"Candle in the Wind/Something About the Way You Look Tonight- Elton John\" class=\"lazy-load\" data-src=\"/f/items/5d68655d-01ed-4183-bfb0-5c70eeee9dac.jpg\" onerror=\"ImageLoadError(this)\" src=\"/i/loading.png\"/>,\n",
       " <img alt=\"No One - Alicia Keys\" class=\"lazy-load\" data-src=\"/f/items/f188a267-e7ec-44ca-9899-b6887d960ae8.jpg\" onerror=\"ImageLoadError(this)\" src=\"/i/loading.png\"/>,\n",
       " <img alt=\"Perfect - Ed Sheeran\" class=\"lazy-load\" data-src=\"/f/items/6f79aa76-88b1-4851-b02e-9f452cab2033.jpg\" onerror=\"ImageLoadError(this)\" src=\"/i/loading.png\"/>,\n",
       " <img alt=\"Boyz II Men - End of the Road\" class=\"lazy-load\" data-src=\"/f/items/169c5232-85db-4751-b658-cb35fff260e4.jpg\" onerror=\"ImageLoadError(this)\" src=\"/i/loading.png\"/>,\n",
       " <img alt=\"I Will Always Love You Whitney Houston\" class=\"lazy-load\" data-src=\"/f/items-dl/aff12ee5-d9a3-4c4b-8d0a-294539f5297b.jpg\" onerror=\"ImageLoadError(this)\" src=\"/i/loading.png\"/>,\n",
       " <img alt=\"Boom Boom Pow by Black Eyed Peas\" class=\"lazy-load\" data-src=\"/f/items/8f65f8a5-9ff2-439e-b689-7dccadc99b34.jpg\" onerror=\"ImageLoadError(this)\" src=\"/i/loading.png\"/>,\n",
       " <img alt=\"Call Me - Blondie\" class=\"lazy-load\" data-src=\"/f/items/ec3631f4-8a52-45fa-b038-4b3128a6225e.jpg\" onerror=\"ImageLoadError(this)\" src=\"/i/loading.png\"/>,\n",
       " <img alt=\"Let Me Love You - Mario\" class=\"lazy-load\" data-src=\"/f/items/f1edb5f9-e96f-409f-80a8-4a309fb0e251.jpg\" onerror=\"ImageLoadError(this)\" src=\"/i/loading.png\"/>,\n",
       " <img alt=\"Stayin&amp;#39; Alive - Bee Gees\" class=\"lazy-load\" data-src=\"/f/items/fe83e0f4-be42-4552-8cc1-19fb3f9be6da.jpg\" onerror=\"ImageLoadError(this)\" src=\"/i/loading.png\"/>,\n",
       " <img alt=\"Lady - Kenny Rogers\" class=\"lazy-load\" data-src=\"/f/items/4c53e4bd-333a-4ad2-b9af-94deaf6e9517.jpg\" onerror=\"ImageLoadError(this)\" src=\"/i/loading.png\"/>,\n",
       " <img alt=\"Tik Tok - Ke$Ha\" class=\"lazy-load\" data-src=\"/f/items/41e3e569-a906-4511-8d7e-d3b4cc674593.jpg\" onerror=\"ImageLoadError(this)\" src=\"/i/loading.png\"/>,\n",
       " <img alt=\"I&amp;#39;m a Believer - The Monkees\" class=\"lazy-load\" data-src=\"/f/items/257665af-a4fa-4539-9479-0d7d593de0cf.jpg\" onerror=\"ImageLoadError(this)\" src=\"/i/loading.png\"/>,\n",
       " <img alt=\"Gold Digger - Kanye West\" class=\"lazy-load\" data-src=\"/f/items/f416eda3-82af-49ee-b68c-cdce3e067aa2.jpg\" onerror=\"ImageLoadError(this)\" src=\"/i/loading.png\"/>,\n",
       " <img alt=\"Apologize - One Republic (Feat. Timbaland)\" class=\"lazy-load\" data-src=\"/f/items/cb543c21-8858-4d31-8d31-09c22a967dca.jpg\" onerror=\"ImageLoadError(this)\" src=\"/i/loading.png\"/>,\n",
       " <img alt=\"Sicko Mode - Travis Scott Feat. Drake\" class=\"lazy-load\" data-src=\"/f/items/1dc995fb-84c5-434e-beb7-8c712670f5b0.jpg\" onerror=\"ImageLoadError(this)\" src=\"/i/loading.png\"/>,\n",
       " <img alt=\"The Sign - Ace of Base\" class=\"lazy-load\" data-src=\"/f/items/5a80b1fc-4b6a-4b5d-b8c3-85e3153522eb.jpg\" onerror=\"ImageLoadError(this)\" src=\"/i/loading.png\"/>,\n",
       " <img alt=\"Centerfold - J. Geils Band\" class=\"lazy-load\" data-src=\"/f/items/9a482113-af6a-4c19-af12-5ebbe49625a8.jpg\" onerror=\"ImageLoadError(this)\" src=\"/i/loading.png\"/>,\n",
       " <img alt=\"All About That Bass - Meghan Trainor\" class=\"lazy-load\" data-src=\"/f/items/92c27eb2-1b11-4f85-8063-81856d05e6c5.jpg\" onerror=\"ImageLoadError(this)\" src=\"/i/loading.png\"/>,\n",
       " <img alt=\"Bad Guy - Billie Eilish\" class=\"lazy-load\" data-src=\"/f/items/34ebd305-7886-4947-844d-cbd54580eefc.jpg\" onerror=\"ImageLoadError(this)\" src=\"/i/loading.png\"/>,\n",
       " <img alt=\"(Just Like) Starting Over-John Lennon\" class=\"lazy-load\" data-src=\"/f/items/8acc6f0f-939e-49c5-9d4e-42ba681c42ba.jpg\" onerror=\"ImageLoadError(this)\" src=\"/i/loading.png\"/>,\n",
       " <img alt=\"Royals- Lorde\" class=\"lazy-load\" data-src=\"/f/items/1d087c92-c1e8-4526-a62e-a98941763072.jpg\" onerror=\"ImageLoadError(this)\" src=\"/i/loading.png\"/>,\n",
       " <img alt=\"The Boy Is Mine - Brandy &amp;amp; Monica\" class=\"lazy-load\" data-src=\"/f/items/31debaa1-fc83-40e4-9a1f-8b0ceb02c906.jpg\" onerror=\"ImageLoadError(this)\" src=\"/i/loading.png\"/>,\n",
       " <img alt=\"Because I Love You (The Postman Song) - Stevie B\" class=\"lazy-load\" data-src=\"/f/items/f81e3d44-e616-49e9-8d51-55f13407ec63.jpg\" onerror=\"ImageLoadError(this)\" src=\"/i/loading.png\"/>,\n",
       " <img alt=\"I Love Rock N&amp;#39; Roll - Joan Jett &amp;amp; the Blackhearts\" class=\"lazy-load\" data-src=\"/f/items/806d1a85-cb3a-4e24-9c8b-07a2b633e489.jpg\" onerror=\"ImageLoadError(this)\" src=\"/i/loading.png\"/>,\n",
       " <img alt=\"God&amp;#39;s Plan - Drake\" onerror=\"ImageLoadError(this)\" src=\"/f/items/018a275b-24fe-4e07-8ff1-39c20839f777.jpg\"/>,\n",
       " <img alt=\"Aquarius/Let the Sunshine in - The 5th Dimension\" onerror=\"ImageLoadError(this)\" src=\"/f/items/aad99abf-bbbb-4a6d-bb97-f017824847a0.jpg\"/>,\n",
       " <img alt=\"Whoomp! There It Is - Tag Team\" onerror=\"ImageLoadError(this)\" src=\"/f/items/f1e28013-6ae7-4c68-b23f-f661b030d063.jpg\"/>,\n",
       " <img alt=\"Moves Like Jagger - Maroon 5 Ft Christina Aguilera\" onerror=\"ImageLoadError(this)\" src=\"/f/items/53eca967-70d8-470b-93c6-c50a0086bb9a.jpg\"/>,\n",
       " <img alt=\"Ebony and Ivory - Paul McCartney and Stevie Wonder\" onerror=\"ImageLoadError(this)\" src=\"/f/items/77aaa064-2599-44ab-ab79-69bad3905acb.jpg\"/>,\n",
       " <img alt=\"Rush Rush - Paula Abdul\" onerror=\"ImageLoadError(this)\" src=\"/f/items/7bbee54e-b236-4e30-affc-bd0480d51b6b.jpg\"/>,\n",
       " <img alt=\"Dionne and Friends - That&amp;#39;s What Friends Are For\" onerror=\"ImageLoadError(this)\" src=\"/f/items/c5cb1703-3c29-4ad4-a9f1-d9769106e0b2.jpg\"/>,\n",
       " <img alt=\"Pharrell Williams - Happy\" onerror=\"ImageLoadError(this)\" src=\"/f/items/6a6f3cc1-7da5-4f21-b790-fbc1c52612a3.jpg\"/>,\n",
       " <img alt=\"Upside Down - Diana Ross\" onerror=\"ImageLoadError(this)\" src=\"/f/items/acc37dca-8e32-49cf-9858-277532b59052.jpg\"/>,\n",
       " <img alt=\"Sugar Sugar - The Archies\" onerror=\"ImageLoadError(this)\" src=\"/f/items/06a11ba8-56a8-4e8c-9c47-fe23354cfaa1.jpg\"/>,\n",
       " <img alt=\"Just the Way You Are - Bruno Mars\" onerror=\"ImageLoadError(this)\" src=\"/f/items-dl/f90b150a-6b1b-4c40-b9ed-7f9df621c463.jpg\"/>,\n",
       " <img alt=\"Dilemma - Nelly\" onerror=\"ImageLoadError(this)\" src=\"/f/items/74a42aed-9a44-4395-b02e-48520cfc174a.jpg\"/>,\n",
       " <img alt=\"I Heard It Through the Grapevine - Marvin Gaye\" class=\"lazy-load\" data-src=\"/f/items/6aff8c3b-c7b9-4dc2-9c83-ebcbb05098ad.jpg\" onerror=\"ImageLoadError(this)\" src=\"/i/loading.png\"/>,\n",
       " <img alt=\"You&amp;#39;re Still the One - Shania Twain\" class=\"lazy-load\" data-src=\"/f/items/efed4117-4fc5-45d4-be6b-be7b8ba8fcc0.jpg\" onerror=\"ImageLoadError(this)\" src=\"/i/loading.png\"/>,\n",
       " <img alt=\"Billie Jean - Michael Jackson\" class=\"lazy-load\" data-src=\"/f/items/db806fb6-07a4-4bb7-ad6f-1688aa272f60.jpg\" onerror=\"ImageLoadError(this)\" src=\"/i/loading.png\"/>,\n",
       " <img alt=\"Hot Stuff - Donna Summer\" class=\"lazy-load\" data-src=\"/f/items/72a2b1d2-e62a-4198-ab62-ad0c4d4b6248.jpg\" onerror=\"ImageLoadError(this)\" src=\"/i/loading.png\"/>,\n",
       " <img alt=\"&amp;quot;Rockstar&amp;quot; Post Malone\" class=\"lazy-load\" data-src=\"/f/items/62f71201-2ac8-4d83-bf91-20e81c0d466c.jpg\" onerror=\"ImageLoadError(this)\" src=\"/i/loading.png\"/>,\n",
       " <img alt=\"Gangsta&amp;#39;s Paradise-Coolio\" class=\"lazy-load\" data-src=\"/f/items/f95d8637-b559-42fc-a9cf-e3a200d2b970.jpg\" onerror=\"ImageLoadError(this)\" src=\"/i/loading.png\"/>,\n",
       " <img alt=\"Abracadabra - Steve Miller Band\" class=\"lazy-load\" data-src=\"/f/items/368f70ba-cffb-4939-9b80-6fd211b8b54b.jpg\" onerror=\"ImageLoadError(this)\" src=\"/i/loading.png\"/>,\n",
       " <img alt=\"You&amp;#39;re So Vain - Carly Simon\" class=\"lazy-load\" data-src=\"/f/items/2f529626-b47e-4bc6-81db-c44342d4a356.jpg\" onerror=\"ImageLoadError(this)\" src=\"/i/loading.png\"/>,\n",
       " <img alt=\"Play That Funky Music White Boy-Wild Cherry\" class=\"lazy-load\" data-src=\"/f/items/1784f3fc-4620-4313-8480-c671cb623afb.jpg\" onerror=\"ImageLoadError(this)\" src=\"/i/loading.png\"/>,\n",
       " <img alt=\"Say You, Say Me - Lionel Richie\" class=\"lazy-load\" data-src=\"/f/items/76e8858b-3e48-43fa-9067-3852c8f59eaf.jpg\" onerror=\"ImageLoadError(this)\" src=\"/i/loading.png\"/>,\n",
       " <img alt=\"My Sharona, the Knack\" class=\"lazy-load\" data-src=\"/f/items/eb6e6725-0de8-464d-adb7-2575d38d1191.jpg\" onerror=\"ImageLoadError(this)\" src=\"/i/loading.png\"/>,\n",
       " <img alt=\"All Night Long (All Night) - Lionel Ritchie\" class=\"lazy-load\" data-src=\"/f/items/d9a9613b-977c-4f15-866e-63fdd0a80d04.jpg\" onerror=\"ImageLoadError(this)\" src=\"/i/loading.png\"/>,\n",
       " <img alt=\"Nothing Compares 2 U - Sinead O&amp;#39;Connor\" class=\"lazy-load\" data-src=\"/f/items/a3caddc0-a61a-4928-982c-8cbe87fdeadb.jpg\" onerror=\"ImageLoadError(this)\" src=\"/i/loading.png\"/>,\n",
       " <img alt=\"All-4-One - I Swear\" class=\"lazy-load\" data-src=\"/f/items/3bd471bf-8c8d-4392-ae3d-0324c695092b.jpg\" onerror=\"ImageLoadError(this)\" src=\"/i/loading.png\"/>,\n",
       " <img alt=\"Family Affair - Mary J. Blige\" class=\"lazy-load\" data-src=\"/f/items/30f6924d-7f69-42a5-8a80-31002ccee117.jpg\" onerror=\"ImageLoadError(this)\" src=\"/i/loading.png\"/>,\n",
       " <img alt=\"Waiting for a Girl Like You - Foreigner\" class=\"lazy-load\" data-src=\"/f/items/769d8a83-14e8-483b-b900-aaa1823ccb89.jpg\" onerror=\"ImageLoadError(this)\" src=\"/i/loading.png\"/>,\n",
       " <img alt=\"Are You Lonesome Tonight? - Elvis Presley\" class=\"lazy-load\" data-src=\"/f/items/8c6078fa-2854-4b40-8638-771f9f216c34.jpg\" onerror=\"ImageLoadError(this)\" src=\"/i/loading.png\"/>,\n",
       " <img alt=\"Killing Me Softly With His Song - Roberta Flack\" class=\"lazy-load\" data-src=\"/f/items/c340ab00-def5-486d-aaf7-91fa963cc77e.jpg\" onerror=\"ImageLoadError(this)\" src=\"/i/loading.png\"/>,\n",
       " <img alt=\"Wiz Khalifa Ft. Charlie Puth - See You Again\" class=\"lazy-load\" data-src=\"/f/items/09a42be5-3c89-45f9-ac9d-0b222fc11c49.jpg\" onerror=\"ImageLoadError(this)\" src=\"/i/loading.png\"/>,\n",
       " <img alt=\"Hurts So Good (John Cougar)\" class=\"lazy-load\" data-src=\"/f/items/96ccf2eb-c73b-4184-966e-612a7e723181.jpg\" onerror=\"ImageLoadError(this)\" src=\"/i/loading.png\"/>,\n",
       " <img alt=\"Puff Daddy &amp;amp; Faith Evans Featuring 112 - I&amp;#39;ll Be Missing You\" class=\"lazy-load\" data-src=\"/f/items/7c236859-683c-4110-96ea-8569b582b5ce.jpg\" onerror=\"ImageLoadError(this)\" src=\"/i/loading.png\"/>,\n",
       " <img alt=\"Dark Horse - Katy Perry Ft. Juicy J\" class=\"lazy-load\" data-src=\"/f/items/9303db04-84ab-44b5-b9f8-0b83036332f6.jpg\" onerror=\"ImageLoadError(this)\" src=\"/i/loading.png\"/>,\n",
       " <img alt=\"Raindrops Keep Fallin&amp;#39; on My Head - B.J. Thomas\" class=\"lazy-load\" data-src=\"/f/items/65a2406a-598b-49bd-9e0d-c671d1358627.jpg\" onerror=\"ImageLoadError(this)\" src=\"/i/loading.png\"/>,\n",
       " <img alt=\"Thrift Shop- Macklemore &amp;amp; Ryan Lewis\" class=\"lazy-load\" data-src=\"/f/items/585b835c-6479-4bb4-876d-7331319c9b3f.jpg\" onerror=\"ImageLoadError(this)\" src=\"/i/loading.png\"/>,\n",
       " <img alt=\"Another Day in Paradise - Phil Collins\" class=\"lazy-load\" data-src=\"/f/items/76f8aee7-3e81-4ea4-a936-5038df5a294c.jpg\" onerror=\"ImageLoadError(this)\" src=\"/i/loading.png\"/>,\n",
       " <img alt=\"One More Night - Maroon 5\" class=\"lazy-load\" data-src=\"/f/items/a62482ab-69e8-483d-86af-57b70f5ab48d.jpg\" onerror=\"ImageLoadError(this)\" src=\"/i/loading.png\"/>,\n",
       " <img alt=\"Best of My Love- The Emotions\" class=\"lazy-load\" data-src=\"/f/items/a17d02e0-5965-4d0a-b15b-4c78f13d9ffb.jpg\" onerror=\"ImageLoadError(this)\" src=\"/i/loading.png\"/>,\n",
       " <img alt=\"Someone You Loved - Lewis Capaldi\" class=\"lazy-load\" data-src=\"/f/items/433758ac-a9c8-4f59-905f-eeb2b912cbf2.jpg\" onerror=\"ImageLoadError(this)\" src=\"/i/loading.png\"/>,\n",
       " <img alt=\"We Are Young - Fun.\" onerror=\"ImageLoadError(this)\" src=\"/f/items/bdec26e1-dd25-4953-bc26-d3d7abbef2d0.jpg\"/>,\n",
       " <img alt=\"That&amp;#39;s What I Like - Bruno Mars\" onerror=\"ImageLoadError(this)\" src=\"/f/items/eca3e3fe-4ac8-4e87-a176-dc7a0932e442.jpg\"/>,\n",
       " <img alt=\"Usher - You Make Me Wanna...\" onerror=\"ImageLoadError(this)\" src=\"/f/items/0fdfa616-65c1-4cb7-acb8-7fa9a43fb2a5.jpg\"/>,\n",
       " <img alt=\"Big Girls Don&amp;#39;t Cry - Fergie\" onerror=\"ImageLoadError(this)\" src=\"/f/items/0a03d3ee-7a94-4d2e-b96a-3c5f17284f92.jpg\"/>,\n",
       " <img alt=\"The Way We Were - Barbra Streisand\" onerror=\"ImageLoadError(this)\" src=\"/f/items/fcecef56-8529-4054-9d4f-68a06c6f8ec2.jpg\"/>,\n",
       " <img alt=\"Another Night - Real McCoy\" onerror=\"ImageLoadError(this)\" src=\"/f/items/703b0b67-1e1d-429e-bce9-063ed0b8d762.jpg\"/>,\n",
       " <img alt=\"It&amp;#39;s Now or Never - Elvis Presley\" onerror=\"ImageLoadError(this)\" src=\"/f/items/f2ee579d-21ae-4580-9ddc-8bec6cfcaf02.jpg\"/>,\n",
       " <img alt=\"The Box - Roddy Ricch\" onerror=\"ImageLoadError(this)\" src=\"/f/items/91bc5a27-599e-4a91-a017-23cdcd22d29c.jpg\"/>,\n",
       " <img alt=\"Do That to Me One More Time - Captain &amp;amp; Tennille\" onerror=\"ImageLoadError(this)\" src=\"/f/items/2d71b9c9-dc2b-4ba3-92e8-571a556e293b.jpg\"/>,\n",
       " <img alt=\"A Fifth of Beethoven - Walter Murphy\" onerror=\"ImageLoadError(this)\" src=\"/f/items/25928ea1-4dce-43e2-bf7c-4b91235ac5d9.jpg\"/>,\n",
       " <img alt=\"Madonna- Like a Virgin\" onerror=\"ImageLoadError(this)\" src=\"/f/items/655a2a83-838b-4d2a-881c-aad16544d4b7.jpg\"/>,\n",
       " <img alt=\"Maria Maria - Santana\" onerror=\"ImageLoadError(this)\" src=\"/f/items/5a9e91fc-9349-46ff-a4c2-89fc96208e76.jpg\"/>,\n",
       " <img alt=\"Prince - When Doves Cry\" class=\"lazy-load\" data-src=\"/f/items/bc679d6a-cf2c-43f2-976c-ac1fe9416cde.jpg\" onerror=\"ImageLoadError(this)\" src=\"/i/loading.png\"/>,\n",
       " <img alt=\"I Will Survive - Gloria Gaynor\" class=\"lazy-load\" data-src=\"/f/items/240fe8c2-2c21-4885-a7ee-5de3bad54294.jpg\" onerror=\"ImageLoadError(this)\" src=\"/i/loading.png\"/>,\n",
       " <img alt=\"I Can&amp;#39;t Stop Loving You - Ray Charles\" class=\"lazy-load\" data-src=\"/f/items/b4f179eb-ceb6-45d1-9e13-e95f5f67532f.jpg\" onerror=\"ImageLoadError(this)\" src=\"/i/loading.png\"/>,\n",
       " <img alt=\"U Got It Bad - Usher\" class=\"lazy-load\" data-src=\"/f/items/3199f8e7-1fb0-4646-83cb-b21c4d14a672.jpg\" onerror=\"ImageLoadError(this)\" src=\"/i/loading.png\"/>,\n",
       " <img alt=\"Whatever You Like - T.I.\" class=\"lazy-load\" data-src=\"/f/items/89b4c429-c96e-4b4c-a787-f33154a34c9b.jpg\" onerror=\"ImageLoadError(this)\" src=\"/i/loading.png\"/>,\n",
       " <img alt=\"Down by Jay Sean Feat. Lil Wayne\" class=\"lazy-load\" data-src=\"/f/items/1836f935-4397-4357-8b7d-125517dc9f81.jpg\" onerror=\"ImageLoadError(this)\" src=\"/i/loading.png\"/>,\n",
       " <img alt=\"Bleeding Love - Leona Lewis\" class=\"lazy-load\" data-src=\"/f/items/052dbde3-e323-4468-97ef-696d1f0728b0.jpg\" onerror=\"ImageLoadError(this)\" src=\"/i/loading.png\"/>,\n",
       " <img alt=\"Joy to the World (Three Dog Night)\" class=\"lazy-load\" data-src=\"/f/items/81b58a8a-ad22-42b9-86f1-623ffde37a49.jpg\" onerror=\"ImageLoadError(this)\" src=\"/i/loading.png\"/>,\n",
       " <img alt=\"Independent Women, Part 1 - Destiny&amp;#39;s Child\" class=\"lazy-load\" data-src=\"/f/items/a9de417e-a961-4483-8a27-023a3df7b114.jpg\" onerror=\"ImageLoadError(this)\" src=\"/i/loading.png\"/>,\n",
       " <img alt=\"Foolish - Ashanti\" class=\"lazy-load\" data-src=\"/f/items/a6098a37-fb4d-4dbd-addf-f00f7220d223.jpg\" onerror=\"ImageLoadError(this)\" src=\"/i/loading.png\"/>,\n",
       " <img alt=\"Maneater-Hall and Oates\" class=\"lazy-load\" data-src=\"/f/items/864d864f-9849-4500-8d6f-78d809ac0d7a.jpg\" onerror=\"ImageLoadError(this)\" src=\"/i/loading.png\"/>,\n",
       " <img alt=\"My Love - Paul McCartney &amp;amp; Wings\" class=\"lazy-load\" data-src=\"/f/items/78f80034-36f6-4d0d-a929-f526df33e229.jpg\" onerror=\"ImageLoadError(this)\" src=\"/i/loading.png\"/>,\n",
       " <img alt=\"The Hills - The Weeknd\" class=\"lazy-load\" data-src=\"/f/items/9bf9b74b-2083-439a-87eb-bed7d63c6224.jpg\" onerror=\"ImageLoadError(this)\" src=\"/i/loading.png\"/>,\n",
       " <img alt=\"Nobody Knows - The Tony Rich Project\" class=\"lazy-load\" data-src=\"/f/items/f129210d-679c-4178-b083-f63bdeb2e59b.jpg\" onerror=\"ImageLoadError(this)\" src=\"/i/loading.png\"/>,\n",
       " <img alt=\"Alone Again (Naturally) - Gilbert O&amp;#39;sullivan\" class=\"lazy-load\" data-src=\"/f/items/8f9261d4-072d-4efb-9637-c9c7a1b88c7a.jpg\" onerror=\"ImageLoadError(this)\" src=\"/i/loading.png\"/>,\n",
       " <img alt=\"All of Me - John Legend\" class=\"lazy-load\" data-src=\"/f/items/f46c996d-1d57-46eb-9e1b-a489f5e8c469.jpg\" onerror=\"ImageLoadError(this)\" src=\"/i/loading.png\"/>,\n",
       " <img alt=\"Happier - Marshmello &amp;amp; Bastille\" class=\"lazy-load\" data-src=\"/f/items/a4b1ec7f-d691-43c0-bec8-30dd226b363b.jpg\" onerror=\"ImageLoadError(this)\" src=\"/i/loading.png\"/>,\n",
       " <img alt=\"Taylor Swift - Shake It Off\" class=\"lazy-load\" data-src=\"/f/items/cc7a631e-aa43-4e67-a17b-8e3f7ed358c0.jpg\" onerror=\"ImageLoadError(this)\" src=\"/i/loading.png\"/>,\n",
       " <img alt=\"Roberta Flack - The First Time Ever I Saw Your Face\" class=\"lazy-load\" data-src=\"/f/items/4ad3abb9-e15b-4e5b-af59-4a986caf6b13.jpg\" onerror=\"ImageLoadError(this)\" src=\"/i/loading.png\"/>,\n",
       " <img alt=\"One Dance - Drake\" class=\"lazy-load\" data-src=\"/f/items/26305a3d-4e42-4ad2-beb1-44ed3601e499.jpg\" onerror=\"ImageLoadError(this)\" src=\"/i/loading.png\"/>,\n",
       " <img alt=\"Radioactive- Imagine Dragons\" class=\"lazy-load\" data-src=\"/f/items/3e163cdd-0027-4f29-b959-28c6768f6f9c.jpg\" onerror=\"ImageLoadError(this)\" src=\"/i/loading.png\"/>,\n",
       " <img alt=\"Sexy and I Know It - LMFAO\" class=\"lazy-load\" data-src=\"/f/items/0bd4b84c-3bbc-422d-a5dc-057ccac693ca.jpg\" onerror=\"ImageLoadError(this)\" src=\"/i/loading.png\"/>,\n",
       " <img alt=\"Someone Like You - Adele\" class=\"lazy-load\" data-src=\"/f/items/e590999e-ac24-4689-83cf-819edf82426e.jpg\" onerror=\"ImageLoadError(this)\" src=\"/i/loading.png\"/>,\n",
       " <img alt=\"Hey Ya! - Outkast\" class=\"lazy-load\" data-src=\"/f/items/d9b64ef8-e1ba-446a-8233-d523798d1855.jpg\" onerror=\"ImageLoadError(this)\" src=\"/i/loading.png\"/>,\n",
       " <img alt=\"Another Brick in the Wall, Part 2 - Pink Floyd\" class=\"lazy-load\" data-src=\"/f/items/5c3e32ed-bd4f-4ab4-9536-34bfbcdea787.jpg\" onerror=\"ImageLoadError(this)\" src=\"/i/loading.png\"/>,\n",
       " <img alt=\"Burn - Usher\" class=\"lazy-load\" data-src=\"/f/items/8ad9f87f-436e-44a2-acd3-0a1e4b78b705.jpg\" onerror=\"ImageLoadError(this)\" src=\"/i/loading.png\"/>,\n",
       " <img alt=\"The Way You Move - Outkast\" class=\"lazy-load\" data-src=\"/f/items/c2fbef3f-d850-4db6-b74f-f7f993d4cea9.jpg\" onerror=\"ImageLoadError(this)\" src=\"/i/loading.png\"/>,\n",
       " <img alt=\"Faith - George Michael\" class=\"lazy-load\" data-src=\"/f/items/45d391c0-5588-4b2b-af70-4d6017ebc4c8.jpg\" onerror=\"ImageLoadError(this)\" src=\"/i/loading.png\"/>,\n",
       " <img alt=\"Crank That (Soulja Boy) - Soulja Boy Tell &amp;#39;em\" onerror=\"ImageLoadError(this)\" src=\"/f/items/cc0ea974-2319-4af9-bd98-c8bfbadb78e0.jpg\"/>,\n",
       " <img alt=\"Because You Loved Me - Celine Dion\" onerror=\"ImageLoadError(this)\" src=\"/f/items/b7a349ae-8dcc-474c-b869-ee66a1401fbb.jpg\"/>,\n",
       " <img alt=\"In Da Club - 50 Cent\" onerror=\"ImageLoadError(this)\" src=\"/f/items/44f6d15c-3ad8-40b9-b5c1-8d0b4b6a23cd.jpg\"/>,\n",
       " <img alt=\"Venus - Frankie Avalon\" onerror=\"ImageLoadError(this)\" src=\"/f/items/4c863844-3c9f-459e-a9bd-89d0deb892d1.jpg\"/>,\n",
       " <img alt=\"Onerepublic - Counting Stars\" onerror=\"ImageLoadError(this)\" src=\"/f/items/05d2f8fa-171a-424d-8d26-94010ce0aecb.jpg\"/>,\n",
       " <img alt=\"Crazy Little Thing Called Love - Queen\" onerror=\"ImageLoadError(this)\" src=\"/f/items/58cc0cd1-77c7-4442-b57c-59964162188b.jpg\"/>,\n",
       " <img alt=\"Rhinestone Cowboy - Glen Campbell\" onerror=\"ImageLoadError(this)\" src=\"/f/items/ecabe3c7-4166-4d54-bbf2-69a4fc9edae1.jpg\"/>,\n",
       " <img alt=\"Breathe - Faith Hill\" onerror=\"ImageLoadError(this)\" src=\"/f/items/b476a35b-773d-4318-b88d-f386914b0b9d.jpg\"/>,\n",
       " <img alt=\"I&amp;#39;m Sorry - Brenda Lee\" onerror=\"ImageLoadError(this)\" src=\"/f/items/a2c489fc-4126-447d-bac0-05888a4842cc.jpg\"/>,\n",
       " <img alt=\"Beyoncé - Irreplaceable\" onerror=\"ImageLoadError(this)\" src=\"/f/items/1d4b5f6a-9a7f-4780-ab81-ac7c6fa3c997.jpg\"/>,\n",
       " <img alt=\"Total Eclipse of the Heart - Bonnie Tyler\" onerror=\"ImageLoadError(this)\" src=\"/f/items/36333acf-d1b5-4edd-8581-af70ad67dd2d.jpg\"/>,\n",
       " <img alt=\"Wham! w/ George Michael - Careless Whisper\" onerror=\"ImageLoadError(this)\" src=\"/f/items/eabe2cca-64f8-4b2d-b022-202705e1204e.jpg\"/>,\n",
       " <img alt=\"Kiss You All Over - Exile\" class=\"lazy-load\" data-src=\"/f/items/6814a8c3-1996-4610-8b57-d3f4f5acea82.jpg\" onerror=\"ImageLoadError(this)\" src=\"/i/loading.png\"/>,\n",
       " <img alt=\"Hanging by a Moment - Lifehouse\" class=\"lazy-load\" data-src=\"/f/items/fbea3a1f-9d6e-418a-8f31-de62ee90daf2.jpg\" onerror=\"ImageLoadError(this)\" src=\"/i/loading.png\"/>,\n",
       " <img alt=\"The Bangles - Walk Like an Egyptian\" class=\"lazy-load\" data-src=\"/f/items/a5b61336-3489-4570-94ff-8ed19b616553.jpg\" onerror=\"ImageLoadError(this)\" src=\"/i/loading.png\"/>,\n",
       " <img alt=\"E.T. - Katy Perry Ft. Kanye West\" class=\"lazy-load\" data-src=\"/f/items/24018880-29c1-49af-89b1-1098506087e9.jpg\" onerror=\"ImageLoadError(this)\" src=\"/i/loading.png\"/>,\n",
       " <img alt=\"Domenico Modugno - Volare (Nel Blu Dipinto Di Blu)\" class=\"lazy-load\" data-src=\"/f/items/3bdf9000-a6fe-4004-a1dd-eb42e2a246fa.jpg\" onerror=\"ImageLoadError(this)\" src=\"/i/loading.png\"/>,\n",
       " <img alt=\"To Know Him Is to Love Him - The Teddy Bears\" class=\"lazy-load\" data-src=\"/f/items/a314a74f-46a9-431b-a977-4f666e778198.jpg\" onerror=\"ImageLoadError(this)\" src=\"/i/loading.png\"/>,\n",
       " <img alt=\"Lose Yourself - Eminem\" class=\"lazy-load\" data-src=\"/f/items/e16592b6-3b34-4dba-a377-51c4b6e6a9f6.jpg\" onerror=\"ImageLoadError(this)\" src=\"/i/loading.png\"/>,\n",
       " <img alt=\"I&amp;#39;ll Be There - Jackson 5\" class=\"lazy-load\" data-src=\"/f/items/9697d4eb-76d4-4d37-ae05-fc28bffbf5df.jpg\" onerror=\"ImageLoadError(this)\" src=\"/i/loading.png\"/>,\n",
       " <img alt=\"Fallin&amp;#39; - Alicia Keys\" class=\"lazy-load\" data-src=\"/f/items/2e34da89-6f08-45cd-a4e6-d0042770d94c.jpg\" onerror=\"ImageLoadError(this)\" src=\"/i/loading.png\"/>,\n",
       " <img alt=\"Creep - TLC\" class=\"lazy-load\" data-src=\"/f/items/52068405-2815-4b32-90d3-0027d41264c1.jpg\" onerror=\"ImageLoadError(this)\" src=\"/i/loading.png\"/>,\n",
       " <img alt=\"Love Theme From &amp;quot;A Star Is Born&amp;quot; (Evergreen) - Barbra Streisand\" class=\"lazy-load\" data-src=\"/f/items/a07adc40-ccd5-4963-b9eb-7a9282654505.jpg\" onerror=\"ImageLoadError(this)\" src=\"/i/loading.png\"/>,\n",
       " <img alt=\"Love Is Blue - Paul Mauriat\" class=\"lazy-load\" data-src=\"/f/items/fd67d60b-2e11-4af3-bb3c-d74be6a5b483.jpg\" onerror=\"ImageLoadError(this)\" src=\"/i/loading.png\"/>,\n",
       " <img alt=\"Disco Duck - Rick Dees &amp;amp; His Cast of Idiots\" class=\"lazy-load\" data-src=\"/f/items/1e1fdec6-a9b4-4679-b8ca-67eef148c39f.jpg\" onerror=\"ImageLoadError(this)\" src=\"/i/loading.png\"/>,\n",
       " <img alt=\"I&amp;#39;m Real - Jennifer Lopez\" class=\"lazy-load\" data-src=\"/f/items/1e32251f-a327-4bb3-99b6-c9bfc3b53eb4.jpg\" onerror=\"ImageLoadError(this)\" src=\"/i/loading.png\"/>,\n",
       " <img alt=\"Goodies - Ciara\" class=\"lazy-load\" data-src=\"/f/items/02ba3737-daf6-4577-97a8-1deee3f6539f.jpg\" onerror=\"ImageLoadError(this)\" src=\"/i/loading.png\"/>,\n",
       " <img alt=\"Hello Dolly, Louis Armstrong\" class=\"lazy-load\" data-src=\"/f/items/1b160ef6-59dc-4d98-a2eb-e7dcb677995e.jpg\" onerror=\"ImageLoadError(this)\" src=\"/i/loading.png\"/>,\n",
       " <img alt=\"Don&amp;#39;t You Want Me - The Human League\" class=\"lazy-load\" data-src=\"/f/items/facca7aa-7825-48bc-9321-512fc0d24e48.jpg\" onerror=\"ImageLoadError(this)\" src=\"/i/loading.png\"/>,\n",
       " <img alt=\"Da Ya Think I&amp;#39;m Sexy? - Rod Stewart\" class=\"lazy-load\" data-src=\"/f/items/dcab69e1-68ec-4137-b250-2d21401b8367.jpg\" onerror=\"ImageLoadError(this)\" src=\"/i/loading.png\"/>,\n",
       " <img alt=\"Waterfalls - TLC\" class=\"lazy-load\" data-src=\"/f/items/ea1c2a2a-e75e-44ef-8ace-591d363d2c11.jpg\" onerror=\"ImageLoadError(this)\" src=\"/i/loading.png\"/>,\n",
       " <img alt=\"Maggie May - Rod Stewart\" class=\"lazy-load\" data-src=\"/f/items/2d1cf3be-8019-48ab-aa52-ba2aa7c3c76d.jpg\" onerror=\"ImageLoadError(this)\" src=\"/i/loading.png\"/>,\n",
       " <img alt=\"The Four Seasons - Big Girls Don&amp;#39;t Cry\" class=\"lazy-load\" data-src=\"/f/items/2969aaa7-8a99-4b97-a39f-5df6a2cb5788.jpg\" onerror=\"ImageLoadError(this)\" src=\"/i/loading.png\"/>,\n",
       " <img alt=\"Nelly - Hot in Herre\" class=\"lazy-load\" data-src=\"/f/items/01670b5d-c790-4ca0-b22e-0d8a8c629659.jpg\" onerror=\"ImageLoadError(this)\" src=\"/i/loading.png\"/>,\n",
       " <img alt=\"I Write the Songs - Barry Manilow\" class=\"lazy-load\" data-src=\"/f/items/b06a766b-89e4-43ee-9b49-55ca9513fdfb.jpg\" onerror=\"ImageLoadError(this)\" src=\"/i/loading.png\"/>,\n",
       " <img alt=\"Jessie&amp;#39;s Girl - Rick Springfield\" class=\"lazy-load\" data-src=\"/f/items/471b832d-7cd7-4af3-9aa3-97622d931708.jpg\" onerror=\"ImageLoadError(this)\" src=\"/i/loading.png\"/>,\n",
       " <img alt=\"Gonna Make You Sweat-C+C Music Factory\" class=\"lazy-load\" data-src=\"/f/items/5754634e-acc2-44c2-967a-d13ab5cf09fd.jpg\" onerror=\"ImageLoadError(this)\" src=\"/i/loading.png\"/>,\n",
       " <img alt=\"Boogie Oogie Oogie - A Taste of Honey\" class=\"lazy-load\" data-src=\"/f/items/2565e3b2-23ef-4be1-8ec7-8c5926f759d7.jpg\" onerror=\"ImageLoadError(this)\" src=\"/i/loading.png\"/>,\n",
       " <img alt=\"Woman in Love - Barbra Streisand\" class=\"lazy-load\" data-src=\"/f/items/eda49e9c-85fa-4c0f-b70e-56b3874e5612.jpg\" onerror=\"ImageLoadError(this)\" src=\"/i/loading.png\"/>,\n",
       " <img alt=\"Fetty Wap - Trap Queen\" class=\"lazy-load\" data-src=\"/f/items/0e83977f-f670-41a2-b089-16e27999e4f0.jpg\" onerror=\"ImageLoadError(this)\" src=\"/i/loading.png\"/>,\n",
       " <img alt=\"Truth Hurts - Lizzo\" onerror=\"ImageLoadError(this)\" src=\"/f/items/dce853b4-5f54-4b38-b5c6-abe72769e9d9.jpg\"/>,\n",
       " <img alt=\"Run It! - Chris Brown\" onerror=\"ImageLoadError(this)\" src=\"/f/items/ca7e0a28-dcf2-430c-b5f1-e9fa6a7b8088.jpg\"/>,\n",
       " <img alt=\"Elton John - Philadelphia Freedom\" onerror=\"ImageLoadError(this)\" src=\"/f/items/730e10be-5ab8-420a-8f96-878a44215790.jpg\"/>,\n",
       " <img alt=\"Love Yourself - Justin Bieber\" onerror=\"ImageLoadError(this)\" src=\"/f/items/1915b30b-ff6b-4e65-a6b8-e986268fe783.jpg\"/>,\n",
       " <img alt=\"Jimmy Gilmer &amp;amp; the Fireballs - Sugar Shack\" onerror=\"ImageLoadError(this)\" src=\"/f/items/ddf8f7f9-b292-4ca3-bb4c-cfd58e696140.jpg\"/>,\n",
       " <img alt=\"Honky Tonk Women - The Rolling Stones\" onerror=\"ImageLoadError(this)\" src=\"/f/items/10ed213c-4fe3-44af-9ff3-5e58db53467a.jpg\"/>,\n",
       " <img alt=\"Just Dance - Lady Gaga\" onerror=\"ImageLoadError(this)\" src=\"/f/items/94d8cbad-c819-4e85-b456-51ee0f07e85c.jpg\"/>,\n",
       " <img alt=\"Vogue - Madonna\" onerror=\"ImageLoadError(this)\" src=\"/f/items/11a0418f-d714-40e2-8561-36e161bfbcbe.jpg\"/>,\n",
       " <img alt=\"Tom Dooley (Kingston Trio)\" onerror=\"ImageLoadError(this)\" src=\"/f/items/50be4cbd-09b3-4ed3-9ada-58c303b23337.jpg\"/>,\n",
       " <img alt=\"Love Takes Time - Mariah Carey\" onerror=\"ImageLoadError(this)\" src=\"/f/items/67e409f1-90cf-43c3-b826-7d7b638a3b07.jpg\"/>,\n",
       " <img alt=\"My Boo Usher and Alicia Keys\" onerror=\"ImageLoadError(this)\" src=\"/f/items/f111b4b5-1367-464e-8903-b394b51a0b77.jpg\"/>,\n",
       " <img alt=\"Keep on Truckin&amp;#39; - Eddie Kendricks\" onerror=\"ImageLoadError(this)\" src=\"/f/items/172644ec-bd6c-42f9-abac-f8d0f89f07d1.jpg\"/>,\n",
       " <img alt=\"Live Your Life - T.I. Feat. Rihanna\" class=\"lazy-load\" data-src=\"/f/items/66c0c8c8-5e8f-4c7b-921c-f559347deafd.jpg\" onerror=\"ImageLoadError(this)\" src=\"/i/loading.png\"/>,\n",
       " <img alt=\"(Sittin&amp;#39; On) the Dock of the Bay - Otis Redding\" class=\"lazy-load\" data-src=\"/f/items/55527e40-c541-433e-8922-263f2ad63d70.jpg\" onerror=\"ImageLoadError(this)\" src=\"/i/loading.png\"/>,\n",
       " <img alt=\"Baby Boy - Beyonce\" class=\"lazy-load\" data-src=\"/f/items/5b91648d-dcd9-4860-b5de-cd8a2ad0bf01.jpg\" onerror=\"ImageLoadError(this)\" src=\"/i/loading.png\"/>,\n",
       " <img alt=\"Firework - Katy Perry\" class=\"lazy-load\" data-src=\"/f/items/663392b6-66c1-4703-a91c-dcf9f6535f1e.jpg\" onerror=\"ImageLoadError(this)\" src=\"/i/loading.png\"/>,\n",
       " <img alt=\"Lollipop - Lil&amp;#39; Wayne Ft. Static Major\" class=\"lazy-load\" data-src=\"/f/items/21cc03eb-c926-42d1-acb4-ef73ab633d6b.jpg\" onerror=\"ImageLoadError(this)\" src=\"/i/loading.png\"/>,\n",
       " <img alt=\"Crocodile Rock - Elton John\" class=\"lazy-load\" data-src=\"/f/items/6ab8c3ea-6f1d-40ea-82ea-6cbaf4c4e5de.jpg\" onerror=\"ImageLoadError(this)\" src=\"/i/loading.png\"/>,\n",
       " <img alt=\"It Must&amp;#39;ve Been Love - Roxette\" class=\"lazy-load\" data-src=\"/f/items/568fd7d2-3d49-4635-bece-11d5e52a2877.jpg\" onerror=\"ImageLoadError(this)\" src=\"/i/loading.png\"/>,\n",
       " <img alt=\"Vision of Love - Mariah Carey\" class=\"lazy-load\" data-src=\"/f/items/d6a3fe98-f595-4f0a-b261-10e2e83cccb2.jpg\" onerror=\"ImageLoadError(this)\" src=\"/i/loading.png\"/>,\n",
       " <img alt=\"American Pie - Don Mclean\" class=\"lazy-load\" data-src=\"/f/items/dc11f8e6-cced-47c2-9e93-f4315c129227.jpg\" onerror=\"ImageLoadError(this)\" src=\"/i/loading.png\"/>,\n",
       " <img alt=\"Smoke Gets in Your Eyes - The Platters\" class=\"lazy-load\" data-src=\"/f/items/3bbdb611-4836-4e66-82b5-c87e80c2d0ca.jpg\" onerror=\"ImageLoadError(this)\" src=\"/i/loading.png\"/>,\n",
       " <img alt=\"Bad Girls- Donna Summer\" class=\"lazy-load\" data-src=\"/f/items/ae5db184-c4de-4a8d-989f-2b7a8183ec62.jpg\" onerror=\"ImageLoadError(this)\" src=\"/i/loading.png\"/>,\n",
       " <img alt=\"Hard to Say I&amp;#39;m Sorry - Chicago\" class=\"lazy-load\" data-src=\"/f/items/18796c46-2619-42e3-9b9b-590834836061.jpg\" onerror=\"ImageLoadError(this)\" src=\"/i/loading.png\"/>,\n",
       " <img alt=\"Big Bad John - Jimmy Dean\" class=\"lazy-load\" data-src=\"/f/items/c94b570b-e977-4496-b847-b5a2247f116f.jpg\" onerror=\"ImageLoadError(this)\" src=\"/i/loading.png\"/>,\n",
       " <img alt=\"He&amp;#39;ll Have to Go - Jim Reeves\" class=\"lazy-load\" data-src=\"/f/items/bbd1b2e6-4d96-441f-a20f-a7ff81bc5c29.jpg\" onerror=\"ImageLoadError(this)\" src=\"/i/loading.png\"/>,\n",
       " <img alt=\"Miss You Much - Janet Jackson\" class=\"lazy-load\" data-src=\"/f/items/5435ebe9-8e97-4357-83d9-5cb5b77cc5c6.jpg\" onerror=\"ImageLoadError(this)\" src=\"/i/loading.png\"/>,\n",
       " <img alt=\"Give Me Everything by Pitbull Ft. Ne-Yo, Afrojack &amp;amp; Nayer\" class=\"lazy-load\" data-src=\"/f/items/10591be4-6162-4edf-850f-1c68ae4d922b.jpg\" onerror=\"ImageLoadError(this)\" src=\"/i/loading.png\"/>,\n",
       " <img alt=\"(Shake, Shake, Shake) Shake Your Booty - KC &amp;amp; the Sunshine Band\" class=\"lazy-load\" data-src=\"/f/items/cdf2d545-e4ff-4938-825d-fd4e59b1ebdf.jpg\" onerror=\"ImageLoadError(this)\" src=\"/i/loading.png\"/>,\n",
       " <img alt=\"Down Under - Men at Work\" class=\"lazy-load\" data-src=\"/f/items/94bf74c4-8945-43b3-928b-6bab46288255.jpg\" onerror=\"ImageLoadError(this)\" src=\"/i/loading.png\"/>,\n",
       " <img alt=\"Terry Jacks - Seasons in the Sun\" class=\"lazy-load\" data-src=\"/f/items/6979545c-2a5f-412f-a00b-1ac0f597c211.jpg\" onerror=\"ImageLoadError(this)\" src=\"/i/loading.png\"/>,\n",
       " <img alt=\"We Are the World - USA for Africa\" class=\"lazy-load\" data-src=\"/f/items/801ef51d-883f-46b3-b63d-39a048b795ae.jpg\" onerror=\"ImageLoadError(this)\" src=\"/i/loading.png\"/>,\n",
       " <img alt=\"Lulu - To Sir With Love\" class=\"lazy-load\" data-src=\"/f/items/6e7ee1ba-bf63-4cfd-a84a-58b542aeb8f2.jpg\" onerror=\"ImageLoadError(this)\" src=\"/i/loading.png\"/>,\n",
       " <img alt=\"Need You Now - Lady Antebellum\" class=\"lazy-load\" data-src=\"/f/items/7da7c939-ebb8-428c-9bd8-7195791dbddf.jpg\" onerror=\"ImageLoadError(this)\" src=\"/i/loading.png\"/>,\n",
       " <img alt=\"Locked Out of Heaven - Bruno Mars\" class=\"lazy-load\" data-src=\"/f/items/114b6fba-ee00-477b-84bb-91f6dad53b71.jpg\" onerror=\"ImageLoadError(this)\" src=\"/i/loading.png\"/>,\n",
       " <img alt=\"Cathy&amp;#39;s Clown - The Everly Brothers\" class=\"lazy-load\" data-src=\"/f/items/22bf787b-f47c-4d6d-81a7-6cfd4c24addf.jpg\" onerror=\"ImageLoadError(this)\" src=\"/i/loading.png\"/>,\n",
       " <img alt=\"John Mellencamp - Jack &amp;amp; Diane\" class=\"lazy-load\" data-src=\"/f/items/2ec14603-4476-4f26-8a92-11f845d0df3e.jpg\" onerror=\"ImageLoadError(this)\" src=\"/i/loading.png\"/>,\n",
       " <img alt=\"Jump - Van Halen\" class=\"lazy-load\" data-src=\"/f/items/82f2277c-6f77-471a-88ab-41e019c9cbf3.jpg\" onerror=\"ImageLoadError(this)\" src=\"/i/loading.png\"/>,\n",
       " <img alt=\"Hold on - Wilson Phillips\" class=\"lazy-load\" data-src=\"/f/items/fa4a8bf3-fb35-4a75-9fdd-ed0ea8d54d22.jpg\" onerror=\"ImageLoadError(this)\" src=\"/i/loading.png\"/>,\n",
       " <img alt=\"Lucid Dreams - Juice WRLD\" class=\"lazy-load\" data-src=\"/f/items/874f3874-92c6-4a47-acbd-0737bd63c36f.jpg\" onerror=\"ImageLoadError(this)\" src=\"/i/loading.png\"/>,\n",
       " <img alt=\"Bridge Over Troubled Water - Simon and Garfunkel\" onerror=\"ImageLoadError(this)\" src=\"/f/items/9dce877a-a70d-482e-a085-f30cb3d9fb98.jpg\"/>,\n",
       " <img alt=\"Knock Three Times - Dawn\" onerror=\"ImageLoadError(this)\" src=\"/f/items/e5a5f51e-cd33-49aa-9486-9d047e03a4ef.jpg\"/>,\n",
       " <img alt=\"Mr. Blue - The Fleetwoods\" onerror=\"ImageLoadError(this)\" src=\"/f/items/4c872789-a241-4e9a-9270-24c15f8f3a8d.jpg\"/>,\n",
       " <img alt=\"I Wanna Sex You Up (Color Me Badd)\" onerror=\"ImageLoadError(this)\" src=\"/f/items/e18feef2-7352-4866-adde-43abe477d72d.jpg\"/>,\n",
       " <img alt=\"Love the Way You Lie - Eminem Ft. Rihanna\" onerror=\"ImageLoadError(this)\" src=\"/f/items/eeddb95d-7430-48ed-904b-cd17b42729e1.jpg\"/>,\n",
       " <img alt=\"One More Try - Timmy T\" onerror=\"ImageLoadError(this)\" src=\"/f/items/ae1e1c34-2508-4594-9d90-04378283d534.jpg\"/>,\n",
       " <img alt=\"Lonely Boy - Paul Anka\" onerror=\"ImageLoadError(this)\" src=\"/f/items/4ec5e045-609d-4f1f-b366-491c7cf48ca9.jpg\"/>,\n",
       " <img alt=\"Thinking Out Loud - Ed Sheeran\" onerror=\"ImageLoadError(this)\" src=\"/f/items/fb88f328-505b-40ea-998a-b66f4a76bda7.jpg\"/>,\n",
       " <img alt=\"On Bended Knee - Boyz II Men\" onerror=\"ImageLoadError(this)\" src=\"/f/items/b3400261-e4c1-444b-8d7b-b076f2432314.jpg\"/>,\n",
       " <img alt=\"Islands in the Stream - Kenny Rogers &amp;amp; Dolly Parton\" onerror=\"ImageLoadError(this)\" src=\"/f/items/43df78cd-c550-46f7-815d-55dcef412658.jpg\"/>,\n",
       " <img alt=\"Sorry - Justin Bieber\" onerror=\"ImageLoadError(this)\" src=\"/f/items/9a927f2d-beb6-4152-a2d6-39ec86a14e11.jpg\"/>,\n",
       " <img alt=\"Bobby Goldsboro - Honey\" onerror=\"ImageLoadError(this)\" src=\"/f/items/329ab2d9-cb3a-4e60-9a76-247b89f57bf3.jpg\"/>,\n",
       " <img alt=\"Coming Up (Live at Glasgow) - Paul McCartney\" class=\"lazy-load\" data-src=\"/f/items/4d623316-f7ee-4cf9-96da-221192dbc361.jpg\" onerror=\"ImageLoadError(this)\" src=\"/i/loading.png\"/>,\n",
       " <img alt=\"I&amp;#39;m Sorry/Calypso - John Denver\" class=\"lazy-load\" data-src=\"/f/items/97078cd2-a7fd-4c13-be01-249eb29a4217.jpg\" onerror=\"ImageLoadError(this)\" src=\"/i/loading.png\"/>,\n",
       " <img alt=\"You&amp;#39;re Makin&amp;#39; Me High/Let It Flow - Toni Braxton\" class=\"lazy-load\" data-src=\"/f/items/65cf9757-7fbd-4cd5-9523-a506f04c6d9c.jpg\" onerror=\"ImageLoadError(this)\" src=\"/i/loading.png\"/>,\n",
       " <img alt=\"Peppermint Twist - Joey Dee &amp;amp; the Starliters\" class=\"lazy-load\" data-src=\"/f/items/56e2c63e-3cd4-468a-a44e-0636f1d8f2b1.jpg\" onerror=\"ImageLoadError(this)\" src=\"/i/loading.png\"/>,\n",
       " <img alt=\"California Gurls - Katy Perry Ft. Snoop Dogg\" class=\"lazy-load\" data-src=\"/f/items/3f374f4a-92bc-4498-ab33-2c73af4b75f4.jpg\" onerror=\"ImageLoadError(this)\" src=\"/i/loading.png\"/>,\n",
       " <img alt=\"Arthur&amp;#39;s Theme (Best That You Can Do) - Christopher Cross\" class=\"lazy-load\" data-src=\"/f/items/bfb3def4-07ac-48ea-a5f9-47459754eac0.jpg\" onerror=\"ImageLoadError(this)\" src=\"/i/loading.png\"/>,\n",
       " <img alt=\"Don&amp;#39;t Go Breaking My Heart Elton John &amp;amp; Kiki Dee\" class=\"lazy-load\" data-src=\"/f/items/03edcbbe-9264-487e-b4df-25f8b918f414.jpg\" onerror=\"ImageLoadError(this)\" src=\"/i/loading.png\"/>,\n",
       " <img alt=\"Kiss and Say Goodbye - The Manhattans\" class=\"lazy-load\" data-src=\"/f/items/4e33a13b-62a6-4813-81d5-f6ebf4187e52.jpg\" onerror=\"ImageLoadError(this)\" src=\"/i/loading.png\"/>,\n",
       " <img alt=\"Beyonce Featuring Jay-Z - Crazy in Love\" class=\"lazy-load\" data-src=\"/f/items/e2576f58-5fa7-4f6b-ad5b-de7ea5e1c474.jpg\" onerror=\"ImageLoadError(this)\" src=\"/i/loading.png\"/>,\n",
       " <img alt=\"*It&amp;#39;s Too Late - Carole King\" class=\"lazy-load\" data-src=\"/f/items/dcd03b26-624e-442f-9105-09d2852b2163.jpg\" onerror=\"ImageLoadError(this)\" src=\"/i/loading.png\"/>,\n",
       " <img alt=\"Broken Wings - Mr. Mister\" class=\"lazy-load\" data-src=\"/f/items/09416dc2-2782-47de-9da1-9376ea13f04e.jpg\" onerror=\"ImageLoadError(this)\" src=\"/i/loading.png\"/>,\n",
       " <img alt=\"From a Distance - Bette Midler\" class=\"lazy-load\" data-src=\"/f/items/4cecc938-56de-4293-862e-5520eabfa125.jpg\" onerror=\"ImageLoadError(this)\" src=\"/i/loading.png\"/>,\n",
       " <img alt=\"Taio Cruz - Dynamite\" class=\"lazy-load\" data-src=\"/f/items/af4c3eac-195d-4407-8840-5aa74407b374.jpg\" onerror=\"ImageLoadError(this)\" src=\"/i/loading.png\"/>,\n",
       " <img alt=\"Alone - Heart\" class=\"lazy-load\" data-src=\"/f/items/68239a4b-03b3-41f0-916d-27bec3f69a3a.jpg\" onerror=\"ImageLoadError(this)\" src=\"/i/loading.png\"/>,\n",
       " <img alt=\"(They Long to Be) Close to You - Carpenters\" class=\"lazy-load\" data-src=\"/f/items/e7e257df-45a3-4aaa-bf0e-bd1805e1fb68.jpg\" onerror=\"ImageLoadError(this)\" src=\"/i/loading.png\"/>,\n",
       " <img alt=\"Bobby Vinton - Roses Are Red\" class=\"lazy-load\" data-src=\"/f/items/9722eaeb-bdb4-4a33-9349-2087ebf68c0d.jpg\" onerror=\"ImageLoadError(this)\" src=\"/i/loading.png\"/>,\n",
       " <img alt=\"Can&amp;#39;t Fight This Feeling - REO Speedwagon\" class=\"lazy-load\" data-src=\"/f/items/c0572dbe-959e-4a6d-9581-d1114429c517.jpg\" onerror=\"ImageLoadError(this)\" src=\"/i/loading.png\"/>,\n",
       " <img alt=\"Hollaback Girl - Gwen Stefani\" class=\"lazy-load\" data-src=\"/f/items/b604e6c3-7e99-491d-8b39-4098dd4530f8.jpg\" onerror=\"ImageLoadError(this)\" src=\"/i/loading.png\"/>,\n",
       " <img alt=\"Love Will Keep Us Together (Captain &amp;amp; Tenille)\" class=\"lazy-load\" data-src=\"/f/items/19ee7b75-3866-40bb-9f1a-e1543c94da02.jpg\" onerror=\"ImageLoadError(this)\" src=\"/i/loading.png\"/>,\n",
       " <img alt=\"*Stagger Lee - Lloyd Price\" class=\"lazy-load\" data-src=\"/f/items/93747374-118f-4955-914e-5496aaef2587.jpg\" onerror=\"ImageLoadError(this)\" src=\"/i/loading.png\"/>,\n",
       " <img alt=\"Poison - Every Rose Has Its Thorn\" class=\"lazy-load\" data-src=\"/f/items/64f3ce66-21ec-4dd2-8c80-d903ea7be3c8.jpg\" onerror=\"ImageLoadError(this)\" src=\"/i/loading.png\"/>,\n",
       " <img alt=\"The Streak - Ray Stevens\" class=\"lazy-load\" data-src=\"/f/items/d6a74b27-74d6-49f0-a455-5fbc5dec9a40.jpg\" onerror=\"ImageLoadError(this)\" src=\"/i/loading.png\"/>,\n",
       " <img alt=\"Fantasy - Mariah Carey\" class=\"lazy-load\" data-src=\"/f/items/75b9fa3b-cc80-42b6-943b-14c315d77b45.jpg\" onerror=\"ImageLoadError(this)\" src=\"/i/loading.png\"/>,\n",
       " <img alt=\"I Wanna Dance With Somebody (Who Loves Me) - Whitney Houston\" class=\"lazy-load\" data-src=\"/f/items/4e4e90c8-138b-463e-b7d4-0850465ed384.jpg\" onerror=\"ImageLoadError(this)\" src=\"/i/loading.png\"/>,\n",
       " <img alt=\"I Can&amp;#39;t Go for That (No Can Do) - Hall &amp;amp; Oates\" class=\"lazy-load\" data-src=\"/f/items/e3be3cf8-dd12-4db0-bc54-90c762b90d68.jpg\" onerror=\"ImageLoadError(this)\" src=\"/i/loading.png\"/>,\n",
       " <img alt=\"Disco Lady - Johnnie Taylor\" class=\"lazy-load\" data-src=\"/f/items/320b560e-202d-4a77-82d9-3fd69fe2c445.jpg\" onerror=\"ImageLoadError(this)\" src=\"/i/loading.png\"/>,\n",
       " <img alt=\"Bennie and the Jets - Elton John\" class=\"lazy-load\" data-src=\"/f/items/a66b1bf2-7187-4bd8-bb5d-7a2580188d5a.jpg\" onerror=\"ImageLoadError(this)\" src=\"/i/loading.png\"/>,\n",
       " <img alt=\"Poker Face - Lady Gaga\" class=\"lazy-load\" data-src=\"/f/items/8965f28f-749a-4be5-a567-9a6a26b37fae.jpg\" onerror=\"ImageLoadError(this)\" src=\"/i/loading.png\"/>,\n",
       " <img alt=\"Love Rollercoaster - Ohio Players\" onerror=\"ImageLoadError(this)\" src=\"/f/items/ffc90dd5-95c3-4173-a14d-c44b3c06af01.jpg\"/>,\n",
       " <img alt=\"Señorita - Shawn Mendes, Camila Cabello\" onerror=\"ImageLoadError(this)\" src=\"/f/items/2cc3ee2c-083f-44c4-ae2c-ba74dc2e7cdb.jpg\"/>,\n",
       " <img alt=\"Livin&amp;#39; on a Prayer (Bon Jovi)\" onerror=\"ImageLoadError(this)\" src=\"/f/items/02675304-d122-4863-8d0e-ae8a448d1597.jpg\"/>,\n",
       " <img alt=\"Running Bear - Johnny Preston\" onerror=\"ImageLoadError(this)\" src=\"/f/items/a7c3faad-39de-4499-85d5-6c9aec297798.jpg\"/>,\n",
       " <img alt=\"Money for Nothing - Dire Straits\" onerror=\"ImageLoadError(this)\" src=\"/f/items/ef8ef7e5-62f2-4798-b32b-412cf3a2338e.jpg\"/>,\n",
       " <img alt=\"If You Leave Me Now - Chicago\" onerror=\"ImageLoadError(this)\" src=\"/f/items/53a9dfa5-e232-4288-aee2-5ed6d3fb8c99.jpg\"/>,\n",
       " <img alt=\"I Think I Love You - The Partridge Family\" onerror=\"ImageLoadError(this)\" src=\"/f/items/f72edc9c-4395-4404-a7b3-c73aa283c858.jpg\"/>,\n",
       " <img alt=\"Unbelievable - EMF\" onerror=\"ImageLoadError(this)\" src=\"/f/items/263258ec-a889-41d6-abb8-98f1d0fd9154.jpg\"/>,\n",
       " <img alt=\"People Got to Be Free - The Rascals\" onerror=\"ImageLoadError(this)\" src=\"/f/items/6455b4c7-f9d8-4806-9df8-d0bbce0babdb.jpg\"/>,\n",
       " <img alt=\"On My Own - Patti Labelle &amp;amp; Michael McDonald\" onerror=\"ImageLoadError(this)\" src=\"/f/items/1ff06e36-bd1c-4ece-90d5-ddb406a02b67.jpg\"/>,\n",
       " <img alt=\"The First Time - Surface\" onerror=\"ImageLoadError(this)\" src=\"/f/items/bcb78491-89da-4918-a887-ba79e71f1acd.jpg\"/>,\n",
       " <img alt=\"Hey, Soul Sister - Train\" onerror=\"ImageLoadError(this)\" src=\"/f/items/c6b751ba-36c4-4ad5-8997-bc7ed467d7b9.jpg\"/>,\n",
       " <img alt=\"Beat It - Michael Jackson\" class=\"lazy-load\" data-src=\"/f/items/fe4e0e1a-74a6-40e1-b4d9-a10fc20fc03f.jpg\" onerror=\"ImageLoadError(this)\" src=\"/i/loading.png\"/>,\n",
       " <img alt=\"(Love Is) Thicker Than Water - Andy Gibb\" class=\"lazy-load\" data-src=\"/f/items/87958914-63d9-466b-bfc9-14a24b47b6f1.jpg\" onerror=\"ImageLoadError(this)\" src=\"/i/loading.png\"/>,\n",
       " <img alt=\"Crazy for You - Madonna\" class=\"lazy-load\" data-src=\"/f/items/7d3a439d-5cc5-4372-b2af-6c914ced1a5c.jpg\" onerror=\"ImageLoadError(this)\" src=\"/i/loading.png\"/>,\n",
       " <img alt=\"Wonderland by Night - Bert Kaempfert\" class=\"lazy-load\" data-src=\"/f/items/b4fcf8b4-3b2e-4c7a-b76d-4a0e34dbfabd.jpg\" onerror=\"ImageLoadError(this)\" src=\"/i/loading.png\"/>,\n",
       " <img alt=\"Take a Bow - Madonna\" class=\"lazy-load\" data-src=\"/f/items/6331e312-44c1-4a4d-9239-5d271caf5a5a.jpg\" onerror=\"ImageLoadError(this)\" src=\"/i/loading.png\"/>,\n",
       " <img alt=\"Love Child - Diana Ross &amp;amp; the Supremes\" class=\"lazy-load\" data-src=\"/f/items/fd2034b0-8eb8-41f8-8072-055a7bd7a315.jpg\" onerror=\"ImageLoadError(this)\" src=\"/i/loading.png\"/>,\n",
       " <img alt=\"Can&amp;#39;t Nobody Hold Me Down - Puff Daddy\" class=\"lazy-load\" data-src=\"/f/items/045d8c1c-4413-45a2-8bbe-0b9b67034db7.jpg\" onerror=\"ImageLoadError(this)\" src=\"/i/loading.png\"/>,\n",
       " <img alt=\"Kryptonite - 3 Doors Down\" class=\"lazy-load\" data-src=\"/f/items/95c550d2-2905-4829-816f-1b460caa0a2f.jpg\" onerror=\"ImageLoadError(this)\" src=\"/i/loading.png\"/>,\n",
       " <img alt=\"She Loves You - The Beatles\" class=\"lazy-load\" data-src=\"/f/items/883ddf0e-22d0-4a4a-a594-89d4c58b84d1.jpg\" onerror=\"ImageLoadError(this)\" src=\"/i/loading.png\"/>,\n",
       " <img alt=\"What&amp;#39;s Love Got to Do With It - Tina Turner\" class=\"lazy-load\" data-src=\"/f/items/5c704ff7-ab72-42ff-aed3-77783f82f5c3.jpg\" onerror=\"ImageLoadError(this)\" src=\"/i/loading.png\"/>,\n",
       " <img alt=\"Hello - Adele\" class=\"lazy-load\" data-src=\"/f/items/15b486b9-47e1-4230-9a60-2df2b4f6019c.jpg\" onerror=\"ImageLoadError(this)\" src=\"/i/loading.png\"/>,\n",
       " <img alt=\"Stuck on You - Elvis Presley\" class=\"lazy-load\" data-src=\"/f/items/acfac4c3-aaf6-4012-8175-0d27f8400810.jpg\" onerror=\"ImageLoadError(this)\" src=\"/i/loading.png\"/>,\n",
       " <img alt=\"The Three Bells - The Browns\" class=\"lazy-load\" data-src=\"/f/items/a0cb5780-4773-4dac-adec-a8919fd10fe3.jpg\" onerror=\"ImageLoadError(this)\" src=\"/i/loading.png\"/>,\n",
       " <img alt=\"Bad, Bad Leroy Brown - Jim Croce\" class=\"lazy-load\" data-src=\"/f/items/54591149-ccb0-44fa-80ac-bbd6e3598bf6.jpg\" onerror=\"ImageLoadError(this)\" src=\"/i/loading.png\"/>,\n",
       " <img alt=\"One of These Nights - Eagles\" class=\"lazy-load\" data-src=\"/f/items/e8c8a233-429e-442c-b481-2067e924b9ed.jpg\" onerror=\"ImageLoadError(this)\" src=\"/i/loading.png\"/>,\n",
       " <img alt=\"Rock With You - Michael Jackson\" class=\"lazy-load\" data-src=\"/f/items/cbb4ae21-ff92-4f8a-8dd0-9cafd2fffaa9.jpg\" onerror=\"ImageLoadError(this)\" src=\"/i/loading.png\"/>,\n",
       " <img alt=\"More Than Words - Extreme\" class=\"lazy-load\" data-src=\"/f/items/44c9e257-4c07-426e-9eab-4c876ae3257f.jpg\" onerror=\"ImageLoadError(this)\" src=\"/i/loading.png\"/>,\n",
       " <img alt=\"Midnight Train to Georgia - Gladys Knight &amp;amp; the Pips\" class=\"lazy-load\" data-src=\"/f/items/7fd2f773-fa10-4507-bf9d-aae311e5fb89.jpg\" onerror=\"ImageLoadError(this)\" src=\"/i/loading.png\"/>,\n",
       " <img alt=\"In the Year 2525 - Zager and Evans\" class=\"lazy-load\" data-src=\"/f/items/e7cf3501-c0bf-4ace-986d-0b1a74ff35fe.jpg\" onerror=\"ImageLoadError(this)\" src=\"/i/loading.png\"/>,\n",
       " <img alt=\"Everyday People - Sly &amp;amp; the Family Stone\" class=\"lazy-load\" data-src=\"/f/items/4deea501-d6d9-4d23-bbc4-5043ac1d07ed.jpg\" onerror=\"ImageLoadError(this)\" src=\"/i/loading.png\"/>,\n",
       " <img alt=\"Escapade - Janet Jackson\" class=\"lazy-load\" data-src=\"/f/items/5ad65c84-d2ab-4a1f-a26e-be9430821db7.jpg\" onerror=\"ImageLoadError(this)\" src=\"/i/loading.png\"/>,\n",
       " <img alt=\"Separate Lives - Phil Collins &amp;amp; Marilyn Martin\" class=\"lazy-load\" data-src=\"/f/items/573794a9-132c-433a-a569-496bfd0ba2e3.jpg\" onerror=\"ImageLoadError(this)\" src=\"/i/loading.png\"/>,\n",
       " <img alt=\"I Want to Know What Love Is - Foreigner\" class=\"lazy-load\" data-src=\"/f/items/bf19ac69-61a3-445e-bcd0-c8dd33d536a4.jpg\" onerror=\"ImageLoadError(this)\" src=\"/i/loading.png\"/>,\n",
       " <img alt=\"It&amp;#39;s Still Rock and Roll to Me - Billy Joel\" class=\"lazy-load\" data-src=\"/f/items/3fdf4f4b-0226-430e-9e29-7c794ba24048.jpg\" onerror=\"ImageLoadError(this)\" src=\"/i/loading.png\"/>,\n",
       " <img alt=\"Reunited - Peaches &amp;amp; Herb\" class=\"lazy-load\" data-src=\"/f/items/2a818722-407c-4054-8253-0295f7a16363.jpg\" onerror=\"ImageLoadError(this)\" src=\"/i/loading.png\"/>,\n",
       " <img alt=\"No Diggity - Blackstreet\" class=\"lazy-load\" data-src=\"/f/items/71297801-82ae-4efe-aa0c-6ae23103ee2e.jpg\" onerror=\"ImageLoadError(this)\" src=\"/i/loading.png\"/>,\n",
       " <img alt=\"Chicago - Look Away\" class=\"lazy-load\" data-src=\"/f/items/35e7a30a-a8c9-473a-865e-323f9e4b5a93.jpg\" onerror=\"ImageLoadError(this)\" src=\"/i/loading.png\"/>,\n",
       " <img alt=\"It&amp;#39;s Only Make Believe\" class=\"lazy-load\" data-src=\"/f/items/bef0fe18-653b-402a-bc89-869cf47a03b4.jpg\" onerror=\"ImageLoadError(this)\" src=\"/i/loading.png\"/>,\n",
       " <img alt=\"Work - Rihanna Feat. Drake\" onerror=\"ImageLoadError(this)\" src=\"/f/items/7c38beea-a29a-4398-8981-a1a77301babe.jpg\"/>,\n",
       " <img alt=\"Promiscuous - Nelly Furtado Ft. Timbaland\" onerror=\"ImageLoadError(this)\" src=\"/f/items/6448fb46-815c-470e-b09f-c6423f69d3fe.jpg\"/>,\n",
       " <img alt=\"Grenade ~ Bruno Mars\" onerror=\"ImageLoadError(this)\" src=\"/f/items-dl/185b9267-90e7-4551-b6f6-6616d2c5ef55.jpg\"/>,\n",
       " <img alt=\"Tommy James &amp;amp; the Shondells - Crimson and Clover\" onerror=\"ImageLoadError(this)\" src=\"/f/items/1301446b-6f47-46b0-95f6-999849f96450.jpg\"/>,\n",
       " <img alt=\"The Monkees - Daydream Believer\" onerror=\"ImageLoadError(this)\" src=\"/f/items/b408a591-5117-492c-95bf-400ac9d9269d.jpg\"/>,\n",
       " <img alt=\"Footloose - Kenny Loggins\" onerror=\"ImageLoadError(this)\" src=\"/f/items/f27b1a2b-c257-446a-b168-38ed9d8fed37.jpg\"/>,\n",
       " <img alt=\"Against All Odds (Take a Look at Me Now) - Phil Collins\" onerror=\"ImageLoadError(this)\" src=\"/f/items/81548751-7274-4bdd-aa76-1428242447d2.jpg\"/>,\n",
       " <img alt=\"Three Times a Lady - The Commodores\" onerror=\"ImageLoadError(this)\" src=\"/f/items/517b16fc-3ea1-4832-be29-3280b089decd.jpg\"/>,\n",
       " <img alt=\"I Like It - Cardi B Ft. J Balvin, Bad Bunny\" onerror=\"ImageLoadError(this)\" src=\"/f/items/6d7fed70-0246-452b-8bbc-7197ca6332de.jpg\"/>,\n",
       " <img alt=\"&amp;quot;That&amp;#39;s the Way (I Like It)&amp;quot; - K.C. &amp;amp; the Sunshine Band\" onerror=\"ImageLoadError(this)\" src=\"/f/items/1da1c462-87e0-49a8-b497-b562d28705e7.jpg\"/>,\n",
       " <img alt=\"I Like the Way (The Kissing Game) - Hi-Five\" onerror=\"ImageLoadError(this)\" src=\"/f/items/14edf0fb-54b4-4efd-a99c-2f6ca1a3083f.jpg\"/>,\n",
       " <img alt=\"Poison - Bell Biv Devoe\" onerror=\"ImageLoadError(this)\" src=\"/f/items/56a0e21d-3b59-4983-a41d-2a197de5756f.jpg\"/>,\n",
       " <img alt=\"I Knew I Loved You - Savage Garden\" class=\"lazy-load\" data-src=\"/f/items/697e8a29-ff4e-4f33-9598-357a7d06806f.jpg\" onerror=\"ImageLoadError(this)\" src=\"/i/loading.png\"/>,\n",
       " <img alt=\"I&amp;#39;d Really Love to See You Tonight - England Dan &amp;amp; John Ford Coley\" class=\"lazy-load\" data-src=\"/f/items/d112f290-9efd-469c-9220-c0078a3d0ebf.jpg\" onerror=\"ImageLoadError(this)\" src=\"/i/loading.png\"/>,\n",
       " <img alt=\"Steve Winwood - Roll With It\" class=\"lazy-load\" data-src=\"/f/items/149c7f7b-b886-48bb-8b3c-92b4fb152ff8.jpg\" onerror=\"ImageLoadError(this)\" src=\"/i/loading.png\"/>,\n",
       " <img alt=\"Still - The Commodores\" class=\"lazy-load\" data-src=\"/f/items/1263d25b-00dc-40b8-97b5-068e76be8828.jpg\" onerror=\"ImageLoadError(this)\" src=\"/i/loading.png\"/>,\n",
       " <img alt=\"Ode to Billie Joe - Bobbie Gentry\" class=\"lazy-load\" data-src=\"/f/items/5bda661b-50c2-4a23-9c90-fdb0b723a178.jpg\" onerror=\"ImageLoadError(this)\" src=\"/i/loading.png\"/>,\n",
       " <img alt=\"Player - Baby Come Back\" class=\"lazy-load\" data-src=\"/f/items/0759d3a0-99d1-4852-8bde-e14ec57d27e5.jpg\" onerror=\"ImageLoadError(this)\" src=\"/i/loading.png\"/>,\n",
       " <img alt=\"Straight Up - Paula Abdul\" class=\"lazy-load\" data-src=\"/f/items/6f03d14f-101d-4214-ae59-69139c581c95.jpg\" onerror=\"ImageLoadError(this)\" src=\"/i/loading.png\"/>,\n",
       " <img alt=\"Empire State of Mind - Jay-Z\" class=\"lazy-load\" data-src=\"/f/items/0744573b-981f-4e8c-a280-ac2c3c4e888c.jpg\" onerror=\"ImageLoadError(this)\" src=\"/i/loading.png\"/>,\n",
       " <img alt=\"The Beatles-Get Back\" class=\"lazy-load\" data-src=\"/f/items/4014dd0a-08ce-4d58-a16c-bef58fa49b72.jpg\" onerror=\"ImageLoadError(this)\" src=\"/i/loading.png\"/>,\n",
       " <img alt=\"Wake Me Up - Avicii\" class=\"lazy-load\" data-src=\"/f/items/ef4fa617-a21b-4a2b-8c82-c463ff5d7d50.jpg\" onerror=\"ImageLoadError(this)\" src=\"/i/loading.png\"/>,\n",
       " <img alt=\"Half-Breed - Cher\" class=\"lazy-load\" data-src=\"/f/items/c39ba0b2-ad62-4c36-8546-11c0c079d48b.jpg\" onerror=\"ImageLoadError(this)\" src=\"/i/loading.png\"/>,\n",
       " <img alt=\"The New Vaudeville Band - Winchester Cathedral\" class=\"lazy-load\" data-src=\"/f/items/d4bafc56-9135-426e-86e5-0a426842534b.jpg\" onerror=\"ImageLoadError(this)\" src=\"/i/loading.png\"/>,\n",
       " <img alt=\"My Sweet Lord - George Harrison\" class=\"lazy-load\" data-src=\"/f/items/29180c19-96e3-455c-bff8-f0207ce7b4c0.jpg\" onerror=\"ImageLoadError(this)\" src=\"/i/loading.png\"/>,\n",
       " <img alt=\"UB40 - (I Can&amp;#39;t Help) Falling in Love With You\" class=\"lazy-load\" data-src=\"/f/items/4a173d42-1e96-4fad-b450-566b4ca36f03.jpg\" onerror=\"ImageLoadError(this)\" src=\"/i/loading.png\"/>,\n",
       " <img alt=\"Don&amp;#39;t Let Me Down - The Chainsmokers Featuring Daya\" class=\"lazy-load\" data-src=\"/f/items/eb1ed807-9be0-4f5e-9d9b-f8c4717d716f.jpg\" onerror=\"ImageLoadError(this)\" src=\"/i/loading.png\"/>,\n",
       " <img alt=\"Havana - Camila Cabello\" class=\"lazy-load\" data-src=\"/f/items/ecea8446-c94e-44fe-92cf-c073adc7ab23.jpg\" onerror=\"ImageLoadError(this)\" src=\"/i/loading.png\"/>,\n",
       " <img alt=\"Emotions-Mariah Carey (1991)\" class=\"lazy-load\" data-src=\"/f/items/988ea940-ec4a-4f46-ae4d-345b8d785e97.jpg\" onerror=\"ImageLoadError(this)\" src=\"/i/loading.png\"/>,\n",
       " <img alt=\"OMG - Usher\" class=\"lazy-load\" data-src=\"/f/items/a1913525-1231-4bc9-b6c2-a37c877734e9.jpg\" onerror=\"ImageLoadError(this)\" src=\"/i/loading.png\"/>,\n",
       " <img alt=\"Wow. - Post Malone\" class=\"lazy-load\" data-src=\"/f/items/a1308111-4b55-4012-afa9-e5279de14336.jpg\" onerror=\"ImageLoadError(this)\" src=\"/i/loading.png\"/>,\n",
       " <img alt=\"Lean Back - Terror Squad\" class=\"lazy-load\" data-src=\"/f/items/19364d81-11d7-4b88-a5ad-9d6fd2b8de45.jpg\" onerror=\"ImageLoadError(this)\" src=\"/i/loading.png\"/>,\n",
       " <img alt=\"YMCA - Village People\" class=\"lazy-load\" data-src=\"/f/items/7eec8d5a-174b-4fa1-bce2-f7e41174c78e.jpg\" onerror=\"ImageLoadError(this)\" src=\"/i/loading.png\"/>,\n",
       " <img alt=\"With Arms Wide Open - Creed\" class=\"lazy-load\" data-src=\"/f/items/3858d1e2-7802-48a7-9d24-6f90904dca3c.jpg\" onerror=\"ImageLoadError(this)\" src=\"/i/loading.png\"/>,\n",
       " <img alt=\"Anita Ward - Ring My Bell\" class=\"lazy-load\" data-src=\"/f/items/b7e5b3d1-c380-43e1-845b-16632390ab8d.jpg\" onerror=\"ImageLoadError(this)\" src=\"/i/loading.png\"/>,\n",
       " <img alt=\"&amp;quot;Love Hangover&amp;quot; - Diana Ross\" class=\"lazy-load\" data-src=\"/f/items/263382b6-fb51-4202-8cef-b34c7dc9a43e.jpg\" onerror=\"ImageLoadError(this)\" src=\"/i/loading.png\"/>,\n",
       " <img alt=\"Since U Been Gone - Kelly Clarkson\" class=\"lazy-load\" data-src=\"/f/items/7bf2223c-d780-4897-a1ba-5b62dc7b87e3.jpg\" onerror=\"ImageLoadError(this)\" src=\"/i/loading.png\"/>,\n",
       " <img alt=\"Quit Playing Games With My Heart - Backstreet Boys\" class=\"lazy-load\" data-src=\"/f/items/81ef4fea-6d43-42a1-8ecd-277503b5a938.jpg\" onerror=\"ImageLoadError(this)\" src=\"/i/loading.png\"/>,\n",
       " <img alt=\"No Scrubs - TLC\" class=\"lazy-load\" data-src=\"/f/items/7c99f2c4-9d85-4ca0-ab17-34b3f7af3d24.jpg\" onerror=\"ImageLoadError(this)\" src=\"/i/loading.png\"/>,\n",
       " <img alt=\"Everybody Wants to Rule the World - Tears for Fears\" class=\"lazy-load\" data-src=\"/f/items/16d388e5-54dd-44e5-8a82-922a92db83a1.jpg\" onerror=\"ImageLoadError(this)\" src=\"/i/loading.png\"/>]"
      ]
     },
     "execution_count": 20,
     "metadata": {},
     "output_type": "execute_result"
    }
   ],
   "source": [
    "titles = []\n",
    "synopsis = []\n",
    "pages_parsed = []\n",
    "\n",
    "for i in range(len(pages)): #to give us a run index\n",
    "    pages_parsed.append(BeautifulSoup(pages[i].content,\"html.parser\")) # create soup for each page\n",
    "    #to get movies\n",
    "    movies_html= pages_parsed[i].select(\"div:nth-child(2) > img:nth-child(1)\")\n",
    "    \n",
    "    #loop through movies_html and select the film name \n",
    "    for j in range(len(movies_html)):\n",
    "        titles.append(movies_html[j])\n",
    "titles\n",
    "    "
   ]
  },
  {
   "cell_type": "code",
   "execution_count": 27,
   "metadata": {},
   "outputs": [
    {
     "data": {
      "text/plain": [
       "<img alt=\"The Twist - Chubby Checker\" onerror=\"ImageLoadError(this)\" src=\"/f/items/0bb71902-c048-4637-a15f-d615bdb07e07.jpg\"/>"
      ]
     },
     "execution_count": 27,
     "metadata": {},
     "output_type": "execute_result"
    }
   ],
   "source": [
    "titles[0]"
   ]
  },
  {
   "cell_type": "code",
   "execution_count": 75,
   "metadata": {},
   "outputs": [
    {
     "data": {
      "text/plain": [
       "\"['The Twist - Chubby Checker'\""
      ]
     },
     "execution_count": 75,
     "metadata": {},
     "output_type": "execute_result"
    }
   ],
   "source": [
    "just_titles = str(re.findall(r'\"(.*?)\"', str(titles))).split(',')[0]\n",
    "just_titles\n"
   ]
  },
  {
   "cell_type": "code",
   "execution_count": 71,
   "metadata": {},
   "outputs": [
    {
     "ename": "SyntaxError",
     "evalue": "invalid syntax (<ipython-input-71-90d6d30ed8b8>, line 1)",
     "output_type": "error",
     "traceback": [
      "\u001b[1;36m  File \u001b[1;32m\"<ipython-input-71-90d6d30ed8b8>\"\u001b[1;36m, line \u001b[1;32m1\u001b[0m\n\u001b[1;33m    re.('\\A'', just_titles)\u001b[0m\n\u001b[1;37m       ^\u001b[0m\n\u001b[1;31mSyntaxError\u001b[0m\u001b[1;31m:\u001b[0m invalid syntax\n"
     ]
    }
   ],
   "source": [
    "re.('\\A'', just_titles)"
   ]
  },
  {
   "cell_type": "code",
   "execution_count": 61,
   "metadata": {},
   "outputs": [],
   "source": [
    "all_songs = []\n",
    "i = 0\n",
    "for i in all_songs:\n",
    "    all_songs.append(str(re.findall(r'\"(.*?)\"', str(titles))).split(',')[i])\n",
    "    i =+ 1\n",
    "\n",
    "    "
   ]
  },
  {
   "cell_type": "code",
   "execution_count": 60,
   "metadata": {},
   "outputs": [
    {
     "data": {
      "text/plain": [
       "[]"
      ]
     },
     "execution_count": 60,
     "metadata": {},
     "output_type": "execute_result"
    }
   ],
   "source": [
    "all_songs"
   ]
  },
  {
   "cell_type": "code",
   "execution_count": null,
   "metadata": {},
   "outputs": [],
   "source": []
  }
 ],
 "metadata": {
  "kernelspec": {
   "display_name": "Python 3",
   "language": "python",
   "name": "python3"
  },
  "language_info": {
   "codemirror_mode": {
    "name": "ipython",
    "version": 3
   },
   "file_extension": ".py",
   "mimetype": "text/x-python",
   "name": "python",
   "nbconvert_exporter": "python",
   "pygments_lexer": "ipython3",
   "version": "3.8.5"
  }
 },
 "nbformat": 4,
 "nbformat_minor": 5
}
