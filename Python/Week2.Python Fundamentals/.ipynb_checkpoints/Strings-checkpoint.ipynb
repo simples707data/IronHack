{
 "cells": [
  {
   "cell_type": "markdown",
   "metadata": {},
   "source": [
    "# Python Object types"
   ]
  },
  {
   "cell_type": "markdown",
   "metadata": {},
   "source": [
    "##### Strings"
   ]
  },
  {
   "cell_type": "code",
   "execution_count": 35,
   "metadata": {
    "scrolled": true
   },
   "outputs": [],
   "source": [
    "mystring = \"hey guys how are you doing\""
   ]
  },
  {
   "cell_type": "code",
   "execution_count": 31,
   "metadata": {},
   "outputs": [
    {
     "data": {
      "text/plain": [
       "str"
      ]
     },
     "execution_count": 31,
     "metadata": {},
     "output_type": "execute_result"
    }
   ],
   "source": [
    "type(mystring)"
   ]
  },
  {
   "cell_type": "markdown",
   "metadata": {},
   "source": [
    "Lots of strings attached...https://www.w3schools.com/python/python_ref_string.asp"
   ]
  },
  {
   "cell_type": "code",
   "execution_count": 4,
   "metadata": {
    "scrolled": true
   },
   "outputs": [
    {
     "name": "stdout",
     "output_type": "stream",
     "text": [
      "hey guys how are you doing\n"
     ]
    }
   ],
   "source": [
    "print(mystring)"
   ]
  },
  {
   "cell_type": "code",
   "execution_count": 5,
   "metadata": {},
   "outputs": [],
   "source": [
    "str = mystring.capitalize().casefold().center(111).expandtabs(999999988).format().format_map(42).capitalize().ljust(1).lower().lstrip().replace(\"guys\", \"girls\").swapcase().swapcase().upper().translate(\"hey guys how are you doing? Can you hear me? Is my mic off? Am I muted> donno.\").join(mystring*1)"
   ]
  },
  {
   "cell_type": "code",
   "execution_count": 6,
   "metadata": {},
   "outputs": [
    {
     "data": {
      "text/plain": [
       "str"
      ]
     },
     "execution_count": 6,
     "metadata": {},
     "output_type": "execute_result"
    }
   ],
   "source": [
    "type(str)"
   ]
  },
  {
   "cell_type": "code",
   "execution_count": 7,
   "metadata": {
    "scrolled": true
   },
   "outputs": [
    {
     "data": {
      "text/plain": [
       "'hddYy oRoSydOWymRdyYOUyeOoN yyyyyyyyyyyyyyyyyyyyyyyyyyyyyyyyyyyyyyyyyyeddYy oRoSydOWymRdyYOUyeOoN yyyyyyyyyyyyyyyyyyyyyyyyyyyyyyyyyyyyyyyyyyyddYy oRoSydOWymRdyYOUyeOoN yyyyyyyyyyyyyyyyyyyyyyyyyyyyyyyyyyyyyyyyyy ddYy oRoSydOWymRdyYOUyeOoN yyyyyyyyyyyyyyyyyyyyyyyyyyyyyyyyyyyyyyyyyygddYy oRoSydOWymRdyYOUyeOoN yyyyyyyyyyyyyyyyyyyyyyyyyyyyyyyyyyyyyyyyyyuddYy oRoSydOWymRdyYOUyeOoN yyyyyyyyyyyyyyyyyyyyyyyyyyyyyyyyyyyyyyyyyyyddYy oRoSydOWymRdyYOUyeOoN yyyyyyyyyyyyyyyyyyyyyyyyyyyyyyyyyyyyyyyyyysddYy oRoSydOWymRdyYOUyeOoN yyyyyyyyyyyyyyyyyyyyyyyyyyyyyyyyyyyyyyyyyy ddYy oRoSydOWymRdyYOUyeOoN yyyyyyyyyyyyyyyyyyyyyyyyyyyyyyyyyyyyyyyyyyhddYy oRoSydOWymRdyYOUyeOoN yyyyyyyyyyyyyyyyyyyyyyyyyyyyyyyyyyyyyyyyyyoddYy oRoSydOWymRdyYOUyeOoN yyyyyyyyyyyyyyyyyyyyyyyyyyyyyyyyyyyyyyyyyywddYy oRoSydOWymRdyYOUyeOoN yyyyyyyyyyyyyyyyyyyyyyyyyyyyyyyyyyyyyyyyyy ddYy oRoSydOWymRdyYOUyeOoN yyyyyyyyyyyyyyyyyyyyyyyyyyyyyyyyyyyyyyyyyyaddYy oRoSydOWymRdyYOUyeOoN yyyyyyyyyyyyyyyyyyyyyyyyyyyyyyyyyyyyyyyyyyrddYy oRoSydOWymRdyYOUyeOoN yyyyyyyyyyyyyyyyyyyyyyyyyyyyyyyyyyyyyyyyyyeddYy oRoSydOWymRdyYOUyeOoN yyyyyyyyyyyyyyyyyyyyyyyyyyyyyyyyyyyyyyyyyy ddYy oRoSydOWymRdyYOUyeOoN yyyyyyyyyyyyyyyyyyyyyyyyyyyyyyyyyyyyyyyyyyyddYy oRoSydOWymRdyYOUyeOoN yyyyyyyyyyyyyyyyyyyyyyyyyyyyyyyyyyyyyyyyyyoddYy oRoSydOWymRdyYOUyeOoN yyyyyyyyyyyyyyyyyyyyyyyyyyyyyyyyyyyyyyyyyyuddYy oRoSydOWymRdyYOUyeOoN yyyyyyyyyyyyyyyyyyyyyyyyyyyyyyyyyyyyyyyyyy ddYy oRoSydOWymRdyYOUyeOoN yyyyyyyyyyyyyyyyyyyyyyyyyyyyyyyyyyyyyyyyyydddYy oRoSydOWymRdyYOUyeOoN yyyyyyyyyyyyyyyyyyyyyyyyyyyyyyyyyyyyyyyyyyoddYy oRoSydOWymRdyYOUyeOoN yyyyyyyyyyyyyyyyyyyyyyyyyyyyyyyyyyyyyyyyyyiddYy oRoSydOWymRdyYOUyeOoN yyyyyyyyyyyyyyyyyyyyyyyyyyyyyyyyyyyyyyyyyynddYy oRoSydOWymRdyYOUyeOoN yyyyyyyyyyyyyyyyyyyyyyyyyyyyyyyyyyyyyyyyyyg'"
      ]
     },
     "execution_count": 7,
     "metadata": {},
     "output_type": "execute_result"
    }
   ],
   "source": [
    "str"
   ]
  },
  {
   "cell_type": "code",
   "execution_count": 8,
   "metadata": {},
   "outputs": [
    {
     "name": "stdout",
     "output_type": "stream",
     "text": [
      "hey guys how are you doing\n"
     ]
    }
   ],
   "source": [
    "print(mystring)"
   ]
  },
  {
   "cell_type": "code",
   "execution_count": 36,
   "metadata": {
    "scrolled": true
   },
   "outputs": [
    {
     "data": {
      "text/plain": [
       "2"
      ]
     },
     "execution_count": 36,
     "metadata": {},
     "output_type": "execute_result"
    }
   ],
   "source": [
    "mystring.count(\"e\")"
   ]
  },
  {
   "cell_type": "code",
   "execution_count": 12,
   "metadata": {
    "scrolled": true
   },
   "outputs": [
    {
     "data": {
      "text/plain": [
       "'hey girls how are you doing'"
      ]
     },
     "execution_count": 12,
     "metadata": {},
     "output_type": "execute_result"
    }
   ],
   "source": [
    "mystring.replace(\"guys\", \"girls\")"
   ]
  },
  {
   "cell_type": "code",
   "execution_count": 13,
   "metadata": {},
   "outputs": [
    {
     "data": {
      "text/plain": [
       "'HEY GUYS HOW ARE YOU DOING'"
      ]
     },
     "execution_count": 13,
     "metadata": {},
     "output_type": "execute_result"
    }
   ],
   "source": [
    "mystring.upper()"
   ]
  },
  {
   "cell_type": "code",
   "execution_count": 14,
   "metadata": {},
   "outputs": [
    {
     "data": {
      "text/plain": [
       "'hey guys how are you doing'"
      ]
     },
     "execution_count": 14,
     "metadata": {},
     "output_type": "execute_result"
    }
   ],
   "source": [
    "mystring.lower()"
   ]
  },
  {
   "cell_type": "code",
   "execution_count": 15,
   "metadata": {},
   "outputs": [
    {
     "data": {
      "text/plain": [
       "'Hey guys how are you doing'"
      ]
     },
     "execution_count": 15,
     "metadata": {},
     "output_type": "execute_result"
    }
   ],
   "source": [
    "mystring.capitalize()"
   ]
  },
  {
   "cell_type": "code",
   "execution_count": 16,
   "metadata": {
    "scrolled": true
   },
   "outputs": [
    {
     "data": {
      "text/plain": [
       "'Hey Guys How Are You Doing'"
      ]
     },
     "execution_count": 16,
     "metadata": {},
     "output_type": "execute_result"
    }
   ],
   "source": [
    "mystring.title()"
   ]
  },
  {
   "cell_type": "code",
   "execution_count": 17,
   "metadata": {},
   "outputs": [],
   "source": [
    "mystring = \"3\""
   ]
  },
  {
   "cell_type": "code",
   "execution_count": 18,
   "metadata": {
    "scrolled": false
   },
   "outputs": [
    {
     "data": {
      "text/plain": [
       "True"
      ]
     },
     "execution_count": 18,
     "metadata": {},
     "output_type": "execute_result"
    }
   ],
   "source": [
    "mystring.isdigit()"
   ]
  },
  {
   "cell_type": "code",
   "execution_count": 19,
   "metadata": {},
   "outputs": [],
   "source": [
    "mystring = \" \""
   ]
  },
  {
   "cell_type": "code",
   "execution_count": 20,
   "metadata": {},
   "outputs": [
    {
     "data": {
      "text/plain": [
       "True"
      ]
     },
     "execution_count": 20,
     "metadata": {},
     "output_type": "execute_result"
    }
   ],
   "source": [
    "mystring.isspace()"
   ]
  },
  {
   "cell_type": "code",
   "execution_count": 21,
   "metadata": {},
   "outputs": [
    {
     "data": {
      "text/plain": [
       "True"
      ]
     },
     "execution_count": 21,
     "metadata": {},
     "output_type": "execute_result"
    }
   ],
   "source": [
    "mystring.isprintable()"
   ]
  },
  {
   "cell_type": "markdown",
   "metadata": {},
   "source": [
    "##### Indexing"
   ]
  },
  {
   "cell_type": "code",
   "execution_count": 22,
   "metadata": {},
   "outputs": [],
   "source": [
    "mystring = \"hey guys how are you doing\""
   ]
  },
  {
   "cell_type": "code",
   "execution_count": 23,
   "metadata": {},
   "outputs": [
    {
     "data": {
      "text/plain": [
       "'h'"
      ]
     },
     "execution_count": 23,
     "metadata": {},
     "output_type": "execute_result"
    }
   ],
   "source": [
    "mystring[0]"
   ]
  },
  {
   "cell_type": "code",
   "execution_count": 37,
   "metadata": {},
   "outputs": [
    {
     "data": {
      "text/plain": [
       "' '"
      ]
     },
     "execution_count": 37,
     "metadata": {},
     "output_type": "execute_result"
    }
   ],
   "source": [
    "mystring[3]"
   ]
  },
  {
   "cell_type": "code",
   "execution_count": 24,
   "metadata": {},
   "outputs": [
    {
     "data": {
      "text/plain": [
       "'g'"
      ]
     },
     "execution_count": 24,
     "metadata": {},
     "output_type": "execute_result"
    }
   ],
   "source": [
    "mystring[-1]"
   ]
  },
  {
   "cell_type": "code",
   "execution_count": 25,
   "metadata": {},
   "outputs": [
    {
     "data": {
      "text/plain": [
       "'y g'"
      ]
     },
     "execution_count": 25,
     "metadata": {},
     "output_type": "execute_result"
    }
   ],
   "source": [
    "mystring[2:5]"
   ]
  },
  {
   "cell_type": "code",
   "execution_count": 26,
   "metadata": {},
   "outputs": [
    {
     "data": {
      "text/plain": [
       "'guys how are you doing'"
      ]
     },
     "execution_count": 26,
     "metadata": {},
     "output_type": "execute_result"
    }
   ],
   "source": [
    "mystring[4:]"
   ]
  },
  {
   "cell_type": "code",
   "execution_count": 27,
   "metadata": {},
   "outputs": [],
   "source": [
    "mystring = \"That's\""
   ]
  },
  {
   "cell_type": "code",
   "execution_count": 28,
   "metadata": {
    "scrolled": true
   },
   "outputs": [
    {
     "data": {
      "text/plain": [
       "\"That's all folks!\""
      ]
     },
     "execution_count": 28,
     "metadata": {},
     "output_type": "execute_result"
    }
   ],
   "source": [
    "mystring + \" all folks!\""
   ]
  },
  {
   "cell_type": "code",
   "execution_count": 30,
   "metadata": {},
   "outputs": [
    {
     "data": {
      "text/plain": [
       "'53'"
      ]
     },
     "execution_count": 30,
     "metadata": {},
     "output_type": "execute_result"
    }
   ],
   "source": [
    "a = \"5\"\n",
    "b = \"3\"\n",
    "a + b"
   ]
  },
  {
   "cell_type": "markdown",
   "metadata": {},
   "source": [
    "##### Lists"
   ]
  },
  {
   "cell_type": "code",
   "execution_count": 51,
   "metadata": {},
   "outputs": [],
   "source": [
    "TAs = [\"Null\", \"asd\", 404]"
   ]
  },
  {
   "cell_type": "code",
   "execution_count": 52,
   "metadata": {},
   "outputs": [],
   "source": [
    "backup = TAs.copy()"
   ]
  },
  {
   "cell_type": "code",
   "execution_count": 53,
   "metadata": {},
   "outputs": [],
   "source": [
    "TAs = [\"triceratops_alligator\"]"
   ]
  },
  {
   "cell_type": "code",
   "execution_count": 54,
   "metadata": {},
   "outputs": [
    {
     "data": {
      "text/plain": [
       "list"
      ]
     },
     "execution_count": 54,
     "metadata": {},
     "output_type": "execute_result"
    }
   ],
   "source": [
    "type(TAs)"
   ]
  },
  {
   "cell_type": "code",
   "execution_count": 55,
   "metadata": {},
   "outputs": [
    {
     "name": "stdout",
     "output_type": "stream",
     "text": [
      "['triceratops_alligator']\n"
     ]
    }
   ],
   "source": [
    "print(TAs)"
   ]
  },
  {
   "cell_type": "code",
   "execution_count": 56,
   "metadata": {},
   "outputs": [],
   "source": [
    "TAs.append(\"giganotosaurus_crocodile\")"
   ]
  },
  {
   "cell_type": "code",
   "execution_count": 58,
   "metadata": {},
   "outputs": [
    {
     "data": {
      "text/plain": [
       "['triceratops_alligator', 'giganotosaurus_crocodile']"
      ]
     },
     "execution_count": 58,
     "metadata": {},
     "output_type": "execute_result"
    }
   ],
   "source": [
    "TAs"
   ]
  },
  {
   "cell_type": "code",
   "execution_count": 59,
   "metadata": {},
   "outputs": [],
   "source": [
    "LT = [\"plateosaurus_imperator\"]"
   ]
  },
  {
   "cell_type": "code",
   "execution_count": 60,
   "metadata": {},
   "outputs": [],
   "source": [
    "teachers = TAs + LT"
   ]
  },
  {
   "cell_type": "code",
   "execution_count": 61,
   "metadata": {
    "scrolled": false
   },
   "outputs": [
    {
     "name": "stdout",
     "output_type": "stream",
     "text": [
      "['triceratops_alligator', 'giganotosaurus_crocodile', 'plateosaurus_imperator']\n"
     ]
    }
   ],
   "source": [
    "print(teachers)"
   ]
  },
  {
   "cell_type": "code",
   "execution_count": 62,
   "metadata": {},
   "outputs": [
    {
     "data": {
      "text/plain": [
       "1"
      ]
     },
     "execution_count": 62,
     "metadata": {},
     "output_type": "execute_result"
    }
   ],
   "source": [
    "teachers.count(\"plateosaurus_imperator\")"
   ]
  },
  {
   "cell_type": "code",
   "execution_count": 63,
   "metadata": {},
   "outputs": [
    {
     "data": {
      "text/plain": [
       "2"
      ]
     },
     "execution_count": 63,
     "metadata": {},
     "output_type": "execute_result"
    }
   ],
   "source": [
    "teachers.index(\"plateosaurus_imperator\")"
   ]
  },
  {
   "cell_type": "code",
   "execution_count": 67,
   "metadata": {
    "scrolled": true
   },
   "outputs": [
    {
     "data": {
      "text/plain": [
       "'plateosaurus_imperator'"
      ]
     },
     "execution_count": 67,
     "metadata": {},
     "output_type": "execute_result"
    }
   ],
   "source": [
    "teachers[2]"
   ]
  },
  {
   "cell_type": "code",
   "execution_count": 74,
   "metadata": {},
   "outputs": [
    {
     "data": {
      "text/plain": [
       "['triceratops_alligator', 'giganotosaurus_crocodile', 'plateosaurus_imperator']"
      ]
     },
     "execution_count": 74,
     "metadata": {},
     "output_type": "execute_result"
    }
   ],
   "source": [
    "teachers"
   ]
  },
  {
   "cell_type": "code",
   "execution_count": 78,
   "metadata": {},
   "outputs": [
    {
     "data": {
      "text/plain": [
       "'_'"
      ]
     },
     "execution_count": 78,
     "metadata": {},
     "output_type": "execute_result"
    }
   ],
   "source": [
    "teachers[0][11]"
   ]
  },
  {
   "cell_type": "code",
   "execution_count": 79,
   "metadata": {
    "scrolled": true
   },
   "outputs": [
    {
     "data": {
      "text/plain": [
       "3"
      ]
     },
     "execution_count": 79,
     "metadata": {},
     "output_type": "execute_result"
    }
   ],
   "source": [
    "len(teachers)"
   ]
  },
  {
   "cell_type": "code",
   "execution_count": 80,
   "metadata": {},
   "outputs": [],
   "source": [
    "LT = teachers.pop()"
   ]
  },
  {
   "cell_type": "code",
   "execution_count": 81,
   "metadata": {},
   "outputs": [
    {
     "name": "stdout",
     "output_type": "stream",
     "text": [
      "plateosaurus_imperator\n"
     ]
    }
   ],
   "source": [
    "print(LT)"
   ]
  },
  {
   "cell_type": "code",
   "execution_count": 82,
   "metadata": {
    "scrolled": true
   },
   "outputs": [
    {
     "data": {
      "text/plain": [
       "str"
      ]
     },
     "execution_count": 82,
     "metadata": {},
     "output_type": "execute_result"
    }
   ],
   "source": [
    "type(LT)"
   ]
  },
  {
   "cell_type": "code",
   "execution_count": 84,
   "metadata": {},
   "outputs": [],
   "source": [
    "teachers.sort()"
   ]
  },
  {
   "cell_type": "code",
   "execution_count": 85,
   "metadata": {
    "scrolled": false
   },
   "outputs": [
    {
     "name": "stdout",
     "output_type": "stream",
     "text": [
      "['giganotosaurus_crocodile', 'triceratops_alligator']\n"
     ]
    }
   ],
   "source": [
    "print(teachers)"
   ]
  },
  {
   "cell_type": "code",
   "execution_count": 86,
   "metadata": {},
   "outputs": [],
   "source": [
    "teachers = ['triceratops_alligator', 'giganotosaurus_crocodile', 'plateosaurus_imperator']"
   ]
  },
  {
   "cell_type": "code",
   "execution_count": 87,
   "metadata": {},
   "outputs": [],
   "source": [
    "teachers[1] = \"Flo\""
   ]
  },
  {
   "cell_type": "code",
   "execution_count": 88,
   "metadata": {},
   "outputs": [
    {
     "data": {
      "text/plain": [
       "['triceratops_alligator', 'Flo', 'plateosaurus_imperator']"
      ]
     },
     "execution_count": 88,
     "metadata": {},
     "output_type": "execute_result"
    }
   ],
   "source": [
    "teachers"
   ]
  },
  {
   "cell_type": "code",
   "execution_count": 89,
   "metadata": {},
   "outputs": [],
   "source": [
    "import numpy as np"
   ]
  },
  {
   "cell_type": "code",
   "execution_count": 100,
   "metadata": {},
   "outputs": [],
   "source": [
    "num_list = np.random.randint(100, size=130).tolist()"
   ]
  },
  {
   "cell_type": "code",
   "execution_count": 103,
   "metadata": {},
   "outputs": [
    {
     "data": {
      "text/plain": [
       "list"
      ]
     },
     "execution_count": 103,
     "metadata": {},
     "output_type": "execute_result"
    }
   ],
   "source": [
    "type(num_list)"
   ]
  },
  {
   "cell_type": "code",
   "execution_count": 102,
   "metadata": {
    "scrolled": true
   },
   "outputs": [
    {
     "name": "stdout",
     "output_type": "stream",
     "text": [
      "[72, 8, 89, 19, 39, 58, 29, 97, 76, 43, 58, 77, 48, 75, 33, 36, 32, 14, 40, 14, 29, 37, 32, 55, 47, 67, 68, 1, 78, 43, 72, 16, 66, 54, 29, 67, 49, 33, 28, 50, 30, 33, 80, 14, 69, 97, 7, 72, 92, 8, 7, 32, 3, 30, 33, 99, 32, 18, 5, 50, 32, 84, 59, 26, 66, 82, 5, 46, 13, 21, 53, 63, 5, 48, 5, 43, 14, 74, 75, 94, 63, 26, 78, 68, 15, 65, 85, 9, 5, 97, 45, 63, 68, 72, 26, 79, 54, 30, 57, 22, 11, 29, 48, 83, 23, 16, 10, 67, 26, 61, 44, 3, 36, 54, 80, 7, 88, 20, 4, 56, 92, 37, 19, 44, 81, 38, 19, 12, 52, 55]\n"
     ]
    }
   ],
   "source": [
    "print(num_list)"
   ]
  },
  {
   "cell_type": "code",
   "execution_count": 104,
   "metadata": {},
   "outputs": [
    {
     "name": "stdout",
     "output_type": "stream",
     "text": [
      "[1, 3, 3, 4, 5, 5, 5, 5, 5, 7, 7, 7, 8, 8, 9, 10, 11, 12, 13, 14, 14, 14, 14, 15, 16, 16, 18, 19, 19, 19, 20, 21, 22, 23, 26, 26, 26, 26, 28, 29, 29, 29, 29, 30, 30, 30, 32, 32, 32, 32, 32, 33, 33, 33, 33, 36, 36, 37, 37, 38, 39, 40, 43, 43, 43, 44, 44, 45, 46, 47, 48, 48, 48, 49, 50, 50, 52, 53, 54, 54, 54, 55, 55, 56, 57, 58, 58, 59, 61, 63, 63, 63, 65, 66, 66, 67, 67, 67, 68, 68, 68, 69, 72, 72, 72, 72, 74, 75, 75, 76, 77, 78, 78, 79, 80, 80, 81, 82, 83, 84, 85, 88, 89, 92, 92, 94, 97, 97, 97, 99]\n"
     ]
    }
   ],
   "source": [
    "num_list = sorted(num_list, reverse=False)\n",
    "print(num_list)"
   ]
  },
  {
   "cell_type": "markdown",
   "metadata": {},
   "source": [
    "#### Iterating through lists"
   ]
  },
  {
   "cell_type": "code",
   "execution_count": 107,
   "metadata": {
    "scrolled": true
   },
   "outputs": [
    {
     "name": "stdout",
     "output_type": "stream",
     "text": [
      "1% done...\n",
      "3% done...\n",
      "3% done...\n",
      "4% done...\n",
      "5% done...\n",
      "5% done...\n",
      "5% done...\n",
      "5% done...\n",
      "5% done...\n",
      "7% done...\n",
      "7% done...\n",
      "7% done...\n",
      "8% done...\n",
      "8% done...\n",
      "9% done...\n",
      "10% done...\n",
      "11% done...\n",
      "12% done...\n",
      "13% done...\n",
      "14% done...\n",
      "14% done...\n",
      "14% done...\n",
      "14% done...\n",
      "15% done...\n",
      "16% done...\n",
      "16% done...\n",
      "18% done...\n",
      "19% done...\n",
      "19% done...\n",
      "19% done...\n",
      "20% done...\n",
      "21% done...\n",
      "22% done...\n",
      "23% done...\n",
      "26% done...\n",
      "26% done...\n",
      "26% done...\n",
      "26% done...\n",
      "28% done...\n",
      "29% done...\n",
      "29% done...\n",
      "29% done...\n",
      "29% done...\n",
      "30% done...\n",
      "30% done...\n",
      "30% done...\n",
      "32% done...\n",
      "32% done...\n",
      "32% done...\n",
      "32% done...\n",
      "32% done...\n",
      "33% done...\n",
      "33% done...\n",
      "33% done...\n",
      "33% done...\n",
      "36% done...\n",
      "36% done...\n",
      "37% done...\n",
      "37% done...\n",
      "38% done...\n",
      "39% done...\n",
      "40% done...\n",
      "43% done...\n",
      "43% done...\n",
      "43% done...\n",
      "44% done...\n",
      "44% done...\n",
      "45% done...\n",
      "46% done...\n",
      "47% done...\n",
      "48% done...\n",
      "48% done...\n",
      "48% done...\n",
      "49% done...\n",
      "50% done...\n",
      "50% done...\n",
      "52% done...\n",
      "53% done...\n",
      "54% done...\n",
      "54% done...\n",
      "54% done...\n",
      "55% done...\n",
      "55% done...\n",
      "56% done...\n",
      "57% done...\n",
      "58% done...\n",
      "58% done...\n",
      "59% done...\n",
      "61% done...\n",
      "63% done...\n",
      "63% done...\n",
      "63% done...\n",
      "65% done...\n",
      "66% done...\n",
      "66% done...\n",
      "67% done...\n",
      "67% done...\n",
      "67% done...\n",
      "68% done...\n",
      "68% done...\n",
      "68% done...\n",
      "69% done...\n",
      "72% done...\n",
      "72% done...\n",
      "72% done...\n",
      "72% done...\n",
      "74% done...\n",
      "75% done...\n",
      "75% done...\n",
      "76% done...\n",
      "77% done...\n",
      "78% done...\n",
      "78% done...\n",
      "79% done...\n",
      "80% done...\n",
      "80% done...\n",
      "81% done...\n",
      "82% done...\n",
      "83% done...\n",
      "84% done...\n",
      "85% done...\n",
      "88% done...\n",
      "89% done...\n",
      "92% done...\n",
      "92% done...\n",
      "94% done...\n",
      "97% done...\n",
      "97% done...\n",
      "97% done...\n",
      "99% done...\n"
     ]
    }
   ],
   "source": [
    "for num in num_list:\n",
    "    print(f\"{num}% done...\")"
   ]
  },
  {
   "cell_type": "code",
   "execution_count": 108,
   "metadata": {},
   "outputs": [],
   "source": [
    "import time"
   ]
  },
  {
   "cell_type": "code",
   "execution_count": 109,
   "metadata": {},
   "outputs": [],
   "source": [
    "time.sleep(2)"
   ]
  },
  {
   "cell_type": "code",
   "execution_count": 114,
   "metadata": {},
   "outputs": [
    {
     "name": "stdout",
     "output_type": "stream",
     "text": [
      "The process is done!\r"
     ]
    }
   ],
   "source": [
    "waiting_time = 7\n",
    "pct = 0\n",
    "\n",
    "for t in range(1, 6):\n",
    "    time.sleep(7 / 5)\n",
    "    pct += 20\n",
    "    print(f\"{pct}% done...\", end='\\r')\n",
    "time.sleep(7 / 5)\n",
    "print(\"The process is done!\", end='\\r')"
   ]
  },
  {
   "cell_type": "code",
   "execution_count": 115,
   "metadata": {},
   "outputs": [],
   "source": [
    "def progress_bar(waiting_time):\n",
    "    pct = 0\n",
    "    for t in range(1, 6):\n",
    "        time.sleep(waiting_time / 5)\n",
    "        pct += 20\n",
    "        print(f\"{pct}% done...\", end='\\r')\n",
    "    time.sleep(waiting_time / 5)\n",
    "    print(\"The process is done!\", end='\\r')"
   ]
  },
  {
   "cell_type": "code",
   "execution_count": 119,
   "metadata": {
    "scrolled": true
   },
   "outputs": [
    {
     "name": "stdout",
     "output_type": "stream",
     "text": [
      "The process is done!\r"
     ]
    }
   ],
   "source": [
    "progress_bar(1) #Teaser: More on that later..."
   ]
  },
  {
   "cell_type": "markdown",
   "metadata": {},
   "source": [
    "##### Dictionaries"
   ]
  },
  {
   "cell_type": "code",
   "execution_count": 120,
   "metadata": {},
   "outputs": [],
   "source": [
    "ages = {\"Flo\":100,\n",
    "        \"Jonas\":3,\n",
    "        \"Kosta\":310,\n",
    "        \"Sian\":22\n",
    "       }"
   ]
  },
  {
   "cell_type": "code",
   "execution_count": 121,
   "metadata": {},
   "outputs": [
    {
     "data": {
      "text/plain": [
       "{'Flo': 100, 'Jonas': 3, 'Kosta': 310, 'Sian': 22}"
      ]
     },
     "execution_count": 121,
     "metadata": {},
     "output_type": "execute_result"
    }
   ],
   "source": [
    "ages"
   ]
  },
  {
   "cell_type": "code",
   "execution_count": 122,
   "metadata": {},
   "outputs": [
    {
     "data": {
      "text/plain": [
       "dict"
      ]
     },
     "execution_count": 122,
     "metadata": {},
     "output_type": "execute_result"
    }
   ],
   "source": [
    "type(ages)"
   ]
  },
  {
   "cell_type": "markdown",
   "metadata": {},
   "source": [
    "##### Accessing keys & values"
   ]
  },
  {
   "cell_type": "code",
   "execution_count": 124,
   "metadata": {},
   "outputs": [
    {
     "data": {
      "text/plain": [
       "dict_keys(['Flo', 'Jonas', 'Kosta', 'Sian'])"
      ]
     },
     "execution_count": 124,
     "metadata": {},
     "output_type": "execute_result"
    }
   ],
   "source": [
    "ages.keys()"
   ]
  },
  {
   "cell_type": "code",
   "execution_count": 125,
   "metadata": {},
   "outputs": [
    {
     "data": {
      "text/plain": [
       "dict_values([100, 3, 310, 22])"
      ]
     },
     "execution_count": 125,
     "metadata": {},
     "output_type": "execute_result"
    }
   ],
   "source": [
    "ages.values()"
   ]
  },
  {
   "cell_type": "code",
   "execution_count": 129,
   "metadata": {},
   "outputs": [
    {
     "data": {
      "text/plain": [
       "310"
      ]
     },
     "execution_count": 129,
     "metadata": {},
     "output_type": "execute_result"
    }
   ],
   "source": [
    "ages[\"Kosta\"]"
   ]
  },
  {
   "cell_type": "code",
   "execution_count": 127,
   "metadata": {},
   "outputs": [
    {
     "data": {
      "text/plain": [
       "4"
      ]
     },
     "execution_count": 127,
     "metadata": {},
     "output_type": "execute_result"
    }
   ],
   "source": [
    "len(ages)"
   ]
  },
  {
   "cell_type": "markdown",
   "metadata": {},
   "source": [
    "##### Iterate through dictionary"
   ]
  },
  {
   "cell_type": "code",
   "execution_count": 128,
   "metadata": {
    "scrolled": false
   },
   "outputs": [
    {
     "name": "stdout",
     "output_type": "stream",
     "text": [
      "Flo is 100 years old.\n",
      "Jonas is 3 years old.\n",
      "Kosta is 310 years old.\n",
      "Sian is 22 years old.\n"
     ]
    }
   ],
   "source": [
    "for teacher in ages.keys():\n",
    "    print(f\"{teacher} is {ages[teacher]} years old.\")"
   ]
  },
  {
   "cell_type": "markdown",
   "metadata": {},
   "source": [
    "#### Nested dictionaries\n",
    "\n",
    "Creating a dictionary of ironhackers. It stores their age, role and species."
   ]
  },
  {
   "cell_type": "code",
   "execution_count": 130,
   "metadata": {},
   "outputs": [],
   "source": [
    "teachers_dict = {\n",
    "    \"Flo\":{\n",
    "        \"age\":100,\n",
    "        \"role\":\"LT\",\n",
    "        \"species\":\"giganotosaurus_crocodile\"\n",
    "    },\n",
    "    \"Jonas\":{\n",
    "        \"age\":3,\n",
    "        \"role\":\"PM\",\n",
    "        \"species\":\"titanosauria_caiman\"\n",
    "    },\n",
    "    \"Kosta\":{\n",
    "        \"age\":310,\n",
    "        \"role\":\"TA\",\n",
    "        \"species\":\"triceratops_alligator\"\n",
    "    },\n",
    "    \"Sian\":{\n",
    "        \"age\":22,\n",
    "        \"role\":\"LT\",\n",
    "        \"species\":\"plateosaurus_imperator\"\n",
    "    }\n",
    "}"
   ]
  },
  {
   "cell_type": "code",
   "execution_count": 131,
   "metadata": {},
   "outputs": [
    {
     "data": {
      "text/plain": [
       "'titanosauria_caiman'"
      ]
     },
     "execution_count": 131,
     "metadata": {},
     "output_type": "execute_result"
    }
   ],
   "source": [
    "teachers_dict[\"Jonas\"][\"species\"]"
   ]
  },
  {
   "cell_type": "markdown",
   "metadata": {},
   "source": [
    "##### Tuples\n",
    "|Lists|VS|Tuples|\n",
    "|---|---|---|\n",
    "|\"[]\"|VS|\"()\"|\n",
    "|variable|VS|fixed length|\n",
    "|mutable|VS|immutable|"
   ]
  },
  {
   "cell_type": "code",
   "execution_count": 132,
   "metadata": {},
   "outputs": [],
   "source": [
    "teachers_tuple = tuple(teachers)"
   ]
  },
  {
   "cell_type": "code",
   "execution_count": 133,
   "metadata": {},
   "outputs": [
    {
     "data": {
      "text/plain": [
       "('triceratops_alligator', 'Flo', 'plateosaurus_imperator')"
      ]
     },
     "execution_count": 133,
     "metadata": {},
     "output_type": "execute_result"
    }
   ],
   "source": [
    "teachers_tuple"
   ]
  },
  {
   "cell_type": "markdown",
   "metadata": {},
   "source": [
    "#### Sets"
   ]
  },
  {
   "cell_type": "code",
   "execution_count": 134,
   "metadata": {},
   "outputs": [],
   "source": [
    "import random"
   ]
  },
  {
   "cell_type": "code",
   "execution_count": 135,
   "metadata": {},
   "outputs": [
    {
     "data": {
      "text/plain": [
       "64"
      ]
     },
     "execution_count": 135,
     "metadata": {},
     "output_type": "execute_result"
    }
   ],
   "source": [
    "random.randint(1, 100)"
   ]
  },
  {
   "cell_type": "markdown",
   "metadata": {},
   "source": [
    "Take a random sample (with replacement) of 100 numbers from 1 to 100:"
   ]
  },
  {
   "cell_type": "code",
   "execution_count": 136,
   "metadata": {},
   "outputs": [],
   "source": [
    "random_numbers = []\n",
    "\n",
    "for i in range(100):\n",
    "    random_numbers.append(random.randint(1, 100))"
   ]
  },
  {
   "cell_type": "code",
   "execution_count": 137,
   "metadata": {
    "scrolled": true
   },
   "outputs": [
    {
     "data": {
      "text/plain": [
       "[4,\n",
       " 1,\n",
       " 98,\n",
       " 98,\n",
       " 14,\n",
       " 14,\n",
       " 35,\n",
       " 71,\n",
       " 68,\n",
       " 30,\n",
       " 12,\n",
       " 39,\n",
       " 96,\n",
       " 48,\n",
       " 24,\n",
       " 76,\n",
       " 2,\n",
       " 43,\n",
       " 75,\n",
       " 26,\n",
       " 92,\n",
       " 15,\n",
       " 40,\n",
       " 94,\n",
       " 80,\n",
       " 62,\n",
       " 76,\n",
       " 90,\n",
       " 95,\n",
       " 76,\n",
       " 2,\n",
       " 67,\n",
       " 3,\n",
       " 99,\n",
       " 30,\n",
       " 43,\n",
       " 100,\n",
       " 92,\n",
       " 80,\n",
       " 18,\n",
       " 27,\n",
       " 56,\n",
       " 41,\n",
       " 39,\n",
       " 84,\n",
       " 55,\n",
       " 86,\n",
       " 74,\n",
       " 18,\n",
       " 62,\n",
       " 92,\n",
       " 4,\n",
       " 64,\n",
       " 64,\n",
       " 21,\n",
       " 52,\n",
       " 99,\n",
       " 12,\n",
       " 20,\n",
       " 98,\n",
       " 68,\n",
       " 46,\n",
       " 49,\n",
       " 64,\n",
       " 3,\n",
       " 67,\n",
       " 67,\n",
       " 79,\n",
       " 62,\n",
       " 38,\n",
       " 78,\n",
       " 76,\n",
       " 59,\n",
       " 5,\n",
       " 95,\n",
       " 59,\n",
       " 50,\n",
       " 9,\n",
       " 61,\n",
       " 33,\n",
       " 57,\n",
       " 37,\n",
       " 64,\n",
       " 64,\n",
       " 20,\n",
       " 18,\n",
       " 1,\n",
       " 78,\n",
       " 7,\n",
       " 84,\n",
       " 33,\n",
       " 1,\n",
       " 44,\n",
       " 77,\n",
       " 62,\n",
       " 66,\n",
       " 55,\n",
       " 18,\n",
       " 32,\n",
       " 63]"
      ]
     },
     "execution_count": 137,
     "metadata": {},
     "output_type": "execute_result"
    }
   ],
   "source": [
    "random_numbers"
   ]
  },
  {
   "cell_type": "code",
   "execution_count": 138,
   "metadata": {},
   "outputs": [
    {
     "data": {
      "text/plain": [
       "100"
      ]
     },
     "execution_count": 138,
     "metadata": {},
     "output_type": "execute_result"
    }
   ],
   "source": [
    "len(random_numbers)"
   ]
  },
  {
   "cell_type": "code",
   "execution_count": 139,
   "metadata": {},
   "outputs": [
    {
     "data": {
      "text/plain": [
       "61"
      ]
     },
     "execution_count": 139,
     "metadata": {},
     "output_type": "execute_result"
    }
   ],
   "source": [
    "len(set(random_numbers))"
   ]
  },
  {
   "cell_type": "markdown",
   "metadata": {},
   "source": [
    "What is the expected proportion of unique elements when taking samples with replacement of the same size of the population?\n",
    "\n",
    "Too soon for statistics: take a hacker approach - repeat the operation a few thousand times and report the average."
   ]
  },
  {
   "cell_type": "markdown",
   "metadata": {},
   "source": [
    "##### Iretate with sets"
   ]
  },
  {
   "cell_type": "code",
   "execution_count": 140,
   "metadata": {},
   "outputs": [],
   "source": [
    "import statistics"
   ]
  },
  {
   "cell_type": "code",
   "execution_count": 141,
   "metadata": {
    "scrolled": true
   },
   "outputs": [
    {
     "data": {
      "text/plain": [
       "63.40413"
      ]
     },
     "execution_count": 141,
     "metadata": {},
     "output_type": "execute_result"
    }
   ],
   "source": [
    "simuls = 100000\n",
    "set_size = 100\n",
    "\n",
    "simuls_avg = []\n",
    "\n",
    "for simul in range(simuls):\n",
    "    random_numbers = []\n",
    "    for i in range(set_size):\n",
    "        random_numbers.append(random.randint(1,set_size))\n",
    "    simuls_avg.append(len(set(random_numbers)))\n",
    "\n",
    "statistics.mean(simuls_avg)"
   ]
  },
  {
   "cell_type": "markdown",
   "metadata": {},
   "source": [
    "##### While loops:\n",
    "Program to add natural numbers up to sum = 1+2+3+...+n"
   ]
  },
  {
   "cell_type": "code",
   "execution_count": 143,
   "metadata": {},
   "outputs": [
    {
     "name": "stdout",
     "output_type": "stream",
     "text": [
      "The sum is 3\n"
     ]
    }
   ],
   "source": [
    "# Taking input from the user, teaser.\n",
    "\n",
    "num = 2\n",
    "sum = 0\n",
    "counter = 1\n",
    "\n",
    "while counter <= num:\n",
    "    sum += counter\n",
    "    counter += 1\n",
    "print(\"The sum is\", sum)"
   ]
  },
  {
   "cell_type": "code",
   "execution_count": null,
   "metadata": {},
   "outputs": [],
   "source": []
  }
 ],
 "metadata": {
  "kernelspec": {
   "display_name": "Python 3",
   "language": "python",
   "name": "python3"
  },
  "language_info": {
   "codemirror_mode": {
    "name": "ipython",
    "version": 3
   },
   "file_extension": ".py",
   "mimetype": "text/x-python",
   "name": "python",
   "nbconvert_exporter": "python",
   "pygments_lexer": "ipython3",
   "version": "3.8.5"
  }
 },
 "nbformat": 4,
 "nbformat_minor": 4
}
