{
 "cells": [
  {
   "cell_type": "markdown",
   "metadata": {},
   "source": [
    "# Python Object types"
   ]
  },
  {
   "cell_type": "markdown",
   "metadata": {},
   "source": [
    "##### Strings"
   ]
  },
  {
   "cell_type": "code",
   "execution_count": 35,
   "metadata": {
    "scrolled": true
   },
   "outputs": [],
   "source": [
    "mystring = \"hey guys how are you doing\""
   ]
  },
  {
   "cell_type": "code",
   "execution_count": 31,
   "metadata": {},
   "outputs": [
    {
     "data": {
      "text/plain": [
       "str"
      ]
     },
     "execution_count": 31,
     "metadata": {},
     "output_type": "execute_result"
    }
   ],
   "source": [
    "type(mystring)"
   ]
  },
  {
   "cell_type": "markdown",
   "metadata": {},
   "source": [
    "Lots of strings attached...https://www.w3schools.com/python/python_ref_string.asp"
   ]
  },
  {
   "cell_type": "code",
   "execution_count": 4,
   "metadata": {
    "scrolled": true
   },
   "outputs": [
    {
     "name": "stdout",
     "output_type": "stream",
     "text": [
      "hey guys how are you doing\n"
     ]
    }
   ],
   "source": [
    "print(mystring)"
   ]
  },
  {
   "cell_type": "code",
   "execution_count": 5,
   "metadata": {},
   "outputs": [],
   "source": [
    "str = mystring.capitalize().casefold().center(111).expandtabs(999999988).format().format_map(42).capitalize().ljust(1).lower().lstrip().replace(\"guys\", \"girls\").swapcase().swapcase().upper().translate(\"hey guys how are you doing? Can you hear me? Is my mic off? Am I muted> donno.\").join(mystring*1)"
   ]
  },
  {
   "cell_type": "code",
   "execution_count": 6,
   "metadata": {},
   "outputs": [
    {
     "data": {
      "text/plain": [
       "str"
      ]
     },
     "execution_count": 6,
     "metadata": {},
     "output_type": "execute_result"
    }
   ],
   "source": [
    "type(str)"
   ]
  },
  {
   "cell_type": "code",
   "execution_count": 7,
   "metadata": {
    "scrolled": true
   },
   "outputs": [
    {
     "data": {
      "text/plain": [
       "'hddYy oRoSydOWymRdyYOUyeOoN yyyyyyyyyyyyyyyyyyyyyyyyyyyyyyyyyyyyyyyyyyeddYy oRoSydOWymRdyYOUyeOoN yyyyyyyyyyyyyyyyyyyyyyyyyyyyyyyyyyyyyyyyyyyddYy oRoSydOWymRdyYOUyeOoN yyyyyyyyyyyyyyyyyyyyyyyyyyyyyyyyyyyyyyyyyy ddYy oRoSydOWymRdyYOUyeOoN yyyyyyyyyyyyyyyyyyyyyyyyyyyyyyyyyyyyyyyyyygddYy oRoSydOWymRdyYOUyeOoN yyyyyyyyyyyyyyyyyyyyyyyyyyyyyyyyyyyyyyyyyyuddYy oRoSydOWymRdyYOUyeOoN yyyyyyyyyyyyyyyyyyyyyyyyyyyyyyyyyyyyyyyyyyyddYy oRoSydOWymRdyYOUyeOoN yyyyyyyyyyyyyyyyyyyyyyyyyyyyyyyyyyyyyyyyyysddYy oRoSydOWymRdyYOUyeOoN yyyyyyyyyyyyyyyyyyyyyyyyyyyyyyyyyyyyyyyyyy ddYy oRoSydOWymRdyYOUyeOoN yyyyyyyyyyyyyyyyyyyyyyyyyyyyyyyyyyyyyyyyyyhddYy oRoSydOWymRdyYOUyeOoN yyyyyyyyyyyyyyyyyyyyyyyyyyyyyyyyyyyyyyyyyyoddYy oRoSydOWymRdyYOUyeOoN yyyyyyyyyyyyyyyyyyyyyyyyyyyyyyyyyyyyyyyyyywddYy oRoSydOWymRdyYOUyeOoN yyyyyyyyyyyyyyyyyyyyyyyyyyyyyyyyyyyyyyyyyy ddYy oRoSydOWymRdyYOUyeOoN yyyyyyyyyyyyyyyyyyyyyyyyyyyyyyyyyyyyyyyyyyaddYy oRoSydOWymRdyYOUyeOoN yyyyyyyyyyyyyyyyyyyyyyyyyyyyyyyyyyyyyyyyyyrddYy oRoSydOWymRdyYOUyeOoN yyyyyyyyyyyyyyyyyyyyyyyyyyyyyyyyyyyyyyyyyyeddYy oRoSydOWymRdyYOUyeOoN yyyyyyyyyyyyyyyyyyyyyyyyyyyyyyyyyyyyyyyyyy ddYy oRoSydOWymRdyYOUyeOoN yyyyyyyyyyyyyyyyyyyyyyyyyyyyyyyyyyyyyyyyyyyddYy oRoSydOWymRdyYOUyeOoN yyyyyyyyyyyyyyyyyyyyyyyyyyyyyyyyyyyyyyyyyyoddYy oRoSydOWymRdyYOUyeOoN yyyyyyyyyyyyyyyyyyyyyyyyyyyyyyyyyyyyyyyyyyuddYy oRoSydOWymRdyYOUyeOoN yyyyyyyyyyyyyyyyyyyyyyyyyyyyyyyyyyyyyyyyyy ddYy oRoSydOWymRdyYOUyeOoN yyyyyyyyyyyyyyyyyyyyyyyyyyyyyyyyyyyyyyyyyydddYy oRoSydOWymRdyYOUyeOoN yyyyyyyyyyyyyyyyyyyyyyyyyyyyyyyyyyyyyyyyyyoddYy oRoSydOWymRdyYOUyeOoN yyyyyyyyyyyyyyyyyyyyyyyyyyyyyyyyyyyyyyyyyyiddYy oRoSydOWymRdyYOUyeOoN yyyyyyyyyyyyyyyyyyyyyyyyyyyyyyyyyyyyyyyyyynddYy oRoSydOWymRdyYOUyeOoN yyyyyyyyyyyyyyyyyyyyyyyyyyyyyyyyyyyyyyyyyyg'"
      ]
     },
     "execution_count": 7,
     "metadata": {},
     "output_type": "execute_result"
    }
   ],
   "source": [
    "str"
   ]
  },
  {
   "cell_type": "code",
   "execution_count": 8,
   "metadata": {},
   "outputs": [
    {
     "name": "stdout",
     "output_type": "stream",
     "text": [
      "hey guys how are you doing\n"
     ]
    }
   ],
   "source": [
    "print(mystring)"
   ]
  },
  {
   "cell_type": "code",
   "execution_count": 36,
   "metadata": {
    "scrolled": true
   },
   "outputs": [
    {
     "data": {
      "text/plain": [
       "2"
      ]
     },
     "execution_count": 36,
     "metadata": {},
     "output_type": "execute_result"
    }
   ],
   "source": [
    "mystring.count(\"e\")"
   ]
  },
  {
   "cell_type": "code",
   "execution_count": 12,
   "metadata": {
    "scrolled": true
   },
   "outputs": [
    {
     "data": {
      "text/plain": [
       "'hey girls how are you doing'"
      ]
     },
     "execution_count": 12,
     "metadata": {},
     "output_type": "execute_result"
    }
   ],
   "source": [
    "mystring.replace(\"guys\", \"girls\")"
   ]
  },
  {
   "cell_type": "code",
   "execution_count": 13,
   "metadata": {},
   "outputs": [
    {
     "data": {
      "text/plain": [
       "'HEY GUYS HOW ARE YOU DOING'"
      ]
     },
     "execution_count": 13,
     "metadata": {},
     "output_type": "execute_result"
    }
   ],
   "source": [
    "mystring.upper()"
   ]
  },
  {
   "cell_type": "code",
   "execution_count": 14,
   "metadata": {},
   "outputs": [
    {
     "data": {
      "text/plain": [
       "'hey guys how are you doing'"
      ]
     },
     "execution_count": 14,
     "metadata": {},
     "output_type": "execute_result"
    }
   ],
   "source": [
    "mystring.lower()"
   ]
  },
  {
   "cell_type": "code",
   "execution_count": 15,
   "metadata": {},
   "outputs": [
    {
     "data": {
      "text/plain": [
       "'Hey guys how are you doing'"
      ]
     },
     "execution_count": 15,
     "metadata": {},
     "output_type": "execute_result"
    }
   ],
   "source": [
    "mystring.capitalize()"
   ]
  },
  {
   "cell_type": "code",
   "execution_count": 16,
   "metadata": {
    "scrolled": true
   },
   "outputs": [
    {
     "data": {
      "text/plain": [
       "'Hey Guys How Are You Doing'"
      ]
     },
     "execution_count": 16,
     "metadata": {},
     "output_type": "execute_result"
    }
   ],
   "source": [
    "mystring.title()"
   ]
  },
  {
   "cell_type": "code",
   "execution_count": 17,
   "metadata": {},
   "outputs": [],
   "source": [
    "mystring = \"3\""
   ]
  },
  {
   "cell_type": "code",
   "execution_count": 18,
   "metadata": {
    "scrolled": false
   },
   "outputs": [
    {
     "data": {
      "text/plain": [
       "True"
      ]
     },
     "execution_count": 18,
     "metadata": {},
     "output_type": "execute_result"
    }
   ],
   "source": [
    "mystring.isdigit()"
   ]
  },
  {
   "cell_type": "code",
   "execution_count": 19,
   "metadata": {},
   "outputs": [],
   "source": [
    "mystring = \" \""
   ]
  },
  {
   "cell_type": "code",
   "execution_count": 20,
   "metadata": {},
   "outputs": [
    {
     "data": {
      "text/plain": [
       "True"
      ]
     },
     "execution_count": 20,
     "metadata": {},
     "output_type": "execute_result"
    }
   ],
   "source": [
    "mystring.isspace()"
   ]
  },
  {
   "cell_type": "code",
   "execution_count": 21,
   "metadata": {},
   "outputs": [
    {
     "data": {
      "text/plain": [
       "True"
      ]
     },
     "execution_count": 21,
     "metadata": {},
     "output_type": "execute_result"
    }
   ],
   "source": [
    "mystring.isprintable()"
   ]
  },
  {
   "cell_type": "markdown",
   "metadata": {},
   "source": [
    "##### Indexing"
   ]
  },
  {
   "cell_type": "code",
   "execution_count": 22,
   "metadata": {},
   "outputs": [],
   "source": [
    "mystring = \"hey guys how are you doing\""
   ]
  },
  {
   "cell_type": "code",
   "execution_count": 23,
   "metadata": {},
   "outputs": [
    {
     "data": {
      "text/plain": [
       "'h'"
      ]
     },
     "execution_count": 23,
     "metadata": {},
     "output_type": "execute_result"
    }
   ],
   "source": [
    "mystring[0]"
   ]
  },
  {
   "cell_type": "code",
   "execution_count": 37,
   "metadata": {},
   "outputs": [
    {
     "data": {
      "text/plain": [
       "' '"
      ]
     },
     "execution_count": 37,
     "metadata": {},
     "output_type": "execute_result"
    }
   ],
   "source": [
    "mystring[3]"
   ]
  },
  {
   "cell_type": "code",
   "execution_count": 24,
   "metadata": {},
   "outputs": [
    {
     "data": {
      "text/plain": [
       "'g'"
      ]
     },
     "execution_count": 24,
     "metadata": {},
     "output_type": "execute_result"
    }
   ],
   "source": [
    "mystring[-1]"
   ]
  },
  {
   "cell_type": "code",
   "execution_count": 25,
   "metadata": {},
   "outputs": [
    {
     "data": {
      "text/plain": [
       "'y g'"
      ]
     },
     "execution_count": 25,
     "metadata": {},
     "output_type": "execute_result"
    }
   ],
   "source": [
    "mystring[2:5]"
   ]
  },
  {
   "cell_type": "code",
   "execution_count": 26,
   "metadata": {},
   "outputs": [
    {
     "data": {
      "text/plain": [
       "'guys how are you doing'"
      ]
     },
     "execution_count": 26,
     "metadata": {},
     "output_type": "execute_result"
    }
   ],
   "source": [
    "mystring[4:]"
   ]
  },
  {
   "cell_type": "code",
   "execution_count": 27,
   "metadata": {},
   "outputs": [],
   "source": [
    "mystring = \"That's\""
   ]
  },
  {
   "cell_type": "code",
   "execution_count": 28,
   "metadata": {
    "scrolled": true
   },
   "outputs": [
    {
     "data": {
      "text/plain": [
       "\"That's all folks!\""
      ]
     },
     "execution_count": 28,
     "metadata": {},
     "output_type": "execute_result"
    }
   ],
   "source": [
    "mystring + \" all folks!\""
   ]
  },
  {
   "cell_type": "code",
   "execution_count": 30,
   "metadata": {},
   "outputs": [
    {
     "data": {
      "text/plain": [
       "'53'"
      ]
     },
     "execution_count": 30,
     "metadata": {},
     "output_type": "execute_result"
    }
   ],
   "source": [
    "a = \"5\"\n",
    "b = \"3\"\n",
    "a + b"
   ]
  }
 ],
 "metadata": {
  "kernelspec": {
   "display_name": "Python 3",
   "language": "python",
   "name": "python3"
  },
  "language_info": {
   "codemirror_mode": {
    "name": "ipython",
    "version": 3
   },
   "file_extension": ".py",
   "mimetype": "text/x-python",
   "name": "python",
   "nbconvert_exporter": "python",
   "pygments_lexer": "ipython3",
   "version": "3.8.5"
  }
 },
 "nbformat": 4,
 "nbformat_minor": 4
}
