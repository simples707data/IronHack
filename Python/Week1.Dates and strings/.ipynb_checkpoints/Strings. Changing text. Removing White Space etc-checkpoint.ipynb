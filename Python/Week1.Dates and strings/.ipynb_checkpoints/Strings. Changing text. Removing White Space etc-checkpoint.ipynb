{
 "cells": [
  {
   "cell_type": "markdown",
   "metadata": {},
   "source": [
    "# dates and strings - what you need to know "
   ]
  },
  {
   "cell_type": "raw",
   "metadata": {},
   "source": [
    "Working with datetime format\n",
    "Standardizing input \n",
    "Using string functions\n"
   ]
  },
  {
   "cell_type": "code",
   "execution_count": 26,
   "metadata": {},
   "outputs": [],
   "source": [
    "import pandas as pd"
   ]
  },
  {
   "cell_type": "code",
   "execution_count": 27,
   "metadata": {},
   "outputs": [],
   "source": [
    "import numpy as np"
   ]
  },
  {
   "cell_type": "markdown",
   "metadata": {},
   "source": [
    "### to work with dates, we need a data set that contains dates"
   ]
  },
  {
   "cell_type": "code",
   "execution_count": 28,
   "metadata": {},
   "outputs": [
    {
     "data": {
      "text/plain": [
       "web_id           int64\n",
       "client_id        int64\n",
       "visitor_id      object\n",
       "visit_id        object\n",
       "process_step    object\n",
       "date_time       object\n",
       "dtype: object"
      ]
     },
     "execution_count": 28,
     "metadata": {},
     "output_type": "execute_result"
    }
   ],
   "source": [
    "file = pd.read_csv('web_data.csv')\n",
    "file.dtypes"
   ]
  },
  {
   "cell_type": "code",
   "execution_count": 29,
   "metadata": {},
   "outputs": [],
   "source": [
    "#use head to review the file \n"
   ]
  },
  {
   "cell_type": "code",
   "execution_count": 30,
   "metadata": {},
   "outputs": [],
   "source": [
    "#convert the date_time column to be read as a datetime data type \n",
    "file['date_time'] = pd.to_datetime(file['date_time'], errors='coerce')"
   ]
  },
  {
   "cell_type": "code",
   "execution_count": 31,
   "metadata": {},
   "outputs": [
    {
     "data": {
      "text/html": [
       "<div>\n",
       "<style scoped>\n",
       "    .dataframe tbody tr th:only-of-type {\n",
       "        vertical-align: middle;\n",
       "    }\n",
       "\n",
       "    .dataframe tbody tr th {\n",
       "        vertical-align: top;\n",
       "    }\n",
       "\n",
       "    .dataframe thead th {\n",
       "        text-align: right;\n",
       "    }\n",
       "</style>\n",
       "<table border=\"1\" class=\"dataframe\">\n",
       "  <thead>\n",
       "    <tr style=\"text-align: right;\">\n",
       "      <th></th>\n",
       "      <th>web_id</th>\n",
       "      <th>client_id</th>\n",
       "      <th>visitor_id</th>\n",
       "      <th>visit_id</th>\n",
       "      <th>process_step</th>\n",
       "      <th>date_time</th>\n",
       "    </tr>\n",
       "  </thead>\n",
       "  <tbody>\n",
       "    <tr>\n",
       "      <th>0</th>\n",
       "      <td>0</td>\n",
       "      <td>9988021</td>\n",
       "      <td>580560515_7732621733</td>\n",
       "      <td>781255054_21935453173_531117</td>\n",
       "      <td>step_3</td>\n",
       "      <td>2017-04-17 15:27:00</td>\n",
       "    </tr>\n",
       "    <tr>\n",
       "      <th>1</th>\n",
       "      <td>1</td>\n",
       "      <td>9988021</td>\n",
       "      <td>580560515_7732621733</td>\n",
       "      <td>781255054_21935453173_531117</td>\n",
       "      <td>step_2</td>\n",
       "      <td>2017-04-17 15:26:00</td>\n",
       "    </tr>\n",
       "    <tr>\n",
       "      <th>2</th>\n",
       "      <td>2</td>\n",
       "      <td>9988021</td>\n",
       "      <td>580560515_7732621733</td>\n",
       "      <td>781255054_21935453173_531117</td>\n",
       "      <td>step_3</td>\n",
       "      <td>2017-04-17 15:19:00</td>\n",
       "    </tr>\n",
       "    <tr>\n",
       "      <th>3</th>\n",
       "      <td>3</td>\n",
       "      <td>9988021</td>\n",
       "      <td>580560515_7732621733</td>\n",
       "      <td>781255054_21935453173_531117</td>\n",
       "      <td>step_2</td>\n",
       "      <td>2017-04-17 15:19:00</td>\n",
       "    </tr>\n",
       "    <tr>\n",
       "      <th>4</th>\n",
       "      <td>4</td>\n",
       "      <td>9988021</td>\n",
       "      <td>580560515_7732621733</td>\n",
       "      <td>781255054_21935453173_531117</td>\n",
       "      <td>step_3</td>\n",
       "      <td>2017-04-17 15:18:00</td>\n",
       "    </tr>\n",
       "    <tr>\n",
       "      <th>5</th>\n",
       "      <td>5</td>\n",
       "      <td>9988021</td>\n",
       "      <td>580560515_7732621733</td>\n",
       "      <td>781255054_21935453173_531117</td>\n",
       "      <td>step_2</td>\n",
       "      <td>2017-04-17 15:17:00</td>\n",
       "    </tr>\n",
       "    <tr>\n",
       "      <th>6</th>\n",
       "      <td>6</td>\n",
       "      <td>9988021</td>\n",
       "      <td>580560515_7732621733</td>\n",
       "      <td>781255054_21935453173_531117</td>\n",
       "      <td>step_1</td>\n",
       "      <td>2017-04-17 15:17:00</td>\n",
       "    </tr>\n",
       "    <tr>\n",
       "      <th>7</th>\n",
       "      <td>7</td>\n",
       "      <td>9988021</td>\n",
       "      <td>580560515_7732621733</td>\n",
       "      <td>781255054_21935453173_531117</td>\n",
       "      <td>start</td>\n",
       "      <td>2017-04-17 15:16:00</td>\n",
       "    </tr>\n",
       "    <tr>\n",
       "      <th>8</th>\n",
       "      <td>8</td>\n",
       "      <td>8320017</td>\n",
       "      <td>39393514_33118319366</td>\n",
       "      <td>960651974_70596002104_312201</td>\n",
       "      <td>confirm</td>\n",
       "      <td>2017-04-05 13:10:00</td>\n",
       "    </tr>\n",
       "    <tr>\n",
       "      <th>9</th>\n",
       "      <td>9</td>\n",
       "      <td>8320017</td>\n",
       "      <td>39393514_33118319366</td>\n",
       "      <td>960651974_70596002104_312201</td>\n",
       "      <td>step_3</td>\n",
       "      <td>2017-04-05 13:09:00</td>\n",
       "    </tr>\n",
       "    <tr>\n",
       "      <th>10</th>\n",
       "      <td>10</td>\n",
       "      <td>8320017</td>\n",
       "      <td>39393514_33118319366</td>\n",
       "      <td>960651974_70596002104_312201</td>\n",
       "      <td>step_2</td>\n",
       "      <td>2017-04-05 13:08:00</td>\n",
       "    </tr>\n",
       "    <tr>\n",
       "      <th>11</th>\n",
       "      <td>11</td>\n",
       "      <td>8320017</td>\n",
       "      <td>39393514_33118319366</td>\n",
       "      <td>960651974_70596002104_312201</td>\n",
       "      <td>step_1</td>\n",
       "      <td>2017-04-05 13:08:00</td>\n",
       "    </tr>\n",
       "  </tbody>\n",
       "</table>\n",
       "</div>"
      ],
      "text/plain": [
       "    web_id  client_id            visitor_id                      visit_id  \\\n",
       "0        0    9988021  580560515_7732621733  781255054_21935453173_531117   \n",
       "1        1    9988021  580560515_7732621733  781255054_21935453173_531117   \n",
       "2        2    9988021  580560515_7732621733  781255054_21935453173_531117   \n",
       "3        3    9988021  580560515_7732621733  781255054_21935453173_531117   \n",
       "4        4    9988021  580560515_7732621733  781255054_21935453173_531117   \n",
       "5        5    9988021  580560515_7732621733  781255054_21935453173_531117   \n",
       "6        6    9988021  580560515_7732621733  781255054_21935453173_531117   \n",
       "7        7    9988021  580560515_7732621733  781255054_21935453173_531117   \n",
       "8        8    8320017  39393514_33118319366  960651974_70596002104_312201   \n",
       "9        9    8320017  39393514_33118319366  960651974_70596002104_312201   \n",
       "10      10    8320017  39393514_33118319366  960651974_70596002104_312201   \n",
       "11      11    8320017  39393514_33118319366  960651974_70596002104_312201   \n",
       "\n",
       "   process_step           date_time  \n",
       "0        step_3 2017-04-17 15:27:00  \n",
       "1        step_2 2017-04-17 15:26:00  \n",
       "2        step_3 2017-04-17 15:19:00  \n",
       "3        step_2 2017-04-17 15:19:00  \n",
       "4        step_3 2017-04-17 15:18:00  \n",
       "5        step_2 2017-04-17 15:17:00  \n",
       "6        step_1 2017-04-17 15:17:00  \n",
       "7         start 2017-04-17 15:16:00  \n",
       "8       confirm 2017-04-05 13:10:00  \n",
       "9        step_3 2017-04-05 13:09:00  \n",
       "10       step_2 2017-04-05 13:08:00  \n",
       "11       step_1 2017-04-05 13:08:00  "
      ]
     },
     "execution_count": 31,
     "metadata": {},
     "output_type": "execute_result"
    }
   ],
   "source": [
    "#use head() to review the first 12 rows of the file\n",
    "file.head(12)"
   ]
  },
  {
   "cell_type": "code",
   "execution_count": 32,
   "metadata": {},
   "outputs": [
    {
     "data": {
      "text/plain": [
       "web_id                   int64\n",
       "client_id                int64\n",
       "visitor_id              object\n",
       "visit_id                object\n",
       "process_step            object\n",
       "date_time       datetime64[ns]\n",
       "dtype: object"
      ]
     },
     "execution_count": 32,
     "metadata": {},
     "output_type": "execute_result"
    }
   ],
   "source": [
    "#use dtypes to see the new date time data type \n",
    "file.dtypes\n"
   ]
  },
  {
   "cell_type": "code",
   "execution_count": 33,
   "metadata": {},
   "outputs": [
    {
     "data": {
      "text/plain": [
       "17"
      ]
     },
     "execution_count": 33,
     "metadata": {},
     "output_type": "execute_result"
    }
   ],
   "source": [
    "#use the day month year and index to check the month and day of the first row eg file['date_time'][0].year\n",
    "file['date_time'][0].year\n",
    "file['date_time'][0].month\n",
    "file ['date_time'][0].day"
   ]
  },
  {
   "cell_type": "code",
   "execution_count": 34,
   "metadata": {},
   "outputs": [
    {
     "data": {
      "text/plain": [
       "datetime.time(15, 27)"
      ]
     },
     "execution_count": 34,
     "metadata": {},
     "output_type": "execute_result"
    }
   ],
   "source": [
    "#pull out the time \n",
    "file['date_time'][0].time()"
   ]
  },
  {
   "cell_type": "code",
   "execution_count": 35,
   "metadata": {},
   "outputs": [
    {
     "data": {
      "text/plain": [
       "'17-27-2017'"
      ]
     },
     "execution_count": 35,
     "metadata": {},
     "output_type": "execute_result"
    }
   ],
   "source": [
    "#reformat the date - example 1\n",
    "file['date_time'][0].strftime(format='%d-%M-%Y')"
   ]
  },
  {
   "cell_type": "code",
   "execution_count": 36,
   "metadata": {},
   "outputs": [
    {
     "data": {
      "text/plain": [
       "'Monday 17. April 2017'"
      ]
     },
     "execution_count": 36,
     "metadata": {},
     "output_type": "execute_result"
    }
   ],
   "source": [
    "#reformat the date - example 2\n",
    "file['date_time'][0].strftime(format=\"%A %d. %B %Y\")"
   ]
  },
  {
   "cell_type": "code",
   "execution_count": 38,
   "metadata": {},
   "outputs": [],
   "source": [
    "#create a filtered data frame by a particular date \n",
    "Apr_5 = file[file['date_time'] == '2017-04-05']"
   ]
  },
  {
   "cell_type": "code",
   "execution_count": 39,
   "metadata": {},
   "outputs": [
    {
     "data": {
      "text/html": [
       "<div>\n",
       "<style scoped>\n",
       "    .dataframe tbody tr th:only-of-type {\n",
       "        vertical-align: middle;\n",
       "    }\n",
       "\n",
       "    .dataframe tbody tr th {\n",
       "        vertical-align: top;\n",
       "    }\n",
       "\n",
       "    .dataframe thead th {\n",
       "        text-align: right;\n",
       "    }\n",
       "</style>\n",
       "<table border=\"1\" class=\"dataframe\">\n",
       "  <thead>\n",
       "    <tr style=\"text-align: right;\">\n",
       "      <th></th>\n",
       "      <th>web_id</th>\n",
       "      <th>client_id</th>\n",
       "      <th>visitor_id</th>\n",
       "      <th>visit_id</th>\n",
       "      <th>process_step</th>\n",
       "      <th>date_time</th>\n",
       "    </tr>\n",
       "  </thead>\n",
       "  <tbody>\n",
       "    <tr>\n",
       "      <th>15403</th>\n",
       "      <td>15403</td>\n",
       "      <td>9088919</td>\n",
       "      <td>594492611_13177416992</td>\n",
       "      <td>373345047_76916836421_363244</td>\n",
       "      <td>confirm</td>\n",
       "      <td>2017-04-05</td>\n",
       "    </tr>\n",
       "    <tr>\n",
       "      <th>97905</th>\n",
       "      <td>97905</td>\n",
       "      <td>5171878</td>\n",
       "      <td>88910480_73022518291</td>\n",
       "      <td>390443893_82608504306_269</td>\n",
       "      <td>start</td>\n",
       "      <td>2017-04-05</td>\n",
       "    </tr>\n",
       "    <tr>\n",
       "      <th>97906</th>\n",
       "      <td>97906</td>\n",
       "      <td>5171878</td>\n",
       "      <td>88910480_73022518291</td>\n",
       "      <td>390443893_82608504306_269</td>\n",
       "      <td>start</td>\n",
       "      <td>2017-04-05</td>\n",
       "    </tr>\n",
       "    <tr>\n",
       "      <th>292632</th>\n",
       "      <td>292632</td>\n",
       "      <td>1839329</td>\n",
       "      <td>674533465_6091016367</td>\n",
       "      <td>167956133_23637791586_417756</td>\n",
       "      <td>confirm</td>\n",
       "      <td>2017-04-05</td>\n",
       "    </tr>\n",
       "    <tr>\n",
       "      <th>296638</th>\n",
       "      <td>296638</td>\n",
       "      <td>8367317</td>\n",
       "      <td>541357206_53611607620</td>\n",
       "      <td>445730306_83279848654_782988</td>\n",
       "      <td>step_3</td>\n",
       "      <td>2017-04-05</td>\n",
       "    </tr>\n",
       "  </tbody>\n",
       "</table>\n",
       "</div>"
      ],
      "text/plain": [
       "        web_id  client_id             visitor_id  \\\n",
       "15403    15403    9088919  594492611_13177416992   \n",
       "97905    97905    5171878   88910480_73022518291   \n",
       "97906    97906    5171878   88910480_73022518291   \n",
       "292632  292632    1839329   674533465_6091016367   \n",
       "296638  296638    8367317  541357206_53611607620   \n",
       "\n",
       "                            visit_id process_step  date_time  \n",
       "15403   373345047_76916836421_363244      confirm 2017-04-05  \n",
       "97905      390443893_82608504306_269        start 2017-04-05  \n",
       "97906      390443893_82608504306_269        start 2017-04-05  \n",
       "292632  167956133_23637791586_417756      confirm 2017-04-05  \n",
       "296638  445730306_83279848654_782988       step_3 2017-04-05  "
      ]
     },
     "execution_count": 39,
     "metadata": {},
     "output_type": "execute_result"
    }
   ],
   "source": [
    "Apr_5.head()"
   ]
  },
  {
   "cell_type": "code",
   "execution_count": 40,
   "metadata": {},
   "outputs": [],
   "source": [
    "#add a month column \n",
    "file['Month'] = pd.DatetimeIndex(file['date_time']).month"
   ]
  },
  {
   "cell_type": "code",
   "execution_count": 51,
   "metadata": {},
   "outputs": [],
   "source": [
    "#add a day column \n",
    "file['Day'] = pd.DatetimeIndex(file['date_time']).day"
   ]
  },
  {
   "cell_type": "code",
   "execution_count": 42,
   "metadata": {
    "scrolled": true
   },
   "outputs": [
    {
     "data": {
      "text/html": [
       "<div>\n",
       "<style scoped>\n",
       "    .dataframe tbody tr th:only-of-type {\n",
       "        vertical-align: middle;\n",
       "    }\n",
       "\n",
       "    .dataframe tbody tr th {\n",
       "        vertical-align: top;\n",
       "    }\n",
       "\n",
       "    .dataframe thead th {\n",
       "        text-align: right;\n",
       "    }\n",
       "</style>\n",
       "<table border=\"1\" class=\"dataframe\">\n",
       "  <thead>\n",
       "    <tr style=\"text-align: right;\">\n",
       "      <th></th>\n",
       "      <th>web_id</th>\n",
       "      <th>client_id</th>\n",
       "      <th>visitor_id</th>\n",
       "      <th>visit_id</th>\n",
       "      <th>process_step</th>\n",
       "      <th>date_time</th>\n",
       "      <th>Month</th>\n",
       "      <th>Day</th>\n",
       "    </tr>\n",
       "  </thead>\n",
       "  <tbody>\n",
       "    <tr>\n",
       "      <th>0</th>\n",
       "      <td>0</td>\n",
       "      <td>9988021</td>\n",
       "      <td>580560515_7732621733</td>\n",
       "      <td>781255054_21935453173_531117</td>\n",
       "      <td>step_3</td>\n",
       "      <td>2017-04-17 15:27:00</td>\n",
       "      <td>4</td>\n",
       "      <td>17</td>\n",
       "    </tr>\n",
       "    <tr>\n",
       "      <th>1</th>\n",
       "      <td>1</td>\n",
       "      <td>9988021</td>\n",
       "      <td>580560515_7732621733</td>\n",
       "      <td>781255054_21935453173_531117</td>\n",
       "      <td>step_2</td>\n",
       "      <td>2017-04-17 15:26:00</td>\n",
       "      <td>4</td>\n",
       "      <td>17</td>\n",
       "    </tr>\n",
       "    <tr>\n",
       "      <th>2</th>\n",
       "      <td>2</td>\n",
       "      <td>9988021</td>\n",
       "      <td>580560515_7732621733</td>\n",
       "      <td>781255054_21935453173_531117</td>\n",
       "      <td>step_3</td>\n",
       "      <td>2017-04-17 15:19:00</td>\n",
       "      <td>4</td>\n",
       "      <td>17</td>\n",
       "    </tr>\n",
       "    <tr>\n",
       "      <th>3</th>\n",
       "      <td>3</td>\n",
       "      <td>9988021</td>\n",
       "      <td>580560515_7732621733</td>\n",
       "      <td>781255054_21935453173_531117</td>\n",
       "      <td>step_2</td>\n",
       "      <td>2017-04-17 15:19:00</td>\n",
       "      <td>4</td>\n",
       "      <td>17</td>\n",
       "    </tr>\n",
       "    <tr>\n",
       "      <th>4</th>\n",
       "      <td>4</td>\n",
       "      <td>9988021</td>\n",
       "      <td>580560515_7732621733</td>\n",
       "      <td>781255054_21935453173_531117</td>\n",
       "      <td>step_3</td>\n",
       "      <td>2017-04-17 15:18:00</td>\n",
       "      <td>4</td>\n",
       "      <td>17</td>\n",
       "    </tr>\n",
       "  </tbody>\n",
       "</table>\n",
       "</div>"
      ],
      "text/plain": [
       "   web_id  client_id            visitor_id                      visit_id  \\\n",
       "0       0    9988021  580560515_7732621733  781255054_21935453173_531117   \n",
       "1       1    9988021  580560515_7732621733  781255054_21935453173_531117   \n",
       "2       2    9988021  580560515_7732621733  781255054_21935453173_531117   \n",
       "3       3    9988021  580560515_7732621733  781255054_21935453173_531117   \n",
       "4       4    9988021  580560515_7732621733  781255054_21935453173_531117   \n",
       "\n",
       "  process_step           date_time  Month  Day  \n",
       "0       step_3 2017-04-17 15:27:00      4   17  \n",
       "1       step_2 2017-04-17 15:26:00      4   17  \n",
       "2       step_3 2017-04-17 15:19:00      4   17  \n",
       "3       step_2 2017-04-17 15:19:00      4   17  \n",
       "4       step_3 2017-04-17 15:18:00      4   17  "
      ]
     },
     "execution_count": 42,
     "metadata": {},
     "output_type": "execute_result"
    }
   ],
   "source": [
    "#Review the data frame with head() \n",
    "file.head()"
   ]
  },
  {
   "cell_type": "code",
   "execution_count": 44,
   "metadata": {},
   "outputs": [
    {
     "data": {
      "text/html": [
       "<div>\n",
       "<style scoped>\n",
       "    .dataframe tbody tr th:only-of-type {\n",
       "        vertical-align: middle;\n",
       "    }\n",
       "\n",
       "    .dataframe tbody tr th {\n",
       "        vertical-align: top;\n",
       "    }\n",
       "\n",
       "    .dataframe thead th {\n",
       "        text-align: right;\n",
       "    }\n",
       "</style>\n",
       "<table border=\"1\" class=\"dataframe\">\n",
       "  <thead>\n",
       "    <tr style=\"text-align: right;\">\n",
       "      <th></th>\n",
       "      <th>web_id</th>\n",
       "      <th>client_id</th>\n",
       "      <th>visitor_id</th>\n",
       "      <th>visit_id</th>\n",
       "      <th>process_step</th>\n",
       "      <th>date_time</th>\n",
       "      <th>Month</th>\n",
       "      <th>Day</th>\n",
       "    </tr>\n",
       "  </thead>\n",
       "  <tbody>\n",
       "    <tr>\n",
       "      <th>67</th>\n",
       "      <td>67</td>\n",
       "      <td>2519971</td>\n",
       "      <td>121616091_57089151674</td>\n",
       "      <td>428599802_30402877972_724989</td>\n",
       "      <td>confirm</td>\n",
       "      <td>2017-04-10 16:21:00</td>\n",
       "      <td>4</td>\n",
       "      <td>10</td>\n",
       "    </tr>\n",
       "    <tr>\n",
       "      <th>68</th>\n",
       "      <td>68</td>\n",
       "      <td>2519971</td>\n",
       "      <td>121616091_57089151674</td>\n",
       "      <td>428599802_30402877972_724989</td>\n",
       "      <td>confirm</td>\n",
       "      <td>2017-04-10 16:19:00</td>\n",
       "      <td>4</td>\n",
       "      <td>10</td>\n",
       "    </tr>\n",
       "    <tr>\n",
       "      <th>635</th>\n",
       "      <td>635</td>\n",
       "      <td>7276973</td>\n",
       "      <td>627003452_19249388085</td>\n",
       "      <td>117895119_16501051592_422436</td>\n",
       "      <td>step_3</td>\n",
       "      <td>2017-04-10 19:00:00</td>\n",
       "      <td>4</td>\n",
       "      <td>10</td>\n",
       "    </tr>\n",
       "    <tr>\n",
       "      <th>636</th>\n",
       "      <td>636</td>\n",
       "      <td>7276973</td>\n",
       "      <td>627003452_19249388085</td>\n",
       "      <td>117895119_16501051592_422436</td>\n",
       "      <td>step_2</td>\n",
       "      <td>2017-04-10 18:58:00</td>\n",
       "      <td>4</td>\n",
       "      <td>10</td>\n",
       "    </tr>\n",
       "    <tr>\n",
       "      <th>637</th>\n",
       "      <td>637</td>\n",
       "      <td>7276973</td>\n",
       "      <td>627003452_19249388085</td>\n",
       "      <td>117895119_16501051592_422436</td>\n",
       "      <td>step_1</td>\n",
       "      <td>2017-04-10 18:57:00</td>\n",
       "      <td>4</td>\n",
       "      <td>10</td>\n",
       "    </tr>\n",
       "    <tr>\n",
       "      <th>...</th>\n",
       "      <td>...</td>\n",
       "      <td>...</td>\n",
       "      <td>...</td>\n",
       "      <td>...</td>\n",
       "      <td>...</td>\n",
       "      <td>...</td>\n",
       "      <td>...</td>\n",
       "      <td>...</td>\n",
       "    </tr>\n",
       "    <tr>\n",
       "      <th>342699</th>\n",
       "      <td>342699</td>\n",
       "      <td>6218213</td>\n",
       "      <td>46682116_29129401247</td>\n",
       "      <td>109794854_38827776110_737663</td>\n",
       "      <td>step_2</td>\n",
       "      <td>2017-04-10 13:57:00</td>\n",
       "      <td>4</td>\n",
       "      <td>10</td>\n",
       "    </tr>\n",
       "    <tr>\n",
       "      <th>342700</th>\n",
       "      <td>342700</td>\n",
       "      <td>6218213</td>\n",
       "      <td>46682116_29129401247</td>\n",
       "      <td>109794854_38827776110_737663</td>\n",
       "      <td>step_1</td>\n",
       "      <td>2017-04-10 13:57:00</td>\n",
       "      <td>4</td>\n",
       "      <td>10</td>\n",
       "    </tr>\n",
       "    <tr>\n",
       "      <th>342701</th>\n",
       "      <td>342701</td>\n",
       "      <td>6218213</td>\n",
       "      <td>46682116_29129401247</td>\n",
       "      <td>109794854_38827776110_737663</td>\n",
       "      <td>start</td>\n",
       "      <td>2017-04-10 13:57:00</td>\n",
       "      <td>4</td>\n",
       "      <td>10</td>\n",
       "    </tr>\n",
       "    <tr>\n",
       "      <th>342702</th>\n",
       "      <td>342702</td>\n",
       "      <td>5761946</td>\n",
       "      <td>430669178_36342190495</td>\n",
       "      <td>57127250_50441598218_373661</td>\n",
       "      <td>step_1</td>\n",
       "      <td>2017-04-10 13:17:00</td>\n",
       "      <td>4</td>\n",
       "      <td>10</td>\n",
       "    </tr>\n",
       "    <tr>\n",
       "      <th>342703</th>\n",
       "      <td>342703</td>\n",
       "      <td>5761946</td>\n",
       "      <td>430669178_36342190495</td>\n",
       "      <td>57127250_50441598218_373661</td>\n",
       "      <td>start</td>\n",
       "      <td>2017-04-10 13:17:00</td>\n",
       "      <td>4</td>\n",
       "      <td>10</td>\n",
       "    </tr>\n",
       "  </tbody>\n",
       "</table>\n",
       "<p>8676 rows × 8 columns</p>\n",
       "</div>"
      ],
      "text/plain": [
       "        web_id  client_id             visitor_id  \\\n",
       "67          67    2519971  121616091_57089151674   \n",
       "68          68    2519971  121616091_57089151674   \n",
       "635        635    7276973  627003452_19249388085   \n",
       "636        636    7276973  627003452_19249388085   \n",
       "637        637    7276973  627003452_19249388085   \n",
       "...        ...        ...                    ...   \n",
       "342699  342699    6218213   46682116_29129401247   \n",
       "342700  342700    6218213   46682116_29129401247   \n",
       "342701  342701    6218213   46682116_29129401247   \n",
       "342702  342702    5761946  430669178_36342190495   \n",
       "342703  342703    5761946  430669178_36342190495   \n",
       "\n",
       "                            visit_id process_step           date_time  Month  \\\n",
       "67      428599802_30402877972_724989      confirm 2017-04-10 16:21:00      4   \n",
       "68      428599802_30402877972_724989      confirm 2017-04-10 16:19:00      4   \n",
       "635     117895119_16501051592_422436       step_3 2017-04-10 19:00:00      4   \n",
       "636     117895119_16501051592_422436       step_2 2017-04-10 18:58:00      4   \n",
       "637     117895119_16501051592_422436       step_1 2017-04-10 18:57:00      4   \n",
       "...                              ...          ...                 ...    ...   \n",
       "342699  109794854_38827776110_737663       step_2 2017-04-10 13:57:00      4   \n",
       "342700  109794854_38827776110_737663       step_1 2017-04-10 13:57:00      4   \n",
       "342701  109794854_38827776110_737663        start 2017-04-10 13:57:00      4   \n",
       "342702   57127250_50441598218_373661       step_1 2017-04-10 13:17:00      4   \n",
       "342703   57127250_50441598218_373661        start 2017-04-10 13:17:00      4   \n",
       "\n",
       "        Day  \n",
       "67       10  \n",
       "68       10  \n",
       "635      10  \n",
       "636      10  \n",
       "637      10  \n",
       "...     ...  \n",
       "342699   10  \n",
       "342700   10  \n",
       "342701   10  \n",
       "342702   10  \n",
       "342703   10  \n",
       "\n",
       "[8676 rows x 8 columns]"
      ]
     },
     "execution_count": 44,
     "metadata": {},
     "output_type": "execute_result"
    }
   ],
   "source": [
    "#filter by a particular day \n",
    "file.query('Day==\"10\"')"
   ]
  },
  {
   "cell_type": "code",
   "execution_count": 45,
   "metadata": {},
   "outputs": [
    {
     "data": {
      "text/html": [
       "<div>\n",
       "<style scoped>\n",
       "    .dataframe tbody tr th:only-of-type {\n",
       "        vertical-align: middle;\n",
       "    }\n",
       "\n",
       "    .dataframe tbody tr th {\n",
       "        vertical-align: top;\n",
       "    }\n",
       "\n",
       "    .dataframe thead th {\n",
       "        text-align: right;\n",
       "    }\n",
       "</style>\n",
       "<table border=\"1\" class=\"dataframe\">\n",
       "  <thead>\n",
       "    <tr style=\"text-align: right;\">\n",
       "      <th></th>\n",
       "      <th>web_id</th>\n",
       "      <th>client_id</th>\n",
       "      <th>visitor_id</th>\n",
       "      <th>visit_id</th>\n",
       "      <th>process_step</th>\n",
       "      <th>date_time</th>\n",
       "      <th>Month</th>\n",
       "      <th>Day</th>\n",
       "    </tr>\n",
       "  </thead>\n",
       "  <tbody>\n",
       "    <tr>\n",
       "      <th>0</th>\n",
       "      <td>0</td>\n",
       "      <td>9988021</td>\n",
       "      <td>580560515_7732621733</td>\n",
       "      <td>781255054_21935453173_531117</td>\n",
       "      <td>step_3</td>\n",
       "      <td>2017-04-17 15:27:00</td>\n",
       "      <td>4</td>\n",
       "      <td>17</td>\n",
       "    </tr>\n",
       "    <tr>\n",
       "      <th>1</th>\n",
       "      <td>1</td>\n",
       "      <td>9988021</td>\n",
       "      <td>580560515_7732621733</td>\n",
       "      <td>781255054_21935453173_531117</td>\n",
       "      <td>step_2</td>\n",
       "      <td>2017-04-17 15:26:00</td>\n",
       "      <td>4</td>\n",
       "      <td>17</td>\n",
       "    </tr>\n",
       "    <tr>\n",
       "      <th>2</th>\n",
       "      <td>2</td>\n",
       "      <td>9988021</td>\n",
       "      <td>580560515_7732621733</td>\n",
       "      <td>781255054_21935453173_531117</td>\n",
       "      <td>step_3</td>\n",
       "      <td>2017-04-17 15:19:00</td>\n",
       "      <td>4</td>\n",
       "      <td>17</td>\n",
       "    </tr>\n",
       "    <tr>\n",
       "      <th>3</th>\n",
       "      <td>3</td>\n",
       "      <td>9988021</td>\n",
       "      <td>580560515_7732621733</td>\n",
       "      <td>781255054_21935453173_531117</td>\n",
       "      <td>step_2</td>\n",
       "      <td>2017-04-17 15:19:00</td>\n",
       "      <td>4</td>\n",
       "      <td>17</td>\n",
       "    </tr>\n",
       "    <tr>\n",
       "      <th>4</th>\n",
       "      <td>4</td>\n",
       "      <td>9988021</td>\n",
       "      <td>580560515_7732621733</td>\n",
       "      <td>781255054_21935453173_531117</td>\n",
       "      <td>step_3</td>\n",
       "      <td>2017-04-17 15:18:00</td>\n",
       "      <td>4</td>\n",
       "      <td>17</td>\n",
       "    </tr>\n",
       "    <tr>\n",
       "      <th>...</th>\n",
       "      <td>...</td>\n",
       "      <td>...</td>\n",
       "      <td>...</td>\n",
       "      <td>...</td>\n",
       "      <td>...</td>\n",
       "      <td>...</td>\n",
       "      <td>...</td>\n",
       "      <td>...</td>\n",
       "    </tr>\n",
       "    <tr>\n",
       "      <th>343136</th>\n",
       "      <td>343136</td>\n",
       "      <td>2443347</td>\n",
       "      <td>465784886_73090545671</td>\n",
       "      <td>136329900_10529659391_316129</td>\n",
       "      <td>confirm</td>\n",
       "      <td>2017-03-31 15:15:00</td>\n",
       "      <td>3</td>\n",
       "      <td>31</td>\n",
       "    </tr>\n",
       "    <tr>\n",
       "      <th>343137</th>\n",
       "      <td>343137</td>\n",
       "      <td>2443347</td>\n",
       "      <td>465784886_73090545671</td>\n",
       "      <td>136329900_10529659391_316129</td>\n",
       "      <td>step_3</td>\n",
       "      <td>2017-03-31 15:14:00</td>\n",
       "      <td>3</td>\n",
       "      <td>31</td>\n",
       "    </tr>\n",
       "    <tr>\n",
       "      <th>343138</th>\n",
       "      <td>343138</td>\n",
       "      <td>2443347</td>\n",
       "      <td>465784886_73090545671</td>\n",
       "      <td>136329900_10529659391_316129</td>\n",
       "      <td>step_2</td>\n",
       "      <td>2017-03-31 15:12:00</td>\n",
       "      <td>3</td>\n",
       "      <td>31</td>\n",
       "    </tr>\n",
       "    <tr>\n",
       "      <th>343139</th>\n",
       "      <td>343139</td>\n",
       "      <td>2443347</td>\n",
       "      <td>465784886_73090545671</td>\n",
       "      <td>136329900_10529659391_316129</td>\n",
       "      <td>step_1</td>\n",
       "      <td>2017-03-31 15:11:00</td>\n",
       "      <td>3</td>\n",
       "      <td>31</td>\n",
       "    </tr>\n",
       "    <tr>\n",
       "      <th>343140</th>\n",
       "      <td>343140</td>\n",
       "      <td>2443347</td>\n",
       "      <td>465784886_73090545671</td>\n",
       "      <td>136329900_10529659391_316129</td>\n",
       "      <td>start</td>\n",
       "      <td>2017-03-31 15:10:00</td>\n",
       "      <td>3</td>\n",
       "      <td>31</td>\n",
       "    </tr>\n",
       "  </tbody>\n",
       "</table>\n",
       "<p>343141 rows × 8 columns</p>\n",
       "</div>"
      ],
      "text/plain": [
       "        web_id  client_id             visitor_id  \\\n",
       "0            0    9988021   580560515_7732621733   \n",
       "1            1    9988021   580560515_7732621733   \n",
       "2            2    9988021   580560515_7732621733   \n",
       "3            3    9988021   580560515_7732621733   \n",
       "4            4    9988021   580560515_7732621733   \n",
       "...        ...        ...                    ...   \n",
       "343136  343136    2443347  465784886_73090545671   \n",
       "343137  343137    2443347  465784886_73090545671   \n",
       "343138  343138    2443347  465784886_73090545671   \n",
       "343139  343139    2443347  465784886_73090545671   \n",
       "343140  343140    2443347  465784886_73090545671   \n",
       "\n",
       "                            visit_id process_step           date_time  Month  \\\n",
       "0       781255054_21935453173_531117       step_3 2017-04-17 15:27:00      4   \n",
       "1       781255054_21935453173_531117       step_2 2017-04-17 15:26:00      4   \n",
       "2       781255054_21935453173_531117       step_3 2017-04-17 15:19:00      4   \n",
       "3       781255054_21935453173_531117       step_2 2017-04-17 15:19:00      4   \n",
       "4       781255054_21935453173_531117       step_3 2017-04-17 15:18:00      4   \n",
       "...                              ...          ...                 ...    ...   \n",
       "343136  136329900_10529659391_316129      confirm 2017-03-31 15:15:00      3   \n",
       "343137  136329900_10529659391_316129       step_3 2017-03-31 15:14:00      3   \n",
       "343138  136329900_10529659391_316129       step_2 2017-03-31 15:12:00      3   \n",
       "343139  136329900_10529659391_316129       step_1 2017-03-31 15:11:00      3   \n",
       "343140  136329900_10529659391_316129        start 2017-03-31 15:10:00      3   \n",
       "\n",
       "        Day  \n",
       "0        17  \n",
       "1        17  \n",
       "2        17  \n",
       "3        17  \n",
       "4        17  \n",
       "...     ...  \n",
       "343136   31  \n",
       "343137   31  \n",
       "343138   31  \n",
       "343139   31  \n",
       "343140   31  \n",
       "\n",
       "[343141 rows x 8 columns]"
      ]
     },
     "execution_count": 45,
     "metadata": {},
     "output_type": "execute_result"
    }
   ],
   "source": [
    "file.query('web_id')"
   ]
  },
  {
   "cell_type": "code",
   "execution_count": 57,
   "metadata": {},
   "outputs": [
    {
     "data": {
      "text/html": [
       "<div>\n",
       "<style scoped>\n",
       "    .dataframe tbody tr th:only-of-type {\n",
       "        vertical-align: middle;\n",
       "    }\n",
       "\n",
       "    .dataframe tbody tr th {\n",
       "        vertical-align: top;\n",
       "    }\n",
       "\n",
       "    .dataframe thead th {\n",
       "        text-align: right;\n",
       "    }\n",
       "</style>\n",
       "<table border=\"1\" class=\"dataframe\">\n",
       "  <thead>\n",
       "    <tr style=\"text-align: right;\">\n",
       "      <th></th>\n",
       "      <th>web_id</th>\n",
       "      <th>client_id</th>\n",
       "      <th>visitor_id</th>\n",
       "      <th>visit_id</th>\n",
       "      <th>process_step</th>\n",
       "      <th>date_time</th>\n",
       "      <th>Month</th>\n",
       "      <th>Day</th>\n",
       "    </tr>\n",
       "  </thead>\n",
       "  <tbody>\n",
       "    <tr>\n",
       "      <th>354</th>\n",
       "      <td>354</td>\n",
       "      <td>2709011</td>\n",
       "      <td>664541274_97144910167</td>\n",
       "      <td>235162568_43115336410_822881</td>\n",
       "      <td>start</td>\n",
       "      <td>2017-04-08 12:33:00</td>\n",
       "      <td>4</td>\n",
       "      <td>8</td>\n",
       "    </tr>\n",
       "    <tr>\n",
       "      <th>355</th>\n",
       "      <td>355</td>\n",
       "      <td>9900469</td>\n",
       "      <td>210215964_20090640456</td>\n",
       "      <td>3461145_4721576513_877614</td>\n",
       "      <td>start</td>\n",
       "      <td>2017-04-01 19:02:00</td>\n",
       "      <td>4</td>\n",
       "      <td>1</td>\n",
       "    </tr>\n",
       "    <tr>\n",
       "      <th>357</th>\n",
       "      <td>357</td>\n",
       "      <td>6229916</td>\n",
       "      <td>483835308_26502657270</td>\n",
       "      <td>230630559_77569449276_549196</td>\n",
       "      <td>confirm</td>\n",
       "      <td>2017-04-01 16:29:00</td>\n",
       "      <td>4</td>\n",
       "      <td>1</td>\n",
       "    </tr>\n",
       "    <tr>\n",
       "      <th>358</th>\n",
       "      <td>358</td>\n",
       "      <td>6229916</td>\n",
       "      <td>483835308_26502657270</td>\n",
       "      <td>230630559_77569449276_549196</td>\n",
       "      <td>confirm</td>\n",
       "      <td>2017-04-01 16:27:00</td>\n",
       "      <td>4</td>\n",
       "      <td>1</td>\n",
       "    </tr>\n",
       "    <tr>\n",
       "      <th>366</th>\n",
       "      <td>366</td>\n",
       "      <td>4773291</td>\n",
       "      <td>587236617_20429853618</td>\n",
       "      <td>504295674_94485333270_228899</td>\n",
       "      <td>start</td>\n",
       "      <td>2017-04-08 04:49:00</td>\n",
       "      <td>4</td>\n",
       "      <td>8</td>\n",
       "    </tr>\n",
       "    <tr>\n",
       "      <th>...</th>\n",
       "      <td>...</td>\n",
       "      <td>...</td>\n",
       "      <td>...</td>\n",
       "      <td>...</td>\n",
       "      <td>...</td>\n",
       "      <td>...</td>\n",
       "      <td>...</td>\n",
       "      <td>...</td>\n",
       "    </tr>\n",
       "    <tr>\n",
       "      <th>342864</th>\n",
       "      <td>342864</td>\n",
       "      <td>6820024</td>\n",
       "      <td>415995398_21642161061</td>\n",
       "      <td>917003829_36953216287_21421</td>\n",
       "      <td>start</td>\n",
       "      <td>2017-03-18 12:27:00</td>\n",
       "      <td>3</td>\n",
       "      <td>18</td>\n",
       "    </tr>\n",
       "    <tr>\n",
       "      <th>342865</th>\n",
       "      <td>342865</td>\n",
       "      <td>6820024</td>\n",
       "      <td>415995398_21642161061</td>\n",
       "      <td>917003829_36953216287_21421</td>\n",
       "      <td>step_1</td>\n",
       "      <td>2017-03-18 12:26:00</td>\n",
       "      <td>3</td>\n",
       "      <td>18</td>\n",
       "    </tr>\n",
       "    <tr>\n",
       "      <th>342866</th>\n",
       "      <td>342866</td>\n",
       "      <td>6820024</td>\n",
       "      <td>415995398_21642161061</td>\n",
       "      <td>917003829_36953216287_21421</td>\n",
       "      <td>start</td>\n",
       "      <td>2017-03-18 12:25:00</td>\n",
       "      <td>3</td>\n",
       "      <td>18</td>\n",
       "    </tr>\n",
       "    <tr>\n",
       "      <th>342923</th>\n",
       "      <td>342923</td>\n",
       "      <td>127202</td>\n",
       "      <td>575836768_6553168853</td>\n",
       "      <td>786607636_58917493275_576382</td>\n",
       "      <td>start</td>\n",
       "      <td>2017-04-08 12:36:00</td>\n",
       "      <td>4</td>\n",
       "      <td>8</td>\n",
       "    </tr>\n",
       "    <tr>\n",
       "      <th>342924</th>\n",
       "      <td>342924</td>\n",
       "      <td>127202</td>\n",
       "      <td>575836768_6553168853</td>\n",
       "      <td>786607636_58917493275_576382</td>\n",
       "      <td>start</td>\n",
       "      <td>2017-04-08 12:35:00</td>\n",
       "      <td>4</td>\n",
       "      <td>8</td>\n",
       "    </tr>\n",
       "  </tbody>\n",
       "</table>\n",
       "<p>30224 rows × 8 columns</p>\n",
       "</div>"
      ],
      "text/plain": [
       "        web_id  client_id             visitor_id  \\\n",
       "354        354    2709011  664541274_97144910167   \n",
       "355        355    9900469  210215964_20090640456   \n",
       "357        357    6229916  483835308_26502657270   \n",
       "358        358    6229916  483835308_26502657270   \n",
       "366        366    4773291  587236617_20429853618   \n",
       "...        ...        ...                    ...   \n",
       "342864  342864    6820024  415995398_21642161061   \n",
       "342865  342865    6820024  415995398_21642161061   \n",
       "342866  342866    6820024  415995398_21642161061   \n",
       "342923  342923     127202   575836768_6553168853   \n",
       "342924  342924     127202   575836768_6553168853   \n",
       "\n",
       "                            visit_id process_step           date_time  Month  \\\n",
       "354     235162568_43115336410_822881        start 2017-04-08 12:33:00      4   \n",
       "355        3461145_4721576513_877614        start 2017-04-01 19:02:00      4   \n",
       "357     230630559_77569449276_549196      confirm 2017-04-01 16:29:00      4   \n",
       "358     230630559_77569449276_549196      confirm 2017-04-01 16:27:00      4   \n",
       "366     504295674_94485333270_228899        start 2017-04-08 04:49:00      4   \n",
       "...                              ...          ...                 ...    ...   \n",
       "342864   917003829_36953216287_21421        start 2017-03-18 12:27:00      3   \n",
       "342865   917003829_36953216287_21421       step_1 2017-03-18 12:26:00      3   \n",
       "342866   917003829_36953216287_21421        start 2017-03-18 12:25:00      3   \n",
       "342923  786607636_58917493275_576382        start 2017-04-08 12:36:00      4   \n",
       "342924  786607636_58917493275_576382        start 2017-04-08 12:35:00      4   \n",
       "\n",
       "        Day  \n",
       "354       8  \n",
       "355       1  \n",
       "357       1  \n",
       "358       1  \n",
       "366       8  \n",
       "...     ...  \n",
       "342864   18  \n",
       "342865   18  \n",
       "342866   18  \n",
       "342923    8  \n",
       "342924    8  \n",
       "\n",
       "[30224 rows x 8 columns]"
      ]
     },
     "execution_count": 57,
     "metadata": {},
     "output_type": "execute_result"
    }
   ],
   "source": [
    "#challenge - filter the df for saturdays\n",
    "\n",
    "file.loc[file['date_time'].dt.weekday == 5]\n",
    "\n",
    "\n"
   ]
  },
  {
   "cell_type": "code",
   "execution_count": 46,
   "metadata": {},
   "outputs": [
    {
     "data": {
      "text/html": [
       "<div>\n",
       "<style scoped>\n",
       "    .dataframe tbody tr th:only-of-type {\n",
       "        vertical-align: middle;\n",
       "    }\n",
       "\n",
       "    .dataframe tbody tr th {\n",
       "        vertical-align: top;\n",
       "    }\n",
       "\n",
       "    .dataframe thead th {\n",
       "        text-align: right;\n",
       "    }\n",
       "</style>\n",
       "<table border=\"1\" class=\"dataframe\">\n",
       "  <thead>\n",
       "    <tr style=\"text-align: right;\">\n",
       "      <th></th>\n",
       "      <th>web_id</th>\n",
       "      <th>client_id</th>\n",
       "      <th>visitor_id</th>\n",
       "      <th>visit_id</th>\n",
       "      <th>process_step</th>\n",
       "      <th>date_time</th>\n",
       "      <th>Month</th>\n",
       "      <th>Day</th>\n",
       "    </tr>\n",
       "  </thead>\n",
       "  <tbody>\n",
       "    <tr>\n",
       "      <th>354</th>\n",
       "      <td>354</td>\n",
       "      <td>2709011</td>\n",
       "      <td>664541274_97144910167</td>\n",
       "      <td>235162568_43115336410_822881</td>\n",
       "      <td>start</td>\n",
       "      <td>2017-04-08 12:33:00</td>\n",
       "      <td>4</td>\n",
       "      <td>8</td>\n",
       "    </tr>\n",
       "    <tr>\n",
       "      <th>355</th>\n",
       "      <td>355</td>\n",
       "      <td>9900469</td>\n",
       "      <td>210215964_20090640456</td>\n",
       "      <td>3461145_4721576513_877614</td>\n",
       "      <td>start</td>\n",
       "      <td>2017-04-01 19:02:00</td>\n",
       "      <td>4</td>\n",
       "      <td>1</td>\n",
       "    </tr>\n",
       "    <tr>\n",
       "      <th>357</th>\n",
       "      <td>357</td>\n",
       "      <td>6229916</td>\n",
       "      <td>483835308_26502657270</td>\n",
       "      <td>230630559_77569449276_549196</td>\n",
       "      <td>confirm</td>\n",
       "      <td>2017-04-01 16:29:00</td>\n",
       "      <td>4</td>\n",
       "      <td>1</td>\n",
       "    </tr>\n",
       "    <tr>\n",
       "      <th>358</th>\n",
       "      <td>358</td>\n",
       "      <td>6229916</td>\n",
       "      <td>483835308_26502657270</td>\n",
       "      <td>230630559_77569449276_549196</td>\n",
       "      <td>confirm</td>\n",
       "      <td>2017-04-01 16:27:00</td>\n",
       "      <td>4</td>\n",
       "      <td>1</td>\n",
       "    </tr>\n",
       "    <tr>\n",
       "      <th>366</th>\n",
       "      <td>366</td>\n",
       "      <td>4773291</td>\n",
       "      <td>587236617_20429853618</td>\n",
       "      <td>504295674_94485333270_228899</td>\n",
       "      <td>start</td>\n",
       "      <td>2017-04-08 04:49:00</td>\n",
       "      <td>4</td>\n",
       "      <td>8</td>\n",
       "    </tr>\n",
       "    <tr>\n",
       "      <th>...</th>\n",
       "      <td>...</td>\n",
       "      <td>...</td>\n",
       "      <td>...</td>\n",
       "      <td>...</td>\n",
       "      <td>...</td>\n",
       "      <td>...</td>\n",
       "      <td>...</td>\n",
       "      <td>...</td>\n",
       "    </tr>\n",
       "    <tr>\n",
       "      <th>342864</th>\n",
       "      <td>342864</td>\n",
       "      <td>6820024</td>\n",
       "      <td>415995398_21642161061</td>\n",
       "      <td>917003829_36953216287_21421</td>\n",
       "      <td>start</td>\n",
       "      <td>2017-03-18 12:27:00</td>\n",
       "      <td>3</td>\n",
       "      <td>18</td>\n",
       "    </tr>\n",
       "    <tr>\n",
       "      <th>342865</th>\n",
       "      <td>342865</td>\n",
       "      <td>6820024</td>\n",
       "      <td>415995398_21642161061</td>\n",
       "      <td>917003829_36953216287_21421</td>\n",
       "      <td>step_1</td>\n",
       "      <td>2017-03-18 12:26:00</td>\n",
       "      <td>3</td>\n",
       "      <td>18</td>\n",
       "    </tr>\n",
       "    <tr>\n",
       "      <th>342866</th>\n",
       "      <td>342866</td>\n",
       "      <td>6820024</td>\n",
       "      <td>415995398_21642161061</td>\n",
       "      <td>917003829_36953216287_21421</td>\n",
       "      <td>start</td>\n",
       "      <td>2017-03-18 12:25:00</td>\n",
       "      <td>3</td>\n",
       "      <td>18</td>\n",
       "    </tr>\n",
       "    <tr>\n",
       "      <th>342923</th>\n",
       "      <td>342923</td>\n",
       "      <td>127202</td>\n",
       "      <td>575836768_6553168853</td>\n",
       "      <td>786607636_58917493275_576382</td>\n",
       "      <td>start</td>\n",
       "      <td>2017-04-08 12:36:00</td>\n",
       "      <td>4</td>\n",
       "      <td>8</td>\n",
       "    </tr>\n",
       "    <tr>\n",
       "      <th>342924</th>\n",
       "      <td>342924</td>\n",
       "      <td>127202</td>\n",
       "      <td>575836768_6553168853</td>\n",
       "      <td>786607636_58917493275_576382</td>\n",
       "      <td>start</td>\n",
       "      <td>2017-04-08 12:35:00</td>\n",
       "      <td>4</td>\n",
       "      <td>8</td>\n",
       "    </tr>\n",
       "  </tbody>\n",
       "</table>\n",
       "<p>30224 rows × 8 columns</p>\n",
       "</div>"
      ],
      "text/plain": [
       "        web_id  client_id             visitor_id  \\\n",
       "354        354    2709011  664541274_97144910167   \n",
       "355        355    9900469  210215964_20090640456   \n",
       "357        357    6229916  483835308_26502657270   \n",
       "358        358    6229916  483835308_26502657270   \n",
       "366        366    4773291  587236617_20429853618   \n",
       "...        ...        ...                    ...   \n",
       "342864  342864    6820024  415995398_21642161061   \n",
       "342865  342865    6820024  415995398_21642161061   \n",
       "342866  342866    6820024  415995398_21642161061   \n",
       "342923  342923     127202   575836768_6553168853   \n",
       "342924  342924     127202   575836768_6553168853   \n",
       "\n",
       "                            visit_id process_step           date_time  Month  \\\n",
       "354     235162568_43115336410_822881        start 2017-04-08 12:33:00      4   \n",
       "355        3461145_4721576513_877614        start 2017-04-01 19:02:00      4   \n",
       "357     230630559_77569449276_549196      confirm 2017-04-01 16:29:00      4   \n",
       "358     230630559_77569449276_549196      confirm 2017-04-01 16:27:00      4   \n",
       "366     504295674_94485333270_228899        start 2017-04-08 04:49:00      4   \n",
       "...                              ...          ...                 ...    ...   \n",
       "342864   917003829_36953216287_21421        start 2017-03-18 12:27:00      3   \n",
       "342865   917003829_36953216287_21421       step_1 2017-03-18 12:26:00      3   \n",
       "342866   917003829_36953216287_21421        start 2017-03-18 12:25:00      3   \n",
       "342923  786607636_58917493275_576382        start 2017-04-08 12:36:00      4   \n",
       "342924  786607636_58917493275_576382        start 2017-04-08 12:35:00      4   \n",
       "\n",
       "        Day  \n",
       "354       8  \n",
       "355       1  \n",
       "357       1  \n",
       "358       1  \n",
       "366       8  \n",
       "...     ...  \n",
       "342864   18  \n",
       "342865   18  \n",
       "342866   18  \n",
       "342923    8  \n",
       "342924    8  \n",
       "\n",
       "[30224 rows x 8 columns]"
      ]
     },
     "execution_count": 46,
     "metadata": {},
     "output_type": "execute_result"
    }
   ],
   "source": [
    "file.loc[file['date_time'].dt.weekday == 5]"
   ]
  },
  {
   "cell_type": "markdown",
   "metadata": {},
   "source": [
    "### Relative time "
   ]
  },
  {
   "cell_type": "code",
   "execution_count": 47,
   "metadata": {},
   "outputs": [
    {
     "data": {
      "text/plain": [
       "datetime.date(2021, 3, 25)"
      ]
     },
     "execution_count": 47,
     "metadata": {},
     "output_type": "execute_result"
    }
   ],
   "source": [
    "import time\n",
    "from datetime import date\n",
    "today = date.today()\n",
    "today"
   ]
  },
  {
   "cell_type": "code",
   "execution_count": 58,
   "metadata": {},
   "outputs": [],
   "source": [
    "import time\n"
   ]
  },
  {
   "cell_type": "code",
   "execution_count": 59,
   "metadata": {},
   "outputs": [
    {
     "data": {
      "text/plain": [
       "time.struct_time(tm_year=2021, tm_mon=3, tm_mday=25, tm_hour=10, tm_min=27, tm_sec=13, tm_wday=3, tm_yday=84, tm_isdst=0)"
      ]
     },
     "execution_count": 59,
     "metadata": {},
     "output_type": "execute_result"
    }
   ],
   "source": [
    "#your local time \n",
    "time.localtime(time.time())"
   ]
  },
  {
   "cell_type": "code",
   "execution_count": 60,
   "metadata": {},
   "outputs": [
    {
     "data": {
      "text/plain": [
       "time.struct_time(tm_year=2021, tm_mon=3, tm_mday=25, tm_hour=9, tm_min=27, tm_sec=17, tm_wday=3, tm_yday=84, tm_isdst=0)"
      ]
     },
     "execution_count": 60,
     "metadata": {},
     "output_type": "execute_result"
    }
   ],
   "source": [
    "#current time in london\n",
    "time.gmtime(time.time())"
   ]
  },
  {
   "cell_type": "raw",
   "metadata": {},
   "source": [
    "https://docs.python.org/3/library/time.html\n",
    "\n",
    "Directive and their Meaning\n",
    "\n",
    "%a Locale’s abbreviated weekday name.\n",
    "%A Locale’s full weekday name.\n",
    "%b Locale’s abbreviated month name.\n",
    "%B Locale’s full month name.\n",
    "%c Locale’s appropriate date and time representation.\n",
    "%d Day of the month as a decimal number [01,31].\n",
    "%H Hour (24-hour clock) as a decimal number [00,23].\n",
    "%I Hour (12-hour clock) as a decimal number [01,12].\n",
    "%j Day of the year as a decimal number [001,366].\n",
    "%m Month as a decimal number [01,12].\n",
    "%M Minute as a decimal number [00,59].\n",
    "%p Locale’s equivalent of either AM or PM.\n",
    "%S Second as a decimal number [00,61].\n",
    "%U Week number of the year (Sunday as the first day of the week) as a decimal number [00,53]. All days in a new year preceding the first Sunday are considered to be in week 0.\n",
    "%w Weekday as a decimal number [0(Sunday),6].\n",
    "%W Week number of the year (Monday as the first day of the week) as a decimal number [00,53]. All days in a new year preceding the first Monday are considered to be in week 0\n",
    "%x Locale’s appropriate date representation.\n",
    "%X Locale’s appropriate time representation.\n",
    "%y Year without century as a decimal number [00,99].\n",
    "%Y Year with century as a decimal number.\n",
    "%z Time zone offset indicating a positive or negative time difference from UTC/GMT of the form +HHMM or -HHMM, where H represents decimal hour digits and M represents decimal minute digits [-23:59, +23:59].\n",
    "%Z Time zone name (no characters if no time zone exists).\n",
    "%% A literal '%' character."
   ]
  },
  {
   "cell_type": "markdown",
   "metadata": {},
   "source": [
    "# String functions"
   ]
  },
  {
   "cell_type": "code",
   "execution_count": null,
   "metadata": {},
   "outputs": [],
   "source": [
    "\n",
    "# https://docs.python.org/2.5/lib/string-methods.html"
   ]
  },
  {
   "cell_type": "code",
   "execution_count": 61,
   "metadata": {},
   "outputs": [],
   "source": [
    "string = \" I am learning  data  analysis at Ironhack  . It is  the BEST! \"\n"
   ]
  },
  {
   "cell_type": "code",
   "execution_count": 62,
   "metadata": {},
   "outputs": [
    {
     "data": {
      "text/plain": [
       "' i am learning  data  analysis at ironhack  . it is  the best! '"
      ]
     },
     "execution_count": 62,
     "metadata": {},
     "output_type": "execute_result"
    }
   ],
   "source": [
    "string.lower()"
   ]
  },
  {
   "cell_type": "code",
   "execution_count": 63,
   "metadata": {},
   "outputs": [
    {
     "data": {
      "text/plain": [
       "' I AM LEARNING  DATA  ANALYSIS AT IRONHACK  . IT IS  THE BEST! '"
      ]
     },
     "execution_count": 63,
     "metadata": {},
     "output_type": "execute_result"
    }
   ],
   "source": [
    "string.upper()"
   ]
  },
  {
   "cell_type": "code",
   "execution_count": 64,
   "metadata": {},
   "outputs": [
    {
     "data": {
      "text/plain": [
       "True"
      ]
     },
     "execution_count": 64,
     "metadata": {},
     "output_type": "execute_result"
    }
   ],
   "source": [
    "#we can identify numbers in strings \n",
    "'34'.isdigit() # hint: this does not work with decimal numbers"
   ]
  },
  {
   "cell_type": "code",
   "execution_count": 65,
   "metadata": {},
   "outputs": [],
   "source": [
    "subjects='data science, coding  , python, visualisation '"
   ]
  },
  {
   "cell_type": "code",
   "execution_count": 66,
   "metadata": {},
   "outputs": [
    {
     "data": {
      "text/plain": [
       "['data science', 'coding  ', 'python', 'visualisation ']"
      ]
     },
     "execution_count": 66,
     "metadata": {},
     "output_type": "execute_result"
    }
   ],
   "source": [
    "#using a basic split around the comma \n",
    "subjects.split(', ')"
   ]
  },
  {
   "cell_type": "code",
   "execution_count": 67,
   "metadata": {},
   "outputs": [
    {
     "data": {
      "text/plain": [
       "['data science', 'coding', 'python', 'visualisation']"
      ]
     },
     "execution_count": 67,
     "metadata": {},
     "output_type": "execute_result"
    }
   ],
   "source": [
    "#combine split on column with trim of whitespace\n",
    "pieces = [x.strip() for x in subjects.split(',')]\n",
    "pieces"
   ]
  },
  {
   "cell_type": "code",
   "execution_count": 68,
   "metadata": {},
   "outputs": [
    {
     "data": {
      "text/plain": [
       "True"
      ]
     },
     "execution_count": 68,
     "metadata": {},
     "output_type": "execute_result"
    }
   ],
   "source": [
    "#keyword search \n",
    "'data science' in subjects"
   ]
  },
  {
   "cell_type": "code",
   "execution_count": 69,
   "metadata": {},
   "outputs": [],
   "source": [
    "str='data scientists too'"
   ]
  },
  {
   "cell_type": "code",
   "execution_count": 70,
   "metadata": {},
   "outputs": [
    {
     "data": {
      "text/plain": [
       "'scientists'"
      ]
     },
     "execution_count": 70,
     "metadata": {},
     "output_type": "execute_result"
    }
   ],
   "source": [
    "#isolate part of a string using index \n",
    "str[5:-4]"
   ]
  },
  {
   "cell_type": "code",
   "execution_count": 71,
   "metadata": {},
   "outputs": [
    {
     "data": {
      "text/plain": [
       "'its brilliant playing with strings'"
      ]
     },
     "execution_count": 71,
     "metadata": {},
     "output_type": "execute_result"
    }
   ],
   "source": [
    "#replace\n",
    "'its hard playing with strings'.replace('hard','brilliant')"
   ]
  },
  {
   "cell_type": "code",
   "execution_count": 72,
   "metadata": {},
   "outputs": [
    {
     "data": {
      "text/plain": [
       "'data'"
      ]
     },
     "execution_count": 72,
     "metadata": {},
     "output_type": "execute_result"
    }
   ],
   "source": [
    "#use left strip to remove characters \n",
    "text=\"..ssshhh..,,,,aaaahsdata\"\n",
    "x = text.lstrip(\".,ash\")\n",
    "x"
   ]
  },
  {
   "cell_type": "markdown",
   "metadata": {},
   "source": [
    "##### Useful for removing white space"
   ]
  },
  {
   "cell_type": "code",
   "execution_count": 73,
   "metadata": {},
   "outputs": [
    {
     "data": {
      "text/plain": [
       "'whoami?'"
      ]
     },
     "execution_count": 73,
     "metadata": {},
     "output_type": "execute_result"
    }
   ],
   "source": [
    "#use left strip to remove leading white space\n",
    "text2=\"     whoami?\"\n",
    "y= text2.lstrip()\n",
    "y"
   ]
  },
  {
   "cell_type": "code",
   "execution_count": 74,
   "metadata": {},
   "outputs": [
    {
     "data": {
      "text/plain": [
       "2"
      ]
     },
     "execution_count": 74,
     "metadata": {},
     "output_type": "execute_result"
    }
   ],
   "source": [
    "#substring count \n",
    "my_string = \"How many fruits do you have in your fruit basket?\"\n",
    "my_string.count(\"fruit\")"
   ]
  },
  {
   "cell_type": "code",
   "execution_count": null,
   "metadata": {},
   "outputs": [],
   "source": []
  }
 ],
 "metadata": {
  "kernelspec": {
   "display_name": "Python 3",
   "language": "python",
   "name": "python3"
  },
  "language_info": {
   "codemirror_mode": {
    "name": "ipython",
    "version": 3
   },
   "file_extension": ".py",
   "mimetype": "text/x-python",
   "name": "python",
   "nbconvert_exporter": "python",
   "pygments_lexer": "ipython3",
   "version": "3.8.5"
  }
 },
 "nbformat": 4,
 "nbformat_minor": 2
}
