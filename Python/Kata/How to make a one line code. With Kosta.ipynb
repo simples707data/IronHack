{
 "cells": [
  {
   "cell_type": "code",
   "execution_count": 2,
   "metadata": {},
   "outputs": [],
   "source": [
    "num = 121456"
   ]
  },
  {
   "cell_type": "code",
   "execution_count": 11,
   "metadata": {},
   "outputs": [
    {
     "name": "stdout",
     "output_type": "stream",
     "text": [
      "[1, 4, 1, 16, 25, 36]\n"
     ]
    }
   ],
   "source": [
    "num =str(num)\n",
    "r = []\n",
    "for i in num:\n",
    "    r.append(i)\n",
    "\n",
    "a = []\n",
    "for i in r:\n",
    "    i = int(i)\n",
    "    i = i**2\n",
    "    i = int(i)\n",
    "    a.append(i)\n",
    "        \n",
    "print(a)"
   ]
  },
  {
   "cell_type": "markdown",
   "metadata": {},
   "source": [
    "This code is mroe or less right but you need to learn to do this in one line:"
   ]
  },
  {
   "cell_type": "code",
   "execution_count": 6,
   "metadata": {},
   "outputs": [
    {
     "ename": "SyntaxError",
     "evalue": "invalid syntax (<ipython-input-6-70cc06e8d162>, line 1)",
     "output_type": "error",
     "traceback": [
      "\u001b[1;36m  File \u001b[1;32m\"<ipython-input-6-70cc06e8d162>\"\u001b[1;36m, line \u001b[1;32m1\u001b[0m\n\u001b[1;33m    i for i in num\u001b[0m\n\u001b[1;37m      ^\u001b[0m\n\u001b[1;31mSyntaxError\u001b[0m\u001b[1;31m:\u001b[0m invalid syntax\n"
     ]
    }
   ],
   "source": [
    "i for i in num\n",
    "#this is the key step. First I = everything we usually but after the : - So it means \n",
    "# \"Do this to i for every instance of i in num\" - then return teh result"
   ]
  },
  {
   "cell_type": "code",
   "execution_count": 7,
   "metadata": {},
   "outputs": [
    {
     "ename": "SyntaxError",
     "evalue": "invalid syntax (<ipython-input-7-66d7761849b0>, line 2)",
     "output_type": "error",
     "traceback": [
      "\u001b[1;36m  File \u001b[1;32m\"<ipython-input-7-66d7761849b0>\"\u001b[1;36m, line \u001b[1;32m2\u001b[0m\n\u001b[1;33m    i for i in str(num)\u001b[0m\n\u001b[1;37m      ^\u001b[0m\n\u001b[1;31mSyntaxError\u001b[0m\u001b[1;31m:\u001b[0m invalid syntax\n"
     ]
    }
   ],
   "source": [
    "# num needs to be a string. So first of all we make num a string so it can be iterated. - covers the first for lopp at the top\n",
    "i for i in str(num)"
   ]
  },
  {
   "cell_type": "code",
   "execution_count": 13,
   "metadata": {},
   "outputs": [
    {
     "ename": "SyntaxError",
     "evalue": "invalid syntax (<ipython-input-13-8a16c3cfa20a>, line 2)",
     "output_type": "error",
     "traceback": [
      "\u001b[1;36m  File \u001b[1;32m\"<ipython-input-13-8a16c3cfa20a>\"\u001b[1;36m, line \u001b[1;32m2\u001b[0m\n\u001b[1;33m    .join(int(i)**2 for i in str(num))\u001b[0m\n\u001b[1;37m    ^\u001b[0m\n\u001b[1;31mSyntaxError\u001b[0m\u001b[1;31m:\u001b[0m invalid syntax\n"
     ]
    }
   ],
   "source": [
    "#the second for loop is going to be handeled next. We are going to make i and integers and squre it: \n",
    "int(i)**2 for i in str(num)"
   ]
  },
  {
   "cell_type": "code",
   "execution_count": 14,
   "metadata": {},
   "outputs": [
    {
     "ename": "SyntaxError",
     "evalue": "invalid syntax (<ipython-input-14-94d1c8133254>, line 2)",
     "output_type": "error",
     "traceback": [
      "\u001b[1;36m  File \u001b[1;32m\"<ipython-input-14-94d1c8133254>\"\u001b[1;36m, line \u001b[1;32m2\u001b[0m\n\u001b[1;33m    .join(str((int(i)**2 for i in str(num))))\u001b[0m\n\u001b[1;37m    ^\u001b[0m\n\u001b[1;31mSyntaxError\u001b[0m\u001b[1;31m:\u001b[0m invalid syntax\n"
     ]
    }
   ],
   "source": [
    "#next we need to turn i back into a string in order to join is back together: \n",
    ".join(str((int(i)**2 for i in str(num))))"
   ]
  },
  {
   "cell_type": "code",
   "execution_count": 28,
   "metadata": {},
   "outputs": [
    {
     "ename": "SyntaxError",
     "evalue": "unexpected EOF while parsing (<ipython-input-28-aa6315c00068>, line 2)",
     "output_type": "error",
     "traceback": [
      "\u001b[1;36m  File \u001b[1;32m\"<ipython-input-28-aa6315c00068>\"\u001b[1;36m, line \u001b[1;32m2\u001b[0m\n\u001b[1;33m    int(\"\".join([str(int(i)**2) for i in str(num)])\u001b[0m\n\u001b[1;37m                                                   ^\u001b[0m\n\u001b[1;31mSyntaxError\u001b[0m\u001b[1;31m:\u001b[0m unexpected EOF while parsing\n"
     ]
    }
   ],
   "source": [
    "#finally we need to turn the whole thing back into an int:\n",
    "int(\"\".join([str(int(i)**2) for i in str(num)])"
   ]
  },
  {
   "cell_type": "code",
   "execution_count": 26,
   "metadata": {},
   "outputs": [
    {
     "data": {
      "text/plain": [
       "149162536"
      ]
     },
     "execution_count": 26,
     "metadata": {},
     "output_type": "execute_result"
    }
   ],
   "source": [
    "num = 123456\n",
    "int(\"\".join([str(int(i)**2) for i in str(num)]))"
   ]
  },
  {
   "cell_type": "code",
   "execution_count": 45,
   "metadata": {},
   "outputs": [],
   "source": [
    "def p_of_n(num):\n",
    "    return int(\"\".join([str(int(i)**2) for i in str(num)]))"
   ]
  },
  {
   "cell_type": "code",
   "execution_count": 46,
   "metadata": {},
   "outputs": [
    {
     "name": "stdout",
     "output_type": "stream",
     "text": [
      "949163649\n"
     ]
    }
   ],
   "source": [
    "print(p_of_n(374623))"
   ]
  },
  {
   "cell_type": "code",
   "execution_count": null,
   "metadata": {},
   "outputs": [],
   "source": []
  }
 ],
 "metadata": {
  "kernelspec": {
   "display_name": "Python 3",
   "language": "python",
   "name": "python3"
  },
  "language_info": {
   "codemirror_mode": {
    "name": "ipython",
    "version": 3
   },
   "file_extension": ".py",
   "mimetype": "text/x-python",
   "name": "python",
   "nbconvert_exporter": "python",
   "pygments_lexer": "ipython3",
   "version": "3.8.5"
  }
 },
 "nbformat": 4,
 "nbformat_minor": 4
}
