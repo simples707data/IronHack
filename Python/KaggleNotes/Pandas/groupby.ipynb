{
 "cells": [
  {
   "cell_type": "markdown",
   "id": "elder-marine",
   "metadata": {
    "papermill": {
     "duration": 0.009716,
     "end_time": "2021-04-15T16:51:21.721764",
     "exception": false,
     "start_time": "2021-04-15T16:51:21.712048",
     "status": "completed"
    },
    "tags": []
   },
   "source": [
    "# Groupwise analysis\n",
    "\n",
    "One function we've been using heavily thus far is the `value_counts()` function. We can replicate what `value_counts()` does by doing the following:"
   ]
  },
  {
   "cell_type": "code",
   "execution_count": 1,
   "id": "alien-greensboro",
   "metadata": {
    "_kg_hide-input": true,
    "execution": {
     "iopub.execute_input": "2021-04-15T16:51:21.747542Z",
     "iopub.status.busy": "2021-04-15T16:51:21.746911Z",
     "iopub.status.idle": "2021-04-15T16:51:23.806814Z",
     "shell.execute_reply": "2021-04-15T16:51:23.805318Z"
    },
    "papermill": {
     "duration": 2.076615,
     "end_time": "2021-04-15T16:51:23.807043",
     "exception": false,
     "start_time": "2021-04-15T16:51:21.730428",
     "status": "completed"
    },
    "tags": []
   },
   "outputs": [],
   "source": [
    "\n",
    "import pandas as pd\n",
    "reviews = pd.read_csv(\"../input/wine-reviews/winemag-data-130k-v2.csv\", index_col=0)\n",
    "pd.set_option(\"display.max_rows\", 5)"
   ]
  },
  {
   "cell_type": "code",
   "execution_count": 2,
   "id": "advisory-regard",
   "metadata": {
    "execution": {
     "iopub.execute_input": "2021-04-15T16:51:23.828602Z",
     "iopub.status.busy": "2021-04-15T16:51:23.827875Z",
     "iopub.status.idle": "2021-04-15T16:51:23.841425Z",
     "shell.execute_reply": "2021-04-15T16:51:23.841976Z"
    },
    "papermill": {
     "duration": 0.025965,
     "end_time": "2021-04-15T16:51:23.842182",
     "exception": false,
     "start_time": "2021-04-15T16:51:23.816217",
     "status": "completed"
    },
    "tags": []
   },
   "outputs": [
    {
     "data": {
      "text/plain": [
       "points\n",
       "80     397\n",
       "81     692\n",
       "      ... \n",
       "99      33\n",
       "100     19\n",
       "Name: points, Length: 21, dtype: int64"
      ]
     },
     "execution_count": 2,
     "metadata": {},
     "output_type": "execute_result"
    }
   ],
   "source": [
    "reviews.groupby('points').points.count()"
   ]
  },
  {
   "cell_type": "markdown",
   "id": "exterior-robert",
   "metadata": {
    "papermill": {
     "duration": 0.009285,
     "end_time": "2021-04-15T16:51:23.860990",
     "exception": false,
     "start_time": "2021-04-15T16:51:23.851705",
     "status": "completed"
    },
    "tags": []
   },
   "source": [
    "`groupby()` created a group of reviews which allotted the same point values to the given wines. Then, for each of these groups, we grabbed the `points()` column and counted how many times it appeared.  `value_counts()` is just a shortcut to this `groupby()` operation. \n",
    "\n",
    "We can use any of the summary functions we've used before with this data. For example, to get the cheapest wine in each point value category, we can do the following:"
   ]
  },
  {
   "cell_type": "code",
   "execution_count": 3,
   "id": "naked-bulletin",
   "metadata": {
    "execution": {
     "iopub.execute_input": "2021-04-15T16:51:23.883953Z",
     "iopub.status.busy": "2021-04-15T16:51:23.883174Z",
     "iopub.status.idle": "2021-04-15T16:51:23.900553Z",
     "shell.execute_reply": "2021-04-15T16:51:23.899911Z"
    },
    "papermill": {
     "duration": 0.029813,
     "end_time": "2021-04-15T16:51:23.900748",
     "exception": false,
     "start_time": "2021-04-15T16:51:23.870935",
     "status": "completed"
    },
    "scrolled": true,
    "tags": []
   },
   "outputs": [
    {
     "data": {
      "text/plain": [
       "points\n",
       "80      5.0\n",
       "81      5.0\n",
       "       ... \n",
       "99     44.0\n",
       "100    80.0\n",
       "Name: price, Length: 21, dtype: float64"
      ]
     },
     "execution_count": 3,
     "metadata": {},
     "output_type": "execute_result"
    }
   ],
   "source": [
    "reviews.groupby('points').price.min()"
   ]
  },
  {
   "cell_type": "markdown",
   "id": "regulation-rwanda",
   "metadata": {
    "papermill": {
     "duration": 0.009427,
     "end_time": "2021-04-15T16:51:23.920142",
     "exception": false,
     "start_time": "2021-04-15T16:51:23.910715",
     "status": "completed"
    },
    "tags": []
   },
   "source": [
    "You can think of each group we generate as being a slice of our DataFrame containing only data with values that match. This DataFrame is accessible to us directly using the `apply()` method, and we can then manipulate the data in any way we see fit. For example, here's one way of selecting the name of the first wine reviewed from each winery in the dataset:"
   ]
  },
  {
   "cell_type": "code",
   "execution_count": 4,
   "id": "passing-mozambique",
   "metadata": {
    "execution": {
     "iopub.execute_input": "2021-04-15T16:51:23.950700Z",
     "iopub.status.busy": "2021-04-15T16:51:23.949736Z",
     "iopub.status.idle": "2021-04-15T16:51:24.952030Z",
     "shell.execute_reply": "2021-04-15T16:51:24.951389Z"
    },
    "papermill": {
     "duration": 1.022843,
     "end_time": "2021-04-15T16:51:24.952196",
     "exception": false,
     "start_time": "2021-04-15T16:51:23.929353",
     "status": "completed"
    },
    "tags": []
   },
   "outputs": [
    {
     "data": {
      "text/plain": [
       "winery\n",
       "1+1=3                          1+1=3 NV Rosé Sparkling (Cava)\n",
       "10 Knots                 10 Knots 2010 Viognier (Paso Robles)\n",
       "                                  ...                        \n",
       "àMaurice    àMaurice 2013 Fred Estate Syrah (Walla Walla V...\n",
       "Štoka                         Štoka 2009 Izbrani Teran (Kras)\n",
       "Length: 16757, dtype: object"
      ]
     },
     "execution_count": 4,
     "metadata": {},
     "output_type": "execute_result"
    }
   ],
   "source": [
    "reviews.groupby('winery').apply(lambda df: df.title.iloc[0])"
   ]
  },
  {
   "cell_type": "markdown",
   "id": "resistant-browser",
   "metadata": {
    "papermill": {
     "duration": 0.010041,
     "end_time": "2021-04-15T16:51:24.972412",
     "exception": false,
     "start_time": "2021-04-15T16:51:24.962371",
     "status": "completed"
    },
    "tags": []
   },
   "source": [
    "For even more fine-grained control, you can also group by more than one column. For an example, here's how we would pick out the best wine by country _and_ province:"
   ]
  },
  {
   "cell_type": "code",
   "execution_count": 5,
   "id": "ruled-tender",
   "metadata": {
    "execution": {
     "iopub.execute_input": "2021-04-15T16:51:25.016135Z",
     "iopub.status.busy": "2021-04-15T16:51:25.015357Z",
     "iopub.status.idle": "2021-04-15T16:51:25.346609Z",
     "shell.execute_reply": "2021-04-15T16:51:25.346051Z"
    },
    "papermill": {
     "duration": 0.364096,
     "end_time": "2021-04-15T16:51:25.346771",
     "exception": false,
     "start_time": "2021-04-15T16:51:24.982675",
     "status": "completed"
    },
    "tags": []
   },
   "outputs": [
    {
     "data": {
      "text/html": [
       "<div>\n",
       "<style scoped>\n",
       "    .dataframe tbody tr th:only-of-type {\n",
       "        vertical-align: middle;\n",
       "    }\n",
       "\n",
       "    .dataframe tbody tr th {\n",
       "        vertical-align: top;\n",
       "    }\n",
       "\n",
       "    .dataframe thead th {\n",
       "        text-align: right;\n",
       "    }\n",
       "</style>\n",
       "<table border=\"1\" class=\"dataframe\">\n",
       "  <thead>\n",
       "    <tr style=\"text-align: right;\">\n",
       "      <th></th>\n",
       "      <th></th>\n",
       "      <th>country</th>\n",
       "      <th>description</th>\n",
       "      <th>designation</th>\n",
       "      <th>points</th>\n",
       "      <th>price</th>\n",
       "      <th>province</th>\n",
       "      <th>region_1</th>\n",
       "      <th>region_2</th>\n",
       "      <th>taster_name</th>\n",
       "      <th>taster_twitter_handle</th>\n",
       "      <th>title</th>\n",
       "      <th>variety</th>\n",
       "      <th>winery</th>\n",
       "    </tr>\n",
       "    <tr>\n",
       "      <th>country</th>\n",
       "      <th>province</th>\n",
       "      <th></th>\n",
       "      <th></th>\n",
       "      <th></th>\n",
       "      <th></th>\n",
       "      <th></th>\n",
       "      <th></th>\n",
       "      <th></th>\n",
       "      <th></th>\n",
       "      <th></th>\n",
       "      <th></th>\n",
       "      <th></th>\n",
       "      <th></th>\n",
       "      <th></th>\n",
       "    </tr>\n",
       "  </thead>\n",
       "  <tbody>\n",
       "    <tr>\n",
       "      <th rowspan=\"2\" valign=\"top\">Argentina</th>\n",
       "      <th>Mendoza Province</th>\n",
       "      <td>Argentina</td>\n",
       "      <td>If the color doesn't tell the full story, the ...</td>\n",
       "      <td>Nicasia Vineyard</td>\n",
       "      <td>97</td>\n",
       "      <td>120.0</td>\n",
       "      <td>Mendoza Province</td>\n",
       "      <td>Mendoza</td>\n",
       "      <td>NaN</td>\n",
       "      <td>Michael Schachner</td>\n",
       "      <td>@wineschach</td>\n",
       "      <td>Bodega Catena Zapata 2006 Nicasia Vineyard Mal...</td>\n",
       "      <td>Malbec</td>\n",
       "      <td>Bodega Catena Zapata</td>\n",
       "    </tr>\n",
       "    <tr>\n",
       "      <th>Other</th>\n",
       "      <td>Argentina</td>\n",
       "      <td>Take note, this could be the best wine Colomé ...</td>\n",
       "      <td>Reserva</td>\n",
       "      <td>95</td>\n",
       "      <td>90.0</td>\n",
       "      <td>Other</td>\n",
       "      <td>Salta</td>\n",
       "      <td>NaN</td>\n",
       "      <td>Michael Schachner</td>\n",
       "      <td>@wineschach</td>\n",
       "      <td>Colomé 2010 Reserva Malbec (Salta)</td>\n",
       "      <td>Malbec</td>\n",
       "      <td>Colomé</td>\n",
       "    </tr>\n",
       "    <tr>\n",
       "      <th>...</th>\n",
       "      <th>...</th>\n",
       "      <td>...</td>\n",
       "      <td>...</td>\n",
       "      <td>...</td>\n",
       "      <td>...</td>\n",
       "      <td>...</td>\n",
       "      <td>...</td>\n",
       "      <td>...</td>\n",
       "      <td>...</td>\n",
       "      <td>...</td>\n",
       "      <td>...</td>\n",
       "      <td>...</td>\n",
       "      <td>...</td>\n",
       "      <td>...</td>\n",
       "    </tr>\n",
       "    <tr>\n",
       "      <th rowspan=\"2\" valign=\"top\">Uruguay</th>\n",
       "      <th>San Jose</th>\n",
       "      <td>Uruguay</td>\n",
       "      <td>Baked, sweet, heavy aromas turn earthy with ti...</td>\n",
       "      <td>El Preciado Gran Reserva</td>\n",
       "      <td>87</td>\n",
       "      <td>50.0</td>\n",
       "      <td>San Jose</td>\n",
       "      <td>NaN</td>\n",
       "      <td>NaN</td>\n",
       "      <td>Michael Schachner</td>\n",
       "      <td>@wineschach</td>\n",
       "      <td>Castillo Viejo 2005 El Preciado Gran Reserva R...</td>\n",
       "      <td>Red Blend</td>\n",
       "      <td>Castillo Viejo</td>\n",
       "    </tr>\n",
       "    <tr>\n",
       "      <th>Uruguay</th>\n",
       "      <td>Uruguay</td>\n",
       "      <td>Cherry and berry aromas are ripe, healthy and ...</td>\n",
       "      <td>Blend 002 Limited Edition</td>\n",
       "      <td>91</td>\n",
       "      <td>22.0</td>\n",
       "      <td>Uruguay</td>\n",
       "      <td>NaN</td>\n",
       "      <td>NaN</td>\n",
       "      <td>Michael Schachner</td>\n",
       "      <td>@wineschach</td>\n",
       "      <td>Narbona NV Blend 002 Limited Edition Tannat-Ca...</td>\n",
       "      <td>Tannat-Cabernet Franc</td>\n",
       "      <td>Narbona</td>\n",
       "    </tr>\n",
       "  </tbody>\n",
       "</table>\n",
       "<p>425 rows × 13 columns</p>\n",
       "</div>"
      ],
      "text/plain": [
       "                              country  \\\n",
       "country   province                      \n",
       "Argentina Mendoza Province  Argentina   \n",
       "          Other             Argentina   \n",
       "...                               ...   \n",
       "Uruguay   San Jose            Uruguay   \n",
       "          Uruguay             Uruguay   \n",
       "\n",
       "                                                                  description  \\\n",
       "country   province                                                              \n",
       "Argentina Mendoza Province  If the color doesn't tell the full story, the ...   \n",
       "          Other             Take note, this could be the best wine Colomé ...   \n",
       "...                                                                       ...   \n",
       "Uruguay   San Jose          Baked, sweet, heavy aromas turn earthy with ti...   \n",
       "          Uruguay           Cherry and berry aromas are ripe, healthy and ...   \n",
       "\n",
       "                                          designation  points  price  \\\n",
       "country   province                                                     \n",
       "Argentina Mendoza Province           Nicasia Vineyard      97  120.0   \n",
       "          Other                               Reserva      95   90.0   \n",
       "...                                               ...     ...    ...   \n",
       "Uruguay   San Jose           El Preciado Gran Reserva      87   50.0   \n",
       "          Uruguay           Blend 002 Limited Edition      91   22.0   \n",
       "\n",
       "                                    province region_1 region_2  \\\n",
       "country   province                                               \n",
       "Argentina Mendoza Province  Mendoza Province  Mendoza      NaN   \n",
       "          Other                        Other    Salta      NaN   \n",
       "...                                      ...      ...      ...   \n",
       "Uruguay   San Jose                  San Jose      NaN      NaN   \n",
       "          Uruguay                    Uruguay      NaN      NaN   \n",
       "\n",
       "                                  taster_name taster_twitter_handle  \\\n",
       "country   province                                                    \n",
       "Argentina Mendoza Province  Michael Schachner           @wineschach   \n",
       "          Other             Michael Schachner           @wineschach   \n",
       "...                                       ...                   ...   \n",
       "Uruguay   San Jose          Michael Schachner           @wineschach   \n",
       "          Uruguay           Michael Schachner           @wineschach   \n",
       "\n",
       "                                                                        title  \\\n",
       "country   province                                                              \n",
       "Argentina Mendoza Province  Bodega Catena Zapata 2006 Nicasia Vineyard Mal...   \n",
       "          Other                            Colomé 2010 Reserva Malbec (Salta)   \n",
       "...                                                                       ...   \n",
       "Uruguay   San Jose          Castillo Viejo 2005 El Preciado Gran Reserva R...   \n",
       "          Uruguay           Narbona NV Blend 002 Limited Edition Tannat-Ca...   \n",
       "\n",
       "                                          variety                winery  \n",
       "country   province                                                       \n",
       "Argentina Mendoza Province                 Malbec  Bodega Catena Zapata  \n",
       "          Other                            Malbec                Colomé  \n",
       "...                                           ...                   ...  \n",
       "Uruguay   San Jose                      Red Blend        Castillo Viejo  \n",
       "          Uruguay           Tannat-Cabernet Franc               Narbona  \n",
       "\n",
       "[425 rows x 13 columns]"
      ]
     },
     "execution_count": 5,
     "metadata": {},
     "output_type": "execute_result"
    }
   ],
   "source": [
    "reviews.groupby(['country', 'province']).apply(lambda df: df.loc[df.points.idxmax()])\n",
    "# Note: Here we need lambada to create a temporary data frame to run our 'apply' function on. 'apply' only refers to a data frame. \n"
   ]
  },
  {
   "cell_type": "markdown",
   "id": "chicken-welsh",
   "metadata": {
    "papermill": {
     "duration": 0.010262,
     "end_time": "2021-04-15T16:51:25.367648",
     "exception": false,
     "start_time": "2021-04-15T16:51:25.357386",
     "status": "completed"
    },
    "tags": []
   },
   "source": [
    "#### Running multiple functions on one value (eg. number, min and max on price)"
   ]
  },
  {
   "cell_type": "markdown",
   "id": "brutal-charity",
   "metadata": {
    "papermill": {
     "duration": 0.011795,
     "end_time": "2021-04-15T16:51:25.390003",
     "exception": false,
     "start_time": "2021-04-15T16:51:25.378208",
     "status": "completed"
    },
    "tags": []
   },
   "source": [
    "Another `groupby()` method worth mentioning is `agg()`, which lets you run a bunch of different functions on your DataFrame simultaneously. For example, we can generate a simple statistical summary of the dataset as follows. This shows the number of wines per country (values in the price column per country) and the min price and the max price of those winse."
   ]
  },
  {
   "cell_type": "code",
   "execution_count": 6,
   "id": "medium-deployment",
   "metadata": {
    "execution": {
     "iopub.execute_input": "2021-04-15T16:51:25.417780Z",
     "iopub.status.busy": "2021-04-15T16:51:25.417041Z",
     "iopub.status.idle": "2021-04-15T16:51:25.464668Z",
     "shell.execute_reply": "2021-04-15T16:51:25.463893Z"
    },
    "papermill": {
     "duration": 0.064219,
     "end_time": "2021-04-15T16:51:25.464827",
     "exception": false,
     "start_time": "2021-04-15T16:51:25.400608",
     "status": "completed"
    },
    "tags": []
   },
   "outputs": [
    {
     "data": {
      "text/html": [
       "<div>\n",
       "<style scoped>\n",
       "    .dataframe tbody tr th:only-of-type {\n",
       "        vertical-align: middle;\n",
       "    }\n",
       "\n",
       "    .dataframe tbody tr th {\n",
       "        vertical-align: top;\n",
       "    }\n",
       "\n",
       "    .dataframe thead th {\n",
       "        text-align: right;\n",
       "    }\n",
       "</style>\n",
       "<table border=\"1\" class=\"dataframe\">\n",
       "  <thead>\n",
       "    <tr style=\"text-align: right;\">\n",
       "      <th></th>\n",
       "      <th>len</th>\n",
       "      <th>min</th>\n",
       "      <th>max</th>\n",
       "    </tr>\n",
       "    <tr>\n",
       "      <th>country</th>\n",
       "      <th></th>\n",
       "      <th></th>\n",
       "      <th></th>\n",
       "    </tr>\n",
       "  </thead>\n",
       "  <tbody>\n",
       "    <tr>\n",
       "      <th>Argentina</th>\n",
       "      <td>3800.0</td>\n",
       "      <td>4.0</td>\n",
       "      <td>230.0</td>\n",
       "    </tr>\n",
       "    <tr>\n",
       "      <th>Armenia</th>\n",
       "      <td>2.0</td>\n",
       "      <td>14.0</td>\n",
       "      <td>15.0</td>\n",
       "    </tr>\n",
       "    <tr>\n",
       "      <th>...</th>\n",
       "      <td>...</td>\n",
       "      <td>...</td>\n",
       "      <td>...</td>\n",
       "    </tr>\n",
       "    <tr>\n",
       "      <th>Ukraine</th>\n",
       "      <td>14.0</td>\n",
       "      <td>6.0</td>\n",
       "      <td>13.0</td>\n",
       "    </tr>\n",
       "    <tr>\n",
       "      <th>Uruguay</th>\n",
       "      <td>109.0</td>\n",
       "      <td>10.0</td>\n",
       "      <td>130.0</td>\n",
       "    </tr>\n",
       "  </tbody>\n",
       "</table>\n",
       "<p>43 rows × 3 columns</p>\n",
       "</div>"
      ],
      "text/plain": [
       "              len   min    max\n",
       "country                       \n",
       "Argentina  3800.0   4.0  230.0\n",
       "Armenia       2.0  14.0   15.0\n",
       "...           ...   ...    ...\n",
       "Ukraine      14.0   6.0   13.0\n",
       "Uruguay     109.0  10.0  130.0\n",
       "\n",
       "[43 rows x 3 columns]"
      ]
     },
     "execution_count": 6,
     "metadata": {},
     "output_type": "execute_result"
    }
   ],
   "source": [
    "reviews.groupby(['country']).price.agg([len, min, max])"
   ]
  }
 ],
 "metadata": {
  "kernelspec": {
   "display_name": "Python 3",
   "language": "python",
   "name": "python3"
  },
  "language_info": {
   "codemirror_mode": {
    "name": "ipython",
    "version": 3
   },
   "file_extension": ".py",
   "mimetype": "text/x-python",
   "name": "python",
   "nbconvert_exporter": "python",
   "pygments_lexer": "ipython3",
   "version": "3.7.9"
  },
  "papermill": {
   "default_parameters": {},
   "duration": 11.859896,
   "end_time": "2021-04-15T16:51:26.087148",
   "environment_variables": {},
   "exception": null,
   "input_path": "__notebook__.ipynb",
   "output_path": "__notebook__.ipynb",
   "parameters": {},
   "start_time": "2021-04-15T16:51:14.227252",
   "version": "2.3.2"
  }
 },
 "nbformat": 4,
 "nbformat_minor": 5
}
