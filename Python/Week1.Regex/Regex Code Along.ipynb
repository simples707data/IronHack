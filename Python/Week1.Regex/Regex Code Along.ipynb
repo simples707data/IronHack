{
 "cells": [
  {
   "cell_type": "code",
   "execution_count": 3,
   "metadata": {
    "scrolled": true
   },
   "outputs": [],
   "source": [
    "import re"
   ]
  },
  {
   "cell_type": "markdown",
   "metadata": {},
   "source": [
    "### RegEx \n",
    "\n",
    "https://docs.python.org/3/library/re.html\n",
    "\n",
    "Regular expressions provide a flexible way to search or match (often more complex)\n",
    "string patterns in text. A single expression, commonly called a regex, is a string\n",
    "formed according to the regular expression language. Python’s built-in re module is\n",
    "responsible for applying regular expressions to strings\n",
    "\n",
    "Functions:\n",
    "\n",
    "- `findall`\tReturns a list containing all matches\n",
    "- `search`\tReturns a Match object if there is a match anywhere in the string. If there is more than one match, only the first occurrence of the match will be returned.\n",
    "- `split`\tReturns a list where the string has been split at each match\n",
    "- `sub`\tReplaces one or many matches with a string"
   ]
  },
  {
   "cell_type": "code",
   "execution_count": 15,
   "metadata": {},
   "outputs": [],
   "source": [
    "alphanumeric = \"4298fsfsDFGHv012rvv21v9\""
   ]
  },
  {
   "cell_type": "code",
   "execution_count": 16,
   "metadata": {},
   "outputs": [
    {
     "data": {
      "text/plain": [
       "['f', 's', 'f', 's', 'D', 'F', 'G', 'H', 'v', 'r', 'v', 'v', 'v']"
      ]
     },
     "execution_count": 16,
     "metadata": {},
     "output_type": "execute_result"
    }
   ],
   "source": [
    "#use findall to pull out the letters only\n",
    "\n",
    "re.findall(\"[A-z]\", alphanumeric)"
   ]
  },
  {
   "cell_type": "code",
   "execution_count": 17,
   "metadata": {},
   "outputs": [],
   "source": [
    "#findall using a known pattern can be used to pull pertinent information out of a text value\n",
    "text = \"Sian sian@google.com\"\n",
    "pattern = r'[A-Z0-9._%+-]+@[A-Z0-9.-]+\\.[A-Z]{2,4}'"
   ]
  },
  {
   "cell_type": "code",
   "execution_count": 18,
   "metadata": {},
   "outputs": [
    {
     "data": {
      "text/plain": [
       "['sian@google.com']"
      ]
     },
     "execution_count": 18,
     "metadata": {},
     "output_type": "execute_result"
    }
   ],
   "source": [
    "regex = re.compile(pattern, flags=re.IGNORECASE) #ignore the case of A-Z\n",
    "regex.findall(text)"
   ]
  },
  {
   "cell_type": "code",
   "execution_count": 19,
   "metadata": {},
   "outputs": [],
   "source": [
    "#using findall to split out the parts of the email address by amending the pattern with () \n",
    "text = \"Sian sian@google.com\"\n",
    "pattern = r'([A-Z0-9._%+-]+)@([A-Z0-9.-]+)\\.([A-Z]{2,4})'"
   ]
  },
  {
   "cell_type": "code",
   "execution_count": 20,
   "metadata": {},
   "outputs": [
    {
     "data": {
      "text/plain": [
       "[('sian', 'google', 'com')]"
      ]
     },
     "execution_count": 20,
     "metadata": {},
     "output_type": "execute_result"
    }
   ],
   "source": [
    "regex = re.compile(pattern, flags=re.IGNORECASE) #ignore the case of A-Z\n",
    "regex.findall(text)"
   ]
  },
  {
   "cell_type": "code",
   "execution_count": 21,
   "metadata": {},
   "outputs": [],
   "source": [
    "my_string = \"Kosta likes climbing. Kosta is a great TA so he also loves data\""
   ]
  },
  {
   "cell_type": "code",
   "execution_count": 22,
   "metadata": {},
   "outputs": [
    {
     "data": {
      "text/plain": [
       "['Kosta ', 'Kosta ']"
      ]
     },
     "execution_count": 22,
     "metadata": {},
     "output_type": "execute_result"
    }
   ],
   "source": [
    "# return all occurrances of 'Kosta' using re.findall()\n",
    "\n",
    "re.findall(\"Kosta \", my_string)"
   ]
  },
  {
   "cell_type": "code",
   "execution_count": 23,
   "metadata": {},
   "outputs": [],
   "source": [
    "# use re.sub() to replace \"TA\" by \"Triceratops Alligator\"\n",
    "\n",
    "my_string = re.sub(\"TA\", \"Triceratops Alligator\", my_string)"
   ]
  },
  {
   "cell_type": "code",
   "execution_count": 24,
   "metadata": {},
   "outputs": [
    {
     "data": {
      "text/plain": [
       "'Kosta likes climbing. Kosta is a great Triceratops Alligator so he also loves data'"
      ]
     },
     "execution_count": 24,
     "metadata": {},
     "output_type": "execute_result"
    }
   ],
   "source": [
    "my_string"
   ]
  },
  {
   "cell_type": "code",
   "execution_count": 25,
   "metadata": {},
   "outputs": [
    {
     "name": "stdout",
     "output_type": "stream",
     "text": [
      "<re.Match object; span=(73, 76), match='ove'>\n"
     ]
    }
   ],
   "source": [
    "x = re.search(\"ove\", my_string)\n",
    "print(x)"
   ]
  },
  {
   "cell_type": "code",
   "execution_count": 26,
   "metadata": {},
   "outputs": [
    {
     "name": "stdout",
     "output_type": "stream",
     "text": [
      "(39, 50)\n"
     ]
    }
   ],
   "source": [
    "x = re.search(r\"\\bT\\w+\", my_string)\n",
    "print(x.span())"
   ]
  },
  {
   "cell_type": "code",
   "execution_count": 27,
   "metadata": {},
   "outputs": [
    {
     "name": "stdout",
     "output_type": "stream",
     "text": [
      "Triceratops\n"
     ]
    }
   ],
   "source": [
    "print(x.group())"
   ]
  },
  {
   "cell_type": "code",
   "execution_count": 28,
   "metadata": {},
   "outputs": [],
   "source": [
    "multiples= \"ear       hand  foot knee\""
   ]
  },
  {
   "cell_type": "code",
   "execution_count": 29,
   "metadata": {},
   "outputs": [
    {
     "data": {
      "text/plain": [
       "['ear', 'hand', 'foot', 'knee']"
      ]
     },
     "execution_count": 29,
     "metadata": {},
     "output_type": "execute_result"
    }
   ],
   "source": [
    "#use split with \\s+ to comile and then split the passed text around the spaces\n",
    "re.split('\\s+', multiples)"
   ]
  },
  {
   "cell_type": "markdown",
   "metadata": {},
   "source": [
    "**The Match object** has properties and methods used to retrieve information about the search, and the result:\n",
    "\n",
    "- `.span()` returns a tuple containing the start-, and end positions of the match.\n",
    "- `.string` returns the string passed into the function\n",
    "- `.group()` returns the part of the string where there was a match"
   ]
  },
  {
   "cell_type": "markdown",
   "metadata": {},
   "source": [
    "### Special Sequences"
   ]
  },
  {
   "cell_type": "markdown",
   "metadata": {},
   "source": [
    "\\A\tReturns a match if the specified characters are at the beginning of the string\t\"\\AThe\"\t\n",
    "\\b\tReturns a match where the specified characters are at the beginning or at the end of a word\tr\"\\bain\"\n",
    "r\"ain\\b\"\t\n",
    "\\B\tReturns a match where the specified characters are present, but NOT at the beginning (or at the end) of a word\tr\"\\Bain\"\n",
    "r\"ain\\B\"\t\n",
    "\\d\tReturns a match where the string contains digits (numbers from 0-9)\t\"\\d\"\t\n",
    "\\D\tReturns a match where the string DOES NOT contain digits\t\"\\D\"\t\n",
    "\\s\tReturns a match where the string contains a white space character\t\"\\s\"\t\n",
    "\\S\tReturns a match where the string DOES NOT contain a white space character\t\"\\S\"\t\n",
    "\\w\tReturns a match where the string contains any word characters (characters from a to Z, digits from 0-9, and the underscore _ character)\t\"\\w\"\t\n",
    "\\W\tReturns a match where the string DOES NOT contain any word characters\t\"\\W\"\t\n",
    "\\Z\tReturns a match if the specified characters are at the end of the string\t\"Spain\\Z\""
   ]
  },
  {
   "cell_type": "code",
   "execution_count": null,
   "metadata": {},
   "outputs": [],
   "source": [
    "strings = [\"there was a dog and there was a cat\", \n",
    "           \"if you capitalize this part of the string you will be in trouble\",\n",
    "           \"this is the end of the string\"]"
   ]
  },
  {
   "cell_type": "code",
   "execution_count": null,
   "metadata": {},
   "outputs": [],
   "source": [
    "# Use a special sequence to capitalize the strings above without getting into trouble\n",
    "for string in strings:\n",
    "    print(re.sub(\"\\At\", \"T\", string))"
   ]
  },
  {
   "cell_type": "code",
   "execution_count": 9,
   "metadata": {},
   "outputs": [],
   "source": [
    "quotes = [\"work hard all day, all days\", \n",
    "          \"There are 3 types of people: those who can count and those who can't\",\n",
    "          \"Nice to be nice\",\n",
    "          \"Some people feel the rain, others just get wet\",\n",
    "          \"could you complete the exercise? wow\"\n",
    "         ]"
   ]
  },
  {
   "cell_type": "code",
   "execution_count": 10,
   "metadata": {},
   "outputs": [],
   "source": [
    "#what will this capitalise?\n",
    "for i in range(len(quotes)):\n",
    "    quotes[i]= re.sub(\"\\sw\",\" W\", quotes[i])"
   ]
  },
  {
   "cell_type": "code",
   "execution_count": 11,
   "metadata": {},
   "outputs": [
    {
     "data": {
      "text/plain": [
       "['work hard all day, all days',\n",
       " \"There are 3 types of people: those Who can count and those Who can't\",\n",
       " 'Nice to be nice',\n",
       " 'Some people feel the rain, others just get Wet',\n",
       " 'could you complete the exercise? Wow']"
      ]
     },
     "execution_count": 11,
     "metadata": {},
     "output_type": "execute_result"
    }
   ],
   "source": [
    "quotes"
   ]
  },
  {
   "cell_type": "code",
   "execution_count": 12,
   "metadata": {},
   "outputs": [
    {
     "name": "stdout",
     "output_type": "stream",
     "text": [
      "Work hard all day, all days\n",
      "There are 3 types of people: those Who can count and those Who can't\n",
      "Nice to be nice\n",
      "Some people feel the rain, others just get Wet\n",
      "could you complete the exercise? Wow\n"
     ]
    }
   ],
   "source": [
    "#what will this capitalise?\n",
    "for quote in quotes:\n",
    "    print(re.sub(r\"\\bw\",\"W\",quote))"
   ]
  },
  {
   "cell_type": "code",
   "execution_count": 4,
   "metadata": {},
   "outputs": [],
   "source": [
    "# use a special sequence to find the numbers in the string\n",
    "some_nums = \"I have had 3 coffees this morning and I plan to drink 7 more\""
   ]
  },
  {
   "cell_type": "code",
   "execution_count": 5,
   "metadata": {},
   "outputs": [
    {
     "data": {
      "text/plain": [
       "['3', '7']"
      ]
     },
     "execution_count": 5,
     "metadata": {},
     "output_type": "execute_result"
    }
   ],
   "source": [
    "re.findall(\"\\d\", some_nums)"
   ]
  },
  {
   "cell_type": "markdown",
   "metadata": {},
   "source": [
    "### `+`One or more occurrences"
   ]
  },
  {
   "cell_type": "code",
   "execution_count": null,
   "metadata": {},
   "outputs": [],
   "source": [
    "# use re.sub() together with + to fix the occurrance of too many whitespaces\n",
    "\n",
    "spaces = \"I   have too   many     spaces\"\n",
    "re.sub(\" +\", \" \", spaces)"
   ]
  },
  {
   "cell_type": "markdown",
   "metadata": {},
   "source": [
    "### `^`- Starts with"
   ]
  },
  {
   "cell_type": "code",
   "execution_count": null,
   "metadata": {
    "scrolled": true
   },
   "outputs": [],
   "source": [
    "# print all veggies that start with a\n",
    "veggies = [\"tomato\", \"potato\", \"apple juice\",\n",
    "           \"pear\", \"asparagus are tasty\", \"peach\"]\n",
    "for veg in veggies:\n",
    "    print(re.findall(r\"^a\\S*\", veg))"
   ]
  }
 ],
 "metadata": {
  "kernelspec": {
   "display_name": "Python 3",
   "language": "python",
   "name": "python3"
  },
  "language_info": {
   "codemirror_mode": {
    "name": "ipython",
    "version": 3
   },
   "file_extension": ".py",
   "mimetype": "text/x-python",
   "name": "python",
   "nbconvert_exporter": "python",
   "pygments_lexer": "ipython3",
   "version": "3.8.5"
  }
 },
 "nbformat": 4,
 "nbformat_minor": 4
}
