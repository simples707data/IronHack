{
 "cells": [
  {
   "cell_type": "markdown",
   "metadata": {},
   "source": [
    "### Logistical Regression on the Iris dataset. \n",
    "\n",
    "Applying the logistical regression model from sklearn to the puzzel of identifying different Irises based on some measuremnts from the plants. (stem lenght etc)\n",
    "\n",
    "\n",
    "#### EDA and Cleaning:\n",
    "Did this in one step - adjusting as issues were spotted.\n",
    "\n",
    "#### Visaul EDA and removing outliers:\n",
    "Removed outliers - which were pronounced because the data set was very small (150 entires in total)\n",
    "\n",
    "#### Normalsing and running the model. \n",
    "At this point I was just copy pasting. But I did understand more or less how the code was working and was able to adjust to fit this different data set. - most notalby understanding how to crewte a binary question where there were three options (= answer one at a time. Is it a? yes no, is it b) yes no, is it c) yes no)\n",
    "\n",
    "#### Results\n",
    "97% accuracy is probably much too high for such a small data set. However, it is possible that the three iris types are very distinct and therefore easy to differenciate even with a small sample size. \n",
    "\n",
    "#### Reveiw\n",
    "It was good to work with others. Sometimes I just go off on my own. But worked better today in a breakout room where I could chekc in with other people when I got stuck.\n",
    "I dont really understand how the models work. But am not too worried about this. \n",
    "I was pleased to get the data cleaning and wrangling done quite efficiently. \n",
    "\n",
    "The first Python based lab that I have finished on time and somewhat to my satisfaction - so pleased with this"
   ]
  },
  {
   "cell_type": "markdown",
   "metadata": {},
   "source": [
    "See code in this file: Logistical Regression on the Iris dataset.ipynb"
   ]
  },
  {
   "cell_type": "code",
   "execution_count": null,
   "metadata": {},
   "outputs": [],
   "source": []
  }
 ],
 "metadata": {
  "kernelspec": {
   "display_name": "Python 3",
   "language": "python",
   "name": "python3"
  },
  "language_info": {
   "codemirror_mode": {
    "name": "ipython",
    "version": 3
   },
   "file_extension": ".py",
   "mimetype": "text/x-python",
   "name": "python",
   "nbconvert_exporter": "python",
   "pygments_lexer": "ipython3",
   "version": "3.8.5"
  }
 },
 "nbformat": 4,
 "nbformat_minor": 4
}
