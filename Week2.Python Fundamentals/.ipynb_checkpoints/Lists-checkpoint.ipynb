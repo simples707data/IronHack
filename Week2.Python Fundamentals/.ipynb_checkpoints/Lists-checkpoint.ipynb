{
 "cells": [
  {
   "cell_type": "markdown",
   "metadata": {},
   "source": [
    "##### Lists"
   ]
  },
  {
   "cell_type": "code",
   "execution_count": 51,
   "metadata": {},
   "outputs": [],
   "source": [
    "TAs = [\"Null\", \"asd\", 404]"
   ]
  },
  {
   "cell_type": "code",
   "execution_count": 52,
   "metadata": {},
   "outputs": [],
   "source": [
    "backup = TAs.copy()"
   ]
  },
  {
   "cell_type": "code",
   "execution_count": 53,
   "metadata": {},
   "outputs": [],
   "source": [
    "TAs = [\"triceratops_alligator\"]"
   ]
  },
  {
   "cell_type": "code",
   "execution_count": 54,
   "metadata": {},
   "outputs": [
    {
     "data": {
      "text/plain": [
       "list"
      ]
     },
     "execution_count": 54,
     "metadata": {},
     "output_type": "execute_result"
    }
   ],
   "source": [
    "type(TAs)"
   ]
  },
  {
   "cell_type": "code",
   "execution_count": 55,
   "metadata": {},
   "outputs": [
    {
     "name": "stdout",
     "output_type": "stream",
     "text": [
      "['triceratops_alligator']\n"
     ]
    }
   ],
   "source": [
    "print(TAs)"
   ]
  },
  {
   "cell_type": "code",
   "execution_count": 56,
   "metadata": {},
   "outputs": [],
   "source": [
    "TAs.append(\"giganotosaurus_crocodile\")"
   ]
  },
  {
   "cell_type": "code",
   "execution_count": 58,
   "metadata": {},
   "outputs": [
    {
     "data": {
      "text/plain": [
       "['triceratops_alligator', 'giganotosaurus_crocodile']"
      ]
     },
     "execution_count": 58,
     "metadata": {},
     "output_type": "execute_result"
    }
   ],
   "source": [
    "TAs"
   ]
  },
  {
   "cell_type": "code",
   "execution_count": 59,
   "metadata": {},
   "outputs": [],
   "source": [
    "LT = [\"plateosaurus_imperator\"]"
   ]
  },
  {
   "cell_type": "code",
   "execution_count": 60,
   "metadata": {},
   "outputs": [],
   "source": [
    "teachers = TAs + LT"
   ]
  },
  {
   "cell_type": "code",
   "execution_count": 61,
   "metadata": {
    "scrolled": false
   },
   "outputs": [
    {
     "name": "stdout",
     "output_type": "stream",
     "text": [
      "['triceratops_alligator', 'giganotosaurus_crocodile', 'plateosaurus_imperator']\n"
     ]
    }
   ],
   "source": [
    "print(teachers)"
   ]
  },
  {
   "cell_type": "code",
   "execution_count": 62,
   "metadata": {},
   "outputs": [
    {
     "data": {
      "text/plain": [
       "1"
      ]
     },
     "execution_count": 62,
     "metadata": {},
     "output_type": "execute_result"
    }
   ],
   "source": [
    "teachers.count(\"plateosaurus_imperator\")"
   ]
  },
  {
   "cell_type": "code",
   "execution_count": 63,
   "metadata": {},
   "outputs": [
    {
     "data": {
      "text/plain": [
       "2"
      ]
     },
     "execution_count": 63,
     "metadata": {},
     "output_type": "execute_result"
    }
   ],
   "source": [
    "teachers.index(\"plateosaurus_imperator\")"
   ]
  },
  {
   "cell_type": "code",
   "execution_count": 67,
   "metadata": {
    "scrolled": true
   },
   "outputs": [
    {
     "data": {
      "text/plain": [
       "'plateosaurus_imperator'"
      ]
     },
     "execution_count": 67,
     "metadata": {},
     "output_type": "execute_result"
    }
   ],
   "source": [
    "teachers[2]"
   ]
  },
  {
   "cell_type": "code",
   "execution_count": 74,
   "metadata": {},
   "outputs": [
    {
     "data": {
      "text/plain": [
       "['triceratops_alligator', 'giganotosaurus_crocodile', 'plateosaurus_imperator']"
      ]
     },
     "execution_count": 74,
     "metadata": {},
     "output_type": "execute_result"
    }
   ],
   "source": [
    "teachers"
   ]
  },
  {
   "cell_type": "code",
   "execution_count": 78,
   "metadata": {},
   "outputs": [
    {
     "data": {
      "text/plain": [
       "'_'"
      ]
     },
     "execution_count": 78,
     "metadata": {},
     "output_type": "execute_result"
    }
   ],
   "source": [
    "teachers[0][11]"
   ]
  },
  {
   "cell_type": "code",
   "execution_count": 79,
   "metadata": {
    "scrolled": true
   },
   "outputs": [
    {
     "data": {
      "text/plain": [
       "3"
      ]
     },
     "execution_count": 79,
     "metadata": {},
     "output_type": "execute_result"
    }
   ],
   "source": [
    "len(teachers)"
   ]
  },
  {
   "cell_type": "code",
   "execution_count": 80,
   "metadata": {},
   "outputs": [],
   "source": [
    "LT = teachers.pop()"
   ]
  },
  {
   "cell_type": "code",
   "execution_count": 81,
   "metadata": {},
   "outputs": [
    {
     "name": "stdout",
     "output_type": "stream",
     "text": [
      "plateosaurus_imperator\n"
     ]
    }
   ],
   "source": [
    "print(LT)"
   ]
  },
  {
   "cell_type": "code",
   "execution_count": 82,
   "metadata": {
    "scrolled": true
   },
   "outputs": [
    {
     "data": {
      "text/plain": [
       "str"
      ]
     },
     "execution_count": 82,
     "metadata": {},
     "output_type": "execute_result"
    }
   ],
   "source": [
    "type(LT)"
   ]
  },
  {
   "cell_type": "code",
   "execution_count": 84,
   "metadata": {},
   "outputs": [],
   "source": [
    "teachers.sort()"
   ]
  },
  {
   "cell_type": "code",
   "execution_count": 85,
   "metadata": {
    "scrolled": false
   },
   "outputs": [
    {
     "name": "stdout",
     "output_type": "stream",
     "text": [
      "['giganotosaurus_crocodile', 'triceratops_alligator']\n"
     ]
    }
   ],
   "source": [
    "print(teachers)"
   ]
  },
  {
   "cell_type": "code",
   "execution_count": 86,
   "metadata": {},
   "outputs": [],
   "source": [
    "teachers = ['triceratops_alligator', 'giganotosaurus_crocodile', 'plateosaurus_imperator']"
   ]
  },
  {
   "cell_type": "code",
   "execution_count": 87,
   "metadata": {},
   "outputs": [],
   "source": [
    "teachers[1] = \"Flo\""
   ]
  },
  {
   "cell_type": "code",
   "execution_count": 88,
   "metadata": {},
   "outputs": [
    {
     "data": {
      "text/plain": [
       "['triceratops_alligator', 'Flo', 'plateosaurus_imperator']"
      ]
     },
     "execution_count": 88,
     "metadata": {},
     "output_type": "execute_result"
    }
   ],
   "source": [
    "teachers"
   ]
  },
  {
   "cell_type": "code",
   "execution_count": 89,
   "metadata": {},
   "outputs": [],
   "source": [
    "import numpy as np"
   ]
  },
  {
   "cell_type": "code",
   "execution_count": 100,
   "metadata": {},
   "outputs": [],
   "source": [
    "num_list = np.random.randint(100, size=130).tolist()"
   ]
  },
  {
   "cell_type": "code",
   "execution_count": 103,
   "metadata": {},
   "outputs": [
    {
     "data": {
      "text/plain": [
       "list"
      ]
     },
     "execution_count": 103,
     "metadata": {},
     "output_type": "execute_result"
    }
   ],
   "source": [
    "type(num_list)"
   ]
  },
  {
   "cell_type": "code",
   "execution_count": 102,
   "metadata": {
    "scrolled": true
   },
   "outputs": [
    {
     "name": "stdout",
     "output_type": "stream",
     "text": [
      "[72, 8, 89, 19, 39, 58, 29, 97, 76, 43, 58, 77, 48, 75, 33, 36, 32, 14, 40, 14, 29, 37, 32, 55, 47, 67, 68, 1, 78, 43, 72, 16, 66, 54, 29, 67, 49, 33, 28, 50, 30, 33, 80, 14, 69, 97, 7, 72, 92, 8, 7, 32, 3, 30, 33, 99, 32, 18, 5, 50, 32, 84, 59, 26, 66, 82, 5, 46, 13, 21, 53, 63, 5, 48, 5, 43, 14, 74, 75, 94, 63, 26, 78, 68, 15, 65, 85, 9, 5, 97, 45, 63, 68, 72, 26, 79, 54, 30, 57, 22, 11, 29, 48, 83, 23, 16, 10, 67, 26, 61, 44, 3, 36, 54, 80, 7, 88, 20, 4, 56, 92, 37, 19, 44, 81, 38, 19, 12, 52, 55]\n"
     ]
    }
   ],
   "source": [
    "print(num_list)"
   ]
  },
  {
   "cell_type": "code",
   "execution_count": 104,
   "metadata": {},
   "outputs": [
    {
     "name": "stdout",
     "output_type": "stream",
     "text": [
      "[1, 3, 3, 4, 5, 5, 5, 5, 5, 7, 7, 7, 8, 8, 9, 10, 11, 12, 13, 14, 14, 14, 14, 15, 16, 16, 18, 19, 19, 19, 20, 21, 22, 23, 26, 26, 26, 26, 28, 29, 29, 29, 29, 30, 30, 30, 32, 32, 32, 32, 32, 33, 33, 33, 33, 36, 36, 37, 37, 38, 39, 40, 43, 43, 43, 44, 44, 45, 46, 47, 48, 48, 48, 49, 50, 50, 52, 53, 54, 54, 54, 55, 55, 56, 57, 58, 58, 59, 61, 63, 63, 63, 65, 66, 66, 67, 67, 67, 68, 68, 68, 69, 72, 72, 72, 72, 74, 75, 75, 76, 77, 78, 78, 79, 80, 80, 81, 82, 83, 84, 85, 88, 89, 92, 92, 94, 97, 97, 97, 99]\n"
     ]
    }
   ],
   "source": [
    "num_list = sorted(num_list, reverse=False)\n",
    "print(num_list)"
   ]
  },
  {
   "cell_type": "markdown",
   "metadata": {},
   "source": [
    "#### Iterating through lists"
   ]
  },
  {
   "cell_type": "code",
   "execution_count": 107,
   "metadata": {
    "scrolled": true
   },
   "outputs": [
    {
     "name": "stdout",
     "output_type": "stream",
     "text": [
      "1% done...\n",
      "3% done...\n",
      "3% done...\n",
      "4% done...\n",
      "5% done...\n",
      "5% done...\n",
      "5% done...\n",
      "5% done...\n",
      "5% done...\n",
      "7% done...\n",
      "7% done...\n",
      "7% done...\n",
      "8% done...\n",
      "8% done...\n",
      "9% done...\n",
      "10% done...\n",
      "11% done...\n",
      "12% done...\n",
      "13% done...\n",
      "14% done...\n",
      "14% done...\n",
      "14% done...\n",
      "14% done...\n",
      "15% done...\n",
      "16% done...\n",
      "16% done...\n",
      "18% done...\n",
      "19% done...\n",
      "19% done...\n",
      "19% done...\n",
      "20% done...\n",
      "21% done...\n",
      "22% done...\n",
      "23% done...\n",
      "26% done...\n",
      "26% done...\n",
      "26% done...\n",
      "26% done...\n",
      "28% done...\n",
      "29% done...\n",
      "29% done...\n",
      "29% done...\n",
      "29% done...\n",
      "30% done...\n",
      "30% done...\n",
      "30% done...\n",
      "32% done...\n",
      "32% done...\n",
      "32% done...\n",
      "32% done...\n",
      "32% done...\n",
      "33% done...\n",
      "33% done...\n",
      "33% done...\n",
      "33% done...\n",
      "36% done...\n",
      "36% done...\n",
      "37% done...\n",
      "37% done...\n",
      "38% done...\n",
      "39% done...\n",
      "40% done...\n",
      "43% done...\n",
      "43% done...\n",
      "43% done...\n",
      "44% done...\n",
      "44% done...\n",
      "45% done...\n",
      "46% done...\n",
      "47% done...\n",
      "48% done...\n",
      "48% done...\n",
      "48% done...\n",
      "49% done...\n",
      "50% done...\n",
      "50% done...\n",
      "52% done...\n",
      "53% done...\n",
      "54% done...\n",
      "54% done...\n",
      "54% done...\n",
      "55% done...\n",
      "55% done...\n",
      "56% done...\n",
      "57% done...\n",
      "58% done...\n",
      "58% done...\n",
      "59% done...\n",
      "61% done...\n",
      "63% done...\n",
      "63% done...\n",
      "63% done...\n",
      "65% done...\n",
      "66% done...\n",
      "66% done...\n",
      "67% done...\n",
      "67% done...\n",
      "67% done...\n",
      "68% done...\n",
      "68% done...\n",
      "68% done...\n",
      "69% done...\n",
      "72% done...\n",
      "72% done...\n",
      "72% done...\n",
      "72% done...\n",
      "74% done...\n",
      "75% done...\n",
      "75% done...\n",
      "76% done...\n",
      "77% done...\n",
      "78% done...\n",
      "78% done...\n",
      "79% done...\n",
      "80% done...\n",
      "80% done...\n",
      "81% done...\n",
      "82% done...\n",
      "83% done...\n",
      "84% done...\n",
      "85% done...\n",
      "88% done...\n",
      "89% done...\n",
      "92% done...\n",
      "92% done...\n",
      "94% done...\n",
      "97% done...\n",
      "97% done...\n",
      "97% done...\n",
      "99% done...\n"
     ]
    }
   ],
   "source": [
    "for num in num_list:\n",
    "    print(f\"{num}% done...\")"
   ]
  },
  {
   "cell_type": "code",
   "execution_count": 108,
   "metadata": {},
   "outputs": [],
   "source": [
    "import time"
   ]
  },
  {
   "cell_type": "code",
   "execution_count": 109,
   "metadata": {},
   "outputs": [],
   "source": [
    "time.sleep(2)"
   ]
  },
  {
   "cell_type": "code",
   "execution_count": 114,
   "metadata": {},
   "outputs": [
    {
     "name": "stdout",
     "output_type": "stream",
     "text": [
      "The process is done!\r"
     ]
    }
   ],
   "source": [
    "waiting_time = 7\n",
    "pct = 0\n",
    "\n",
    "for t in range(1, 6):\n",
    "    time.sleep(7 / 5)\n",
    "    pct += 20\n",
    "    print(f\"{pct}% done...\", end='\\r')\n",
    "time.sleep(7 / 5)\n",
    "print(\"The process is done!\", end='\\r')"
   ]
  },
  {
   "cell_type": "code",
   "execution_count": 115,
   "metadata": {},
   "outputs": [],
   "source": [
    "def progress_bar(waiting_time):\n",
    "    pct = 0\n",
    "    for t in range(1, 6):\n",
    "        time.sleep(waiting_time / 5)\n",
    "        pct += 20\n",
    "        print(f\"{pct}% done...\", end='\\r')\n",
    "    time.sleep(waiting_time / 5)\n",
    "    print(\"The process is done!\", end='\\r')"
   ]
  },
  {
   "cell_type": "code",
   "execution_count": 119,
   "metadata": {
    "scrolled": true
   },
   "outputs": [
    {
     "name": "stdout",
     "output_type": "stream",
     "text": [
      "The process is done!\r"
     ]
    }
   ],
   "source": [
    "progress_bar(1) #Teaser: More on that later..."
   ]
  }
 ],
 "metadata": {
  "kernelspec": {
   "display_name": "Python 3",
   "language": "python",
   "name": "python3"
  },
  "language_info": {
   "codemirror_mode": {
    "name": "ipython",
    "version": 3
   },
   "file_extension": ".py",
   "mimetype": "text/x-python",
   "name": "python",
   "nbconvert_exporter": "python",
   "pygments_lexer": "ipython3",
   "version": "3.8.5"
  }
 },
 "nbformat": 4,
 "nbformat_minor": 4
}
