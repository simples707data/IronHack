{
 "cells": [
  {
   "cell_type": "markdown",
   "id": "naked-calcium",
   "metadata": {
    "papermill": {
     "duration": 0.008781,
     "end_time": "2021-04-15T17:08:33.798152",
     "exception": false,
     "start_time": "2021-04-15T17:08:33.789371",
     "status": "completed"
    },
    "tags": []
   },
   "source": [
    "# Changing Types and Filling Missing Values\n"
   ]
  },
  {
   "cell_type": "code",
   "execution_count": 1,
   "id": "expected-monroe",
   "metadata": {
    "_kg_hide-input": true,
    "execution": {
     "iopub.execute_input": "2021-04-15T17:08:33.820295Z",
     "iopub.status.busy": "2021-04-15T17:08:33.818262Z",
     "iopub.status.idle": "2021-04-15T17:08:35.869422Z",
     "shell.execute_reply": "2021-04-15T17:08:35.870267Z"
    },
    "papermill": {
     "duration": 2.064385,
     "end_time": "2021-04-15T17:08:35.870592",
     "exception": false,
     "start_time": "2021-04-15T17:08:33.806207",
     "status": "completed"
    },
    "tags": []
   },
   "outputs": [],
   "source": [
    "\n",
    "import pandas as pd\n",
    "reviews = pd.read_csv(\"../input/wine-reviews/winemag-data-130k-v2.csv\", index_col=0)\n",
    "pd.set_option('max_rows', 5)"
   ]
  },
  {
   "cell_type": "code",
   "execution_count": 2,
   "id": "chemical-concentration",
   "metadata": {
    "execution": {
     "iopub.execute_input": "2021-04-15T17:08:35.891009Z",
     "iopub.status.busy": "2021-04-15T17:08:35.890017Z",
     "iopub.status.idle": "2021-04-15T17:08:35.902398Z",
     "shell.execute_reply": "2021-04-15T17:08:35.901719Z"
    },
    "papermill": {
     "duration": 0.023301,
     "end_time": "2021-04-15T17:08:35.902556",
     "exception": false,
     "start_time": "2021-04-15T17:08:35.879255",
     "status": "completed"
    },
    "tags": []
   },
   "outputs": [
    {
     "data": {
      "text/plain": [
       "country        object\n",
       "description    object\n",
       "                ...  \n",
       "variety        object\n",
       "winery         object\n",
       "Length: 13, dtype: object"
      ]
     },
     "execution_count": 2,
     "metadata": {},
     "output_type": "execute_result"
    }
   ],
   "source": [
    "reviews.dtypes"
   ]
  },
  {
   "cell_type": "markdown",
   "id": "satisfactory-exhibition",
   "metadata": {
    "papermill": {
     "duration": 0.008304,
     "end_time": "2021-04-15T17:08:35.920136",
     "exception": false,
     "start_time": "2021-04-15T17:08:35.911832",
     "status": "completed"
    },
    "tags": []
   },
   "source": [
    "#### Changing type"
   ]
  },
  {
   "cell_type": "code",
   "execution_count": 3,
   "id": "intelligent-administration",
   "metadata": {
    "execution": {
     "iopub.execute_input": "2021-04-15T17:08:35.943073Z",
     "iopub.status.busy": "2021-04-15T17:08:35.942056Z",
     "iopub.status.idle": "2021-04-15T17:08:35.950996Z",
     "shell.execute_reply": "2021-04-15T17:08:35.950307Z"
    },
    "papermill": {
     "duration": 0.022475,
     "end_time": "2021-04-15T17:08:35.951147",
     "exception": false,
     "start_time": "2021-04-15T17:08:35.928672",
     "status": "completed"
    },
    "scrolled": true,
    "tags": []
   },
   "outputs": [
    {
     "data": {
      "text/plain": [
       "0         87.0\n",
       "1         87.0\n",
       "          ... \n",
       "129969    90.0\n",
       "129970    90.0\n",
       "Name: points, Length: 129971, dtype: float64"
      ]
     },
     "execution_count": 3,
     "metadata": {},
     "output_type": "execute_result"
    }
   ],
   "source": [
    "reviews.points.astype('float64')"
   ]
  },
  {
   "cell_type": "markdown",
   "id": "better-surname",
   "metadata": {
    "papermill": {
     "duration": 0.00879,
     "end_time": "2021-04-15T17:08:35.969015",
     "exception": false,
     "start_time": "2021-04-15T17:08:35.960225",
     "status": "completed"
    },
    "tags": []
   },
   "source": [
    "# Missing data\n",
    "\n",
    "Entries missing values are given the value `NaN`, short for \"Not a Number\". For technical reasons these `NaN` values are always of the `float64` dtype.\n",
    "\n",
    "Pandas provides some methods specific to missing data. To select `NaN` entries you can use `pd.isnull()` (or its companion `pd.notnull()`). This is meant to be used thusly:"
   ]
  },
  {
   "cell_type": "code",
   "execution_count": 4,
   "id": "improving-table",
   "metadata": {
    "execution": {
     "iopub.execute_input": "2021-04-15T17:08:35.990924Z",
     "iopub.status.busy": "2021-04-15T17:08:35.990251Z",
     "iopub.status.idle": "2021-04-15T17:08:36.033852Z",
     "shell.execute_reply": "2021-04-15T17:08:36.033201Z"
    },
    "papermill": {
     "duration": 0.055887,
     "end_time": "2021-04-15T17:08:36.034034",
     "exception": false,
     "start_time": "2021-04-15T17:08:35.978147",
     "status": "completed"
    },
    "tags": []
   },
   "outputs": [
    {
     "data": {
      "text/html": [
       "<div>\n",
       "<style scoped>\n",
       "    .dataframe tbody tr th:only-of-type {\n",
       "        vertical-align: middle;\n",
       "    }\n",
       "\n",
       "    .dataframe tbody tr th {\n",
       "        vertical-align: top;\n",
       "    }\n",
       "\n",
       "    .dataframe thead th {\n",
       "        text-align: right;\n",
       "    }\n",
       "</style>\n",
       "<table border=\"1\" class=\"dataframe\">\n",
       "  <thead>\n",
       "    <tr style=\"text-align: right;\">\n",
       "      <th></th>\n",
       "      <th>country</th>\n",
       "      <th>description</th>\n",
       "      <th>designation</th>\n",
       "      <th>points</th>\n",
       "      <th>price</th>\n",
       "      <th>province</th>\n",
       "      <th>region_1</th>\n",
       "      <th>region_2</th>\n",
       "      <th>taster_name</th>\n",
       "      <th>taster_twitter_handle</th>\n",
       "      <th>title</th>\n",
       "      <th>variety</th>\n",
       "      <th>winery</th>\n",
       "    </tr>\n",
       "  </thead>\n",
       "  <tbody>\n",
       "    <tr>\n",
       "      <th>913</th>\n",
       "      <td>NaN</td>\n",
       "      <td>Amber in color, this wine has aromas of peach ...</td>\n",
       "      <td>Asureti Valley</td>\n",
       "      <td>87</td>\n",
       "      <td>30.0</td>\n",
       "      <td>NaN</td>\n",
       "      <td>NaN</td>\n",
       "      <td>NaN</td>\n",
       "      <td>Mike DeSimone</td>\n",
       "      <td>@worldwineguys</td>\n",
       "      <td>Gotsa Family Wines 2014 Asureti Valley Chinuri</td>\n",
       "      <td>Chinuri</td>\n",
       "      <td>Gotsa Family Wines</td>\n",
       "    </tr>\n",
       "    <tr>\n",
       "      <th>3131</th>\n",
       "      <td>NaN</td>\n",
       "      <td>Soft, fruity and juicy, this is a pleasant, si...</td>\n",
       "      <td>Partager</td>\n",
       "      <td>83</td>\n",
       "      <td>NaN</td>\n",
       "      <td>NaN</td>\n",
       "      <td>NaN</td>\n",
       "      <td>NaN</td>\n",
       "      <td>Roger Voss</td>\n",
       "      <td>@vossroger</td>\n",
       "      <td>Barton &amp; Guestier NV Partager Red</td>\n",
       "      <td>Red Blend</td>\n",
       "      <td>Barton &amp; Guestier</td>\n",
       "    </tr>\n",
       "    <tr>\n",
       "      <th>...</th>\n",
       "      <td>...</td>\n",
       "      <td>...</td>\n",
       "      <td>...</td>\n",
       "      <td>...</td>\n",
       "      <td>...</td>\n",
       "      <td>...</td>\n",
       "      <td>...</td>\n",
       "      <td>...</td>\n",
       "      <td>...</td>\n",
       "      <td>...</td>\n",
       "      <td>...</td>\n",
       "      <td>...</td>\n",
       "      <td>...</td>\n",
       "    </tr>\n",
       "    <tr>\n",
       "      <th>129590</th>\n",
       "      <td>NaN</td>\n",
       "      <td>A blend of 60% Syrah, 30% Cabernet Sauvignon a...</td>\n",
       "      <td>Shah</td>\n",
       "      <td>90</td>\n",
       "      <td>30.0</td>\n",
       "      <td>NaN</td>\n",
       "      <td>NaN</td>\n",
       "      <td>NaN</td>\n",
       "      <td>Mike DeSimone</td>\n",
       "      <td>@worldwineguys</td>\n",
       "      <td>Büyülübağ 2012 Shah Red</td>\n",
       "      <td>Red Blend</td>\n",
       "      <td>Büyülübağ</td>\n",
       "    </tr>\n",
       "    <tr>\n",
       "      <th>129900</th>\n",
       "      <td>NaN</td>\n",
       "      <td>This wine offers a delightful bouquet of black...</td>\n",
       "      <td>NaN</td>\n",
       "      <td>91</td>\n",
       "      <td>32.0</td>\n",
       "      <td>NaN</td>\n",
       "      <td>NaN</td>\n",
       "      <td>NaN</td>\n",
       "      <td>Mike DeSimone</td>\n",
       "      <td>@worldwineguys</td>\n",
       "      <td>Psagot 2014 Merlot</td>\n",
       "      <td>Merlot</td>\n",
       "      <td>Psagot</td>\n",
       "    </tr>\n",
       "  </tbody>\n",
       "</table>\n",
       "<p>63 rows × 13 columns</p>\n",
       "</div>"
      ],
      "text/plain": [
       "       country                                        description  \\\n",
       "913        NaN  Amber in color, this wine has aromas of peach ...   \n",
       "3131       NaN  Soft, fruity and juicy, this is a pleasant, si...   \n",
       "...        ...                                                ...   \n",
       "129590     NaN  A blend of 60% Syrah, 30% Cabernet Sauvignon a...   \n",
       "129900     NaN  This wine offers a delightful bouquet of black...   \n",
       "\n",
       "           designation  points  price province region_1 region_2  \\\n",
       "913     Asureti Valley      87   30.0      NaN      NaN      NaN   \n",
       "3131          Partager      83    NaN      NaN      NaN      NaN   \n",
       "...                ...     ...    ...      ...      ...      ...   \n",
       "129590            Shah      90   30.0      NaN      NaN      NaN   \n",
       "129900             NaN      91   32.0      NaN      NaN      NaN   \n",
       "\n",
       "          taster_name taster_twitter_handle  \\\n",
       "913     Mike DeSimone        @worldwineguys   \n",
       "3131       Roger Voss            @vossroger   \n",
       "...               ...                   ...   \n",
       "129590  Mike DeSimone        @worldwineguys   \n",
       "129900  Mike DeSimone        @worldwineguys   \n",
       "\n",
       "                                                 title    variety  \\\n",
       "913     Gotsa Family Wines 2014 Asureti Valley Chinuri    Chinuri   \n",
       "3131                 Barton & Guestier NV Partager Red  Red Blend   \n",
       "...                                                ...        ...   \n",
       "129590                         Büyülübağ 2012 Shah Red  Red Blend   \n",
       "129900                              Psagot 2014 Merlot     Merlot   \n",
       "\n",
       "                    winery  \n",
       "913     Gotsa Family Wines  \n",
       "3131     Barton & Guestier  \n",
       "...                    ...  \n",
       "129590           Büyülübağ  \n",
       "129900              Psagot  \n",
       "\n",
       "[63 rows x 13 columns]"
      ]
     },
     "execution_count": 4,
     "metadata": {},
     "output_type": "execute_result"
    }
   ],
   "source": [
    "reviews[pd.isnull(reviews.country)]"
   ]
  },
  {
   "cell_type": "markdown",
   "id": "interracial-independence",
   "metadata": {
    "papermill": {
     "duration": 0.010059,
     "end_time": "2021-04-15T17:08:36.053933",
     "exception": false,
     "start_time": "2021-04-15T17:08:36.043874",
     "status": "completed"
    },
    "tags": []
   },
   "source": [
    "#### Filling NaN"
   ]
  },
  {
   "cell_type": "code",
   "execution_count": 5,
   "id": "declared-module",
   "metadata": {
    "collapsed": true,
    "execution": {
     "iopub.execute_input": "2021-04-15T17:08:36.087947Z",
     "iopub.status.busy": "2021-04-15T17:08:36.086953Z",
     "iopub.status.idle": "2021-04-15T17:08:36.095946Z",
     "shell.execute_reply": "2021-04-15T17:08:36.096447Z"
    },
    "jupyter": {
     "outputs_hidden": true
    },
    "papermill": {
     "duration": 0.032927,
     "end_time": "2021-04-15T17:08:36.096656",
     "exception": false,
     "start_time": "2021-04-15T17:08:36.063729",
     "status": "completed"
    },
    "tags": []
   },
   "outputs": [
    {
     "data": {
      "text/plain": [
       "0         Unknown\n",
       "1         Unknown\n",
       "           ...   \n",
       "129969    Unknown\n",
       "129970    Unknown\n",
       "Name: region_2, Length: 129971, dtype: object"
      ]
     },
     "execution_count": 5,
     "metadata": {},
     "output_type": "execute_result"
    }
   ],
   "source": [
    "reviews.region_2.fillna(\"Unknown\")"
   ]
  },
  {
   "cell_type": "markdown",
   "id": "amber-double",
   "metadata": {
    "papermill": {
     "duration": 0.009881,
     "end_time": "2021-04-15T17:08:36.116981",
     "exception": false,
     "start_time": "2021-04-15T17:08:36.107100",
     "status": "completed"
    },
    "tags": []
   },
   "source": [
    "#### Replacing one value with another. (could be '0' to 'Unkown')"
   ]
  },
  {
   "cell_type": "code",
   "execution_count": 6,
   "id": "featured-flour",
   "metadata": {
    "execution": {
     "iopub.execute_input": "2021-04-15T17:08:36.142286Z",
     "iopub.status.busy": "2021-04-15T17:08:36.141567Z",
     "iopub.status.idle": "2021-04-15T17:08:36.158403Z",
     "shell.execute_reply": "2021-04-15T17:08:36.158917Z"
    },
    "papermill": {
     "duration": 0.031903,
     "end_time": "2021-04-15T17:08:36.159112",
     "exception": false,
     "start_time": "2021-04-15T17:08:36.127209",
     "status": "completed"
    },
    "tags": []
   },
   "outputs": [
    {
     "data": {
      "text/plain": [
       "0            @kerino\n",
       "1         @vossroger\n",
       "             ...    \n",
       "129969    @vossroger\n",
       "129970    @vossroger\n",
       "Name: taster_twitter_handle, Length: 129971, dtype: object"
      ]
     },
     "execution_count": 6,
     "metadata": {},
     "output_type": "execute_result"
    }
   ],
   "source": [
    "reviews.taster_twitter_handle.replace(\"@kerinokeefe\", \"@kerino\")"
   ]
  }
 ],
 "metadata": {
  "kernelspec": {
   "display_name": "Python 3",
   "language": "python",
   "name": "python3"
  },
  "language_info": {
   "codemirror_mode": {
    "name": "ipython",
    "version": 3
   },
   "file_extension": ".py",
   "mimetype": "text/x-python",
   "name": "python",
   "nbconvert_exporter": "python",
   "pygments_lexer": "ipython3",
   "version": "3.7.9"
  },
  "papermill": {
   "default_parameters": {},
   "duration": 9.868315,
   "end_time": "2021-04-15T17:08:36.780178",
   "environment_variables": {},
   "exception": null,
   "input_path": "__notebook__.ipynb",
   "output_path": "__notebook__.ipynb",
   "parameters": {},
   "start_time": "2021-04-15T17:08:26.911863",
   "version": "2.3.2"
  }
 },
 "nbformat": 4,
 "nbformat_minor": 5
}
