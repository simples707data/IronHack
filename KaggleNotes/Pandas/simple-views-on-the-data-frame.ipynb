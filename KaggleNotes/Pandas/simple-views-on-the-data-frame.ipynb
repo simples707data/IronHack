{
 "cells": [
  {
   "cell_type": "code",
   "execution_count": 1,
   "id": "furnished-magnitude",
   "metadata": {
    "_kg_hide-input": true,
    "execution": {
     "iopub.execute_input": "2021-04-15T16:50:51.533010Z",
     "iopub.status.busy": "2021-04-15T16:50:51.532258Z",
     "iopub.status.idle": "2021-04-15T16:50:53.893118Z",
     "shell.execute_reply": "2021-04-15T16:50:53.892224Z"
    },
    "papermill": {
     "duration": 2.382657,
     "end_time": "2021-04-15T16:50:53.893311",
     "exception": false,
     "start_time": "2021-04-15T16:50:51.510654",
     "status": "completed"
    },
    "tags": []
   },
   "outputs": [],
   "source": [
    "\n",
    "import pandas as pd\n",
    "pd.set_option('max_rows', 5)\n",
    "import numpy as np\n",
    "reviews = pd.read_csv(\"../input/wine-reviews/winemag-data-130k-v2.csv\", index_col=0)"
   ]
  },
  {
   "cell_type": "markdown",
   "id": "subject-commitment",
   "metadata": {
    "papermill": {
     "duration": 0.01244,
     "end_time": "2021-04-15T16:50:53.918860",
     "exception": false,
     "start_time": "2021-04-15T16:50:53.906420",
     "status": "completed"
    },
    "tags": []
   },
   "source": [
    "# Simple Views on the Data Frame"
   ]
  },
  {
   "cell_type": "markdown",
   "id": "synthetic-reform",
   "metadata": {
    "papermill": {
     "duration": 0.012114,
     "end_time": "2021-04-15T16:50:53.943399",
     "exception": false,
     "start_time": "2021-04-15T16:50:53.931285",
     "status": "completed"
    },
    "tags": []
   },
   "source": [
    "### Function to look at the whole data frame"
   ]
  },
  {
   "cell_type": "code",
   "execution_count": 2,
   "id": "metallic-draft",
   "metadata": {
    "execution": {
     "iopub.execute_input": "2021-04-15T16:50:53.976733Z",
     "iopub.status.busy": "2021-04-15T16:50:53.975656Z",
     "iopub.status.idle": "2021-04-15T16:50:54.000081Z",
     "shell.execute_reply": "2021-04-15T16:50:54.000623Z"
    },
    "papermill": {
     "duration": 0.044883,
     "end_time": "2021-04-15T16:50:54.000813",
     "exception": false,
     "start_time": "2021-04-15T16:50:53.955930",
     "status": "completed"
    },
    "tags": []
   },
   "outputs": [
    {
     "data": {
      "text/html": [
       "<div>\n",
       "<style scoped>\n",
       "    .dataframe tbody tr th:only-of-type {\n",
       "        vertical-align: middle;\n",
       "    }\n",
       "\n",
       "    .dataframe tbody tr th {\n",
       "        vertical-align: top;\n",
       "    }\n",
       "\n",
       "    .dataframe thead th {\n",
       "        text-align: right;\n",
       "    }\n",
       "</style>\n",
       "<table border=\"1\" class=\"dataframe\">\n",
       "  <thead>\n",
       "    <tr style=\"text-align: right;\">\n",
       "      <th></th>\n",
       "      <th>country</th>\n",
       "      <th>description</th>\n",
       "      <th>designation</th>\n",
       "      <th>points</th>\n",
       "      <th>price</th>\n",
       "      <th>province</th>\n",
       "      <th>region_1</th>\n",
       "      <th>region_2</th>\n",
       "      <th>taster_name</th>\n",
       "      <th>taster_twitter_handle</th>\n",
       "      <th>title</th>\n",
       "      <th>variety</th>\n",
       "      <th>winery</th>\n",
       "    </tr>\n",
       "  </thead>\n",
       "  <tbody>\n",
       "    <tr>\n",
       "      <th>0</th>\n",
       "      <td>Italy</td>\n",
       "      <td>Aromas include tropical fruit, broom, brimston...</td>\n",
       "      <td>Vulkà Bianco</td>\n",
       "      <td>87</td>\n",
       "      <td>NaN</td>\n",
       "      <td>Sicily &amp; Sardinia</td>\n",
       "      <td>Etna</td>\n",
       "      <td>NaN</td>\n",
       "      <td>Kerin O’Keefe</td>\n",
       "      <td>@kerinokeefe</td>\n",
       "      <td>Nicosia 2013 Vulkà Bianco  (Etna)</td>\n",
       "      <td>White Blend</td>\n",
       "      <td>Nicosia</td>\n",
       "    </tr>\n",
       "    <tr>\n",
       "      <th>1</th>\n",
       "      <td>Portugal</td>\n",
       "      <td>This is ripe and fruity, a wine that is smooth...</td>\n",
       "      <td>Avidagos</td>\n",
       "      <td>87</td>\n",
       "      <td>15.0</td>\n",
       "      <td>Douro</td>\n",
       "      <td>NaN</td>\n",
       "      <td>NaN</td>\n",
       "      <td>Roger Voss</td>\n",
       "      <td>@vossroger</td>\n",
       "      <td>Quinta dos Avidagos 2011 Avidagos Red (Douro)</td>\n",
       "      <td>Portuguese Red</td>\n",
       "      <td>Quinta dos Avidagos</td>\n",
       "    </tr>\n",
       "    <tr>\n",
       "      <th>2</th>\n",
       "      <td>US</td>\n",
       "      <td>Tart and snappy, the flavors of lime flesh and...</td>\n",
       "      <td>NaN</td>\n",
       "      <td>87</td>\n",
       "      <td>14.0</td>\n",
       "      <td>Oregon</td>\n",
       "      <td>Willamette Valley</td>\n",
       "      <td>Willamette Valley</td>\n",
       "      <td>Paul Gregutt</td>\n",
       "      <td>@paulgwine</td>\n",
       "      <td>Rainstorm 2013 Pinot Gris (Willamette Valley)</td>\n",
       "      <td>Pinot Gris</td>\n",
       "      <td>Rainstorm</td>\n",
       "    </tr>\n",
       "    <tr>\n",
       "      <th>3</th>\n",
       "      <td>US</td>\n",
       "      <td>Pineapple rind, lemon pith and orange blossom ...</td>\n",
       "      <td>Reserve Late Harvest</td>\n",
       "      <td>87</td>\n",
       "      <td>13.0</td>\n",
       "      <td>Michigan</td>\n",
       "      <td>Lake Michigan Shore</td>\n",
       "      <td>NaN</td>\n",
       "      <td>Alexander Peartree</td>\n",
       "      <td>NaN</td>\n",
       "      <td>St. Julian 2013 Reserve Late Harvest Riesling ...</td>\n",
       "      <td>Riesling</td>\n",
       "      <td>St. Julian</td>\n",
       "    </tr>\n",
       "    <tr>\n",
       "      <th>4</th>\n",
       "      <td>US</td>\n",
       "      <td>Much like the regular bottling from 2012, this...</td>\n",
       "      <td>Vintner's Reserve Wild Child Block</td>\n",
       "      <td>87</td>\n",
       "      <td>65.0</td>\n",
       "      <td>Oregon</td>\n",
       "      <td>Willamette Valley</td>\n",
       "      <td>Willamette Valley</td>\n",
       "      <td>Paul Gregutt</td>\n",
       "      <td>@paulgwine</td>\n",
       "      <td>Sweet Cheeks 2012 Vintner's Reserve Wild Child...</td>\n",
       "      <td>Pinot Noir</td>\n",
       "      <td>Sweet Cheeks</td>\n",
       "    </tr>\n",
       "  </tbody>\n",
       "</table>\n",
       "</div>"
      ],
      "text/plain": [
       "    country                                        description  \\\n",
       "0     Italy  Aromas include tropical fruit, broom, brimston...   \n",
       "1  Portugal  This is ripe and fruity, a wine that is smooth...   \n",
       "2        US  Tart and snappy, the flavors of lime flesh and...   \n",
       "3        US  Pineapple rind, lemon pith and orange blossom ...   \n",
       "4        US  Much like the regular bottling from 2012, this...   \n",
       "\n",
       "                          designation  points  price           province  \\\n",
       "0                        Vulkà Bianco      87    NaN  Sicily & Sardinia   \n",
       "1                            Avidagos      87   15.0              Douro   \n",
       "2                                 NaN      87   14.0             Oregon   \n",
       "3                Reserve Late Harvest      87   13.0           Michigan   \n",
       "4  Vintner's Reserve Wild Child Block      87   65.0             Oregon   \n",
       "\n",
       "              region_1           region_2         taster_name  \\\n",
       "0                 Etna                NaN       Kerin O’Keefe   \n",
       "1                  NaN                NaN          Roger Voss   \n",
       "2    Willamette Valley  Willamette Valley        Paul Gregutt   \n",
       "3  Lake Michigan Shore                NaN  Alexander Peartree   \n",
       "4    Willamette Valley  Willamette Valley        Paul Gregutt   \n",
       "\n",
       "  taster_twitter_handle                                              title  \\\n",
       "0          @kerinokeefe                  Nicosia 2013 Vulkà Bianco  (Etna)   \n",
       "1            @vossroger      Quinta dos Avidagos 2011 Avidagos Red (Douro)   \n",
       "2           @paulgwine       Rainstorm 2013 Pinot Gris (Willamette Valley)   \n",
       "3                   NaN  St. Julian 2013 Reserve Late Harvest Riesling ...   \n",
       "4           @paulgwine   Sweet Cheeks 2012 Vintner's Reserve Wild Child...   \n",
       "\n",
       "          variety               winery  \n",
       "0     White Blend              Nicosia  \n",
       "1  Portuguese Red  Quinta dos Avidagos  \n",
       "2      Pinot Gris            Rainstorm  \n",
       "3        Riesling           St. Julian  \n",
       "4      Pinot Noir         Sweet Cheeks  "
      ]
     },
     "execution_count": 2,
     "metadata": {},
     "output_type": "execute_result"
    }
   ],
   "source": [
    "reviews.head()"
   ]
  },
  {
   "cell_type": "code",
   "execution_count": 3,
   "id": "starting-boards",
   "metadata": {
    "execution": {
     "iopub.execute_input": "2021-04-15T16:50:54.033858Z",
     "iopub.status.busy": "2021-04-15T16:50:54.033178Z",
     "iopub.status.idle": "2021-04-15T16:50:54.038448Z",
     "shell.execute_reply": "2021-04-15T16:50:54.037342Z"
    },
    "papermill": {
     "duration": 0.023938,
     "end_time": "2021-04-15T16:50:54.038647",
     "exception": false,
     "start_time": "2021-04-15T16:50:54.014709",
     "status": "completed"
    },
    "tags": []
   },
   "outputs": [
    {
     "data": {
      "text/plain": [
       "(129971, 13)"
      ]
     },
     "execution_count": 3,
     "metadata": {},
     "output_type": "execute_result"
    }
   ],
   "source": [
    "reviews.shape"
   ]
  },
  {
   "cell_type": "code",
   "execution_count": 4,
   "id": "armed-procurement",
   "metadata": {
    "execution": {
     "iopub.execute_input": "2021-04-15T16:50:54.072334Z",
     "iopub.status.busy": "2021-04-15T16:50:54.071660Z",
     "iopub.status.idle": "2021-04-15T16:50:54.075862Z",
     "shell.execute_reply": "2021-04-15T16:50:54.075218Z"
    },
    "papermill": {
     "duration": 0.023339,
     "end_time": "2021-04-15T16:50:54.076000",
     "exception": false,
     "start_time": "2021-04-15T16:50:54.052661",
     "status": "completed"
    },
    "tags": []
   },
   "outputs": [
    {
     "data": {
      "text/plain": [
       "Index(['country', 'description', 'designation', 'points', 'price', 'province',\n",
       "       'region_1', 'region_2', 'taster_name', 'taster_twitter_handle', 'title',\n",
       "       'variety', 'winery'],\n",
       "      dtype='object')"
      ]
     },
     "execution_count": 4,
     "metadata": {},
     "output_type": "execute_result"
    }
   ],
   "source": [
    "reviews.columns"
   ]
  },
  {
   "cell_type": "code",
   "execution_count": 5,
   "id": "contrary-storage",
   "metadata": {
    "execution": {
     "iopub.execute_input": "2021-04-15T16:50:54.245194Z",
     "iopub.status.busy": "2021-04-15T16:50:54.244423Z",
     "iopub.status.idle": "2021-04-15T16:50:54.265261Z",
     "shell.execute_reply": "2021-04-15T16:50:54.265887Z"
    },
    "papermill": {
     "duration": 0.175587,
     "end_time": "2021-04-15T16:50:54.266063",
     "exception": false,
     "start_time": "2021-04-15T16:50:54.090476",
     "status": "completed"
    },
    "tags": []
   },
   "outputs": [
    {
     "name": "stdout",
     "output_type": "stream",
     "text": [
      "<class 'pandas.core.frame.DataFrame'>\n",
      "Int64Index: 129971 entries, 0 to 129970\n",
      "Data columns (total 13 columns):\n",
      " #   Column                 Non-Null Count   Dtype  \n",
      "---  ------                 --------------   -----  \n",
      " 0   country                129908 non-null  object \n",
      " 1   description            129971 non-null  object \n",
      " 2   designation            92506 non-null   object \n",
      " 3   points                 129971 non-null  int64  \n",
      " 4   price                  120975 non-null  float64\n",
      " 5   province               129908 non-null  object \n",
      " 6   region_1               108724 non-null  object \n",
      " 7   region_2               50511 non-null   object \n",
      " 8   taster_name            103727 non-null  object \n",
      " 9   taster_twitter_handle  98758 non-null   object \n",
      " 10  title                  129971 non-null  object \n",
      " 11  variety                129970 non-null  object \n",
      " 12  winery                 129971 non-null  object \n",
      "dtypes: float64(1), int64(1), object(11)\n",
      "memory usage: 13.9+ MB\n"
     ]
    }
   ],
   "source": [
    "reviews.info()"
   ]
  },
  {
   "cell_type": "markdown",
   "id": "optimum-jacket",
   "metadata": {
    "papermill": {
     "duration": 0.014743,
     "end_time": "2021-04-15T16:50:54.297099",
     "exception": false,
     "start_time": "2021-04-15T16:50:54.282356",
     "status": "completed"
    },
    "tags": []
   },
   "source": [
    "#### Functions for numerical columns only"
   ]
  },
  {
   "cell_type": "code",
   "execution_count": 6,
   "id": "tribal-banking",
   "metadata": {
    "execution": {
     "iopub.execute_input": "2021-04-15T16:50:54.336751Z",
     "iopub.status.busy": "2021-04-15T16:50:54.331652Z",
     "iopub.status.idle": "2021-04-15T16:50:54.364690Z",
     "shell.execute_reply": "2021-04-15T16:50:54.363955Z"
    },
    "papermill": {
     "duration": 0.052768,
     "end_time": "2021-04-15T16:50:54.364859",
     "exception": false,
     "start_time": "2021-04-15T16:50:54.312091",
     "status": "completed"
    },
    "tags": []
   },
   "outputs": [
    {
     "data": {
      "text/html": [
       "<div>\n",
       "<style scoped>\n",
       "    .dataframe tbody tr th:only-of-type {\n",
       "        vertical-align: middle;\n",
       "    }\n",
       "\n",
       "    .dataframe tbody tr th {\n",
       "        vertical-align: top;\n",
       "    }\n",
       "\n",
       "    .dataframe thead th {\n",
       "        text-align: right;\n",
       "    }\n",
       "</style>\n",
       "<table border=\"1\" class=\"dataframe\">\n",
       "  <thead>\n",
       "    <tr style=\"text-align: right;\">\n",
       "      <th></th>\n",
       "      <th>points</th>\n",
       "      <th>price</th>\n",
       "    </tr>\n",
       "  </thead>\n",
       "  <tbody>\n",
       "    <tr>\n",
       "      <th>count</th>\n",
       "      <td>129971.000000</td>\n",
       "      <td>120975.000000</td>\n",
       "    </tr>\n",
       "    <tr>\n",
       "      <th>mean</th>\n",
       "      <td>88.447138</td>\n",
       "      <td>35.363389</td>\n",
       "    </tr>\n",
       "    <tr>\n",
       "      <th>...</th>\n",
       "      <td>...</td>\n",
       "      <td>...</td>\n",
       "    </tr>\n",
       "    <tr>\n",
       "      <th>75%</th>\n",
       "      <td>91.000000</td>\n",
       "      <td>42.000000</td>\n",
       "    </tr>\n",
       "    <tr>\n",
       "      <th>max</th>\n",
       "      <td>100.000000</td>\n",
       "      <td>3300.000000</td>\n",
       "    </tr>\n",
       "  </tbody>\n",
       "</table>\n",
       "<p>8 rows × 2 columns</p>\n",
       "</div>"
      ],
      "text/plain": [
       "              points          price\n",
       "count  129971.000000  120975.000000\n",
       "mean       88.447138      35.363389\n",
       "...              ...            ...\n",
       "75%        91.000000      42.000000\n",
       "max       100.000000    3300.000000\n",
       "\n",
       "[8 rows x 2 columns]"
      ]
     },
     "execution_count": 6,
     "metadata": {},
     "output_type": "execute_result"
    }
   ],
   "source": [
    "reviews.describe()"
   ]
  },
  {
   "cell_type": "code",
   "execution_count": 7,
   "id": "contrary-seeking",
   "metadata": {
    "execution": {
     "iopub.execute_input": "2021-04-15T16:50:54.420348Z",
     "iopub.status.busy": "2021-04-15T16:50:54.407154Z",
     "iopub.status.idle": "2021-04-15T16:50:55.563408Z",
     "shell.execute_reply": "2021-04-15T16:50:55.563931Z"
    },
    "papermill": {
     "duration": 1.182602,
     "end_time": "2021-04-15T16:50:55.564118",
     "exception": false,
     "start_time": "2021-04-15T16:50:54.381516",
     "status": "completed"
    },
    "tags": []
   },
   "outputs": [
    {
     "data": {
      "text/plain": [
       "country  description                                                                                                                                                                                                                                                                                   designation    points  price  province    region_1              region_2           taster_name     taster_twitter_handle  title                                                            variety                winery     \n",
       "US       Tight and nicely constructed, this is not afraid to show its herbal side. Tannins are earthy and firm, the fruit tight and focused, and the wine might benefit from a few more years in the bottle. What's already there is cassis, tar and earth, finishing with a light but balanced fade.  The Estates    88      25.0   Washington  Wahluke Slope         Columbia Valley    Paul Gregutt    @paulgwine             Milbrandt 2007 The Estates Merlot (Wahluke Slope)                Merlot                 Milbrandt      2\n",
       "         This wine's Honeycrisp apple and Applejacks cereal scents lead the nose before bold layers of luxurious texture confirm its complexity and overall appeal on the palate. Densely packed with flavor, it also shows plenty of structure to support its powerful range.                         Dutton Ranch   94      44.0   California  Russian River Valley  Sonoma             Virginie Boone  @vboone                Patz & Hall 2015 Dutton Ranch Chardonnay (Russian River Valley)  Chardonnay             Patz & Hall    2\n",
       "                                                                                                                                                                                                                                                                                                                                                                                                                                                                                                                                       ..\n",
       "         Half Z'Ivo and half Illahe vineyard fruit, this aromatic wine punches up its relatively light flavors of cranberry fruit with an array of side notes. Leather, cola, dust, chalk and brown spices come into play, as the finish tilts towards the rustic.                                     Articulate     89      40.0   Oregon      Willamette Valley     Willamette Valley  Paul Gregutt    @paulgwine             Lundeen 2013 Articulate Pinot Noir (Willamette Valley)           Pinot Noir             Lundeen        1\n",
       "         “Rhône times three” seems to be the code name for this classy blend of Grenache, Mourvèdre and Syrah. It takes the best from each grape, creating a rich, pure, high-acid wine with a zingy berry flavor, plus a mineral underpinning and earthy, coffee-soaked tannins.                      Rx-3 Red Wine  92      30.0   Washington  Columbia Valley (WA)  Columbia Valley    Paul Gregutt    @paulgwine             Nefarious 2010 Rx-3 Red Wine Red (Columbia Valley (WA))          Rhône-style Red Blend  Nefarious      1\n",
       "Length: 20493, dtype: int64"
      ]
     },
     "execution_count": 7,
     "metadata": {},
     "output_type": "execute_result"
    }
   ],
   "source": [
    "reviews.value_counts()"
   ]
  },
  {
   "cell_type": "code",
   "execution_count": 8,
   "id": "electric-district",
   "metadata": {
    "execution": {
     "iopub.execute_input": "2021-04-15T16:50:55.599855Z",
     "iopub.status.busy": "2021-04-15T16:50:55.599056Z",
     "iopub.status.idle": "2021-04-15T16:50:55.612461Z",
     "shell.execute_reply": "2021-04-15T16:50:55.611870Z"
    },
    "papermill": {
     "duration": 0.03234,
     "end_time": "2021-04-15T16:50:55.612627",
     "exception": false,
     "start_time": "2021-04-15T16:50:55.580287",
     "status": "completed"
    },
    "tags": []
   },
   "outputs": [
    {
     "data": {
      "text/plain": [
       "count    129971.000000\n",
       "mean         88.447138\n",
       "             ...      \n",
       "75%          91.000000\n",
       "max         100.000000\n",
       "Name: points, Length: 8, dtype: float64"
      ]
     },
     "execution_count": 8,
     "metadata": {},
     "output_type": "execute_result"
    }
   ],
   "source": [
    "reviews.points.describe()"
   ]
  },
  {
   "cell_type": "code",
   "execution_count": 9,
   "id": "revolutionary-american",
   "metadata": {
    "execution": {
     "iopub.execute_input": "2021-04-15T16:50:55.650924Z",
     "iopub.status.busy": "2021-04-15T16:50:55.650067Z",
     "iopub.status.idle": "2021-04-15T16:50:55.655355Z",
     "shell.execute_reply": "2021-04-15T16:50:55.654783Z"
    },
    "papermill": {
     "duration": 0.026397,
     "end_time": "2021-04-15T16:50:55.655495",
     "exception": false,
     "start_time": "2021-04-15T16:50:55.629098",
     "status": "completed"
    },
    "tags": []
   },
   "outputs": [
    {
     "data": {
      "text/plain": [
       "88.44713820775404"
      ]
     },
     "execution_count": 9,
     "metadata": {},
     "output_type": "execute_result"
    }
   ],
   "source": [
    "reviews.points.mean()"
   ]
  },
  {
   "cell_type": "code",
   "execution_count": 10,
   "id": "given-department",
   "metadata": {
    "execution": {
     "iopub.execute_input": "2021-04-15T16:50:55.693187Z",
     "iopub.status.busy": "2021-04-15T16:50:55.692476Z",
     "iopub.status.idle": "2021-04-15T16:50:55.712441Z",
     "shell.execute_reply": "2021-04-15T16:50:55.711888Z"
    },
    "papermill": {
     "duration": 0.039838,
     "end_time": "2021-04-15T16:50:55.712627",
     "exception": false,
     "start_time": "2021-04-15T16:50:55.672789",
     "status": "completed"
    },
    "tags": []
   },
   "outputs": [
    {
     "data": {
      "text/plain": [
       "array(['Kerin O’Keefe', 'Roger Voss', 'Paul Gregutt',\n",
       "       'Alexander Peartree', 'Michael Schachner', 'Anna Lee C. Iijima',\n",
       "       'Virginie Boone', 'Matt Kettmann', nan, 'Sean P. Sullivan',\n",
       "       'Jim Gordon', 'Joe Czerwinski', 'Anne Krebiehl\\xa0MW',\n",
       "       'Lauren Buzzeo', 'Mike DeSimone', 'Jeff Jenssen',\n",
       "       'Susan Kostrzewa', 'Carrie Dykes', 'Fiona Adams',\n",
       "       'Christina Pickard'], dtype=object)"
      ]
     },
     "execution_count": 10,
     "metadata": {},
     "output_type": "execute_result"
    }
   ],
   "source": [
    "reviews.taster_name.unique()"
   ]
  },
  {
   "cell_type": "code",
   "execution_count": 11,
   "id": "enclosed-passion",
   "metadata": {
    "execution": {
     "iopub.execute_input": "2021-04-15T16:50:55.751713Z",
     "iopub.status.busy": "2021-04-15T16:50:55.750832Z",
     "iopub.status.idle": "2021-04-15T16:50:55.786025Z",
     "shell.execute_reply": "2021-04-15T16:50:55.786698Z"
    },
    "papermill": {
     "duration": 0.056929,
     "end_time": "2021-04-15T16:50:55.786935",
     "exception": false,
     "start_time": "2021-04-15T16:50:55.730006",
     "status": "completed"
    },
    "tags": []
   },
   "outputs": [
    {
     "data": {
      "text/plain": [
       "Roger Voss           25514\n",
       "Michael Schachner    15134\n",
       "                     ...  \n",
       "Fiona Adams             27\n",
       "Christina Pickard        6\n",
       "Name: taster_name, Length: 19, dtype: int64"
      ]
     },
     "execution_count": 11,
     "metadata": {},
     "output_type": "execute_result"
    }
   ],
   "source": [
    "reviews.taster_name.value_counts()"
   ]
  },
  {
   "cell_type": "markdown",
   "id": "vocational-match",
   "metadata": {
    "papermill": {
     "duration": 0.017753,
     "end_time": "2021-04-15T16:50:55.822642",
     "exception": false,
     "start_time": "2021-04-15T16:50:55.804889",
     "status": "completed"
    },
    "tags": []
   },
   "source": [
    "#### Sorting columns"
   ]
  },
  {
   "cell_type": "code",
   "execution_count": 12,
   "id": "allied-retirement",
   "metadata": {
    "execution": {
     "iopub.execute_input": "2021-04-15T16:50:55.862437Z",
     "iopub.status.busy": "2021-04-15T16:50:55.861787Z",
     "iopub.status.idle": "2021-04-15T16:50:56.046333Z",
     "shell.execute_reply": "2021-04-15T16:50:56.045663Z"
    },
    "papermill": {
     "duration": 0.205719,
     "end_time": "2021-04-15T16:50:56.046480",
     "exception": false,
     "start_time": "2021-04-15T16:50:55.840761",
     "status": "completed"
    },
    "tags": []
   },
   "outputs": [
    {
     "data": {
      "text/plain": [
       "97552     Uruguay\n",
       "113525    Uruguay\n",
       "           ...   \n",
       "129590        NaN\n",
       "129900        NaN\n",
       "Name: country, Length: 129971, dtype: object"
      ]
     },
     "execution_count": 12,
     "metadata": {},
     "output_type": "execute_result"
    }
   ],
   "source": [
    "reviews.country.sort_values(ascending=False)\n",
    "#Z to A in this view"
   ]
  },
  {
   "cell_type": "markdown",
   "id": "different-parliament",
   "metadata": {
    "papermill": {
     "duration": 0.018115,
     "end_time": "2021-04-15T16:50:56.083049",
     "exception": false,
     "start_time": "2021-04-15T16:50:56.064934",
     "status": "completed"
    },
    "tags": []
   },
   "source": [
    "and reset it back to sorting by index"
   ]
  },
  {
   "cell_type": "code",
   "execution_count": 13,
   "id": "pursuant-fabric",
   "metadata": {
    "execution": {
     "iopub.execute_input": "2021-04-15T16:50:56.125762Z",
     "iopub.status.busy": "2021-04-15T16:50:56.124665Z",
     "iopub.status.idle": "2021-04-15T16:50:56.167126Z",
     "shell.execute_reply": "2021-04-15T16:50:56.166417Z"
    },
    "papermill": {
     "duration": 0.065584,
     "end_time": "2021-04-15T16:50:56.167276",
     "exception": false,
     "start_time": "2021-04-15T16:50:56.101692",
     "status": "completed"
    },
    "tags": []
   },
   "outputs": [
    {
     "data": {
      "text/html": [
       "<div>\n",
       "<style scoped>\n",
       "    .dataframe tbody tr th:only-of-type {\n",
       "        vertical-align: middle;\n",
       "    }\n",
       "\n",
       "    .dataframe tbody tr th {\n",
       "        vertical-align: top;\n",
       "    }\n",
       "\n",
       "    .dataframe thead th {\n",
       "        text-align: right;\n",
       "    }\n",
       "</style>\n",
       "<table border=\"1\" class=\"dataframe\">\n",
       "  <thead>\n",
       "    <tr style=\"text-align: right;\">\n",
       "      <th></th>\n",
       "      <th>country</th>\n",
       "      <th>description</th>\n",
       "      <th>designation</th>\n",
       "      <th>points</th>\n",
       "      <th>price</th>\n",
       "      <th>province</th>\n",
       "      <th>region_1</th>\n",
       "      <th>region_2</th>\n",
       "      <th>taster_name</th>\n",
       "      <th>taster_twitter_handle</th>\n",
       "      <th>title</th>\n",
       "      <th>variety</th>\n",
       "      <th>winery</th>\n",
       "    </tr>\n",
       "  </thead>\n",
       "  <tbody>\n",
       "    <tr>\n",
       "      <th>0</th>\n",
       "      <td>Italy</td>\n",
       "      <td>Aromas include tropical fruit, broom, brimston...</td>\n",
       "      <td>Vulkà Bianco</td>\n",
       "      <td>87</td>\n",
       "      <td>NaN</td>\n",
       "      <td>Sicily &amp; Sardinia</td>\n",
       "      <td>Etna</td>\n",
       "      <td>NaN</td>\n",
       "      <td>Kerin O’Keefe</td>\n",
       "      <td>@kerinokeefe</td>\n",
       "      <td>Nicosia 2013 Vulkà Bianco  (Etna)</td>\n",
       "      <td>White Blend</td>\n",
       "      <td>Nicosia</td>\n",
       "    </tr>\n",
       "    <tr>\n",
       "      <th>1</th>\n",
       "      <td>Portugal</td>\n",
       "      <td>This is ripe and fruity, a wine that is smooth...</td>\n",
       "      <td>Avidagos</td>\n",
       "      <td>87</td>\n",
       "      <td>15.0</td>\n",
       "      <td>Douro</td>\n",
       "      <td>NaN</td>\n",
       "      <td>NaN</td>\n",
       "      <td>Roger Voss</td>\n",
       "      <td>@vossroger</td>\n",
       "      <td>Quinta dos Avidagos 2011 Avidagos Red (Douro)</td>\n",
       "      <td>Portuguese Red</td>\n",
       "      <td>Quinta dos Avidagos</td>\n",
       "    </tr>\n",
       "    <tr>\n",
       "      <th>...</th>\n",
       "      <td>...</td>\n",
       "      <td>...</td>\n",
       "      <td>...</td>\n",
       "      <td>...</td>\n",
       "      <td>...</td>\n",
       "      <td>...</td>\n",
       "      <td>...</td>\n",
       "      <td>...</td>\n",
       "      <td>...</td>\n",
       "      <td>...</td>\n",
       "      <td>...</td>\n",
       "      <td>...</td>\n",
       "      <td>...</td>\n",
       "    </tr>\n",
       "    <tr>\n",
       "      <th>129969</th>\n",
       "      <td>France</td>\n",
       "      <td>A dry style of Pinot Gris, this is crisp with ...</td>\n",
       "      <td>NaN</td>\n",
       "      <td>90</td>\n",
       "      <td>32.0</td>\n",
       "      <td>Alsace</td>\n",
       "      <td>Alsace</td>\n",
       "      <td>NaN</td>\n",
       "      <td>Roger Voss</td>\n",
       "      <td>@vossroger</td>\n",
       "      <td>Domaine Marcel Deiss 2012 Pinot Gris (Alsace)</td>\n",
       "      <td>Pinot Gris</td>\n",
       "      <td>Domaine Marcel Deiss</td>\n",
       "    </tr>\n",
       "    <tr>\n",
       "      <th>129970</th>\n",
       "      <td>France</td>\n",
       "      <td>Big, rich and off-dry, this is powered by inte...</td>\n",
       "      <td>Lieu-dit Harth Cuvée Caroline</td>\n",
       "      <td>90</td>\n",
       "      <td>21.0</td>\n",
       "      <td>Alsace</td>\n",
       "      <td>Alsace</td>\n",
       "      <td>NaN</td>\n",
       "      <td>Roger Voss</td>\n",
       "      <td>@vossroger</td>\n",
       "      <td>Domaine Schoffit 2012 Lieu-dit Harth Cuvée Car...</td>\n",
       "      <td>Gewürztraminer</td>\n",
       "      <td>Domaine Schoffit</td>\n",
       "    </tr>\n",
       "  </tbody>\n",
       "</table>\n",
       "<p>129971 rows × 13 columns</p>\n",
       "</div>"
      ],
      "text/plain": [
       "         country                                        description  \\\n",
       "0          Italy  Aromas include tropical fruit, broom, brimston...   \n",
       "1       Portugal  This is ripe and fruity, a wine that is smooth...   \n",
       "...          ...                                                ...   \n",
       "129969    France  A dry style of Pinot Gris, this is crisp with ...   \n",
       "129970    France  Big, rich and off-dry, this is powered by inte...   \n",
       "\n",
       "                          designation  points  price           province  \\\n",
       "0                        Vulkà Bianco      87    NaN  Sicily & Sardinia   \n",
       "1                            Avidagos      87   15.0              Douro   \n",
       "...                               ...     ...    ...                ...   \n",
       "129969                            NaN      90   32.0             Alsace   \n",
       "129970  Lieu-dit Harth Cuvée Caroline      90   21.0             Alsace   \n",
       "\n",
       "       region_1 region_2    taster_name taster_twitter_handle  \\\n",
       "0          Etna      NaN  Kerin O’Keefe          @kerinokeefe   \n",
       "1           NaN      NaN     Roger Voss            @vossroger   \n",
       "...         ...      ...            ...                   ...   \n",
       "129969   Alsace      NaN     Roger Voss            @vossroger   \n",
       "129970   Alsace      NaN     Roger Voss            @vossroger   \n",
       "\n",
       "                                                    title         variety  \\\n",
       "0                       Nicosia 2013 Vulkà Bianco  (Etna)     White Blend   \n",
       "1           Quinta dos Avidagos 2011 Avidagos Red (Douro)  Portuguese Red   \n",
       "...                                                   ...             ...   \n",
       "129969      Domaine Marcel Deiss 2012 Pinot Gris (Alsace)      Pinot Gris   \n",
       "129970  Domaine Schoffit 2012 Lieu-dit Harth Cuvée Car...  Gewürztraminer   \n",
       "\n",
       "                      winery  \n",
       "0                    Nicosia  \n",
       "1        Quinta dos Avidagos  \n",
       "...                      ...  \n",
       "129969  Domaine Marcel Deiss  \n",
       "129970      Domaine Schoffit  \n",
       "\n",
       "[129971 rows x 13 columns]"
      ]
     },
     "execution_count": 13,
     "metadata": {},
     "output_type": "execute_result"
    }
   ],
   "source": [
    "reviews.sort_index()"
   ]
  },
  {
   "cell_type": "code",
   "execution_count": null,
   "id": "informal-lighting",
   "metadata": {
    "papermill": {
     "duration": 0.018702,
     "end_time": "2021-04-15T16:50:56.206223",
     "exception": false,
     "start_time": "2021-04-15T16:50:56.187521",
     "status": "completed"
    },
    "tags": []
   },
   "outputs": [],
   "source": []
  }
 ],
 "metadata": {
  "kernelspec": {
   "display_name": "Python 3",
   "language": "python",
   "name": "python3"
  },
  "language_info": {
   "codemirror_mode": {
    "name": "ipython",
    "version": 3
   },
   "file_extension": ".py",
   "mimetype": "text/x-python",
   "name": "python",
   "nbconvert_exporter": "python",
   "pygments_lexer": "ipython3",
   "version": "3.7.9"
  },
  "papermill": {
   "default_parameters": {},
   "duration": 11.997362,
   "end_time": "2021-04-15T16:50:56.836260",
   "environment_variables": {},
   "exception": null,
   "input_path": "__notebook__.ipynb",
   "output_path": "__notebook__.ipynb",
   "parameters": {},
   "start_time": "2021-04-15T16:50:44.838898",
   "version": "2.3.2"
  }
 },
 "nbformat": 4,
 "nbformat_minor": 5
}
